{
 "cells": [
  {
   "cell_type": "code",
   "execution_count": 1,
   "id": "human-girlfriend",
   "metadata": {
    "_cell_guid": "b1076dfc-b9ad-4769-8c92-a6c4dae69d19",
    "_kg_hide-input": true,
    "_kg_hide-output": true,
    "_uuid": "8f2839f25d086af736a60e9eeb907d3b93b6e0e5",
    "execution": {
     "iopub.execute_input": "2021-06-11T23:13:38.880303Z",
     "iopub.status.busy": "2021-06-11T23:13:38.879158Z",
     "iopub.status.idle": "2021-06-11T23:13:38.904388Z",
     "shell.execute_reply": "2021-06-11T23:13:38.905083Z",
     "shell.execute_reply.started": "2021-06-11T07:58:57.968375Z"
    },
    "papermill": {
     "duration": 0.061212,
     "end_time": "2021-06-11T23:13:38.905478",
     "exception": false,
     "start_time": "2021-06-11T23:13:38.844266",
     "status": "completed"
    },
    "tags": []
   },
   "outputs": [
    {
     "name": "stdout",
     "output_type": "stream",
     "text": [
      "/kaggle/input/airline-passenger-satisfaction/train.csv\n",
      "/kaggle/input/airline-passenger-satisfaction/test.csv\n"
     ]
    }
   ],
   "source": [
    "import numpy as np # linear algebra\n",
    "import pandas as pd # data processing, CSV file I/O (e.g. pd.read_csv)\n",
    "import os\n",
    "for dirname, _, filenames in os.walk('./input'):\n",
    "    for filename in filenames:\n",
    "        print(os.path.join(dirname, filename))"
   ]
  },
  {
   "cell_type": "markdown",
   "id": "homeless-manner",
   "metadata": {
    "papermill": {
     "duration": 0.030158,
     "end_time": "2021-06-11T23:13:38.967311",
     "exception": false,
     "start_time": "2021-06-11T23:13:38.937153",
     "status": "completed"
    },
    "tags": []
   },
   "source": [
    "# Loading Dataset and Preparation"
   ]
  },
  {
   "cell_type": "code",
   "execution_count": 2,
   "id": "favorite-configuration",
   "metadata": {
    "execution": {
     "iopub.execute_input": "2021-06-11T23:13:39.035434Z",
     "iopub.status.busy": "2021-06-11T23:13:39.034764Z",
     "iopub.status.idle": "2021-06-11T23:13:39.687030Z",
     "shell.execute_reply": "2021-06-11T23:13:39.685952Z",
     "shell.execute_reply.started": "2021-06-11T07:58:57.978943Z"
    },
    "papermill": {
     "duration": 0.689263,
     "end_time": "2021-06-11T23:13:39.687189",
     "exception": false,
     "start_time": "2021-06-11T23:13:38.997926",
     "status": "completed"
    },
    "tags": []
   },
   "outputs": [
    {
     "data": {
      "text/html": [
       "<div>\n",
       "<style scoped>\n",
       "    .dataframe tbody tr th:only-of-type {\n",
       "        vertical-align: middle;\n",
       "    }\n",
       "\n",
       "    .dataframe tbody tr th {\n",
       "        vertical-align: top;\n",
       "    }\n",
       "\n",
       "    .dataframe thead th {\n",
       "        text-align: right;\n",
       "    }\n",
       "</style>\n",
       "<table border=\"1\" class=\"dataframe\">\n",
       "  <thead>\n",
       "    <tr style=\"text-align: right;\">\n",
       "      <th></th>\n",
       "      <th>id</th>\n",
       "      <th>Gender</th>\n",
       "      <th>Customer Type</th>\n",
       "      <th>Age</th>\n",
       "      <th>Type of Travel</th>\n",
       "      <th>Class</th>\n",
       "      <th>Flight Distance</th>\n",
       "      <th>Inflight wifi service</th>\n",
       "      <th>Departure/Arrival time convenient</th>\n",
       "      <th>Ease of Online booking</th>\n",
       "      <th>...</th>\n",
       "      <th>Inflight entertainment</th>\n",
       "      <th>On-board service</th>\n",
       "      <th>Leg room service</th>\n",
       "      <th>Baggage handling</th>\n",
       "      <th>Checkin service</th>\n",
       "      <th>Inflight service</th>\n",
       "      <th>Cleanliness</th>\n",
       "      <th>Departure Delay in Minutes</th>\n",
       "      <th>Arrival Delay in Minutes</th>\n",
       "      <th>satisfaction</th>\n",
       "    </tr>\n",
       "  </thead>\n",
       "  <tbody>\n",
       "    <tr>\n",
       "      <th>0</th>\n",
       "      <td>70172</td>\n",
       "      <td>Male</td>\n",
       "      <td>Loyal Customer</td>\n",
       "      <td>13</td>\n",
       "      <td>Personal Travel</td>\n",
       "      <td>Eco Plus</td>\n",
       "      <td>460</td>\n",
       "      <td>3</td>\n",
       "      <td>4</td>\n",
       "      <td>3</td>\n",
       "      <td>...</td>\n",
       "      <td>5</td>\n",
       "      <td>4</td>\n",
       "      <td>3</td>\n",
       "      <td>4</td>\n",
       "      <td>4</td>\n",
       "      <td>5</td>\n",
       "      <td>5</td>\n",
       "      <td>25</td>\n",
       "      <td>18.0</td>\n",
       "      <td>neutral or dissatisfied</td>\n",
       "    </tr>\n",
       "    <tr>\n",
       "      <th>1</th>\n",
       "      <td>5047</td>\n",
       "      <td>Male</td>\n",
       "      <td>disloyal Customer</td>\n",
       "      <td>25</td>\n",
       "      <td>Business travel</td>\n",
       "      <td>Business</td>\n",
       "      <td>235</td>\n",
       "      <td>3</td>\n",
       "      <td>2</td>\n",
       "      <td>3</td>\n",
       "      <td>...</td>\n",
       "      <td>1</td>\n",
       "      <td>1</td>\n",
       "      <td>5</td>\n",
       "      <td>3</td>\n",
       "      <td>1</td>\n",
       "      <td>4</td>\n",
       "      <td>1</td>\n",
       "      <td>1</td>\n",
       "      <td>6.0</td>\n",
       "      <td>neutral or dissatisfied</td>\n",
       "    </tr>\n",
       "    <tr>\n",
       "      <th>2</th>\n",
       "      <td>110028</td>\n",
       "      <td>Female</td>\n",
       "      <td>Loyal Customer</td>\n",
       "      <td>26</td>\n",
       "      <td>Business travel</td>\n",
       "      <td>Business</td>\n",
       "      <td>1142</td>\n",
       "      <td>2</td>\n",
       "      <td>2</td>\n",
       "      <td>2</td>\n",
       "      <td>...</td>\n",
       "      <td>5</td>\n",
       "      <td>4</td>\n",
       "      <td>3</td>\n",
       "      <td>4</td>\n",
       "      <td>4</td>\n",
       "      <td>4</td>\n",
       "      <td>5</td>\n",
       "      <td>0</td>\n",
       "      <td>0.0</td>\n",
       "      <td>satisfied</td>\n",
       "    </tr>\n",
       "    <tr>\n",
       "      <th>3</th>\n",
       "      <td>24026</td>\n",
       "      <td>Female</td>\n",
       "      <td>Loyal Customer</td>\n",
       "      <td>25</td>\n",
       "      <td>Business travel</td>\n",
       "      <td>Business</td>\n",
       "      <td>562</td>\n",
       "      <td>2</td>\n",
       "      <td>5</td>\n",
       "      <td>5</td>\n",
       "      <td>...</td>\n",
       "      <td>2</td>\n",
       "      <td>2</td>\n",
       "      <td>5</td>\n",
       "      <td>3</td>\n",
       "      <td>1</td>\n",
       "      <td>4</td>\n",
       "      <td>2</td>\n",
       "      <td>11</td>\n",
       "      <td>9.0</td>\n",
       "      <td>neutral or dissatisfied</td>\n",
       "    </tr>\n",
       "    <tr>\n",
       "      <th>4</th>\n",
       "      <td>119299</td>\n",
       "      <td>Male</td>\n",
       "      <td>Loyal Customer</td>\n",
       "      <td>61</td>\n",
       "      <td>Business travel</td>\n",
       "      <td>Business</td>\n",
       "      <td>214</td>\n",
       "      <td>3</td>\n",
       "      <td>3</td>\n",
       "      <td>3</td>\n",
       "      <td>...</td>\n",
       "      <td>3</td>\n",
       "      <td>3</td>\n",
       "      <td>4</td>\n",
       "      <td>4</td>\n",
       "      <td>3</td>\n",
       "      <td>3</td>\n",
       "      <td>3</td>\n",
       "      <td>0</td>\n",
       "      <td>0.0</td>\n",
       "      <td>satisfied</td>\n",
       "    </tr>\n",
       "  </tbody>\n",
       "</table>\n",
       "<p>5 rows × 24 columns</p>\n",
       "</div>"
      ],
      "text/plain": [
       "       id  Gender      Customer Type  Age   Type of Travel     Class  \\\n",
       "0   70172    Male     Loyal Customer   13  Personal Travel  Eco Plus   \n",
       "1    5047    Male  disloyal Customer   25  Business travel  Business   \n",
       "2  110028  Female     Loyal Customer   26  Business travel  Business   \n",
       "3   24026  Female     Loyal Customer   25  Business travel  Business   \n",
       "4  119299    Male     Loyal Customer   61  Business travel  Business   \n",
       "\n",
       "   Flight Distance  Inflight wifi service  Departure/Arrival time convenient  \\\n",
       "0              460                      3                                  4   \n",
       "1              235                      3                                  2   \n",
       "2             1142                      2                                  2   \n",
       "3              562                      2                                  5   \n",
       "4              214                      3                                  3   \n",
       "\n",
       "   Ease of Online booking  ...  Inflight entertainment  On-board service  \\\n",
       "0                       3  ...                       5                 4   \n",
       "1                       3  ...                       1                 1   \n",
       "2                       2  ...                       5                 4   \n",
       "3                       5  ...                       2                 2   \n",
       "4                       3  ...                       3                 3   \n",
       "\n",
       "   Leg room service  Baggage handling  Checkin service  Inflight service  \\\n",
       "0                 3                 4                4                 5   \n",
       "1                 5                 3                1                 4   \n",
       "2                 3                 4                4                 4   \n",
       "3                 5                 3                1                 4   \n",
       "4                 4                 4                3                 3   \n",
       "\n",
       "   Cleanliness  Departure Delay in Minutes  Arrival Delay in Minutes  \\\n",
       "0            5                          25                      18.0   \n",
       "1            1                           1                       6.0   \n",
       "2            5                           0                       0.0   \n",
       "3            2                          11                       9.0   \n",
       "4            3                           0                       0.0   \n",
       "\n",
       "              satisfaction  \n",
       "0  neutral or dissatisfied  \n",
       "1  neutral or dissatisfied  \n",
       "2                satisfied  \n",
       "3  neutral or dissatisfied  \n",
       "4                satisfied  \n",
       "\n",
       "[5 rows x 24 columns]"
      ]
     },
     "execution_count": 2,
     "metadata": {},
     "output_type": "execute_result"
    }
   ],
   "source": [
    "airline = pd.read_csv(\"./input/airline-passenger-satisfaction/train.csv\",index_col=0)\n",
    "test = pd.read_csv(\"./input/airline-passenger-satisfaction/test.csv\",index_col=0)\n",
    "airline.head()"
   ]
  },
  {
   "cell_type": "code",
   "execution_count": 3,
   "id": "comparable-merchant",
   "metadata": {
    "execution": {
     "iopub.execute_input": "2021-06-11T23:13:39.776352Z",
     "iopub.status.busy": "2021-06-11T23:13:39.775568Z",
     "iopub.status.idle": "2021-06-11T23:13:39.778751Z",
     "shell.execute_reply": "2021-06-11T23:13:39.779306Z",
     "shell.execute_reply.started": "2021-06-11T07:58:58.367121Z"
    },
    "papermill": {
     "duration": 0.060494,
     "end_time": "2021-06-11T23:13:39.779509",
     "exception": false,
     "start_time": "2021-06-11T23:13:39.719015",
     "status": "completed"
    },
    "tags": []
   },
   "outputs": [
    {
     "data": {
      "text/html": [
       "<div>\n",
       "<style scoped>\n",
       "    .dataframe tbody tr th:only-of-type {\n",
       "        vertical-align: middle;\n",
       "    }\n",
       "\n",
       "    .dataframe tbody tr th {\n",
       "        vertical-align: top;\n",
       "    }\n",
       "\n",
       "    .dataframe thead th {\n",
       "        text-align: right;\n",
       "    }\n",
       "</style>\n",
       "<table border=\"1\" class=\"dataframe\">\n",
       "  <thead>\n",
       "    <tr style=\"text-align: right;\">\n",
       "      <th></th>\n",
       "      <th>id</th>\n",
       "      <th>Gender</th>\n",
       "      <th>Customer Type</th>\n",
       "      <th>Age</th>\n",
       "      <th>Type of Travel</th>\n",
       "      <th>Class</th>\n",
       "      <th>Flight Distance</th>\n",
       "      <th>Inflight wifi service</th>\n",
       "      <th>Departure/Arrival time convenient</th>\n",
       "      <th>Ease of Online booking</th>\n",
       "      <th>...</th>\n",
       "      <th>Inflight entertainment</th>\n",
       "      <th>On-board service</th>\n",
       "      <th>Leg room service</th>\n",
       "      <th>Baggage handling</th>\n",
       "      <th>Checkin service</th>\n",
       "      <th>Inflight service</th>\n",
       "      <th>Cleanliness</th>\n",
       "      <th>Departure Delay in Minutes</th>\n",
       "      <th>Arrival Delay in Minutes</th>\n",
       "      <th>satisfaction</th>\n",
       "    </tr>\n",
       "  </thead>\n",
       "  <tbody>\n",
       "    <tr>\n",
       "      <th>0</th>\n",
       "      <td>70172</td>\n",
       "      <td>Male</td>\n",
       "      <td>Loyal Customer</td>\n",
       "      <td>13</td>\n",
       "      <td>Personal Travel</td>\n",
       "      <td>Eco Plus</td>\n",
       "      <td>460</td>\n",
       "      <td>3</td>\n",
       "      <td>4</td>\n",
       "      <td>3</td>\n",
       "      <td>...</td>\n",
       "      <td>5</td>\n",
       "      <td>4</td>\n",
       "      <td>3</td>\n",
       "      <td>4</td>\n",
       "      <td>4</td>\n",
       "      <td>5</td>\n",
       "      <td>5</td>\n",
       "      <td>25</td>\n",
       "      <td>18.0</td>\n",
       "      <td>neutral or dissatisfied</td>\n",
       "    </tr>\n",
       "    <tr>\n",
       "      <th>1</th>\n",
       "      <td>5047</td>\n",
       "      <td>Male</td>\n",
       "      <td>disloyal Customer</td>\n",
       "      <td>25</td>\n",
       "      <td>Business travel</td>\n",
       "      <td>Business</td>\n",
       "      <td>235</td>\n",
       "      <td>3</td>\n",
       "      <td>2</td>\n",
       "      <td>3</td>\n",
       "      <td>...</td>\n",
       "      <td>1</td>\n",
       "      <td>1</td>\n",
       "      <td>5</td>\n",
       "      <td>3</td>\n",
       "      <td>1</td>\n",
       "      <td>4</td>\n",
       "      <td>1</td>\n",
       "      <td>1</td>\n",
       "      <td>6.0</td>\n",
       "      <td>neutral or dissatisfied</td>\n",
       "    </tr>\n",
       "    <tr>\n",
       "      <th>2</th>\n",
       "      <td>110028</td>\n",
       "      <td>Female</td>\n",
       "      <td>Loyal Customer</td>\n",
       "      <td>26</td>\n",
       "      <td>Business travel</td>\n",
       "      <td>Business</td>\n",
       "      <td>1142</td>\n",
       "      <td>2</td>\n",
       "      <td>2</td>\n",
       "      <td>2</td>\n",
       "      <td>...</td>\n",
       "      <td>5</td>\n",
       "      <td>4</td>\n",
       "      <td>3</td>\n",
       "      <td>4</td>\n",
       "      <td>4</td>\n",
       "      <td>4</td>\n",
       "      <td>5</td>\n",
       "      <td>0</td>\n",
       "      <td>0.0</td>\n",
       "      <td>satisfied</td>\n",
       "    </tr>\n",
       "    <tr>\n",
       "      <th>3</th>\n",
       "      <td>24026</td>\n",
       "      <td>Female</td>\n",
       "      <td>Loyal Customer</td>\n",
       "      <td>25</td>\n",
       "      <td>Business travel</td>\n",
       "      <td>Business</td>\n",
       "      <td>562</td>\n",
       "      <td>2</td>\n",
       "      <td>5</td>\n",
       "      <td>5</td>\n",
       "      <td>...</td>\n",
       "      <td>2</td>\n",
       "      <td>2</td>\n",
       "      <td>5</td>\n",
       "      <td>3</td>\n",
       "      <td>1</td>\n",
       "      <td>4</td>\n",
       "      <td>2</td>\n",
       "      <td>11</td>\n",
       "      <td>9.0</td>\n",
       "      <td>neutral or dissatisfied</td>\n",
       "    </tr>\n",
       "    <tr>\n",
       "      <th>4</th>\n",
       "      <td>119299</td>\n",
       "      <td>Male</td>\n",
       "      <td>Loyal Customer</td>\n",
       "      <td>61</td>\n",
       "      <td>Business travel</td>\n",
       "      <td>Business</td>\n",
       "      <td>214</td>\n",
       "      <td>3</td>\n",
       "      <td>3</td>\n",
       "      <td>3</td>\n",
       "      <td>...</td>\n",
       "      <td>3</td>\n",
       "      <td>3</td>\n",
       "      <td>4</td>\n",
       "      <td>4</td>\n",
       "      <td>3</td>\n",
       "      <td>3</td>\n",
       "      <td>3</td>\n",
       "      <td>0</td>\n",
       "      <td>0.0</td>\n",
       "      <td>satisfied</td>\n",
       "    </tr>\n",
       "  </tbody>\n",
       "</table>\n",
       "<p>5 rows × 24 columns</p>\n",
       "</div>"
      ],
      "text/plain": [
       "       id  Gender      Customer Type  Age   Type of Travel     Class  \\\n",
       "0   70172    Male     Loyal Customer   13  Personal Travel  Eco Plus   \n",
       "1    5047    Male  disloyal Customer   25  Business travel  Business   \n",
       "2  110028  Female     Loyal Customer   26  Business travel  Business   \n",
       "3   24026  Female     Loyal Customer   25  Business travel  Business   \n",
       "4  119299    Male     Loyal Customer   61  Business travel  Business   \n",
       "\n",
       "   Flight Distance  Inflight wifi service  Departure/Arrival time convenient  \\\n",
       "0              460                      3                                  4   \n",
       "1              235                      3                                  2   \n",
       "2             1142                      2                                  2   \n",
       "3              562                      2                                  5   \n",
       "4              214                      3                                  3   \n",
       "\n",
       "   Ease of Online booking  ...  Inflight entertainment  On-board service  \\\n",
       "0                       3  ...                       5                 4   \n",
       "1                       3  ...                       1                 1   \n",
       "2                       2  ...                       5                 4   \n",
       "3                       5  ...                       2                 2   \n",
       "4                       3  ...                       3                 3   \n",
       "\n",
       "   Leg room service  Baggage handling  Checkin service  Inflight service  \\\n",
       "0                 3                 4                4                 5   \n",
       "1                 5                 3                1                 4   \n",
       "2                 3                 4                4                 4   \n",
       "3                 5                 3                1                 4   \n",
       "4                 4                 4                3                 3   \n",
       "\n",
       "   Cleanliness  Departure Delay in Minutes  Arrival Delay in Minutes  \\\n",
       "0            5                          25                      18.0   \n",
       "1            1                           1                       6.0   \n",
       "2            5                           0                       0.0   \n",
       "3            2                          11                       9.0   \n",
       "4            3                           0                       0.0   \n",
       "\n",
       "              satisfaction  \n",
       "0  neutral or dissatisfied  \n",
       "1  neutral or dissatisfied  \n",
       "2                satisfied  \n",
       "3  neutral or dissatisfied  \n",
       "4                satisfied  \n",
       "\n",
       "[5 rows x 24 columns]"
      ]
     },
     "execution_count": 3,
     "metadata": {},
     "output_type": "execute_result"
    }
   ],
   "source": [
    "airline.head()"
   ]
  },
  {
   "cell_type": "code",
   "execution_count": 4,
   "id": "experimental-newport",
   "metadata": {
    "execution": {
     "iopub.execute_input": "2021-06-11T23:13:39.850894Z",
     "iopub.status.busy": "2021-06-11T23:13:39.850245Z",
     "iopub.status.idle": "2021-06-11T23:13:40.014302Z",
     "shell.execute_reply": "2021-06-11T23:13:40.013657Z",
     "shell.execute_reply.started": "2021-06-11T07:58:58.395353Z"
    },
    "papermill": {
     "duration": 0.199241,
     "end_time": "2021-06-11T23:13:40.014440",
     "exception": false,
     "start_time": "2021-06-11T23:13:39.815199",
     "status": "completed"
    },
    "tags": []
   },
   "outputs": [],
   "source": [
    "def conv_cat(data):\n",
    "    data['Customer Type'] = data['Customer Type'].map({'Loyal Customer': 1, 'disloyal Customer': 0})\n",
    "    data['Type of Travel'] = data['Type of Travel'].map({'Personal Travel':0, 'Business travel':1})\n",
    "    data['Class'] = data['Class'].map({'Business':2, 'Eco Plus':1, 'Eco':0})\n",
    "    data['satisfaction'] = data['satisfaction'].map({'neutral or dissatisfied':0, 'satisfied':1})\n",
    "    data = pd.get_dummies(data)\n",
    "    data.drop('id',axis=1,inplace=True)\n",
    "    data.fillna(0,inplace=True)\n",
    "    return data\n",
    "airline = conv_cat(airline)\n",
    "airline_test = conv_cat(test)"
   ]
  },
  {
   "cell_type": "code",
   "execution_count": 5,
   "id": "recovered-costume",
   "metadata": {
    "execution": {
     "iopub.execute_input": "2021-06-11T23:13:40.102025Z",
     "iopub.status.busy": "2021-06-11T23:13:40.100890Z",
     "iopub.status.idle": "2021-06-11T23:13:40.119166Z",
     "shell.execute_reply": "2021-06-11T23:13:40.120057Z",
     "shell.execute_reply.started": "2021-06-11T07:58:58.560213Z"
    },
    "papermill": {
     "duration": 0.073405,
     "end_time": "2021-06-11T23:13:40.120333",
     "exception": false,
     "start_time": "2021-06-11T23:13:40.046928",
     "status": "completed"
    },
    "tags": []
   },
   "outputs": [
    {
     "data": {
      "text/html": [
       "<div>\n",
       "<style scoped>\n",
       "    .dataframe tbody tr th:only-of-type {\n",
       "        vertical-align: middle;\n",
       "    }\n",
       "\n",
       "    .dataframe tbody tr th {\n",
       "        vertical-align: top;\n",
       "    }\n",
       "\n",
       "    .dataframe thead th {\n",
       "        text-align: right;\n",
       "    }\n",
       "</style>\n",
       "<table border=\"1\" class=\"dataframe\">\n",
       "  <thead>\n",
       "    <tr style=\"text-align: right;\">\n",
       "      <th></th>\n",
       "      <th>Customer Type</th>\n",
       "      <th>Age</th>\n",
       "      <th>Type of Travel</th>\n",
       "      <th>Class</th>\n",
       "      <th>Flight Distance</th>\n",
       "      <th>Inflight wifi service</th>\n",
       "      <th>Departure/Arrival time convenient</th>\n",
       "      <th>Ease of Online booking</th>\n",
       "      <th>Gate location</th>\n",
       "      <th>Food and drink</th>\n",
       "      <th>...</th>\n",
       "      <th>Leg room service</th>\n",
       "      <th>Baggage handling</th>\n",
       "      <th>Checkin service</th>\n",
       "      <th>Inflight service</th>\n",
       "      <th>Cleanliness</th>\n",
       "      <th>Departure Delay in Minutes</th>\n",
       "      <th>Arrival Delay in Minutes</th>\n",
       "      <th>satisfaction</th>\n",
       "      <th>Gender_Female</th>\n",
       "      <th>Gender_Male</th>\n",
       "    </tr>\n",
       "  </thead>\n",
       "  <tbody>\n",
       "    <tr>\n",
       "      <th>0</th>\n",
       "      <td>1</td>\n",
       "      <td>13</td>\n",
       "      <td>0</td>\n",
       "      <td>1</td>\n",
       "      <td>460</td>\n",
       "      <td>3</td>\n",
       "      <td>4</td>\n",
       "      <td>3</td>\n",
       "      <td>1</td>\n",
       "      <td>5</td>\n",
       "      <td>...</td>\n",
       "      <td>3</td>\n",
       "      <td>4</td>\n",
       "      <td>4</td>\n",
       "      <td>5</td>\n",
       "      <td>5</td>\n",
       "      <td>25</td>\n",
       "      <td>18.0</td>\n",
       "      <td>0</td>\n",
       "      <td>0</td>\n",
       "      <td>1</td>\n",
       "    </tr>\n",
       "    <tr>\n",
       "      <th>1</th>\n",
       "      <td>0</td>\n",
       "      <td>25</td>\n",
       "      <td>1</td>\n",
       "      <td>2</td>\n",
       "      <td>235</td>\n",
       "      <td>3</td>\n",
       "      <td>2</td>\n",
       "      <td>3</td>\n",
       "      <td>3</td>\n",
       "      <td>1</td>\n",
       "      <td>...</td>\n",
       "      <td>5</td>\n",
       "      <td>3</td>\n",
       "      <td>1</td>\n",
       "      <td>4</td>\n",
       "      <td>1</td>\n",
       "      <td>1</td>\n",
       "      <td>6.0</td>\n",
       "      <td>0</td>\n",
       "      <td>0</td>\n",
       "      <td>1</td>\n",
       "    </tr>\n",
       "    <tr>\n",
       "      <th>2</th>\n",
       "      <td>1</td>\n",
       "      <td>26</td>\n",
       "      <td>1</td>\n",
       "      <td>2</td>\n",
       "      <td>1142</td>\n",
       "      <td>2</td>\n",
       "      <td>2</td>\n",
       "      <td>2</td>\n",
       "      <td>2</td>\n",
       "      <td>5</td>\n",
       "      <td>...</td>\n",
       "      <td>3</td>\n",
       "      <td>4</td>\n",
       "      <td>4</td>\n",
       "      <td>4</td>\n",
       "      <td>5</td>\n",
       "      <td>0</td>\n",
       "      <td>0.0</td>\n",
       "      <td>1</td>\n",
       "      <td>1</td>\n",
       "      <td>0</td>\n",
       "    </tr>\n",
       "    <tr>\n",
       "      <th>3</th>\n",
       "      <td>1</td>\n",
       "      <td>25</td>\n",
       "      <td>1</td>\n",
       "      <td>2</td>\n",
       "      <td>562</td>\n",
       "      <td>2</td>\n",
       "      <td>5</td>\n",
       "      <td>5</td>\n",
       "      <td>5</td>\n",
       "      <td>2</td>\n",
       "      <td>...</td>\n",
       "      <td>5</td>\n",
       "      <td>3</td>\n",
       "      <td>1</td>\n",
       "      <td>4</td>\n",
       "      <td>2</td>\n",
       "      <td>11</td>\n",
       "      <td>9.0</td>\n",
       "      <td>0</td>\n",
       "      <td>1</td>\n",
       "      <td>0</td>\n",
       "    </tr>\n",
       "    <tr>\n",
       "      <th>4</th>\n",
       "      <td>1</td>\n",
       "      <td>61</td>\n",
       "      <td>1</td>\n",
       "      <td>2</td>\n",
       "      <td>214</td>\n",
       "      <td>3</td>\n",
       "      <td>3</td>\n",
       "      <td>3</td>\n",
       "      <td>3</td>\n",
       "      <td>4</td>\n",
       "      <td>...</td>\n",
       "      <td>4</td>\n",
       "      <td>4</td>\n",
       "      <td>3</td>\n",
       "      <td>3</td>\n",
       "      <td>3</td>\n",
       "      <td>0</td>\n",
       "      <td>0.0</td>\n",
       "      <td>1</td>\n",
       "      <td>0</td>\n",
       "      <td>1</td>\n",
       "    </tr>\n",
       "  </tbody>\n",
       "</table>\n",
       "<p>5 rows × 24 columns</p>\n",
       "</div>"
      ],
      "text/plain": [
       "   Customer Type  Age  Type of Travel  Class  Flight Distance  \\\n",
       "0              1   13               0      1              460   \n",
       "1              0   25               1      2              235   \n",
       "2              1   26               1      2             1142   \n",
       "3              1   25               1      2              562   \n",
       "4              1   61               1      2              214   \n",
       "\n",
       "   Inflight wifi service  Departure/Arrival time convenient  \\\n",
       "0                      3                                  4   \n",
       "1                      3                                  2   \n",
       "2                      2                                  2   \n",
       "3                      2                                  5   \n",
       "4                      3                                  3   \n",
       "\n",
       "   Ease of Online booking  Gate location  Food and drink  ...  \\\n",
       "0                       3              1               5  ...   \n",
       "1                       3              3               1  ...   \n",
       "2                       2              2               5  ...   \n",
       "3                       5              5               2  ...   \n",
       "4                       3              3               4  ...   \n",
       "\n",
       "   Leg room service  Baggage handling  Checkin service  Inflight service  \\\n",
       "0                 3                 4                4                 5   \n",
       "1                 5                 3                1                 4   \n",
       "2                 3                 4                4                 4   \n",
       "3                 5                 3                1                 4   \n",
       "4                 4                 4                3                 3   \n",
       "\n",
       "   Cleanliness  Departure Delay in Minutes  Arrival Delay in Minutes  \\\n",
       "0            5                          25                      18.0   \n",
       "1            1                           1                       6.0   \n",
       "2            5                           0                       0.0   \n",
       "3            2                          11                       9.0   \n",
       "4            3                           0                       0.0   \n",
       "\n",
       "   satisfaction  Gender_Female  Gender_Male  \n",
       "0             0              0            1  \n",
       "1             0              0            1  \n",
       "2             1              1            0  \n",
       "3             0              1            0  \n",
       "4             1              0            1  \n",
       "\n",
       "[5 rows x 24 columns]"
      ]
     },
     "execution_count": 5,
     "metadata": {},
     "output_type": "execute_result"
    }
   ],
   "source": [
    "airline.head()"
   ]
  },
  {
   "cell_type": "code",
   "execution_count": 6,
   "id": "micro-python",
   "metadata": {
    "execution": {
     "iopub.execute_input": "2021-06-11T23:13:40.202320Z",
     "iopub.status.busy": "2021-06-11T23:13:40.201268Z",
     "iopub.status.idle": "2021-06-11T23:13:41.270223Z",
     "shell.execute_reply": "2021-06-11T23:13:41.269710Z",
     "shell.execute_reply.started": "2021-06-11T07:58:58.583222Z"
    },
    "papermill": {
     "duration": 1.104797,
     "end_time": "2021-06-11T23:13:41.270370",
     "exception": false,
     "start_time": "2021-06-11T23:13:40.165573",
     "status": "completed"
    },
    "tags": []
   },
   "outputs": [
    {
     "data": {
      "text/plain": [
       "((83123, 23), (20781, 23), (83123,), (20781,))"
      ]
     },
     "execution_count": 6,
     "metadata": {},
     "output_type": "execute_result"
    }
   ],
   "source": [
    "X = airline.drop(\"satisfaction\",axis=1)\n",
    "y = airline[\"satisfaction\"]\n",
    "from sklearn.model_selection import train_test_split\n",
    "np.random.seed(42)\n",
    "X_train,X_test,y_train,y_test = train_test_split(X,y,test_size=0.2)\n",
    "X_train.shape,X_test.shape,y_train.shape,y_test.shape"
   ]
  },
  {
   "cell_type": "markdown",
   "id": "confidential-luxury",
   "metadata": {
    "papermill": {
     "duration": 0.033063,
     "end_time": "2021-06-11T23:13:41.336058",
     "exception": false,
     "start_time": "2021-06-11T23:13:41.302995",
     "status": "completed"
    },
    "tags": []
   },
   "source": [
    "# Fitting Model and Scoring Parameters"
   ]
  },
  {
   "cell_type": "code",
   "execution_count": 7,
   "id": "democratic-fellow",
   "metadata": {
    "execution": {
     "iopub.execute_input": "2021-06-11T23:13:41.407484Z",
     "iopub.status.busy": "2021-06-11T23:13:41.406723Z",
     "iopub.status.idle": "2021-06-11T23:13:51.326288Z",
     "shell.execute_reply": "2021-06-11T23:13:51.325593Z",
     "shell.execute_reply.started": "2021-06-11T07:58:58.633568Z"
    },
    "papermill": {
     "duration": 9.957245,
     "end_time": "2021-06-11T23:13:51.326427",
     "exception": false,
     "start_time": "2021-06-11T23:13:41.369182",
     "status": "completed"
    },
    "tags": []
   },
   "outputs": [
    {
     "data": {
      "text/plain": [
       "0.9618401424378038"
      ]
     },
     "execution_count": 7,
     "metadata": {},
     "output_type": "execute_result"
    }
   ],
   "source": [
    "from sklearn.ensemble import RandomForestClassifier\n",
    "np.random.seed(42)\n",
    "clf = RandomForestClassifier()\n",
    "clf.fit(X_train,y_train)\n",
    "clf.score(X_test,y_test)"
   ]
  },
  {
   "cell_type": "code",
   "execution_count": 8,
   "id": "genetic-saturday",
   "metadata": {
    "execution": {
     "iopub.execute_input": "2021-06-11T23:13:51.401476Z",
     "iopub.status.busy": "2021-06-11T23:13:51.400374Z",
     "iopub.status.idle": "2021-06-11T23:13:51.807149Z",
     "shell.execute_reply": "2021-06-11T23:13:51.806468Z",
     "shell.execute_reply.started": "2021-06-11T07:59:08.46503Z"
    },
    "papermill": {
     "duration": 0.446902,
     "end_time": "2021-06-11T23:13:51.807292",
     "exception": false,
     "start_time": "2021-06-11T23:13:51.360390",
     "status": "completed"
    },
    "tags": []
   },
   "outputs": [
    {
     "data": {
      "text/plain": [
       "array([0, 0, 0, 0, 0, 0, 0, 0, 0, 0, 1, 1, 1, 0, 1, 0, 1, 0, 1, 1])"
      ]
     },
     "execution_count": 8,
     "metadata": {},
     "output_type": "execute_result"
    }
   ],
   "source": [
    "y_pred = clf.predict(X_test)\n",
    "y_pred[:20]"
   ]
  },
  {
   "cell_type": "code",
   "execution_count": 9,
   "id": "outstanding-original",
   "metadata": {
    "execution": {
     "iopub.execute_input": "2021-06-11T23:13:51.879444Z",
     "iopub.status.busy": "2021-06-11T23:13:51.878449Z",
     "iopub.status.idle": "2021-06-11T23:13:51.884538Z",
     "shell.execute_reply": "2021-06-11T23:13:51.885060Z",
     "shell.execute_reply.started": "2021-06-11T07:59:08.886753Z"
    },
    "papermill": {
     "duration": 0.044399,
     "end_time": "2021-06-11T23:13:51.885234",
     "exception": false,
     "start_time": "2021-06-11T23:13:51.840835",
     "status": "completed"
    },
    "tags": []
   },
   "outputs": [
    {
     "data": {
      "text/plain": [
       "0.9618401424378038"
      ]
     },
     "execution_count": 9,
     "metadata": {},
     "output_type": "execute_result"
    }
   ],
   "source": [
    "from sklearn.metrics import accuracy_score\n",
    "accuracy_score(y_test,y_pred)"
   ]
  },
  {
   "cell_type": "code",
   "execution_count": 10,
   "id": "undefined-straight",
   "metadata": {
    "execution": {
     "iopub.execute_input": "2021-06-11T23:13:51.955421Z",
     "iopub.status.busy": "2021-06-11T23:13:51.954827Z",
     "iopub.status.idle": "2021-06-11T23:13:51.975411Z",
     "shell.execute_reply": "2021-06-11T23:13:51.976034Z",
     "shell.execute_reply.started": "2021-06-11T07:59:08.895374Z"
    },
    "papermill": {
     "duration": 0.057454,
     "end_time": "2021-06-11T23:13:51.976213",
     "exception": false,
     "start_time": "2021-06-11T23:13:51.918759",
     "status": "completed"
    },
    "tags": []
   },
   "outputs": [
    {
     "data": {
      "text/plain": [
       "array([[1.  , 0.  ],\n",
       "       [0.98, 0.02],\n",
       "       [1.  , 0.  ],\n",
       "       [1.  , 0.  ],\n",
       "       [0.8 , 0.2 ],\n",
       "       [1.  , 0.  ],\n",
       "       [1.  , 0.  ],\n",
       "       [1.  , 0.  ],\n",
       "       [1.  , 0.  ],\n",
       "       [1.  , 0.  ],\n",
       "       [0.  , 1.  ],\n",
       "       [0.  , 1.  ],\n",
       "       [0.08, 0.92],\n",
       "       [1.  , 0.  ],\n",
       "       [0.  , 1.  ],\n",
       "       [1.  , 0.  ],\n",
       "       [0.1 , 0.9 ],\n",
       "       [1.  , 0.  ],\n",
       "       [0.  , 1.  ],\n",
       "       [0.08, 0.92]])"
      ]
     },
     "execution_count": 10,
     "metadata": {},
     "output_type": "execute_result"
    }
   ],
   "source": [
    "clf.predict_proba(X_test[:20])"
   ]
  },
  {
   "cell_type": "markdown",
   "id": "irish-rolling",
   "metadata": {
    "papermill": {
     "duration": 0.034362,
     "end_time": "2021-06-11T23:13:52.046676",
     "exception": false,
     "start_time": "2021-06-11T23:13:52.012314",
     "status": "completed"
    },
    "tags": []
   },
   "source": [
    "# Cross Validation Score and ROC Curve"
   ]
  },
  {
   "cell_type": "code",
   "execution_count": 11,
   "id": "later-orange",
   "metadata": {
    "execution": {
     "iopub.execute_input": "2021-06-11T23:13:52.120038Z",
     "iopub.status.busy": "2021-06-11T23:13:52.119086Z",
     "iopub.status.idle": "2021-06-11T23:14:52.225798Z",
     "shell.execute_reply": "2021-06-11T23:14:52.226318Z",
     "shell.execute_reply.started": "2021-06-11T08:00:53.687624Z"
    },
    "papermill": {
     "duration": 60.144861,
     "end_time": "2021-06-11T23:14:52.226488",
     "exception": false,
     "start_time": "2021-06-11T23:13:52.081627",
     "status": "completed"
    },
    "tags": []
   },
   "outputs": [
    {
     "data": {
      "text/plain": [
       "array([0.96212034, 0.96165839, 0.96154068, 0.96084772, 0.96275336,\n",
       "       0.96361956])"
      ]
     },
     "execution_count": 11,
     "metadata": {},
     "output_type": "execute_result"
    }
   ],
   "source": [
    "from sklearn.model_selection import cross_val_score\n",
    "np.random.seed(42)\n",
    "cross_val_score(clf,X,y,cv=6)"
   ]
  },
  {
   "cell_type": "code",
   "execution_count": 12,
   "id": "imported-athens",
   "metadata": {
    "execution": {
     "iopub.execute_input": "2021-06-11T23:14:52.302881Z",
     "iopub.status.busy": "2021-06-11T23:14:52.302227Z",
     "iopub.status.idle": "2021-06-11T23:15:53.024127Z",
     "shell.execute_reply": "2021-06-11T23:15:53.024656Z",
     "shell.execute_reply.started": "2021-06-11T08:02:10.924343Z"
    },
    "papermill": {
     "duration": 60.763903,
     "end_time": "2021-06-11T23:15:53.024836",
     "exception": false,
     "start_time": "2021-06-11T23:14:52.260933",
     "status": "completed"
    },
    "tags": []
   },
   "outputs": [
    {
     "data": {
      "text/html": [
       "<div>\n",
       "<style scoped>\n",
       "    .dataframe tbody tr th:only-of-type {\n",
       "        vertical-align: middle;\n",
       "    }\n",
       "\n",
       "    .dataframe tbody tr th {\n",
       "        vertical-align: top;\n",
       "    }\n",
       "\n",
       "    .dataframe thead th {\n",
       "        text-align: right;\n",
       "    }\n",
       "</style>\n",
       "<table border=\"1\" class=\"dataframe\">\n",
       "  <thead>\n",
       "    <tr style=\"text-align: right;\">\n",
       "      <th></th>\n",
       "      <th>Classification Single Score</th>\n",
       "      <th>Cross Validation Score</th>\n",
       "    </tr>\n",
       "  </thead>\n",
       "  <tbody>\n",
       "    <tr>\n",
       "      <th>0</th>\n",
       "      <td>0.96184</td>\n",
       "      <td>0.96209</td>\n",
       "    </tr>\n",
       "  </tbody>\n",
       "</table>\n",
       "</div>"
      ],
      "text/plain": [
       "   Classification Single Score  Cross Validation Score\n",
       "0                      0.96184                 0.96209"
      ]
     },
     "execution_count": 12,
     "metadata": {},
     "output_type": "execute_result"
    }
   ],
   "source": [
    "np.random.seed(42)\n",
    "clf_single_score = clf.score(X_test,y_test)\n",
    "clf_crossval_score = np.mean(cross_val_score(clf,X,y,cv=6))\n",
    "pd.DataFrame([{\"Classification Single Score\":clf_single_score,\"Cross Validation Score\":clf_crossval_score}])"
   ]
  },
  {
   "cell_type": "code",
   "execution_count": 13,
   "id": "brown-magnet",
   "metadata": {
    "execution": {
     "iopub.execute_input": "2021-06-11T23:15:53.104093Z",
     "iopub.status.busy": "2021-06-11T23:15:53.103412Z",
     "iopub.status.idle": "2021-06-11T23:15:53.531705Z",
     "shell.execute_reply": "2021-06-11T23:15:53.531076Z",
     "shell.execute_reply.started": "2021-06-11T08:03:36.012251Z"
    },
    "papermill": {
     "duration": 0.471255,
     "end_time": "2021-06-11T23:15:53.531845",
     "exception": false,
     "start_time": "2021-06-11T23:15:53.060590",
     "status": "completed"
    },
    "tags": []
   },
   "outputs": [
    {
     "data": {
      "text/plain": [
       "array([0.00000000e+00, 0.00000000e+00, 0.00000000e+00, 0.00000000e+00,\n",
       "       0.00000000e+00, 0.00000000e+00, 0.00000000e+00, 8.53752241e-05,\n",
       "       8.53752241e-05, 1.70750448e-04, 1.70750448e-04, 2.56125672e-04,\n",
       "       2.56125672e-04, 5.97626569e-04, 5.97626569e-04, 7.68377017e-04,\n",
       "       8.53752241e-04, 8.53752241e-04, 9.39127465e-04, 1.19525314e-03,\n",
       "       1.28062836e-03, 1.53675403e-03, 1.62212926e-03, 1.96363015e-03,\n",
       "       2.13438060e-03, 2.47588150e-03, 2.73200717e-03, 3.07350807e-03,\n",
       "       3.41500896e-03, 4.01263553e-03, 4.43951165e-03, 4.61026210e-03,\n",
       "       5.12251345e-03, 5.46401434e-03, 6.14701614e-03, 6.65926748e-03,\n",
       "       7.59839495e-03, 7.85452062e-03, 8.70827286e-03, 9.56202510e-03,\n",
       "       9.90352600e-03, 1.05011526e-02, 1.12695296e-02, 1.26355332e-02,\n",
       "       1.34039102e-02, 1.48552890e-02, 1.55382908e-02, 1.70750448e-02,\n",
       "       1.79287971e-02, 1.92094254e-02, 2.03193033e-02, 2.16853069e-02,\n",
       "       2.26244344e-02, 2.39904380e-02, 2.50149407e-02, 2.62101938e-02,\n",
       "       2.77469478e-02, 2.91129514e-02, 3.12473320e-02, 3.40647144e-02,\n",
       "       3.57722189e-02, 3.81627252e-02, 4.04678562e-02, 4.31998634e-02,\n",
       "       4.60172458e-02, 4.92615043e-02, 5.24203876e-02, 5.57500213e-02,\n",
       "       5.86527790e-02, 6.25800393e-02, 6.53974217e-02, 6.94100572e-02,\n",
       "       7.37641936e-02, 7.75207035e-02, 8.19602151e-02, 8.53752241e-02,\n",
       "       9.00708614e-02, 9.42542474e-02, 9.85230086e-02, 1.04243149e-01,\n",
       "       1.08341159e-01, 1.13975924e-01, 1.19696064e-01, 1.24306326e-01,\n",
       "       1.29941091e-01, 1.36173482e-01, 1.41808247e-01, 1.49406642e-01,\n",
       "       1.58285665e-01, 1.66225561e-01, 1.77751217e-01, 1.89874498e-01,\n",
       "       2.04473662e-01, 2.20609579e-01, 2.39221378e-01, 2.61077435e-01,\n",
       "       2.89165884e-01, 3.25023478e-01, 3.76077862e-01, 4.55049945e-01,\n",
       "       6.02407581e-01, 1.00000000e+00])"
      ]
     },
     "execution_count": 13,
     "metadata": {},
     "output_type": "execute_result"
    }
   ],
   "source": [
    "from sklearn.metrics import roc_curve\n",
    "y_prob = clf.predict_proba(X_test)\n",
    "y_positive = y_prob[:,1]\n",
    "\n",
    "#Calculate false positive rate, true positive rate and thresholds\n",
    "fpr,tpr,thresholds = roc_curve(y_test,y_positive)\n",
    "fpr"
   ]
  },
  {
   "cell_type": "code",
   "execution_count": 14,
   "id": "separated-aggregate",
   "metadata": {
    "execution": {
     "iopub.execute_input": "2021-06-11T23:15:53.627313Z",
     "iopub.status.busy": "2021-06-11T23:15:53.626656Z",
     "iopub.status.idle": "2021-06-11T23:15:53.826099Z",
     "shell.execute_reply": "2021-06-11T23:15:53.825420Z",
     "shell.execute_reply.started": "2021-06-11T08:03:49.959414Z"
    },
    "papermill": {
     "duration": 0.256242,
     "end_time": "2021-06-11T23:15:53.826268",
     "exception": false,
     "start_time": "2021-06-11T23:15:53.570026",
     "status": "completed"
    },
    "tags": []
   },
   "outputs": [
    {
     "data": {
      "image/png": "[encoded data removed]",
      "text/plain": [
       "<Figure size 432x288 with 1 Axes>"
      ]
     },
     "metadata": {
      "needs_background": "light"
     },
     "output_type": "display_data"
    }
   ],
   "source": [
    "import matplotlib.pyplot as plt\n",
    "def plot_roc(fpr,tpr):\n",
    "    plt.plot(fpr,tpr,color='orange',label='ROC')\n",
    "    plt.plot([0,1],[0,1],color='darkblue',linestyle='--',label=\"Guessing\")\n",
    "    plt.xlabel(\"False Positive Rate\")\n",
    "    plt.ylabel(\"True Positive Rate\")\n",
    "    plt.title(\"Receiver Operating Characteristics Curve (ROC)\")\n",
    "    plt.legend()\n",
    "    plt.show()\n",
    "    \n",
    "plot_roc(fpr,tpr)"
   ]
  },
  {
   "cell_type": "code",
   "execution_count": 15,
   "id": "complicated-christian",
   "metadata": {
    "execution": {
     "iopub.execute_input": "2021-06-11T23:15:53.906537Z",
     "iopub.status.busy": "2021-06-11T23:15:53.905377Z",
     "iopub.status.idle": "2021-06-11T23:15:53.917107Z",
     "shell.execute_reply": "2021-06-11T23:15:53.916446Z",
     "shell.execute_reply.started": "2021-06-11T08:04:13.583356Z"
    },
    "papermill": {
     "duration": 0.053488,
     "end_time": "2021-06-11T23:15:53.917245",
     "exception": false,
     "start_time": "2021-06-11T23:15:53.863757",
     "status": "completed"
    },
    "tags": []
   },
   "outputs": [
    {
     "data": {
      "text/plain": [
       "0.9937066041445359"
      ]
     },
     "execution_count": 15,
     "metadata": {},
     "output_type": "execute_result"
    }
   ],
   "source": [
    "from sklearn.metrics import roc_auc_score\n",
    "roc_auc_score(y_test,y_positive)"
   ]
  },
  {
   "cell_type": "markdown",
   "id": "greenhouse-palestinian",
   "metadata": {
    "papermill": {
     "duration": 0.03727,
     "end_time": "2021-06-11T23:15:53.991387",
     "exception": false,
     "start_time": "2021-06-11T23:15:53.954117",
     "status": "completed"
    },
    "tags": []
   },
   "source": [
    "# Confusion Matrix"
   ]
  },
  {
   "cell_type": "code",
   "execution_count": 16,
   "id": "acting-colombia",
   "metadata": {
    "execution": {
     "iopub.execute_input": "2021-06-11T23:15:54.072647Z",
     "iopub.status.busy": "2021-06-11T23:15:54.071982Z",
     "iopub.status.idle": "2021-06-11T23:15:54.540397Z",
     "shell.execute_reply": "2021-06-11T23:15:54.539760Z",
     "shell.execute_reply.started": "2021-06-11T08:04:26.754188Z"
    },
    "papermill": {
     "duration": 0.512772,
     "end_time": "2021-06-11T23:15:54.540554",
     "exception": false,
     "start_time": "2021-06-11T23:15:54.027782",
     "status": "completed"
    },
    "tags": []
   },
   "outputs": [
    {
     "data": {
      "text/plain": [
       "array([[11475,   238],\n",
       "       [  555,  8513]])"
      ]
     },
     "execution_count": 16,
     "metadata": {},
     "output_type": "execute_result"
    }
   ],
   "source": [
    "from sklearn.metrics import confusion_matrix\n",
    "y_pred = clf.predict(X_test)\n",
    "confusion_matrix(y_test,y_pred)"
   ]
  },
  {
   "cell_type": "code",
   "execution_count": 17,
   "id": "literary-deadline",
   "metadata": {
    "execution": {
     "iopub.execute_input": "2021-06-11T23:15:54.624954Z",
     "iopub.status.busy": "2021-06-11T23:15:54.622754Z",
     "iopub.status.idle": "2021-06-11T23:15:54.667022Z",
     "shell.execute_reply": "2021-06-11T23:15:54.667623Z",
     "shell.execute_reply.started": "2021-06-11T08:04:47.224261Z"
    },
    "papermill": {
     "duration": 0.088088,
     "end_time": "2021-06-11T23:15:54.667795",
     "exception": false,
     "start_time": "2021-06-11T23:15:54.579707",
     "status": "completed"
    },
    "tags": []
   },
   "outputs": [
    {
     "data": {
      "text/html": [
       "<div>\n",
       "<style scoped>\n",
       "    .dataframe tbody tr th:only-of-type {\n",
       "        vertical-align: middle;\n",
       "    }\n",
       "\n",
       "    .dataframe tbody tr th {\n",
       "        vertical-align: top;\n",
       "    }\n",
       "\n",
       "    .dataframe thead th {\n",
       "        text-align: right;\n",
       "    }\n",
       "</style>\n",
       "<table border=\"1\" class=\"dataframe\">\n",
       "  <thead>\n",
       "    <tr style=\"text-align: right;\">\n",
       "      <th>Predicted Label</th>\n",
       "      <th>0</th>\n",
       "      <th>1</th>\n",
       "    </tr>\n",
       "    <tr>\n",
       "      <th>Actual Label</th>\n",
       "      <th></th>\n",
       "      <th></th>\n",
       "    </tr>\n",
       "  </thead>\n",
       "  <tbody>\n",
       "    <tr>\n",
       "      <th>0</th>\n",
       "      <td>11475</td>\n",
       "      <td>238</td>\n",
       "    </tr>\n",
       "    <tr>\n",
       "      <th>1</th>\n",
       "      <td>555</td>\n",
       "      <td>8513</td>\n",
       "    </tr>\n",
       "  </tbody>\n",
       "</table>\n",
       "</div>"
      ],
      "text/plain": [
       "Predicted Label      0     1\n",
       "Actual Label                \n",
       "0                11475   238\n",
       "1                  555  8513"
      ]
     },
     "execution_count": 17,
     "metadata": {},
     "output_type": "execute_result"
    }
   ],
   "source": [
    "pd.crosstab(y_test,y_pred,\n",
    "           rownames=[\"Actual Label\"],\n",
    "           colnames=[\"Predicted Label\"])"
   ]
  },
  {
   "cell_type": "code",
   "execution_count": 18,
   "id": "comic-northern",
   "metadata": {
    "execution": {
     "iopub.execute_input": "2021-06-11T23:15:54.748338Z",
     "iopub.status.busy": "2021-06-11T23:15:54.747553Z",
     "iopub.status.idle": "2021-06-11T23:15:55.048631Z",
     "shell.execute_reply": "2021-06-11T23:15:55.049123Z",
     "shell.execute_reply.started": "2021-06-11T08:04:58.100267Z"
    },
    "papermill": {
     "duration": 0.343819,
     "end_time": "2021-06-11T23:15:55.049309",
     "exception": false,
     "start_time": "2021-06-11T23:15:54.705490",
     "status": "completed"
    },
    "tags": []
   },
   "outputs": [
    {
     "data": {
      "image/png": "[encoded data removed]",
      "text/plain": [
       "<Figure size 432x288 with 2 Axes>"
      ]
     },
     "metadata": {},
     "output_type": "display_data"
    }
   ],
   "source": [
    "import seaborn as sns\n",
    "sns.set(font_scale=1.5)\n",
    "conf_mat = confusion_matrix(y_test,y_pred)\n",
    "sns.heatmap(conf_mat);"
   ]
  },
  {
   "cell_type": "code",
   "execution_count": 19,
   "id": "dutch-hungarian",
   "metadata": {
    "execution": {
     "iopub.execute_input": "2021-06-11T23:15:55.276774Z",
     "iopub.status.busy": "2021-06-11T23:15:55.275580Z",
     "iopub.status.idle": "2021-06-11T23:15:55.362006Z",
     "shell.execute_reply": "2021-06-11T23:15:55.362527Z",
     "shell.execute_reply.started": "2021-06-11T08:05:09.771371Z"
    },
    "papermill": {
     "duration": 0.272342,
     "end_time": "2021-06-11T23:15:55.362718",
     "exception": false,
     "start_time": "2021-06-11T23:15:55.090376",
     "status": "completed"
    },
    "tags": []
   },
   "outputs": [
    {
     "data": {
      "image/png": "[encoded data removed]",
      "text/plain": [
       "<Figure size 216x216 with 1 Axes>"
      ]
     },
     "metadata": {},
     "output_type": "display_data"
    }
   ],
   "source": [
    "\n",
    "def plot_conf_mat(conf_mat):\n",
    "    \"\"\"\n",
    "    Plots a confusion matrix using Seaborn's heatmap().\n",
    "    \"\"\"\n",
    "    fig, ax = plt.subplots(figsize=(3, 3))\n",
    "    ax = sns.heatmap(conf_mat,\n",
    "                     annot=True, # Annotate the boxes \n",
    "                     cbar=False)\n",
    "    plt.xlabel('Predicted label')\n",
    "    plt.ylabel('True label');\n",
    "\n",
    "plot_conf_mat(conf_mat)"
   ]
  },
  {
   "cell_type": "code",
   "execution_count": 20,
   "id": "potential-external",
   "metadata": {
    "execution": {
     "iopub.execute_input": "2021-06-11T23:15:55.448153Z",
     "iopub.status.busy": "2021-06-11T23:15:55.447435Z",
     "iopub.status.idle": "2021-06-11T23:15:57.760189Z",
     "shell.execute_reply": "2021-06-11T23:15:57.759685Z",
     "shell.execute_reply.started": "2021-06-11T08:05:31.991922Z"
    },
    "papermill": {
     "duration": 2.35842,
     "end_time": "2021-06-11T23:15:57.760336",
     "exception": false,
     "start_time": "2021-06-11T23:15:55.401916",
     "status": "completed"
    },
    "tags": []
   },
   "outputs": [
    {
     "data": {
      "text/plain": [
       "<sklearn.metrics._plot.confusion_matrix.ConfusionMatrixDisplay at 0x7f08e6dc4890>"
      ]
     },
     "execution_count": 20,
     "metadata": {},
     "output_type": "execute_result"
    },
    {
     "data": {
      "image/png": "[encoded data removed]",
      "text/plain": [
       "<Figure size 432x288 with 2 Axes>"
      ]
     },
     "metadata": {},
     "output_type": "display_data"
    }
   ],
   "source": [
    "from sklearn.metrics import plot_confusion_matrix\n",
    "\n",
    "plot_confusion_matrix(clf, X, y)"
   ]
  },
  {
   "cell_type": "markdown",
   "id": "indian-success",
   "metadata": {
    "papermill": {
     "duration": 0.040308,
     "end_time": "2021-06-11T23:15:57.840880",
     "exception": false,
     "start_time": "2021-06-11T23:15:57.800572",
     "status": "completed"
    },
    "tags": []
   },
   "source": [
    "# Classification Report"
   ]
  },
  {
   "cell_type": "code",
   "execution_count": 21,
   "id": "colored-snapshot",
   "metadata": {
    "execution": {
     "iopub.execute_input": "2021-06-11T23:15:57.926630Z",
     "iopub.status.busy": "2021-06-11T23:15:57.925908Z",
     "iopub.status.idle": "2021-06-11T23:15:57.963547Z",
     "shell.execute_reply": "2021-06-11T23:15:57.964063Z",
     "shell.execute_reply.started": "2021-06-11T08:05:50.507242Z"
    },
    "papermill": {
     "duration": 0.082741,
     "end_time": "2021-06-11T23:15:57.964230",
     "exception": false,
     "start_time": "2021-06-11T23:15:57.881489",
     "status": "completed"
    },
    "tags": []
   },
   "outputs": [
    {
     "name": "stdout",
     "output_type": "stream",
     "text": [
      "              precision    recall  f1-score   support\n",
      "\n",
      "           0       0.95      0.98      0.97     11713\n",
      "           1       0.97      0.94      0.96      9068\n",
      "\n",
      "    accuracy                           0.96     20781\n",
      "   macro avg       0.96      0.96      0.96     20781\n",
      "weighted avg       0.96      0.96      0.96     20781\n",
      "\n"
     ]
    }
   ],
   "source": [
    "from sklearn.metrics import classification_report\n",
    "print(classification_report(y_test,y_pred))"
   ]
  },
  {
   "cell_type": "code",
   "execution_count": 22,
   "id": "distinguished-simulation",
   "metadata": {
    "execution": {
     "iopub.execute_input": "2021-06-11T23:15:58.050178Z",
     "iopub.status.busy": "2021-06-11T23:15:58.049509Z",
     "iopub.status.idle": "2021-06-11T23:16:46.221249Z",
     "shell.execute_reply": "2021-06-11T23:16:46.221789Z",
     "shell.execute_reply.started": "2021-06-11T08:06:18.461267Z"
    },
    "papermill": {
     "duration": 48.216782,
     "end_time": "2021-06-11T23:16:46.221971",
     "exception": false,
     "start_time": "2021-06-11T23:15:58.005189",
     "status": "completed"
    },
    "tags": []
   },
   "outputs": [
    {
     "name": "stdout",
     "output_type": "stream",
     "text": [
      "The Cross Validated Accuracy : 96.17%\n"
     ]
    }
   ],
   "source": [
    "np.random.seed(42)\n",
    "#Default- Mean Accuracy\n",
    "cv_acc = cross_val_score(clf,X,y,cv=5)\n",
    "#Cross Validated Score\n",
    "print(f\"The Cross Validated Accuracy : {np.mean(cv_acc)*100:.2f}%\")"
   ]
  },
  {
   "cell_type": "code",
   "execution_count": 23,
   "id": "practical-hybrid",
   "metadata": {
    "execution": {
     "iopub.execute_input": "2021-06-11T23:16:46.309846Z",
     "iopub.status.busy": "2021-06-11T23:16:46.309206Z",
     "iopub.status.idle": "2021-06-11T23:17:34.283523Z",
     "shell.execute_reply": "2021-06-11T23:17:34.284038Z",
     "shell.execute_reply.started": "2021-06-11T08:07:06.861699Z"
    },
    "papermill": {
     "duration": 48.021314,
     "end_time": "2021-06-11T23:17:34.284201",
     "exception": false,
     "start_time": "2021-06-11T23:16:46.262887",
     "status": "completed"
    },
    "tags": []
   },
   "outputs": [
    {
     "name": "stdout",
     "output_type": "stream",
     "text": [
      "The Cross Validated Accuracy : 96.17%\n"
     ]
    }
   ],
   "source": [
    "np.random.seed(42)\n",
    "#Accuracy Param\n",
    "cv_acc = cross_val_score(clf,X,y,cv=5,scoring=\"accuracy\")\n",
    "#Cross Validated Score\n",
    "print(f\"The Cross Validated Accuracy : {np.mean(cv_acc)*100:.2f}%\")"
   ]
  },
  {
   "cell_type": "code",
   "execution_count": 24,
   "id": "available-visiting",
   "metadata": {
    "execution": {
     "iopub.execute_input": "2021-06-11T23:17:34.369128Z",
     "iopub.status.busy": "2021-06-11T23:17:34.368546Z",
     "iopub.status.idle": "2021-06-11T23:18:22.525274Z",
     "shell.execute_reply": "2021-06-11T23:18:22.525783Z",
     "shell.execute_reply.started": "2021-06-11T08:08:18.031897Z"
    },
    "papermill": {
     "duration": 48.200883,
     "end_time": "2021-06-11T23:18:22.525967",
     "exception": false,
     "start_time": "2021-06-11T23:17:34.325084",
     "status": "completed"
    },
    "tags": []
   },
   "outputs": [
    {
     "name": "stdout",
     "output_type": "stream",
     "text": [
      "The Cross Validated Precision : 97.10%\n"
     ]
    }
   ],
   "source": [
    "np.random.seed(42)\n",
    "#Precision Param\n",
    "cv_acc = cross_val_score(clf,X,y,cv=5,scoring=\"precision\")\n",
    "print(f\"The Cross Validated Precision : {np.mean(cv_acc)*100:.2f}%\")"
   ]
  },
  {
   "cell_type": "code",
   "execution_count": 25,
   "id": "portable-prediction",
   "metadata": {
    "execution": {
     "iopub.execute_input": "2021-06-11T23:18:22.615700Z",
     "iopub.status.busy": "2021-06-11T23:18:22.614768Z",
     "iopub.status.idle": "2021-06-11T23:19:10.796036Z",
     "shell.execute_reply": "2021-06-11T23:19:10.796598Z",
     "shell.execute_reply.started": "2021-06-11T08:09:06.608335Z"
    },
    "papermill": {
     "duration": 48.229013,
     "end_time": "2021-06-11T23:19:10.796774",
     "exception": false,
     "start_time": "2021-06-11T23:18:22.567761",
     "status": "completed"
    },
    "tags": []
   },
   "outputs": [
    {
     "name": "stdout",
     "output_type": "stream",
     "text": [
      "The Cross Validated Recall : 93.96%\n"
     ]
    }
   ],
   "source": [
    "np.random.seed(42)\n",
    "#Recall Param\n",
    "cv_acc = cross_val_score(clf,X,y,cv=5,scoring=\"recall\")\n",
    "print(f\"The Cross Validated Recall : {np.mean(cv_acc)*100:.2f}%\")"
   ]
  },
  {
   "cell_type": "code",
   "execution_count": 26,
   "id": "funny-compensation",
   "metadata": {
    "execution": {
     "iopub.execute_input": "2021-06-11T23:19:10.883242Z",
     "iopub.status.busy": "2021-06-11T23:19:10.882614Z",
     "iopub.status.idle": "2021-06-11T23:19:59.301437Z",
     "shell.execute_reply": "2021-06-11T23:19:59.301984Z",
     "shell.execute_reply.started": "2021-06-11T08:10:01.248715Z"
    },
    "papermill": {
     "duration": 48.463582,
     "end_time": "2021-06-11T23:19:59.302184",
     "exception": false,
     "start_time": "2021-06-11T23:19:10.838602",
     "status": "completed"
    },
    "tags": []
   },
   "outputs": [
    {
     "name": "stdout",
     "output_type": "stream",
     "text": [
      "The Cross Validated F1 score : 95.51%\n"
     ]
    }
   ],
   "source": [
    "np.random.seed(42)\n",
    "#F1 Param\n",
    "cv_acc = cross_val_score(clf,X,y,cv=5,scoring=\"f1\")\n",
    "print(f\"The Cross Validated F1 score : {np.mean(cv_acc)*100:.2f}%\")"
   ]
  },
  {
   "cell_type": "markdown",
   "id": "soviet-attack",
   "metadata": {
    "papermill": {
     "duration": 0.043638,
     "end_time": "2021-06-11T23:19:59.388664",
     "exception": false,
     "start_time": "2021-06-11T23:19:59.345026",
     "status": "completed"
    },
    "tags": []
   },
   "source": [
    "# Classification Metrics"
   ]
  },
  {
   "cell_type": "code",
   "execution_count": 27,
   "id": "animated-crime",
   "metadata": {
    "execution": {
     "iopub.execute_input": "2021-06-11T23:19:59.480535Z",
     "iopub.status.busy": "2021-06-11T23:19:59.479875Z",
     "iopub.status.idle": "2021-06-11T23:19:59.535205Z",
     "shell.execute_reply": "2021-06-11T23:19:59.534660Z",
     "shell.execute_reply.started": "2021-06-11T08:08:02.2093Z"
    },
    "papermill": {
     "duration": 0.104227,
     "end_time": "2021-06-11T23:19:59.535340",
     "exception": false,
     "start_time": "2021-06-11T23:19:59.431113",
     "status": "completed"
    },
    "tags": []
   },
   "outputs": [
    {
     "name": "stdout",
     "output_type": "stream",
     "text": [
      "Classification Metrics: \n",
      "Accuracy: 96.18%\n",
      "Precision: 97.28%\n",
      "Recall: 93.88%\n",
      "F1: 95.55%\n"
     ]
    }
   ],
   "source": [
    "def classification_metrics(y_test,y_pred):\n",
    "    from sklearn.metrics import accuracy_score,precision_score,f1_score,recall_score\n",
    "    print(\"Classification Metrics: \")\n",
    "    print(f\"Accuracy: {accuracy_score(y_test,y_pred)*100 :.2f}%\")\n",
    "    print(f\"Precision: {precision_score(y_test,y_pred)*100 :.2f}%\")\n",
    "    print(f\"Recall: {recall_score(y_test,y_pred)*100 :.2f}%\")\n",
    "    print(f\"F1: {f1_score(y_test,y_pred)*100 :.2f}%\")\n",
    "    metric_dict = {\"accuracy\": round(accuracy_score(y_test,y_pred), 2),\n",
    "                   \"precision\": round(precision_score(y_test,y_pred), 2), \n",
    "                   \"recall\": round(recall_score(y_test,y_pred), 2),\n",
    "                   \"f1\": round(f1_score(y_test,y_pred), 2)}\n",
    "    return metric_dict\n",
    "base_metrics = classification_metrics(y_test,y_pred)"
   ]
  },
  {
   "cell_type": "code",
   "execution_count": 28,
   "id": "instructional-provider",
   "metadata": {
    "execution": {
     "iopub.execute_input": "2021-06-11T23:19:59.626422Z",
     "iopub.status.busy": "2021-06-11T23:19:59.625790Z",
     "iopub.status.idle": "2021-06-11T23:19:59.628782Z",
     "shell.execute_reply": "2021-06-11T23:19:59.629267Z",
     "shell.execute_reply.started": "2021-06-11T08:10:50.139262Z"
    },
    "papermill": {
     "duration": 0.051404,
     "end_time": "2021-06-11T23:19:59.629427",
     "exception": false,
     "start_time": "2021-06-11T23:19:59.578023",
     "status": "completed"
    },
    "tags": []
   },
   "outputs": [
    {
     "data": {
      "text/plain": [
       "{'bootstrap': True,\n",
       " 'ccp_alpha': 0.0,\n",
       " 'class_weight': None,\n",
       " 'criterion': 'gini',\n",
       " 'max_depth': None,\n",
       " 'max_features': 'auto',\n",
       " 'max_leaf_nodes': None,\n",
       " 'max_samples': None,\n",
       " 'min_impurity_decrease': 0.0,\n",
       " 'min_impurity_split': None,\n",
       " 'min_samples_leaf': 1,\n",
       " 'min_samples_split': 2,\n",
       " 'min_weight_fraction_leaf': 0.0,\n",
       " 'n_estimators': 100,\n",
       " 'n_jobs': None,\n",
       " 'oob_score': False,\n",
       " 'random_state': None,\n",
       " 'verbose': 0,\n",
       " 'warm_start': False}"
      ]
     },
     "execution_count": 28,
     "metadata": {},
     "output_type": "execute_result"
    }
   ],
   "source": [
    "clf.get_params()"
   ]
  },
  {
   "cell_type": "markdown",
   "id": "unknown-latest",
   "metadata": {
    "papermill": {
     "duration": 0.042384,
     "end_time": "2021-06-11T23:19:59.715558",
     "exception": false,
     "start_time": "2021-06-11T23:19:59.673174",
     "status": "completed"
    },
    "tags": []
   },
   "source": [
    "# RandomizedSearchCV for finding best Parameter"
   ]
  },
  {
   "cell_type": "code",
   "execution_count": 29,
   "id": "saved-michigan",
   "metadata": {
    "execution": {
     "iopub.execute_input": "2021-06-11T23:19:59.807321Z",
     "iopub.status.busy": "2021-06-11T23:19:59.806234Z",
     "iopub.status.idle": "2021-06-11T23:19:59.808876Z",
     "shell.execute_reply": "2021-06-11T23:19:59.809395Z",
     "shell.execute_reply.started": "2021-06-11T08:10:50.148662Z"
    },
    "papermill": {
     "duration": 0.051343,
     "end_time": "2021-06-11T23:19:59.809650",
     "exception": false,
     "start_time": "2021-06-11T23:19:59.758307",
     "status": "completed"
    },
    "tags": []
   },
   "outputs": [],
   "source": [
    "grid = {\"n_estimators\":[10,100,200,500,1000,1200],\n",
    "       \"max_depth\":[None,5,10,20,30],\n",
    "       \"max_features\":[\"auto\",\"sqrt\"],\n",
    "       \"min_samples_split\":[2,4,6],\n",
    "       \"min_samples_leaf\":[1,2,4]}"
   ]
  },
  {
   "cell_type": "code",
   "execution_count": 30,
   "id": "engaged-cross",
   "metadata": {
    "execution": {
     "iopub.execute_input": "2021-06-11T23:19:59.902328Z",
     "iopub.status.busy": "2021-06-11T23:19:59.901662Z",
     "iopub.status.idle": "2021-06-12T00:16:13.672285Z",
     "shell.execute_reply": "2021-06-12T00:16:13.671706Z"
    },
    "papermill": {
     "duration": 3373.819429,
     "end_time": "2021-06-12T00:16:13.672437",
     "exception": false,
     "start_time": "2021-06-11T23:19:59.853008",
     "status": "completed"
    },
    "tags": []
   },
   "outputs": [
    {
     "name": "stdout",
     "output_type": "stream",
     "text": [
      "Fitting 5 folds for each of 20 candidates, totalling 100 fits\n",
      "[CV] END max_depth=10, max_features=auto, min_samples_leaf=1, min_samples_split=6, n_estimators=100; total time=   5.6s\n",
      "[CV] END max_depth=10, max_features=auto, min_samples_leaf=1, min_samples_split=6, n_estimators=100; total time=   5.5s\n",
      "[CV] END max_depth=10, max_features=auto, min_samples_leaf=1, min_samples_split=6, n_estimators=100; total time=   5.6s\n",
      "[CV] END max_depth=10, max_features=auto, min_samples_leaf=1, min_samples_split=6, n_estimators=100; total time=   5.5s\n",
      "[CV] END max_depth=10, max_features=auto, min_samples_leaf=1, min_samples_split=6, n_estimators=100; total time=   5.6s\n",
      "[CV] END max_depth=None, max_features=sqrt, min_samples_leaf=2, min_samples_split=2, n_estimators=100; total time=   7.4s\n",
      "[CV] END max_depth=None, max_features=sqrt, min_samples_leaf=2, min_samples_split=2, n_estimators=100; total time=   7.3s\n",
      "[CV] END max_depth=None, max_features=sqrt, min_samples_leaf=2, min_samples_split=2, n_estimators=100; total time=   7.4s\n",
      "[CV] END max_depth=None, max_features=sqrt, min_samples_leaf=2, min_samples_split=2, n_estimators=100; total time=   7.3s\n",
      "[CV] END max_depth=None, max_features=sqrt, min_samples_leaf=2, min_samples_split=2, n_estimators=100; total time=   7.4s\n",
      "[CV] END max_depth=30, max_features=sqrt, min_samples_leaf=2, min_samples_split=6, n_estimators=1200; total time= 1.5min\n",
      "[CV] END max_depth=30, max_features=sqrt, min_samples_leaf=2, min_samples_split=6, n_estimators=1200; total time= 1.5min\n",
      "[CV] END max_depth=30, max_features=sqrt, min_samples_leaf=2, min_samples_split=6, n_estimators=1200; total time= 1.5min\n",
      "[CV] END max_depth=30, max_features=sqrt, min_samples_leaf=2, min_samples_split=6, n_estimators=1200; total time= 1.5min\n",
      "[CV] END max_depth=30, max_features=sqrt, min_samples_leaf=2, min_samples_split=6, n_estimators=1200; total time= 1.5min\n",
      "[CV] END max_depth=None, max_features=sqrt, min_samples_leaf=2, min_samples_split=6, n_estimators=200; total time=  14.4s\n",
      "[CV] END max_depth=None, max_features=sqrt, min_samples_leaf=2, min_samples_split=6, n_estimators=200; total time=  14.5s\n",
      "[CV] END max_depth=None, max_features=sqrt, min_samples_leaf=2, min_samples_split=6, n_estimators=200; total time=  14.5s\n",
      "[CV] END max_depth=None, max_features=sqrt, min_samples_leaf=2, min_samples_split=6, n_estimators=200; total time=  14.5s\n",
      "[CV] END max_depth=None, max_features=sqrt, min_samples_leaf=2, min_samples_split=6, n_estimators=200; total time=  14.6s\n",
      "[CV] END max_depth=30, max_features=auto, min_samples_leaf=4, min_samples_split=2, n_estimators=100; total time=   7.2s\n",
      "[CV] END max_depth=30, max_features=auto, min_samples_leaf=4, min_samples_split=2, n_estimators=100; total time=   7.1s\n",
      "[CV] END max_depth=30, max_features=auto, min_samples_leaf=4, min_samples_split=2, n_estimators=100; total time=   7.0s\n",
      "[CV] END max_depth=30, max_features=auto, min_samples_leaf=4, min_samples_split=2, n_estimators=100; total time=   7.2s\n",
      "[CV] END max_depth=30, max_features=auto, min_samples_leaf=4, min_samples_split=2, n_estimators=100; total time=   7.1s\n",
      "[CV] END max_depth=None, max_features=sqrt, min_samples_leaf=2, min_samples_split=2, n_estimators=1200; total time= 1.5min\n",
      "[CV] END max_depth=None, max_features=sqrt, min_samples_leaf=2, min_samples_split=2, n_estimators=1200; total time= 1.5min\n",
      "[CV] END max_depth=None, max_features=sqrt, min_samples_leaf=2, min_samples_split=2, n_estimators=1200; total time= 1.5min\n",
      "[CV] END max_depth=None, max_features=sqrt, min_samples_leaf=2, min_samples_split=2, n_estimators=1200; total time= 1.5min\n",
      "[CV] END max_depth=None, max_features=sqrt, min_samples_leaf=2, min_samples_split=2, n_estimators=1200; total time= 1.5min\n",
      "[CV] END max_depth=10, max_features=sqrt, min_samples_leaf=2, min_samples_split=4, n_estimators=500; total time=  27.2s\n",
      "[CV] END max_depth=10, max_features=sqrt, min_samples_leaf=2, min_samples_split=4, n_estimators=500; total time=  27.2s\n",
      "[CV] END max_depth=10, max_features=sqrt, min_samples_leaf=2, min_samples_split=4, n_estimators=500; total time=  27.5s\n",
      "[CV] END max_depth=10, max_features=sqrt, min_samples_leaf=2, min_samples_split=4, n_estimators=500; total time=  27.2s\n",
      "[CV] END max_depth=10, max_features=sqrt, min_samples_leaf=2, min_samples_split=4, n_estimators=500; total time=  27.1s\n",
      "[CV] END max_depth=20, max_features=sqrt, min_samples_leaf=4, min_samples_split=2, n_estimators=1000; total time= 1.2min\n",
      "[CV] END max_depth=20, max_features=sqrt, min_samples_leaf=4, min_samples_split=2, n_estimators=1000; total time= 1.2min\n",
      "[CV] END max_depth=20, max_features=sqrt, min_samples_leaf=4, min_samples_split=2, n_estimators=1000; total time= 1.2min\n",
      "[CV] END max_depth=20, max_features=sqrt, min_samples_leaf=4, min_samples_split=2, n_estimators=1000; total time= 1.2min\n",
      "[CV] END max_depth=20, max_features=sqrt, min_samples_leaf=4, min_samples_split=2, n_estimators=1000; total time= 1.2min\n",
      "[CV] END max_depth=20, max_features=auto, min_samples_leaf=2, min_samples_split=2, n_estimators=10; total time=   0.7s\n",
      "[CV] END max_depth=20, max_features=auto, min_samples_leaf=2, min_samples_split=2, n_estimators=10; total time=   0.7s\n",
      "[CV] END max_depth=20, max_features=auto, min_samples_leaf=2, min_samples_split=2, n_estimators=10; total time=   0.7s\n",
      "[CV] END max_depth=20, max_features=auto, min_samples_leaf=2, min_samples_split=2, n_estimators=10; total time=   0.8s\n",
      "[CV] END max_depth=20, max_features=auto, min_samples_leaf=2, min_samples_split=2, n_estimators=10; total time=   0.7s\n",
      "[CV] END max_depth=20, max_features=sqrt, min_samples_leaf=1, min_samples_split=2, n_estimators=1200; total time= 1.5min\n",
      "[CV] END max_depth=20, max_features=sqrt, min_samples_leaf=1, min_samples_split=2, n_estimators=1200; total time= 1.5min\n",
      "[CV] END max_depth=20, max_features=sqrt, min_samples_leaf=1, min_samples_split=2, n_estimators=1200; total time= 1.5min\n",
      "[CV] END max_depth=20, max_features=sqrt, min_samples_leaf=1, min_samples_split=2, n_estimators=1200; total time= 1.5min\n",
      "[CV] END max_depth=20, max_features=sqrt, min_samples_leaf=1, min_samples_split=2, n_estimators=1200; total time= 1.5min\n",
      "[CV] END max_depth=None, max_features=auto, min_samples_leaf=1, min_samples_split=4, n_estimators=10; total time=   0.8s\n",
      "[CV] END max_depth=None, max_features=auto, min_samples_leaf=1, min_samples_split=4, n_estimators=10; total time=   0.7s\n",
      "[CV] END max_depth=None, max_features=auto, min_samples_leaf=1, min_samples_split=4, n_estimators=10; total time=   0.8s\n",
      "[CV] END max_depth=None, max_features=auto, min_samples_leaf=1, min_samples_split=4, n_estimators=10; total time=   0.7s\n",
      "[CV] END max_depth=None, max_features=auto, min_samples_leaf=1, min_samples_split=4, n_estimators=10; total time=   0.7s\n",
      "[CV] END max_depth=5, max_features=auto, min_samples_leaf=1, min_samples_split=4, n_estimators=500; total time=  16.7s\n",
      "[CV] END max_depth=5, max_features=auto, min_samples_leaf=1, min_samples_split=4, n_estimators=500; total time=  16.6s\n",
      "[CV] END max_depth=5, max_features=auto, min_samples_leaf=1, min_samples_split=4, n_estimators=500; total time=  16.9s\n",
      "[CV] END max_depth=5, max_features=auto, min_samples_leaf=1, min_samples_split=4, n_estimators=500; total time=  16.7s\n",
      "[CV] END max_depth=5, max_features=auto, min_samples_leaf=1, min_samples_split=4, n_estimators=500; total time=  16.7s\n",
      "[CV] END max_depth=20, max_features=sqrt, min_samples_leaf=2, min_samples_split=6, n_estimators=200; total time=  14.2s\n",
      "[CV] END max_depth=20, max_features=sqrt, min_samples_leaf=2, min_samples_split=6, n_estimators=200; total time=  14.3s\n",
      "[CV] END max_depth=20, max_features=sqrt, min_samples_leaf=2, min_samples_split=6, n_estimators=200; total time=  14.1s\n",
      "[CV] END max_depth=20, max_features=sqrt, min_samples_leaf=2, min_samples_split=6, n_estimators=200; total time=  14.3s\n",
      "[CV] END max_depth=20, max_features=sqrt, min_samples_leaf=2, min_samples_split=6, n_estimators=200; total time=  14.2s\n",
      "[CV] END max_depth=None, max_features=sqrt, min_samples_leaf=2, min_samples_split=2, n_estimators=500; total time=  36.4s\n",
      "[CV] END max_depth=None, max_features=sqrt, min_samples_leaf=2, min_samples_split=2, n_estimators=500; total time=  36.6s\n",
      "[CV] END max_depth=None, max_features=sqrt, min_samples_leaf=2, min_samples_split=2, n_estimators=500; total time=  36.7s\n",
      "[CV] END max_depth=None, max_features=sqrt, min_samples_leaf=2, min_samples_split=2, n_estimators=500; total time=  36.5s\n",
      "[CV] END max_depth=None, max_features=sqrt, min_samples_leaf=2, min_samples_split=2, n_estimators=500; total time=  36.6s\n",
      "[CV] END max_depth=10, max_features=sqrt, min_samples_leaf=1, min_samples_split=2, n_estimators=200; total time=  10.9s\n",
      "[CV] END max_depth=10, max_features=sqrt, min_samples_leaf=1, min_samples_split=2, n_estimators=200; total time=  10.8s\n",
      "[CV] END max_depth=10, max_features=sqrt, min_samples_leaf=1, min_samples_split=2, n_estimators=200; total time=  10.9s\n",
      "[CV] END max_depth=10, max_features=sqrt, min_samples_leaf=1, min_samples_split=2, n_estimators=200; total time=  11.0s\n",
      "[CV] END max_depth=10, max_features=sqrt, min_samples_leaf=1, min_samples_split=2, n_estimators=200; total time=  11.0s\n",
      "[CV] END max_depth=5, max_features=sqrt, min_samples_leaf=2, min_samples_split=6, n_estimators=500; total time=  16.9s\n",
      "[CV] END max_depth=5, max_features=sqrt, min_samples_leaf=2, min_samples_split=6, n_estimators=500; total time=  16.8s\n",
      "[CV] END max_depth=5, max_features=sqrt, min_samples_leaf=2, min_samples_split=6, n_estimators=500; total time=  16.8s\n",
      "[CV] END max_depth=5, max_features=sqrt, min_samples_leaf=2, min_samples_split=6, n_estimators=500; total time=  16.8s\n",
      "[CV] END max_depth=5, max_features=sqrt, min_samples_leaf=2, min_samples_split=6, n_estimators=500; total time=  16.9s\n",
      "[CV] END max_depth=30, max_features=sqrt, min_samples_leaf=1, min_samples_split=4, n_estimators=200; total time=  14.7s\n",
      "[CV] END max_depth=30, max_features=sqrt, min_samples_leaf=1, min_samples_split=4, n_estimators=200; total time=  14.9s\n",
      "[CV] END max_depth=30, max_features=sqrt, min_samples_leaf=1, min_samples_split=4, n_estimators=200; total time=  14.9s\n",
      "[CV] END max_depth=30, max_features=sqrt, min_samples_leaf=1, min_samples_split=4, n_estimators=200; total time=  15.0s\n",
      "[CV] END max_depth=30, max_features=sqrt, min_samples_leaf=1, min_samples_split=4, n_estimators=200; total time=  14.8s\n",
      "[CV] END max_depth=None, max_features=sqrt, min_samples_leaf=4, min_samples_split=4, n_estimators=1200; total time= 1.4min\n",
      "[CV] END max_depth=None, max_features=sqrt, min_samples_leaf=4, min_samples_split=4, n_estimators=1200; total time= 1.4min\n",
      "[CV] END max_depth=None, max_features=sqrt, min_samples_leaf=4, min_samples_split=4, n_estimators=1200; total time= 1.4min\n",
      "[CV] END max_depth=None, max_features=sqrt, min_samples_leaf=4, min_samples_split=4, n_estimators=1200; total time= 1.4min\n",
      "[CV] END max_depth=None, max_features=sqrt, min_samples_leaf=4, min_samples_split=4, n_estimators=1200; total time= 1.4min\n",
      "[CV] END max_depth=30, max_features=sqrt, min_samples_leaf=4, min_samples_split=2, n_estimators=1000; total time= 1.2min\n",
      "[CV] END max_depth=30, max_features=sqrt, min_samples_leaf=4, min_samples_split=2, n_estimators=1000; total time= 1.2min\n",
      "[CV] END max_depth=30, max_features=sqrt, min_samples_leaf=4, min_samples_split=2, n_estimators=1000; total time= 1.2min\n",
      "[CV] END max_depth=30, max_features=sqrt, min_samples_leaf=4, min_samples_split=2, n_estimators=1000; total time= 1.2min\n",
      "[CV] END max_depth=30, max_features=sqrt, min_samples_leaf=4, min_samples_split=2, n_estimators=1000; total time= 1.2min\n",
      "[CV] END max_depth=None, max_features=sqrt, min_samples_leaf=1, min_samples_split=2, n_estimators=100; total time=   7.5s\n",
      "[CV] END max_depth=None, max_features=sqrt, min_samples_leaf=1, min_samples_split=2, n_estimators=100; total time=   7.6s\n",
      "[CV] END max_depth=None, max_features=sqrt, min_samples_leaf=1, min_samples_split=2, n_estimators=100; total time=   7.4s\n",
      "[CV] END max_depth=None, max_features=sqrt, min_samples_leaf=1, min_samples_split=2, n_estimators=100; total time=   7.5s\n",
      "[CV] END max_depth=None, max_features=sqrt, min_samples_leaf=1, min_samples_split=2, n_estimators=100; total time=   7.7s\n"
     ]
    }
   ],
   "source": [
    "np.random.seed(42)\n",
    "clf= RandomForestClassifier(n_jobs=1)\n",
    "from sklearn.model_selection import RandomizedSearchCV\n",
    "rs_clf = RandomizedSearchCV(estimator=clf,\n",
    "                   param_distributions=grid,\n",
    "                   n_iter=20,\n",
    "                   cv=5,\n",
    "                   verbose=2)\n",
    "rs_clf.fit(X_train,y_train);"
   ]
  },
  {
   "cell_type": "code",
   "execution_count": 31,
   "id": "velvet-child",
   "metadata": {
    "execution": {
     "iopub.execute_input": "2021-06-12T00:16:13.888362Z",
     "iopub.status.busy": "2021-06-12T00:16:13.887523Z",
     "iopub.status.idle": "2021-06-12T00:16:13.891886Z",
     "shell.execute_reply": "2021-06-12T00:16:13.891261Z"
    },
    "papermill": {
     "duration": 0.146492,
     "end_time": "2021-06-12T00:16:13.892031",
     "exception": false,
     "start_time": "2021-06-12T00:16:13.745539",
     "status": "completed"
    },
    "tags": []
   },
   "outputs": [
    {
     "data": {
      "text/plain": [
       "{'n_estimators': 200,\n",
       " 'min_samples_split': 4,\n",
       " 'min_samples_leaf': 1,\n",
       " 'max_features': 'sqrt',\n",
       " 'max_depth': 30}"
      ]
     },
     "execution_count": 31,
     "metadata": {},
     "output_type": "execute_result"
    }
   ],
   "source": [
    "rs_clf.best_params_"
   ]
  },
  {
   "cell_type": "code",
   "execution_count": 32,
   "id": "cosmetic-supplier",
   "metadata": {
    "execution": {
     "iopub.execute_input": "2021-06-12T00:16:14.043135Z",
     "iopub.status.busy": "2021-06-12T00:16:14.042448Z",
     "iopub.status.idle": "2021-06-12T00:16:14.055404Z",
     "shell.execute_reply": "2021-06-12T00:16:14.054868Z"
    },
    "papermill": {
     "duration": 0.089534,
     "end_time": "2021-06-12T00:16:14.055570",
     "exception": false,
     "start_time": "2021-06-12T00:16:13.966036",
     "status": "completed"
    },
    "tags": []
   },
   "outputs": [],
   "source": [
    "X_testdata = airline_test.drop(\"satisfaction\",axis=1)\n",
    "y_testdata = airline_test[\"satisfaction\"]"
   ]
  },
  {
   "cell_type": "markdown",
   "id": "noted-mechanics",
   "metadata": {
    "papermill": {
     "duration": 0.073135,
     "end_time": "2021-06-12T00:16:14.203141",
     "exception": false,
     "start_time": "2021-06-12T00:16:14.130006",
     "status": "completed"
    },
    "tags": []
   },
   "source": [
    "# Prediction on given test data"
   ]
  },
  {
   "cell_type": "code",
   "execution_count": 33,
   "id": "involved-bacteria",
   "metadata": {
    "execution": {
     "iopub.execute_input": "2021-06-12T00:16:14.356550Z",
     "iopub.status.busy": "2021-06-12T00:16:14.355907Z",
     "iopub.status.idle": "2021-06-12T00:16:15.413753Z",
     "shell.execute_reply": "2021-06-12T00:16:15.413182Z"
    },
    "papermill": {
     "duration": 1.137366,
     "end_time": "2021-06-12T00:16:15.413899",
     "exception": false,
     "start_time": "2021-06-12T00:16:14.276533",
     "status": "completed"
    },
    "tags": []
   },
   "outputs": [
    {
     "name": "stdout",
     "output_type": "stream",
     "text": [
      "Classification Metrics: \n",
      "Accuracy: 96.21%\n",
      "Precision: 97.10%\n",
      "Recall: 94.18%\n",
      "F1: 95.62%\n"
     ]
    }
   ],
   "source": [
    "rs_y_preds = rs_clf.predict(X_testdata)\n",
    "rs_metrics= classification_metrics(y_testdata,rs_y_preds)"
   ]
  },
  {
   "cell_type": "code",
   "execution_count": 34,
   "id": "educational-devon",
   "metadata": {
    "execution": {
     "iopub.execute_input": "2021-06-12T00:16:15.568253Z",
     "iopub.status.busy": "2021-06-12T00:16:15.567636Z",
     "iopub.status.idle": "2021-06-12T00:16:15.803617Z",
     "shell.execute_reply": "2021-06-12T00:16:15.804127Z"
    },
    "papermill": {
     "duration": 0.316344,
     "end_time": "2021-06-12T00:16:15.804300",
     "exception": false,
     "start_time": "2021-06-12T00:16:15.487956",
     "status": "completed"
    },
    "tags": []
   },
   "outputs": [
    {
     "data": {
      "image/png": "[encoded data removed]",
      "text/plain": [
       "<Figure size 720x576 with 1 Axes>"
      ]
     },
     "metadata": {},
     "output_type": "display_data"
    }
   ],
   "source": [
    "compare_metrics = pd.DataFrame({\"baseline\": base_metrics,\n",
    "                                \"random search\": rs_metrics})\n",
    "compare_metrics.plot.bar(figsize=(10, 8));"
   ]
  }
 ],
 "metadata": {
  "kernelspec": {
   "display_name": "Python 3",
   "language": "python",
   "name": "python3"
  },
  "language_info": {
   "codemirror_mode": {
    "name": "ipython",
    "version": 3
   },
   "file_extension": ".py",
   "mimetype": "text/x-python",
   "name": "python",
   "nbconvert_exporter": "python",
   "pygments_lexer": "ipython3",
   "version": "3.9.5"
  },
  "papermill": {
   "default_parameters": {},
   "duration": 3766.056557,
   "end_time": "2021-06-12T00:16:16.690723",
   "environment_variables": {},
   "exception": null,
   "input_path": "__notebook__.ipynb",
   "output_path": "__notebook__.ipynb",
   "parameters": {},
   "start_time": "2021-06-11T23:13:30.634166",
   "version": "2.3.3"
  }
 },
 "nbformat": 4,
 "nbformat_minor": 5
}
