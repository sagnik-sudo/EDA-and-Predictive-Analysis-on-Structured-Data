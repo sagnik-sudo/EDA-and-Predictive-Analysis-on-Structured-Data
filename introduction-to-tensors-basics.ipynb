{
 "cells": [
  {
   "cell_type": "markdown",
   "id": "tutorial-yemen",
   "metadata": {
    "id": "gAi3EXmJDnq4",
    "papermill": {
     "duration": 0.121883,
     "end_time": "2021-06-25T00:40:58.338100",
     "exception": false,
     "start_time": "2021-06-25T00:40:58.216217",
     "status": "completed"
    },
    "tags": []
   },
   "source": [
    "# *TensorFlow*\n",
    "### In this notebook, we're going to cover some of the most fundamental concepts of tensors using Tensorflow\n",
    "\n",
    "More Specifically, we're going to cover:\n",
    "* Introduction to tensors\n",
    "* Getting information from tensors\n",
    "* Manipulating tensors\n",
    "* Tensors and Numpy\n",
    "* Using @tf.function (a way to speed up your python functions)\n",
    "* Using GPUs with TensorFlow (or TPUs)\n",
    "* Exercises to try for yourself"
   ]
  },
  {
   "cell_type": "markdown",
   "id": "elect-conversion",
   "metadata": {
    "id": "qMJ_w4H_EaCw",
    "papermill": {
     "duration": 0.085321,
     "end_time": "2021-06-25T00:40:58.518244",
     "exception": false,
     "start_time": "2021-06-25T00:40:58.432923",
     "status": "completed"
    },
    "tags": []
   },
   "source": [
    "## Introduction to Tensors"
   ]
  },
  {
   "cell_type": "code",
   "execution_count": 1,
   "id": "clear-neighbor",
   "metadata": {
    "execution": {
     "iopub.execute_input": "2021-06-25T00:40:58.704317Z",
     "iopub.status.busy": "2021-06-25T00:40:58.703480Z",
     "iopub.status.idle": "2021-06-25T00:41:04.527764Z",
     "shell.execute_reply": "2021-06-25T00:41:04.528602Z",
     "shell.execute_reply.started": "2021-06-25T00:35:03.994335Z"
    },
    "id": "FR6mwIGbEhPe",
    "outputId": "ebca424c-3db9-4dc6-a1d3-747dd1273a60",
    "papermill": {
     "duration": 5.926489,
     "end_time": "2021-06-25T00:41:04.529031",
     "exception": false,
     "start_time": "2021-06-25T00:40:58.602542",
     "status": "completed"
    },
    "tags": []
   },
   "outputs": [
    {
     "name": "stdout",
     "output_type": "stream",
     "text": [
      "2.4.1\n"
     ]
    }
   ],
   "source": [
    "#Import TensorFlow\n",
    "import tensorflow as tf\n",
    "print(tf.__version__)"
   ]
  },
  {
   "cell_type": "code",
   "execution_count": 2,
   "id": "french-simple",
   "metadata": {
    "execution": {
     "iopub.execute_input": "2021-06-25T00:41:04.984059Z",
     "iopub.status.busy": "2021-06-25T00:41:04.982821Z",
     "iopub.status.idle": "2021-06-25T00:41:06.801996Z",
     "shell.execute_reply": "2021-06-25T00:41:06.801356Z",
     "shell.execute_reply.started": "2021-06-25T00:35:09.155059Z"
    },
    "id": "lMH6jfq6EyEO",
    "outputId": "c003ff5f-706a-453e-cdbb-5c598df4c1f5",
    "papermill": {
     "duration": 2.132339,
     "end_time": "2021-06-25T00:41:06.802162",
     "exception": false,
     "start_time": "2021-06-25T00:41:04.669823",
     "status": "completed"
    },
    "tags": []
   },
   "outputs": [
    {
     "data": {
      "text/plain": [
       "<tf.Tensor: shape=(), dtype=int32, numpy=7>"
      ]
     },
     "execution_count": 2,
     "metadata": {},
     "output_type": "execute_result"
    }
   ],
   "source": [
    "# Create tensors with tf.constant()\n",
    "scalar = tf.constant(7)\n",
    "scalar"
   ]
  },
  {
   "cell_type": "code",
   "execution_count": 3,
   "id": "equipped-stage",
   "metadata": {
    "execution": {
     "iopub.execute_input": "2021-06-25T00:41:06.981592Z",
     "iopub.status.busy": "2021-06-25T00:41:06.980946Z",
     "iopub.status.idle": "2021-06-25T00:41:06.987575Z",
     "shell.execute_reply": "2021-06-25T00:41:06.987004Z",
     "shell.execute_reply.started": "2021-06-25T00:35:10.779394Z"
    },
    "id": "7FWJGfreFEv4",
    "outputId": "6a6276ce-ca4d-4f40-814c-7e0ed0c336bb",
    "papermill": {
     "duration": 0.09785,
     "end_time": "2021-06-25T00:41:06.987731",
     "exception": false,
     "start_time": "2021-06-25T00:41:06.889881",
     "status": "completed"
    },
    "tags": []
   },
   "outputs": [
    {
     "data": {
      "text/plain": [
       "0"
      ]
     },
     "execution_count": 3,
     "metadata": {},
     "output_type": "execute_result"
    }
   ],
   "source": [
    "#Check the number of dimensions of a tensor (ndim stands for number of dimensions)\n",
    "scalar.ndim"
   ]
  },
  {
   "cell_type": "code",
   "execution_count": 4,
   "id": "specialized-bachelor",
   "metadata": {
    "execution": {
     "iopub.execute_input": "2021-06-25T00:41:07.169996Z",
     "iopub.status.busy": "2021-06-25T00:41:07.169296Z",
     "iopub.status.idle": "2021-06-25T00:41:07.176697Z",
     "shell.execute_reply": "2021-06-25T00:41:07.176157Z",
     "shell.execute_reply.started": "2021-06-25T00:35:10.789107Z"
    },
    "id": "f_GqBXZrFfry",
    "outputId": "501f045d-4020-497a-d261-8c2f6a782c9a",
    "papermill": {
     "duration": 0.102487,
     "end_time": "2021-06-25T00:41:07.176871",
     "exception": false,
     "start_time": "2021-06-25T00:41:07.074384",
     "status": "completed"
    },
    "tags": []
   },
   "outputs": [
    {
     "data": {
      "text/plain": [
       "<tf.Tensor: shape=(2,), dtype=int32, numpy=array([10, 10], dtype=int32)>"
      ]
     },
     "execution_count": 4,
     "metadata": {},
     "output_type": "execute_result"
    }
   ],
   "source": [
    "#Create a vector\n",
    "vector = tf.constant([10,10])\n",
    "vector"
   ]
  },
  {
   "cell_type": "code",
   "execution_count": 5,
   "id": "executed-knock",
   "metadata": {
    "execution": {
     "iopub.execute_input": "2021-06-25T00:41:07.355879Z",
     "iopub.status.busy": "2021-06-25T00:41:07.355080Z",
     "iopub.status.idle": "2021-06-25T00:41:07.361488Z",
     "shell.execute_reply": "2021-06-25T00:41:07.360939Z",
     "shell.execute_reply.started": "2021-06-25T00:35:10.800820Z"
    },
    "id": "lJqYhPDNFqmF",
    "outputId": "7dc9ebdb-b988-4602-d001-1f160c25e4b5",
    "papermill": {
     "duration": 0.098104,
     "end_time": "2021-06-25T00:41:07.361621",
     "exception": false,
     "start_time": "2021-06-25T00:41:07.263517",
     "status": "completed"
    },
    "tags": []
   },
   "outputs": [
    {
     "data": {
      "text/plain": [
       "1"
      ]
     },
     "execution_count": 5,
     "metadata": {},
     "output_type": "execute_result"
    }
   ],
   "source": [
    "#Check dimension of our vector\n",
    "vector.ndim"
   ]
  },
  {
   "cell_type": "code",
   "execution_count": 6,
   "id": "cutting-safety",
   "metadata": {
    "execution": {
     "iopub.execute_input": "2021-06-25T00:41:07.544388Z",
     "iopub.status.busy": "2021-06-25T00:41:07.543385Z",
     "iopub.status.idle": "2021-06-25T00:41:07.547691Z",
     "shell.execute_reply": "2021-06-25T00:41:07.548327Z",
     "shell.execute_reply.started": "2021-06-25T00:35:10.813190Z"
    },
    "id": "-O3Ebh7IFyQM",
    "outputId": "2a2671e4-421f-493c-d85c-1b4ec83eca31",
    "papermill": {
     "duration": 0.099082,
     "end_time": "2021-06-25T00:41:07.548506",
     "exception": false,
     "start_time": "2021-06-25T00:41:07.449424",
     "status": "completed"
    },
    "tags": []
   },
   "outputs": [
    {
     "data": {
      "text/plain": [
       "<tf.Tensor: shape=(2, 2), dtype=int32, numpy=\n",
       "array([[10,  7],\n",
       "       [ 7, 10]], dtype=int32)>"
      ]
     },
     "execution_count": 6,
     "metadata": {},
     "output_type": "execute_result"
    }
   ],
   "source": [
    "#Create a matrix (has more than 1 dimension)\n",
    "matrix = tf.constant([[10,7],\n",
    "                      [7,10]])\n",
    "matrix"
   ]
  },
  {
   "cell_type": "code",
   "execution_count": 7,
   "id": "detailed-reconstruction",
   "metadata": {
    "execution": {
     "iopub.execute_input": "2021-06-25T00:41:07.744863Z",
     "iopub.status.busy": "2021-06-25T00:41:07.743821Z",
     "iopub.status.idle": "2021-06-25T00:41:07.747772Z",
     "shell.execute_reply": "2021-06-25T00:41:07.748605Z",
     "shell.execute_reply.started": "2021-06-25T00:35:10.823401Z"
    },
    "id": "1sWrshhzF_fL",
    "outputId": "13e5e8a5-1015-4c23-fcd6-ba847bb9de4e",
    "papermill": {
     "duration": 0.103679,
     "end_time": "2021-06-25T00:41:07.748783",
     "exception": false,
     "start_time": "2021-06-25T00:41:07.645104",
     "status": "completed"
    },
    "tags": []
   },
   "outputs": [
    {
     "data": {
      "text/plain": [
       "2"
      ]
     },
     "execution_count": 7,
     "metadata": {},
     "output_type": "execute_result"
    }
   ],
   "source": [
    "matrix.ndim"
   ]
  },
  {
   "cell_type": "code",
   "execution_count": 8,
   "id": "bigger-interference",
   "metadata": {
    "execution": {
     "iopub.execute_input": "2021-06-25T00:41:07.936498Z",
     "iopub.status.busy": "2021-06-25T00:41:07.935471Z",
     "iopub.status.idle": "2021-06-25T00:41:07.940270Z",
     "shell.execute_reply": "2021-06-25T00:41:07.940856Z",
     "shell.execute_reply.started": "2021-06-25T00:35:10.831388Z"
    },
    "id": "2OsbXIkRGDSf",
    "outputId": "0dc857ad-a403-4592-cd3f-9605fa52902f",
    "papermill": {
     "duration": 0.102402,
     "end_time": "2021-06-25T00:41:07.941139",
     "exception": false,
     "start_time": "2021-06-25T00:41:07.838737",
     "status": "completed"
    },
    "tags": []
   },
   "outputs": [
    {
     "data": {
      "text/plain": [
       "<tf.Tensor: shape=(3, 2), dtype=float16, numpy=\n",
       "array([[10.,  7.],\n",
       "       [ 3.,  2.],\n",
       "       [ 8.,  9.]], dtype=float16)>"
      ]
     },
     "execution_count": 8,
     "metadata": {},
     "output_type": "execute_result"
    }
   ],
   "source": [
    "#Create another matrix\n",
    "another_matrix = tf.constant([[10.,7.],\n",
    "                              [3.,2.],\n",
    "                              [8.,9.]], dtype=tf.float16) #specify the datatype\n",
    "another_matrix"
   ]
  },
  {
   "cell_type": "code",
   "execution_count": 9,
   "id": "given-sussex",
   "metadata": {
    "execution": {
     "iopub.execute_input": "2021-06-25T00:41:08.125099Z",
     "iopub.status.busy": "2021-06-25T00:41:08.124103Z",
     "iopub.status.idle": "2021-06-25T00:41:08.128301Z",
     "shell.execute_reply": "2021-06-25T00:41:08.128828Z",
     "shell.execute_reply.started": "2021-06-25T00:35:10.841907Z"
    },
    "id": "inYwo4c4GwHt",
    "outputId": "55948333-c78d-4ab9-ebab-12233fc3f0b7",
    "papermill": {
     "duration": 0.098647,
     "end_time": "2021-06-25T00:41:08.129020",
     "exception": false,
     "start_time": "2021-06-25T00:41:08.030373",
     "status": "completed"
    },
    "tags": []
   },
   "outputs": [
    {
     "data": {
      "text/plain": [
       "2"
      ]
     },
     "execution_count": 9,
     "metadata": {},
     "output_type": "execute_result"
    }
   ],
   "source": [
    "#Number of dims of another_matrix\n",
    "another_matrix.ndim"
   ]
  },
  {
   "cell_type": "code",
   "execution_count": 10,
   "id": "auburn-fellow",
   "metadata": {
    "execution": {
     "iopub.execute_input": "2021-06-25T00:41:08.322156Z",
     "iopub.status.busy": "2021-06-25T00:41:08.321128Z",
     "iopub.status.idle": "2021-06-25T00:41:08.325295Z",
     "shell.execute_reply": "2021-06-25T00:41:08.325887Z",
     "shell.execute_reply.started": "2021-06-25T00:35:10.849953Z"
    },
    "id": "2ll61pBiG7EH",
    "outputId": "f5141420-5158-4006-b2dd-4f019c19d22d",
    "papermill": {
     "duration": 0.107322,
     "end_time": "2021-06-25T00:41:08.326039",
     "exception": false,
     "start_time": "2021-06-25T00:41:08.218717",
     "status": "completed"
    },
    "tags": []
   },
   "outputs": [
    {
     "data": {
      "text/plain": [
       "<tf.Tensor: shape=(3, 2, 3), dtype=int32, numpy=\n",
       "array([[[ 1,  2,  3],\n",
       "        [ 4,  5,  6]],\n",
       "\n",
       "       [[ 7,  8,  9],\n",
       "        [10, 11, 12]],\n",
       "\n",
       "       [[13, 14, 15],\n",
       "        [16, 17, 18]]], dtype=int32)>"
      ]
     },
     "execution_count": 10,
     "metadata": {},
     "output_type": "execute_result"
    }
   ],
   "source": [
    "#Lets create a Tensor\n",
    "tensor = tf.constant([[[1,2,3],\n",
    "                       [4,5,6]],\n",
    "                       [[7,8,9],\n",
    "                        [10,11,12]],\n",
    "                       [[13,14,15],\n",
    "                        [16,17,18]]])\n",
    "tensor"
   ]
  },
  {
   "cell_type": "code",
   "execution_count": 11,
   "id": "informal-battery",
   "metadata": {
    "execution": {
     "iopub.execute_input": "2021-06-25T00:41:08.517208Z",
     "iopub.status.busy": "2021-06-25T00:41:08.516226Z",
     "iopub.status.idle": "2021-06-25T00:41:08.521030Z",
     "shell.execute_reply": "2021-06-25T00:41:08.520324Z",
     "shell.execute_reply.started": "2021-06-25T00:35:10.860503Z"
    },
    "id": "K1wAI9UiH1ue",
    "outputId": "6d33ad82-d7a4-4cb2-f001-10f8b5008826",
    "papermill": {
     "duration": 0.10145,
     "end_time": "2021-06-25T00:41:08.521164",
     "exception": false,
     "start_time": "2021-06-25T00:41:08.419714",
     "status": "completed"
    },
    "tags": []
   },
   "outputs": [
    {
     "data": {
      "text/plain": [
       "3"
      ]
     },
     "execution_count": 11,
     "metadata": {},
     "output_type": "execute_result"
    }
   ],
   "source": [
    "tensor.ndim"
   ]
  },
  {
   "cell_type": "markdown",
   "id": "challenging-minister",
   "metadata": {
    "id": "24mtqDM2ILaY",
    "papermill": {
     "duration": 0.090304,
     "end_time": "2021-06-25T00:41:08.703018",
     "exception": false,
     "start_time": "2021-06-25T00:41:08.612714",
     "status": "completed"
    },
    "tags": []
   },
   "source": [
    "What we've created so far:\n",
    "* Scalar: A single number\n",
    "* Vector: A number with direction\n",
    "* Matrix : A 2-dimensional array of numbers\n",
    "* Tensor: A n-dimensional array of numbers (where n can be any number, a 0 dimensional tensor is a scalar, a 1 dimensional tensor is a vector)"
   ]
  },
  {
   "cell_type": "markdown",
   "id": "native-mailman",
   "metadata": {
    "id": "LIjdCCTiH7Dk",
    "papermill": {
     "duration": 0.091718,
     "end_time": "2021-06-25T00:41:08.885476",
     "exception": false,
     "start_time": "2021-06-25T00:41:08.793758",
     "status": "completed"
    },
    "tags": []
   },
   "source": [
    "### Creating tensors with tf.Variable"
   ]
  },
  {
   "cell_type": "code",
   "execution_count": 12,
   "id": "considerable-speech",
   "metadata": {
    "execution": {
     "iopub.execute_input": "2021-06-25T00:41:09.068142Z",
     "iopub.status.busy": "2021-06-25T00:41:09.067283Z",
     "iopub.status.idle": "2021-06-25T00:41:09.400126Z",
     "shell.execute_reply": "2021-06-25T00:41:09.400842Z",
     "shell.execute_reply.started": "2021-06-25T00:35:10.868608Z"
    },
    "id": "4sopDpDfI2Sd",
    "outputId": "d98341b6-3162-4230-b783-788d941f0267",
    "papermill": {
     "duration": 0.426483,
     "end_time": "2021-06-25T00:41:09.401036",
     "exception": false,
     "start_time": "2021-06-25T00:41:08.974553",
     "status": "completed"
    },
    "tags": []
   },
   "outputs": [
    {
     "data": {
      "text/plain": [
       "(<tf.Variable 'Variable:0' shape=(2,) dtype=int32, numpy=array([10,  7], dtype=int32)>,\n",
       " <tf.Tensor: shape=(2,), dtype=int32, numpy=array([10,  7], dtype=int32)>)"
      ]
     },
     "execution_count": 12,
     "metadata": {},
     "output_type": "execute_result"
    }
   ],
   "source": [
    "#Create the same tensor with tf.Variable() as above\n",
    "changeable_tensor = tf.Variable([10,7])\n",
    "unchangeable_tensor = tf.constant([10,7])\n",
    "changeable_tensor, unchangeable_tensor"
   ]
  },
  {
   "cell_type": "code",
   "execution_count": 13,
   "id": "operational-governor",
   "metadata": {
    "execution": {
     "iopub.execute_input": "2021-06-25T00:41:09.587252Z",
     "iopub.status.busy": "2021-06-25T00:41:09.586523Z",
     "iopub.status.idle": "2021-06-25T00:41:09.610284Z",
     "shell.execute_reply": "2021-06-25T00:41:09.609774Z",
     "shell.execute_reply.started": "2021-06-25T00:35:11.169923Z"
    },
    "id": "X9Jpk0aHJfE0",
    "outputId": "e1caff0f-5de9-4a50-9825-c1fc3d55cfae",
    "papermill": {
     "duration": 0.119507,
     "end_time": "2021-06-25T00:41:09.610455",
     "exception": false,
     "start_time": "2021-06-25T00:41:09.490948",
     "status": "completed"
    },
    "tags": []
   },
   "outputs": [
    {
     "data": {
      "text/plain": [
       "<tf.Variable 'Variable:0' shape=(2,) dtype=int32, numpy=array([7, 7], dtype=int32)>"
      ]
     },
     "execution_count": 13,
     "metadata": {},
     "output_type": "execute_result"
    }
   ],
   "source": [
    "#Lets try to change one of the elements in changeable tensor\n",
    "changeable_tensor[0].assign(7)\n",
    "changeable_tensor"
   ]
  },
  {
   "cell_type": "markdown",
   "id": "cathedral-entrance",
   "metadata": {
    "id": "tLc2hKYtJ2Iq",
    "papermill": {
     "duration": 0.092222,
     "end_time": "2021-06-25T00:41:09.796367",
     "exception": false,
     "start_time": "2021-06-25T00:41:09.704145",
     "status": "completed"
    },
    "tags": []
   },
   "source": [
    "### Creating Random Tensors"
   ]
  },
  {
   "cell_type": "code",
   "execution_count": 14,
   "id": "textile-seminar",
   "metadata": {
    "execution": {
     "iopub.execute_input": "2021-06-25T00:41:09.984816Z",
     "iopub.status.busy": "2021-06-25T00:41:09.983864Z",
     "iopub.status.idle": "2021-06-25T00:41:10.014778Z",
     "shell.execute_reply": "2021-06-25T00:41:10.014202Z",
     "shell.execute_reply.started": "2021-06-25T00:35:11.190266Z"
    },
    "id": "UmskGp_MKhoC",
    "outputId": "f9465c24-842b-4b64-a036-24a9150093f4",
    "papermill": {
     "duration": 0.127902,
     "end_time": "2021-06-25T00:41:10.014919",
     "exception": false,
     "start_time": "2021-06-25T00:41:09.887017",
     "status": "completed"
    },
    "tags": []
   },
   "outputs": [
    {
     "data": {
      "text/plain": [
       "(<tf.Tensor: shape=(3, 2), dtype=float32, numpy=\n",
       " array([[-0.7565803 , -0.06854702],\n",
       "        [ 0.07595026, -1.2573844 ],\n",
       "        [-0.23193765, -1.8107855 ]], dtype=float32)>,\n",
       " <tf.Tensor: shape=(3, 2), dtype=float32, numpy=\n",
       " array([[-0.7565803 , -0.06854702],\n",
       "        [ 0.07595026, -1.2573844 ],\n",
       "        [-0.23193765, -1.8107855 ]], dtype=float32)>,\n",
       " <tf.Tensor: shape=(3, 2), dtype=bool, numpy=\n",
       " array([[ True,  True],\n",
       "        [ True,  True],\n",
       "        [ True,  True]])>)"
      ]
     },
     "execution_count": 14,
     "metadata": {},
     "output_type": "execute_result"
    }
   ],
   "source": [
    "#Create two random (but the same) tensors\n",
    "random_1 = tf.random.Generator.from_seed(42)\n",
    "random_1 = random_1.normal(shape=(3,2))\n",
    "random_2 = tf.random.Generator.from_seed(42)\n",
    "random_2 = random_2.normal(shape=(3,2))\n",
    "\n",
    "#Are they equal?\n",
    "random_1,random_2, random_1==random_2"
   ]
  },
  {
   "cell_type": "markdown",
   "id": "domestic-master",
   "metadata": {
    "id": "9ySP7bpsM6bo",
    "papermill": {
     "duration": 0.090729,
     "end_time": "2021-06-25T00:41:10.195690",
     "exception": false,
     "start_time": "2021-06-25T00:41:10.104961",
     "status": "completed"
    },
    "tags": []
   },
   "source": [
    "### Shuffle the order of elements in a tensor"
   ]
  },
  {
   "cell_type": "code",
   "execution_count": 15,
   "id": "dirty-marathon",
   "metadata": {
    "execution": {
     "iopub.execute_input": "2021-06-25T00:41:10.384247Z",
     "iopub.status.busy": "2021-06-25T00:41:10.382976Z",
     "iopub.status.idle": "2021-06-25T00:41:10.388002Z",
     "shell.execute_reply": "2021-06-25T00:41:10.388545Z",
     "shell.execute_reply.started": "2021-06-25T00:35:11.225670Z"
    },
    "id": "gtOhefFeOmVd",
    "outputId": "2808a898-61d5-463c-dfa9-a27c5b2bbee5",
    "papermill": {
     "duration": 0.101812,
     "end_time": "2021-06-25T00:41:10.388783",
     "exception": false,
     "start_time": "2021-06-25T00:41:10.286971",
     "status": "completed"
    },
    "tags": []
   },
   "outputs": [
    {
     "data": {
      "text/plain": [
       "<tf.Tensor: shape=(3, 2), dtype=int32, numpy=\n",
       "array([[10,  7],\n",
       "       [ 3,  4],\n",
       "       [ 2,  5]], dtype=int32)>"
      ]
     },
     "execution_count": 15,
     "metadata": {},
     "output_type": "execute_result"
    }
   ],
   "source": [
    "# Shuffle a tensor (valuable for when you want to shuffle your data so inherent order doesn't affect learning)\n",
    "not_shuffled = tf.constant([[10,7],\n",
    "                            [3,4],\n",
    "                            [2,5]])\n",
    "not_shuffled"
   ]
  },
  {
   "cell_type": "code",
   "execution_count": 16,
   "id": "blank-attitude",
   "metadata": {
    "execution": {
     "iopub.execute_input": "2021-06-25T00:41:10.575745Z",
     "iopub.status.busy": "2021-06-25T00:41:10.574921Z",
     "iopub.status.idle": "2021-06-25T00:41:10.589596Z",
     "shell.execute_reply": "2021-06-25T00:41:10.589049Z",
     "shell.execute_reply.started": "2021-06-25T00:35:11.237780Z"
    },
    "id": "YR0HhSs-PQAG",
    "outputId": "9c6920ff-d024-4300-d93a-7419847f228f",
    "papermill": {
     "duration": 0.10995,
     "end_time": "2021-06-25T00:41:10.589755",
     "exception": false,
     "start_time": "2021-06-25T00:41:10.479805",
     "status": "completed"
    },
    "tags": []
   },
   "outputs": [
    {
     "data": {
      "text/plain": [
       "<tf.Tensor: shape=(3, 2), dtype=int32, numpy=\n",
       "array([[ 3,  4],\n",
       "       [10,  7],\n",
       "       [ 2,  5]], dtype=int32)>"
      ]
     },
     "execution_count": 16,
     "metadata": {},
     "output_type": "execute_result"
    }
   ],
   "source": [
    "#Shuffle our non-shuffled tensor\n",
    "tf.random.shuffle(not_shuffled)"
   ]
  },
  {
   "cell_type": "code",
   "execution_count": 17,
   "id": "intense-julian",
   "metadata": {
    "execution": {
     "iopub.execute_input": "2021-06-25T00:41:10.909582Z",
     "iopub.status.busy": "2021-06-25T00:41:10.908437Z",
     "iopub.status.idle": "2021-06-25T00:41:10.915808Z",
     "shell.execute_reply": "2021-06-25T00:41:10.916817Z",
     "shell.execute_reply.started": "2021-06-25T00:35:11.255772Z"
    },
    "id": "6-z2hQwBP9Cd",
    "outputId": "fbf86f83-5214-4f0a-e0ec-93e85dc916d8",
    "papermill": {
     "duration": 0.185578,
     "end_time": "2021-06-25T00:41:10.917037",
     "exception": false,
     "start_time": "2021-06-25T00:41:10.731459",
     "status": "completed"
    },
    "tags": []
   },
   "outputs": [
    {
     "data": {
      "text/plain": [
       "<tf.Tensor: shape=(3, 2), dtype=int32, numpy=\n",
       "array([[10,  7],\n",
       "       [ 3,  4],\n",
       "       [ 2,  5]], dtype=int32)>"
      ]
     },
     "execution_count": 17,
     "metadata": {},
     "output_type": "execute_result"
    }
   ],
   "source": [
    "tf.random.set_seed(42) #Global Random Seed\n",
    "tf.random.shuffle(not_shuffled, seed=42) #Operational Level Random Seed"
   ]
  },
  {
   "cell_type": "code",
   "execution_count": 18,
   "id": "amino-salem",
   "metadata": {
    "execution": {
     "iopub.execute_input": "2021-06-25T00:41:11.232869Z",
     "iopub.status.busy": "2021-06-25T00:41:11.231885Z",
     "iopub.status.idle": "2021-06-25T00:41:11.239786Z",
     "shell.execute_reply": "2021-06-25T00:41:11.240622Z",
     "shell.execute_reply.started": "2021-06-25T00:35:11.270370Z"
    },
    "id": "39ENYNkGPpv-",
    "outputId": "f1695edb-d450-4c1e-bab7-6aa06f132032",
    "papermill": {
     "duration": 0.167527,
     "end_time": "2021-06-25T00:41:11.240860",
     "exception": false,
     "start_time": "2021-06-25T00:41:11.073333",
     "status": "completed"
    },
    "tags": []
   },
   "outputs": [
    {
     "data": {
      "text/plain": [
       "<tf.Tensor: shape=(3, 2), dtype=int32, numpy=\n",
       "array([[ 2,  5],\n",
       "       [10,  7],\n",
       "       [ 3,  4]], dtype=int32)>"
      ]
     },
     "execution_count": 18,
     "metadata": {},
     "output_type": "execute_result"
    }
   ],
   "source": [
    "tf.random.shuffle(not_shuffled, seed=42)"
   ]
  },
  {
   "cell_type": "markdown",
   "id": "confirmed-basic",
   "metadata": {
    "id": "qikpt87uTfrS",
    "papermill": {
     "duration": 0.089664,
     "end_time": "2021-06-25T00:41:11.457787",
     "exception": false,
     "start_time": "2021-06-25T00:41:11.368123",
     "status": "completed"
    },
    "tags": []
   },
   "source": [
    "### Other ways to make `Tensors`"
   ]
  },
  {
   "cell_type": "code",
   "execution_count": 19,
   "id": "competent-organic",
   "metadata": {
    "execution": {
     "iopub.execute_input": "2021-06-25T00:41:11.646983Z",
     "iopub.status.busy": "2021-06-25T00:41:11.646095Z",
     "iopub.status.idle": "2021-06-25T00:41:11.654579Z",
     "shell.execute_reply": "2021-06-25T00:41:11.655205Z",
     "shell.execute_reply.started": "2021-06-25T00:35:11.283215Z"
    },
    "id": "BRmL90G5X-vd",
    "outputId": "686a3e5e-6f0c-4c0e-f166-de0cee63271e",
    "papermill": {
     "duration": 0.106105,
     "end_time": "2021-06-25T00:41:11.655357",
     "exception": false,
     "start_time": "2021-06-25T00:41:11.549252",
     "status": "completed"
    },
    "tags": []
   },
   "outputs": [
    {
     "data": {
      "text/plain": [
       "<tf.Tensor: shape=(10, 7), dtype=float32, numpy=\n",
       "array([[1., 1., 1., 1., 1., 1., 1.],\n",
       "       [1., 1., 1., 1., 1., 1., 1.],\n",
       "       [1., 1., 1., 1., 1., 1., 1.],\n",
       "       [1., 1., 1., 1., 1., 1., 1.],\n",
       "       [1., 1., 1., 1., 1., 1., 1.],\n",
       "       [1., 1., 1., 1., 1., 1., 1.],\n",
       "       [1., 1., 1., 1., 1., 1., 1.],\n",
       "       [1., 1., 1., 1., 1., 1., 1.],\n",
       "       [1., 1., 1., 1., 1., 1., 1.],\n",
       "       [1., 1., 1., 1., 1., 1., 1.]], dtype=float32)>"
      ]
     },
     "execution_count": 19,
     "metadata": {},
     "output_type": "execute_result"
    }
   ],
   "source": [
    "#Create a Tensor of all ones\n",
    "tf.ones([10,7])"
   ]
  },
  {
   "cell_type": "code",
   "execution_count": 20,
   "id": "uniform-lloyd",
   "metadata": {
    "execution": {
     "iopub.execute_input": "2021-06-25T00:41:11.847454Z",
     "iopub.status.busy": "2021-06-25T00:41:11.846342Z",
     "iopub.status.idle": "2021-06-25T00:41:11.852968Z",
     "shell.execute_reply": "2021-06-25T00:41:11.853525Z",
     "shell.execute_reply.started": "2021-06-25T00:35:11.297574Z"
    },
    "id": "Sf6oU8uxYCGY",
    "outputId": "7a75876b-dfbc-4581-df28-122c94221303",
    "papermill": {
     "duration": 0.104887,
     "end_time": "2021-06-25T00:41:11.853726",
     "exception": false,
     "start_time": "2021-06-25T00:41:11.748839",
     "status": "completed"
    },
    "tags": []
   },
   "outputs": [
    {
     "data": {
      "text/plain": [
       "<tf.Tensor: shape=(3, 4), dtype=float32, numpy=\n",
       "array([[0., 0., 0., 0.],\n",
       "       [0., 0., 0., 0.],\n",
       "       [0., 0., 0., 0.]], dtype=float32)>"
      ]
     },
     "execution_count": 20,
     "metadata": {},
     "output_type": "execute_result"
    }
   ],
   "source": [
    "#Create a Tensor of all zeros\n",
    "tf.zeros(shape=(3,4))"
   ]
  },
  {
   "cell_type": "markdown",
   "id": "informal-thesaurus",
   "metadata": {
    "id": "VU1U2vqNYMHt",
    "papermill": {
     "duration": 0.092072,
     "end_time": "2021-06-25T00:41:12.037419",
     "exception": false,
     "start_time": "2021-06-25T00:41:11.945347",
     "status": "completed"
    },
    "tags": []
   },
   "source": [
    "#### You can also turn NumPy arrays into Tensors\n",
    "\n",
    "The main difference between Numpy Arrays and Tensorflow tensors is that Tensors can be run on a GPU (much faster for numerical computing)"
   ]
  },
  {
   "cell_type": "code",
   "execution_count": 21,
   "id": "lucky-modern",
   "metadata": {
    "execution": {
     "iopub.execute_input": "2021-06-25T00:41:12.228739Z",
     "iopub.status.busy": "2021-06-25T00:41:12.227761Z",
     "iopub.status.idle": "2021-06-25T00:41:12.232495Z",
     "shell.execute_reply": "2021-06-25T00:41:12.231945Z",
     "shell.execute_reply.started": "2021-06-25T00:35:11.308804Z"
    },
    "id": "zf7gtv3sYvA0",
    "outputId": "d8ece0e7-e198-4535-fc24-a1f5e225db3b",
    "papermill": {
     "duration": 0.104036,
     "end_time": "2021-06-25T00:41:12.232632",
     "exception": false,
     "start_time": "2021-06-25T00:41:12.128596",
     "status": "completed"
    },
    "tags": []
   },
   "outputs": [
    {
     "data": {
      "text/plain": [
       "array([ 1,  2,  3,  4,  5,  6,  7,  8,  9, 10, 11, 12, 13, 14, 15, 16, 17,\n",
       "       18, 19, 20, 21, 22, 23, 24], dtype=int32)"
      ]
     },
     "execution_count": 21,
     "metadata": {},
     "output_type": "execute_result"
    }
   ],
   "source": [
    "import numpy as np\n",
    "numpy_A = np.arange(1,25, dtype = np.int32) #Create a numpy array between 1 and 25\n",
    "numpy_A"
   ]
  },
  {
   "cell_type": "code",
   "execution_count": 22,
   "id": "individual-essence",
   "metadata": {
    "execution": {
     "iopub.execute_input": "2021-06-25T00:41:12.427256Z",
     "iopub.status.busy": "2021-06-25T00:41:12.426601Z",
     "iopub.status.idle": "2021-06-25T00:41:12.435471Z",
     "shell.execute_reply": "2021-06-25T00:41:12.434961Z",
     "shell.execute_reply.started": "2021-06-25T00:35:11.321011Z"
    },
    "id": "OSUhjMArZBXi",
    "outputId": "5bc98b3b-da25-4610-d389-215da4508c9f",
    "papermill": {
     "duration": 0.107003,
     "end_time": "2021-06-25T00:41:12.435604",
     "exception": false,
     "start_time": "2021-06-25T00:41:12.328601",
     "status": "completed"
    },
    "tags": []
   },
   "outputs": [
    {
     "name": "stdout",
     "output_type": "stream",
     "text": [
      "A: tf.Tensor(\n",
      "[[[ 1  2  3  4]\n",
      "  [ 5  6  7  8]\n",
      "  [ 9 10 11 12]]\n",
      "\n",
      " [[13 14 15 16]\n",
      "  [17 18 19 20]\n",
      "  [21 22 23 24]]], shape=(2, 3, 4), dtype=int32) \n",
      "\n",
      "B: tf.Tensor([ 1  2  3  4  5  6  7  8  9 10 11 12 13 14 15 16 17 18 19 20 21 22 23 24], shape=(24,), dtype=int32)\n"
     ]
    }
   ],
   "source": [
    "A = tf.constant(numpy_A,shape = (2,3,4))\n",
    "B = tf.constant(numpy_A)\n",
    "\n",
    "print(\"A:\",A,\"\\n\\nB:\",B)"
   ]
  },
  {
   "cell_type": "code",
   "execution_count": 23,
   "id": "requested-fabric",
   "metadata": {
    "execution": {
     "iopub.execute_input": "2021-06-25T00:41:12.631529Z",
     "iopub.status.busy": "2021-06-25T00:41:12.630471Z",
     "iopub.status.idle": "2021-06-25T00:41:12.638412Z",
     "shell.execute_reply": "2021-06-25T00:41:12.637548Z",
     "shell.execute_reply.started": "2021-06-25T00:35:11.332761Z"
    },
    "id": "Gor5LZgGZI0X",
    "outputId": "2e372a9f-4a6b-4715-beed-d59ecf11e558",
    "papermill": {
     "duration": 0.109329,
     "end_time": "2021-06-25T00:41:12.638617",
     "exception": false,
     "start_time": "2021-06-25T00:41:12.529288",
     "status": "completed"
    },
    "tags": []
   },
   "outputs": [
    {
     "name": "stdout",
     "output_type": "stream",
     "text": [
      "A: tf.Tensor(\n",
      "[[ 1  2  3  4  5  6  7  8]\n",
      " [ 9 10 11 12 13 14 15 16]\n",
      " [17 18 19 20 21 22 23 24]], shape=(3, 8), dtype=int32) \n",
      "\n",
      "B: tf.Tensor([ 1  2  3  4  5  6  7  8  9 10 11 12 13 14 15 16 17 18 19 20 21 22 23 24], shape=(24,), dtype=int32)\n"
     ]
    }
   ],
   "source": [
    "A = tf.constant(numpy_A,shape = (3,8))\n",
    "B = tf.constant(numpy_A)\n",
    "\n",
    "print(\"A:\",A,\"\\n\\nB:\",B)"
   ]
  },
  {
   "cell_type": "markdown",
   "id": "three-marking",
   "metadata": {
    "id": "gStHdIBjaJtJ",
    "papermill": {
     "duration": 0.094108,
     "end_time": "2021-06-25T00:41:12.828548",
     "exception": false,
     "start_time": "2021-06-25T00:41:12.734440",
     "status": "completed"
    },
    "tags": []
   },
   "source": [
    "### Getting Information from Tensors\n",
    "\n",
    "* Shape\n",
    "* Rank\n",
    "* Axis or Dimension\n",
    "* Size\n",
    "\n",
    "\n"
   ]
  },
  {
   "cell_type": "code",
   "execution_count": 24,
   "id": "cross-minutes",
   "metadata": {
    "execution": {
     "iopub.execute_input": "2021-06-25T00:41:13.028113Z",
     "iopub.status.busy": "2021-06-25T00:41:13.027093Z",
     "iopub.status.idle": "2021-06-25T00:41:13.035014Z",
     "shell.execute_reply": "2021-06-25T00:41:13.034505Z",
     "shell.execute_reply.started": "2021-06-25T00:35:11.341913Z"
    },
    "id": "oRf_Gt3IaR93",
    "outputId": "79ff2af5-080d-4d23-c3e3-1cf82d75ca4b",
    "papermill": {
     "duration": 0.109618,
     "end_time": "2021-06-25T00:41:13.035145",
     "exception": false,
     "start_time": "2021-06-25T00:41:12.925527",
     "status": "completed"
    },
    "tags": []
   },
   "outputs": [
    {
     "data": {
      "text/plain": [
       "<tf.Tensor: shape=(2, 3, 4, 5), dtype=float32, numpy=\n",
       "array([[[[0., 0., 0., 0., 0.],\n",
       "         [0., 0., 0., 0., 0.],\n",
       "         [0., 0., 0., 0., 0.],\n",
       "         [0., 0., 0., 0., 0.]],\n",
       "\n",
       "        [[0., 0., 0., 0., 0.],\n",
       "         [0., 0., 0., 0., 0.],\n",
       "         [0., 0., 0., 0., 0.],\n",
       "         [0., 0., 0., 0., 0.]],\n",
       "\n",
       "        [[0., 0., 0., 0., 0.],\n",
       "         [0., 0., 0., 0., 0.],\n",
       "         [0., 0., 0., 0., 0.],\n",
       "         [0., 0., 0., 0., 0.]]],\n",
       "\n",
       "\n",
       "       [[[0., 0., 0., 0., 0.],\n",
       "         [0., 0., 0., 0., 0.],\n",
       "         [0., 0., 0., 0., 0.],\n",
       "         [0., 0., 0., 0., 0.]],\n",
       "\n",
       "        [[0., 0., 0., 0., 0.],\n",
       "         [0., 0., 0., 0., 0.],\n",
       "         [0., 0., 0., 0., 0.],\n",
       "         [0., 0., 0., 0., 0.]],\n",
       "\n",
       "        [[0., 0., 0., 0., 0.],\n",
       "         [0., 0., 0., 0., 0.],\n",
       "         [0., 0., 0., 0., 0.],\n",
       "         [0., 0., 0., 0., 0.]]]], dtype=float32)>"
      ]
     },
     "execution_count": 24,
     "metadata": {},
     "output_type": "execute_result"
    }
   ],
   "source": [
    "# Create a rank 4 tensor (4 dimensions)\n",
    "\n",
    "rank_4_tensor = tf.zeros(shape=[2,3,4,5])\n",
    "rank_4_tensor"
   ]
  },
  {
   "cell_type": "code",
   "execution_count": 25,
   "id": "agreed-ghana",
   "metadata": {
    "execution": {
     "iopub.execute_input": "2021-06-25T00:41:13.228803Z",
     "iopub.status.busy": "2021-06-25T00:41:13.228092Z",
     "iopub.status.idle": "2021-06-25T00:41:13.240164Z",
     "shell.execute_reply": "2021-06-25T00:41:13.239637Z",
     "shell.execute_reply.started": "2021-06-25T00:35:11.355741Z"
    },
    "id": "o0s7dOkqbvIq",
    "outputId": "3cd05b68-c9be-4139-ca2d-5b825bb1a2e1",
    "papermill": {
     "duration": 0.111066,
     "end_time": "2021-06-25T00:41:13.240321",
     "exception": false,
     "start_time": "2021-06-25T00:41:13.129255",
     "status": "completed"
    },
    "tags": []
   },
   "outputs": [
    {
     "data": {
      "text/plain": [
       "<tf.Tensor: shape=(3, 4, 5), dtype=float32, numpy=\n",
       "array([[[0., 0., 0., 0., 0.],\n",
       "        [0., 0., 0., 0., 0.],\n",
       "        [0., 0., 0., 0., 0.],\n",
       "        [0., 0., 0., 0., 0.]],\n",
       "\n",
       "       [[0., 0., 0., 0., 0.],\n",
       "        [0., 0., 0., 0., 0.],\n",
       "        [0., 0., 0., 0., 0.],\n",
       "        [0., 0., 0., 0., 0.]],\n",
       "\n",
       "       [[0., 0., 0., 0., 0.],\n",
       "        [0., 0., 0., 0., 0.],\n",
       "        [0., 0., 0., 0., 0.],\n",
       "        [0., 0., 0., 0., 0.]]], dtype=float32)>"
      ]
     },
     "execution_count": 25,
     "metadata": {},
     "output_type": "execute_result"
    }
   ],
   "source": [
    "rank_4_tensor[0]"
   ]
  },
  {
   "cell_type": "code",
   "execution_count": 26,
   "id": "exempt-minnesota",
   "metadata": {
    "execution": {
     "iopub.execute_input": "2021-06-25T00:41:13.437104Z",
     "iopub.status.busy": "2021-06-25T00:41:13.436163Z",
     "iopub.status.idle": "2021-06-25T00:41:13.440431Z",
     "shell.execute_reply": "2021-06-25T00:41:13.440925Z",
     "shell.execute_reply.started": "2021-06-25T00:35:11.367186Z"
    },
    "id": "Vszu3_-rcCWK",
    "outputId": "62f619b0-07c9-43a0-a45b-4e32a0dd6f97",
    "papermill": {
     "duration": 0.103942,
     "end_time": "2021-06-25T00:41:13.441079",
     "exception": false,
     "start_time": "2021-06-25T00:41:13.337137",
     "status": "completed"
    },
    "tags": []
   },
   "outputs": [
    {
     "data": {
      "text/plain": [
       "TensorShape([2, 3, 4, 5])"
      ]
     },
     "execution_count": 26,
     "metadata": {},
     "output_type": "execute_result"
    }
   ],
   "source": [
    "rank_4_tensor.shape"
   ]
  },
  {
   "cell_type": "code",
   "execution_count": 27,
   "id": "frozen-factor",
   "metadata": {
    "execution": {
     "iopub.execute_input": "2021-06-25T00:41:13.668873Z",
     "iopub.status.busy": "2021-06-25T00:41:13.667833Z",
     "iopub.status.idle": "2021-06-25T00:41:13.672533Z",
     "shell.execute_reply": "2021-06-25T00:41:13.671990Z",
     "shell.execute_reply.started": "2021-06-25T00:35:11.375509Z"
    },
    "id": "2yAp2XuhcMql",
    "outputId": "6a2fa855-f59b-422c-f6e7-1bae4757cc5e",
    "papermill": {
     "duration": 0.104916,
     "end_time": "2021-06-25T00:41:13.672690",
     "exception": false,
     "start_time": "2021-06-25T00:41:13.567774",
     "status": "completed"
    },
    "tags": []
   },
   "outputs": [
    {
     "data": {
      "text/plain": [
       "4"
      ]
     },
     "execution_count": 27,
     "metadata": {},
     "output_type": "execute_result"
    }
   ],
   "source": [
    "rank_4_tensor.ndim"
   ]
  },
  {
   "cell_type": "code",
   "execution_count": 28,
   "id": "iraqi-influence",
   "metadata": {
    "execution": {
     "iopub.execute_input": "2021-06-25T00:41:13.871092Z",
     "iopub.status.busy": "2021-06-25T00:41:13.870059Z",
     "iopub.status.idle": "2021-06-25T00:41:13.877358Z",
     "shell.execute_reply": "2021-06-25T00:41:13.877934Z",
     "shell.execute_reply.started": "2021-06-25T00:35:11.384781Z"
    },
    "id": "Ofsv_4QRcO5u",
    "outputId": "ee9d750a-d7bb-4a70-bb1b-6954c6382518",
    "papermill": {
     "duration": 0.109166,
     "end_time": "2021-06-25T00:41:13.878096",
     "exception": false,
     "start_time": "2021-06-25T00:41:13.768930",
     "status": "completed"
    },
    "tags": []
   },
   "outputs": [
    {
     "data": {
      "text/plain": [
       "<tf.Tensor: shape=(), dtype=int32, numpy=120>"
      ]
     },
     "execution_count": 28,
     "metadata": {},
     "output_type": "execute_result"
    }
   ],
   "source": [
    "tf.size(rank_4_tensor)"
   ]
  },
  {
   "cell_type": "code",
   "execution_count": 29,
   "id": "requested-contemporary",
   "metadata": {
    "execution": {
     "iopub.execute_input": "2021-06-25T00:41:14.079333Z",
     "iopub.status.busy": "2021-06-25T00:41:14.077759Z",
     "iopub.status.idle": "2021-06-25T00:41:14.084722Z",
     "shell.execute_reply": "2021-06-25T00:41:14.084028Z",
     "shell.execute_reply.started": "2021-06-25T00:35:11.393435Z"
    },
    "id": "FQOviniHcX0V",
    "outputId": "41875180-d015-4cbf-a4d6-d22405ef1def",
    "papermill": {
     "duration": 0.111511,
     "end_time": "2021-06-25T00:41:14.084864",
     "exception": false,
     "start_time": "2021-06-25T00:41:13.973353",
     "status": "completed"
    },
    "tags": []
   },
   "outputs": [
    {
     "name": "stdout",
     "output_type": "stream",
     "text": [
      "Datatype of every element: <dtype: 'float32'>\n",
      "Number of dimensions:  4\n",
      "Shape of Tensor:  (2, 3, 4, 5)\n",
      "Elements along the 0 axis:  2\n",
      "Elements along the last axis:  5\n",
      "Total number of elements in our tensor:  120\n"
     ]
    }
   ],
   "source": [
    "#Get various attributes of our tensor\n",
    "print(\"Datatype of every element:\", rank_4_tensor.dtype)\n",
    "print(\"Number of dimensions: \", rank_4_tensor.ndim)\n",
    "print(\"Shape of Tensor: \", rank_4_tensor.shape)\n",
    "print(\"Elements along the 0 axis: \", rank_4_tensor.shape[0])\n",
    "print(\"Elements along the last axis: \", rank_4_tensor.shape[-1])\n",
    "print(\"Total number of elements in our tensor: \", tf.size(rank_4_tensor).numpy())"
   ]
  },
  {
   "cell_type": "markdown",
   "id": "efficient-opera",
   "metadata": {
    "id": "2lf1SclsdJb3",
    "papermill": {
     "duration": 0.096436,
     "end_time": "2021-06-25T00:41:14.278985",
     "exception": false,
     "start_time": "2021-06-25T00:41:14.182549",
     "status": "completed"
    },
    "tags": []
   },
   "source": [
    "### Indexing tensor\n",
    "\n",
    "Tensors can be indexed just like Python lists."
   ]
  },
  {
   "cell_type": "code",
   "execution_count": 30,
   "id": "significant-verification",
   "metadata": {
    "execution": {
     "iopub.execute_input": "2021-06-25T00:41:14.480116Z",
     "iopub.status.busy": "2021-06-25T00:41:14.478991Z",
     "iopub.status.idle": "2021-06-25T00:41:14.486116Z",
     "shell.execute_reply": "2021-06-25T00:41:14.485593Z",
     "shell.execute_reply.started": "2021-06-25T00:35:11.404282Z"
    },
    "id": "RYS_dyRjdx3W",
    "outputId": "d1dea2f9-cc40-40ff-b8ac-553942d0b064",
    "papermill": {
     "duration": 0.10894,
     "end_time": "2021-06-25T00:41:14.486276",
     "exception": false,
     "start_time": "2021-06-25T00:41:14.377336",
     "status": "completed"
    },
    "tags": []
   },
   "outputs": [
    {
     "data": {
      "text/plain": [
       "<tf.Tensor: shape=(2, 2, 2, 2), dtype=float32, numpy=\n",
       "array([[[[0., 0.],\n",
       "         [0., 0.]],\n",
       "\n",
       "        [[0., 0.],\n",
       "         [0., 0.]]],\n",
       "\n",
       "\n",
       "       [[[0., 0.],\n",
       "         [0., 0.]],\n",
       "\n",
       "        [[0., 0.],\n",
       "         [0., 0.]]]], dtype=float32)>"
      ]
     },
     "execution_count": 30,
     "metadata": {},
     "output_type": "execute_result"
    }
   ],
   "source": [
    "# Get the first 2 elements of each dimension\n",
    "rank_4_tensor[:2,:2,:2,:2]"
   ]
  },
  {
   "cell_type": "code",
   "execution_count": 31,
   "id": "automatic-prototype",
   "metadata": {
    "execution": {
     "iopub.execute_input": "2021-06-25T00:41:14.686534Z",
     "iopub.status.busy": "2021-06-25T00:41:14.685387Z",
     "iopub.status.idle": "2021-06-25T00:41:14.691698Z",
     "shell.execute_reply": "2021-06-25T00:41:14.692202Z",
     "shell.execute_reply.started": "2021-06-25T00:35:11.415653Z"
    },
    "id": "o-AncJCud8sQ",
    "outputId": "045c716b-b956-4039-cde8-7720ce7fa732",
    "papermill": {
     "duration": 0.108656,
     "end_time": "2021-06-25T00:41:14.692379",
     "exception": false,
     "start_time": "2021-06-25T00:41:14.583723",
     "status": "completed"
    },
    "tags": []
   },
   "outputs": [
    {
     "data": {
      "text/plain": [
       "<tf.Tensor: shape=(1, 1, 1, 5), dtype=float32, numpy=array([[[[0., 0., 0., 0., 0.]]]], dtype=float32)>"
      ]
     },
     "execution_count": 31,
     "metadata": {},
     "output_type": "execute_result"
    }
   ],
   "source": [
    "# Get the first element from each dimension from each index except for the final one\n",
    "rank_4_tensor[:1, :1, :1,:]"
   ]
  },
  {
   "cell_type": "code",
   "execution_count": 32,
   "id": "inner-contemporary",
   "metadata": {
    "execution": {
     "iopub.execute_input": "2021-06-25T00:41:14.898618Z",
     "iopub.status.busy": "2021-06-25T00:41:14.897399Z",
     "iopub.status.idle": "2021-06-25T00:41:14.906428Z",
     "shell.execute_reply": "2021-06-25T00:41:14.907337Z",
     "shell.execute_reply.started": "2021-06-25T00:35:11.424936Z"
    },
    "id": "8prpClTNeYYZ",
    "papermill": {
     "duration": 0.116057,
     "end_time": "2021-06-25T00:41:14.907575",
     "exception": false,
     "start_time": "2021-06-25T00:41:14.791518",
     "status": "completed"
    },
    "tags": []
   },
   "outputs": [
    {
     "name": "stdout",
     "output_type": "stream",
     "text": [
      "Datatype of every element: <dtype: 'int32'>\n",
      "Number of dimensions:  2\n",
      "Shape of Tensor:  (2, 2)\n",
      "Elements along the 0 axis:  2\n",
      "Elements along the last axis:  2\n",
      "Total number of elements in our tensor:  4\n"
     ]
    }
   ],
   "source": [
    "# Create a rank 2 tensor (2 dimensions)\n",
    "rank_2_tensor = tf.constant([[10,7],\n",
    "                        [3,4]])\n",
    "print(\"Datatype of every element:\", rank_2_tensor.dtype)\n",
    "print(\"Number of dimensions: \", rank_2_tensor.ndim)\n",
    "print(\"Shape of Tensor: \", rank_2_tensor.shape)\n",
    "print(\"Elements along the 0 axis: \", rank_2_tensor.shape[0])\n",
    "print(\"Elements along the last axis: \", rank_2_tensor.shape[-1])\n",
    "print(\"Total number of elements in our tensor: \", tf.size(rank_2_tensor).numpy())"
   ]
  },
  {
   "cell_type": "code",
   "execution_count": 33,
   "id": "suited-legislature",
   "metadata": {
    "execution": {
     "iopub.execute_input": "2021-06-25T00:41:15.109926Z",
     "iopub.status.busy": "2021-06-25T00:41:15.109257Z",
     "iopub.status.idle": "2021-06-25T00:41:15.118285Z",
     "shell.execute_reply": "2021-06-25T00:41:15.117727Z",
     "shell.execute_reply.started": "2021-06-25T00:35:11.437757Z"
    },
    "papermill": {
     "duration": 0.113565,
     "end_time": "2021-06-25T00:41:15.118426",
     "exception": false,
     "start_time": "2021-06-25T00:41:15.004861",
     "status": "completed"
    },
    "tags": []
   },
   "outputs": [
    {
     "data": {
      "text/plain": [
       "<tf.Tensor: shape=(2,), dtype=int32, numpy=array([7, 4], dtype=int32)>"
      ]
     },
     "execution_count": 33,
     "metadata": {},
     "output_type": "execute_result"
    }
   ],
   "source": [
    "# Get the last item of each row of our rank 2 tensor\n",
    "rank_2_tensor[:,-1]"
   ]
  },
  {
   "cell_type": "code",
   "execution_count": 34,
   "id": "described-nigeria",
   "metadata": {
    "execution": {
     "iopub.execute_input": "2021-06-25T00:41:15.322673Z",
     "iopub.status.busy": "2021-06-25T00:41:15.321565Z",
     "iopub.status.idle": "2021-06-25T00:41:15.327525Z",
     "shell.execute_reply": "2021-06-25T00:41:15.328024Z",
     "shell.execute_reply.started": "2021-06-25T00:35:11.448738Z"
    },
    "papermill": {
     "duration": 0.110486,
     "end_time": "2021-06-25T00:41:15.328194",
     "exception": false,
     "start_time": "2021-06-25T00:41:15.217708",
     "status": "completed"
    },
    "tags": []
   },
   "outputs": [
    {
     "data": {
      "text/plain": [
       "<tf.Tensor: shape=(2, 2, 1), dtype=int32, numpy=\n",
       "array([[[10],\n",
       "        [ 7]],\n",
       "\n",
       "       [[ 3],\n",
       "        [ 4]]], dtype=int32)>"
      ]
     },
     "execution_count": 34,
     "metadata": {},
     "output_type": "execute_result"
    }
   ],
   "source": [
    "# Add in extra dimension to our rank 2 tensor\n",
    "rank_3_tensor = rank_2_tensor[...,tf.newaxis]\n",
    "rank_3_tensor"
   ]
  },
  {
   "cell_type": "code",
   "execution_count": 35,
   "id": "polish-dinner",
   "metadata": {
    "execution": {
     "iopub.execute_input": "2021-06-25T00:41:15.532891Z",
     "iopub.status.busy": "2021-06-25T00:41:15.531870Z",
     "iopub.status.idle": "2021-06-25T00:41:15.538336Z",
     "shell.execute_reply": "2021-06-25T00:41:15.537781Z",
     "shell.execute_reply.started": "2021-06-25T00:35:11.457911Z"
    },
    "papermill": {
     "duration": 0.112494,
     "end_time": "2021-06-25T00:41:15.538475",
     "exception": false,
     "start_time": "2021-06-25T00:41:15.425981",
     "status": "completed"
    },
    "tags": []
   },
   "outputs": [
    {
     "data": {
      "text/plain": [
       "<tf.Tensor: shape=(2, 2, 1), dtype=int32, numpy=\n",
       "array([[[10],\n",
       "        [ 7]],\n",
       "\n",
       "       [[ 3],\n",
       "        [ 4]]], dtype=int32)>"
      ]
     },
     "execution_count": 35,
     "metadata": {},
     "output_type": "execute_result"
    }
   ],
   "source": [
    "# Alternative to tf.newaxis\n",
    "tf.expand_dims(rank_2_tensor, axis=-1) # \"-1\" means expand the final axis"
   ]
  },
  {
   "cell_type": "code",
   "execution_count": 36,
   "id": "damaged-celebration",
   "metadata": {
    "execution": {
     "iopub.execute_input": "2021-06-25T00:41:15.745622Z",
     "iopub.status.busy": "2021-06-25T00:41:15.744703Z",
     "iopub.status.idle": "2021-06-25T00:41:15.748565Z",
     "shell.execute_reply": "2021-06-25T00:41:15.749182Z",
     "shell.execute_reply.started": "2021-06-25T00:35:11.467737Z"
    },
    "papermill": {
     "duration": 0.110912,
     "end_time": "2021-06-25T00:41:15.749341",
     "exception": false,
     "start_time": "2021-06-25T00:41:15.638429",
     "status": "completed"
    },
    "tags": []
   },
   "outputs": [
    {
     "data": {
      "text/plain": [
       "<tf.Tensor: shape=(1, 2, 2), dtype=int32, numpy=\n",
       "array([[[10,  7],\n",
       "        [ 3,  4]]], dtype=int32)>"
      ]
     },
     "execution_count": 36,
     "metadata": {},
     "output_type": "execute_result"
    }
   ],
   "source": [
    "# Expand 0 axis\n",
    "tf.expand_dims(rank_2_tensor, axis=0)"
   ]
  },
  {
   "cell_type": "markdown",
   "id": "copyrighted-violence",
   "metadata": {
    "papermill": {
     "duration": 0.100045,
     "end_time": "2021-06-25T00:41:15.950166",
     "exception": false,
     "start_time": "2021-06-25T00:41:15.850121",
     "status": "completed"
    },
    "tags": []
   },
   "source": [
    "### Manipulating tensors (tensor operations)"
   ]
  },
  {
   "cell_type": "markdown",
   "id": "respiratory-anaheim",
   "metadata": {
    "papermill": {
     "duration": 0.102354,
     "end_time": "2021-06-25T00:41:16.153280",
     "exception": false,
     "start_time": "2021-06-25T00:41:16.050926",
     "status": "completed"
    },
    "tags": []
   },
   "source": [
    "**Basic Operations**\n",
    "\n",
    "`+`, `-`, `*`, `/`"
   ]
  },
  {
   "cell_type": "code",
   "execution_count": 37,
   "id": "natural-plate",
   "metadata": {
    "execution": {
     "iopub.execute_input": "2021-06-25T00:41:16.358158Z",
     "iopub.status.busy": "2021-06-25T00:41:16.356845Z",
     "iopub.status.idle": "2021-06-25T00:41:16.363327Z",
     "shell.execute_reply": "2021-06-25T00:41:16.362829Z",
     "shell.execute_reply.started": "2021-06-25T00:35:11.478233Z"
    },
    "papermill": {
     "duration": 0.111423,
     "end_time": "2021-06-25T00:41:16.363493",
     "exception": false,
     "start_time": "2021-06-25T00:41:16.252070",
     "status": "completed"
    },
    "tags": []
   },
   "outputs": [
    {
     "data": {
      "text/plain": [
       "<tf.Tensor: shape=(2, 2), dtype=int32, numpy=\n",
       "array([[20, 17],\n",
       "       [13, 14]], dtype=int32)>"
      ]
     },
     "execution_count": 37,
     "metadata": {},
     "output_type": "execute_result"
    }
   ],
   "source": [
    "# You can add values to a tensor using addition operator\n",
    "tensor = tf.constant([[10,7],\n",
    "                      [3,4]])\n",
    "tensor + 10"
   ]
  },
  {
   "cell_type": "code",
   "execution_count": 38,
   "id": "adjusted-hello",
   "metadata": {
    "execution": {
     "iopub.execute_input": "2021-06-25T00:41:16.567374Z",
     "iopub.status.busy": "2021-06-25T00:41:16.566268Z",
     "iopub.status.idle": "2021-06-25T00:41:16.571877Z",
     "shell.execute_reply": "2021-06-25T00:41:16.572417Z",
     "shell.execute_reply.started": "2021-06-25T00:35:11.488850Z"
    },
    "papermill": {
     "duration": 0.108873,
     "end_time": "2021-06-25T00:41:16.572571",
     "exception": false,
     "start_time": "2021-06-25T00:41:16.463698",
     "status": "completed"
    },
    "tags": []
   },
   "outputs": [
    {
     "data": {
      "text/plain": [
       "<tf.Tensor: shape=(2, 2), dtype=int32, numpy=\n",
       "array([[100,  70],\n",
       "       [ 30,  40]], dtype=int32)>"
      ]
     },
     "execution_count": 38,
     "metadata": {},
     "output_type": "execute_result"
    }
   ],
   "source": [
    "# Multiplication also works\n",
    "tensor*10"
   ]
  },
  {
   "cell_type": "code",
   "execution_count": 39,
   "id": "twelve-shelter",
   "metadata": {
    "execution": {
     "iopub.execute_input": "2021-06-25T00:41:16.778927Z",
     "iopub.status.busy": "2021-06-25T00:41:16.778231Z",
     "iopub.status.idle": "2021-06-25T00:41:16.788188Z",
     "shell.execute_reply": "2021-06-25T00:41:16.787607Z",
     "shell.execute_reply.started": "2021-06-25T00:35:11.496469Z"
    },
    "papermill": {
     "duration": 0.114799,
     "end_time": "2021-06-25T00:41:16.788325",
     "exception": false,
     "start_time": "2021-06-25T00:41:16.673526",
     "status": "completed"
    },
    "tags": []
   },
   "outputs": [
    {
     "data": {
      "text/plain": [
       "<tf.Tensor: shape=(2, 2), dtype=int32, numpy=\n",
       "array([[ 0, -3],\n",
       "       [-7, -6]], dtype=int32)>"
      ]
     },
     "execution_count": 39,
     "metadata": {},
     "output_type": "execute_result"
    }
   ],
   "source": [
    "#Substraction if you want\n",
    "tensor - 10"
   ]
  },
  {
   "cell_type": "code",
   "execution_count": 40,
   "id": "automatic-puzzle",
   "metadata": {
    "execution": {
     "iopub.execute_input": "2021-06-25T00:41:16.996185Z",
     "iopub.status.busy": "2021-06-25T00:41:16.995232Z",
     "iopub.status.idle": "2021-06-25T00:41:16.999703Z",
     "shell.execute_reply": "2021-06-25T00:41:17.000192Z",
     "shell.execute_reply.started": "2021-06-25T00:35:11.508347Z"
    },
    "papermill": {
     "duration": 0.110604,
     "end_time": "2021-06-25T00:41:17.000347",
     "exception": false,
     "start_time": "2021-06-25T00:41:16.889743",
     "status": "completed"
    },
    "tags": []
   },
   "outputs": [
    {
     "data": {
      "text/plain": [
       "<tf.Tensor: shape=(2, 2), dtype=int32, numpy=\n",
       "array([[100,  70],\n",
       "       [ 30,  40]], dtype=int32)>"
      ]
     },
     "execution_count": 40,
     "metadata": {},
     "output_type": "execute_result"
    }
   ],
   "source": [
    "# We can use the tensorflow built-in funcition too\n",
    "tf.multiply(tensor, 10)"
   ]
  },
  {
   "cell_type": "code",
   "execution_count": 41,
   "id": "british-savings",
   "metadata": {
    "execution": {
     "iopub.execute_input": "2021-06-25T00:41:17.209356Z",
     "iopub.status.busy": "2021-06-25T00:41:17.208132Z",
     "iopub.status.idle": "2021-06-25T00:41:17.214478Z",
     "shell.execute_reply": "2021-06-25T00:41:17.213917Z",
     "shell.execute_reply.started": "2021-06-25T00:35:11.518123Z"
    },
    "papermill": {
     "duration": 0.112809,
     "end_time": "2021-06-25T00:41:17.214610",
     "exception": false,
     "start_time": "2021-06-25T00:41:17.101801",
     "status": "completed"
    },
    "tags": []
   },
   "outputs": [
    {
     "data": {
      "text/plain": [
       "<tf.Tensor: shape=(2, 2), dtype=int32, numpy=\n",
       "array([[20, 17],\n",
       "       [13, 14]], dtype=int32)>"
      ]
     },
     "execution_count": 41,
     "metadata": {},
     "output_type": "execute_result"
    }
   ],
   "source": [
    "tf.add(tensor, 10)"
   ]
  },
  {
   "cell_type": "markdown",
   "id": "constitutional-monday",
   "metadata": {
    "papermill": {
     "duration": 0.101416,
     "end_time": "2021-06-25T00:41:17.417751",
     "exception": false,
     "start_time": "2021-06-25T00:41:17.316335",
     "status": "completed"
    },
    "tags": []
   },
   "source": [
    "***Matrix Multiplication***"
   ]
  },
  {
   "cell_type": "code",
   "execution_count": 42,
   "id": "naked-tyler",
   "metadata": {
    "execution": {
     "iopub.execute_input": "2021-06-25T00:41:17.624524Z",
     "iopub.status.busy": "2021-06-25T00:41:17.623836Z",
     "iopub.status.idle": "2021-06-25T00:41:17.654194Z",
     "shell.execute_reply": "2021-06-25T00:41:17.653127Z",
     "shell.execute_reply.started": "2021-06-25T00:35:11.527154Z"
    },
    "papermill": {
     "duration": 0.135877,
     "end_time": "2021-06-25T00:41:17.654426",
     "exception": false,
     "start_time": "2021-06-25T00:41:17.518549",
     "status": "completed"
    },
    "tags": []
   },
   "outputs": [
    {
     "name": "stdout",
     "output_type": "stream",
     "text": [
      "tf.Tensor(\n",
      "[[10  7]\n",
      " [ 3  4]], shape=(2, 2), dtype=int32)\n"
     ]
    },
    {
     "data": {
      "text/plain": [
       "<tf.Tensor: shape=(2, 2), dtype=int32, numpy=\n",
       "array([[121,  98],\n",
       "       [ 42,  37]], dtype=int32)>"
      ]
     },
     "execution_count": 42,
     "metadata": {},
     "output_type": "execute_result"
    }
   ],
   "source": [
    "#Matrix multiplication in tensorflow\n",
    "print(tensor)\n",
    "tf.matmul(tensor, tensor)"
   ]
  },
  {
   "cell_type": "code",
   "execution_count": 43,
   "id": "attended-province",
   "metadata": {
    "execution": {
     "iopub.execute_input": "2021-06-25T00:41:17.866328Z",
     "iopub.status.busy": "2021-06-25T00:41:17.865324Z",
     "iopub.status.idle": "2021-06-25T00:41:17.869452Z",
     "shell.execute_reply": "2021-06-25T00:41:17.869968Z",
     "shell.execute_reply.started": "2021-06-25T00:35:11.543644Z"
    },
    "papermill": {
     "duration": 0.11323,
     "end_time": "2021-06-25T00:41:17.870130",
     "exception": false,
     "start_time": "2021-06-25T00:41:17.756900",
     "status": "completed"
    },
    "tags": []
   },
   "outputs": [
    {
     "data": {
      "text/plain": [
       "<tf.Tensor: shape=(2, 2), dtype=int32, numpy=\n",
       "array([[121,  98],\n",
       "       [ 42,  37]], dtype=int32)>"
      ]
     },
     "execution_count": 43,
     "metadata": {},
     "output_type": "execute_result"
    }
   ],
   "source": [
    "# Matrix multiplication with python operator\n",
    "tensor @ tensor"
   ]
  },
  {
   "cell_type": "code",
   "execution_count": 44,
   "id": "wicked-knight",
   "metadata": {
    "execution": {
     "iopub.execute_input": "2021-06-25T00:41:18.084223Z",
     "iopub.status.busy": "2021-06-25T00:41:18.083208Z",
     "iopub.status.idle": "2021-06-25T00:41:18.087121Z",
     "shell.execute_reply": "2021-06-25T00:41:18.087680Z",
     "shell.execute_reply.started": "2021-06-25T00:35:11.554544Z"
    },
    "papermill": {
     "duration": 0.11556,
     "end_time": "2021-06-25T00:41:18.087835",
     "exception": false,
     "start_time": "2021-06-25T00:41:17.972275",
     "status": "completed"
    },
    "tags": []
   },
   "outputs": [
    {
     "data": {
      "text/plain": [
       "(<tf.Tensor: shape=(3, 2), dtype=int32, numpy=\n",
       " array([[1, 2],\n",
       "        [3, 4],\n",
       "        [5, 6]], dtype=int32)>,\n",
       " <tf.Tensor: shape=(3, 2), dtype=int32, numpy=\n",
       " array([[ 7,  8],\n",
       "        [ 9, 10],\n",
       "        [11, 12]], dtype=int32)>)"
      ]
     },
     "execution_count": 44,
     "metadata": {},
     "output_type": "execute_result"
    }
   ],
   "source": [
    "# Create a tensor of shape (3,2)\n",
    "X = tf.constant([[1,2],\n",
    "                [3,4],\n",
    "                [5,6]])\n",
    "Y= tf.constant([[7,8],\n",
    "               [9,10],\n",
    "               [11,12]])\n",
    "X,Y"
   ]
  },
  {
   "cell_type": "markdown",
   "id": "relevant-lighting",
   "metadata": {
    "papermill": {
     "duration": 0.102143,
     "end_time": "2021-06-25T00:41:18.293695",
     "exception": false,
     "start_time": "2021-06-25T00:41:18.191552",
     "status": "completed"
    },
    "tags": []
   },
   "source": [
    "***Two Rules we need to fulfill for matrix multiplication:***\n",
    "1. The inner dimensions must match\n",
    "2. The resulting matrix has the shape of outer dimensions\n"
   ]
  },
  {
   "cell_type": "code",
   "execution_count": 45,
   "id": "modular-cuisine",
   "metadata": {
    "execution": {
     "iopub.execute_input": "2021-06-25T00:41:18.511512Z",
     "iopub.status.busy": "2021-06-25T00:41:18.510352Z",
     "iopub.status.idle": "2021-06-25T00:41:18.516401Z",
     "shell.execute_reply": "2021-06-25T00:41:18.516991Z",
     "shell.execute_reply.started": "2021-06-25T00:35:11.564010Z"
    },
    "papermill": {
     "duration": 0.118714,
     "end_time": "2021-06-25T00:41:18.517140",
     "exception": false,
     "start_time": "2021-06-25T00:41:18.398426",
     "status": "completed"
    },
    "tags": []
   },
   "outputs": [
    {
     "data": {
      "text/plain": [
       "<tf.Tensor: shape=(2, 3), dtype=int32, numpy=\n",
       "array([[ 7,  8,  9],\n",
       "       [10, 11, 12]], dtype=int32)>"
      ]
     },
     "execution_count": 45,
     "metadata": {},
     "output_type": "execute_result"
    }
   ],
   "source": [
    "# Lets change the shape of Y\n",
    "tf.reshape(Y, shape=(2,3))"
   ]
  },
  {
   "cell_type": "code",
   "execution_count": 46,
   "id": "destroyed-swaziland",
   "metadata": {
    "execution": {
     "iopub.execute_input": "2021-06-25T00:41:18.729261Z",
     "iopub.status.busy": "2021-06-25T00:41:18.728135Z",
     "iopub.status.idle": "2021-06-25T00:41:18.731964Z",
     "shell.execute_reply": "2021-06-25T00:41:18.732581Z",
     "shell.execute_reply.started": "2021-06-25T00:35:11.576922Z"
    },
    "papermill": {
     "duration": 0.114766,
     "end_time": "2021-06-25T00:41:18.732781",
     "exception": false,
     "start_time": "2021-06-25T00:41:18.618015",
     "status": "completed"
    },
    "tags": []
   },
   "outputs": [
    {
     "data": {
      "text/plain": [
       "<tf.Tensor: shape=(3, 3), dtype=int32, numpy=\n",
       "array([[ 27,  30,  33],\n",
       "       [ 61,  68,  75],\n",
       "       [ 95, 106, 117]], dtype=int32)>"
      ]
     },
     "execution_count": 46,
     "metadata": {},
     "output_type": "execute_result"
    }
   ],
   "source": [
    "# MatMul X and reshaped Y\n",
    "X @ tf.reshape(Y, shape= (2,3))"
   ]
  },
  {
   "cell_type": "code",
   "execution_count": 47,
   "id": "hourly-public",
   "metadata": {
    "execution": {
     "iopub.execute_input": "2021-06-25T00:41:18.946215Z",
     "iopub.status.busy": "2021-06-25T00:41:18.945319Z",
     "iopub.status.idle": "2021-06-25T00:41:18.950009Z",
     "shell.execute_reply": "2021-06-25T00:41:18.949504Z",
     "shell.execute_reply.started": "2021-06-25T00:35:11.586896Z"
    },
    "papermill": {
     "duration": 0.114397,
     "end_time": "2021-06-25T00:41:18.950140",
     "exception": false,
     "start_time": "2021-06-25T00:41:18.835743",
     "status": "completed"
    },
    "tags": []
   },
   "outputs": [
    {
     "data": {
      "text/plain": [
       "<tf.Tensor: shape=(2, 2), dtype=int32, numpy=\n",
       "array([[ 58,  64],\n",
       "       [139, 154]], dtype=int32)>"
      ]
     },
     "execution_count": 47,
     "metadata": {},
     "output_type": "execute_result"
    }
   ],
   "source": [
    "# MatMul Reshaped X and Y\n",
    "tf.reshape(X, shape =(2,3)) @ Y"
   ]
  },
  {
   "cell_type": "code",
   "execution_count": 48,
   "id": "minus-accreditation",
   "metadata": {
    "execution": {
     "iopub.execute_input": "2021-06-25T00:41:19.163020Z",
     "iopub.status.busy": "2021-06-25T00:41:19.162399Z",
     "iopub.status.idle": "2021-06-25T00:41:19.178237Z",
     "shell.execute_reply": "2021-06-25T00:41:19.177745Z",
     "shell.execute_reply.started": "2021-06-25T00:35:11.595812Z"
    },
    "papermill": {
     "duration": 0.123918,
     "end_time": "2021-06-25T00:41:19.178418",
     "exception": false,
     "start_time": "2021-06-25T00:41:19.054500",
     "status": "completed"
    },
    "tags": []
   },
   "outputs": [
    {
     "data": {
      "text/plain": [
       "(<tf.Tensor: shape=(3, 2), dtype=int32, numpy=\n",
       " array([[1, 2],\n",
       "        [3, 4],\n",
       "        [5, 6]], dtype=int32)>,\n",
       " <tf.Tensor: shape=(2, 3), dtype=int32, numpy=\n",
       " array([[1, 3, 5],\n",
       "        [2, 4, 6]], dtype=int32)>,\n",
       " <tf.Tensor: shape=(2, 3), dtype=int32, numpy=\n",
       " array([[1, 2, 3],\n",
       "        [4, 5, 6]], dtype=int32)>)"
      ]
     },
     "execution_count": 48,
     "metadata": {},
     "output_type": "execute_result"
    }
   ],
   "source": [
    "# We can do the same with Transpose\n",
    "X, tf.transpose(X), tf.reshape(X, shape = (2,3))"
   ]
  },
  {
   "cell_type": "code",
   "execution_count": 49,
   "id": "relevant-brake",
   "metadata": {
    "execution": {
     "iopub.execute_input": "2021-06-25T00:41:19.394984Z",
     "iopub.status.busy": "2021-06-25T00:41:19.393971Z",
     "iopub.status.idle": "2021-06-25T00:41:19.400312Z",
     "shell.execute_reply": "2021-06-25T00:41:19.399715Z",
     "shell.execute_reply.started": "2021-06-25T00:35:11.611441Z"
    },
    "papermill": {
     "duration": 0.115915,
     "end_time": "2021-06-25T00:41:19.400450",
     "exception": false,
     "start_time": "2021-06-25T00:41:19.284535",
     "status": "completed"
    },
    "tags": []
   },
   "outputs": [
    {
     "data": {
      "text/plain": [
       "<tf.Tensor: shape=(2, 2), dtype=int32, numpy=\n",
       "array([[ 89,  98],\n",
       "       [116, 128]], dtype=int32)>"
      ]
     },
     "execution_count": 49,
     "metadata": {},
     "output_type": "execute_result"
    }
   ],
   "source": [
    "# Try MatMul with Transpose instead of Reshape\n",
    "tf.matmul(tf.transpose(X), Y)"
   ]
  },
  {
   "cell_type": "markdown",
   "id": "supposed-organ",
   "metadata": {
    "papermill": {
     "duration": 0.102801,
     "end_time": "2021-06-25T00:41:19.605523",
     "exception": false,
     "start_time": "2021-06-25T00:41:19.502722",
     "status": "completed"
    },
    "tags": []
   },
   "source": [
    "**Dot Product**\n",
    "Matix Multiplication is also referred to as Dot Product.\n",
    "\n",
    "You can perform matrix multiplication using:\n",
    "* `tf.matmul()`\n",
    "* `tf.tensordot()`"
   ]
  },
  {
   "cell_type": "code",
   "execution_count": 50,
   "id": "aware-refund",
   "metadata": {
    "execution": {
     "iopub.execute_input": "2021-06-25T00:41:19.819152Z",
     "iopub.status.busy": "2021-06-25T00:41:19.818443Z",
     "iopub.status.idle": "2021-06-25T00:41:19.827411Z",
     "shell.execute_reply": "2021-06-25T00:41:19.826798Z",
     "shell.execute_reply.started": "2021-06-25T00:35:11.620276Z"
    },
    "papermill": {
     "duration": 0.118174,
     "end_time": "2021-06-25T00:41:19.827555",
     "exception": false,
     "start_time": "2021-06-25T00:41:19.709381",
     "status": "completed"
    },
    "tags": []
   },
   "outputs": [
    {
     "data": {
      "text/plain": [
       "<tf.Tensor: shape=(2, 2), dtype=int32, numpy=\n",
       "array([[ 89,  98],\n",
       "       [116, 128]], dtype=int32)>"
      ]
     },
     "execution_count": 50,
     "metadata": {},
     "output_type": "execute_result"
    }
   ],
   "source": [
    "# Perform the dot product on X and Y (requires X or Y to be transposed)\n",
    "tf.tensordot(tf.transpose(X), Y, axes=1)"
   ]
  },
  {
   "cell_type": "code",
   "execution_count": 51,
   "id": "further-drive",
   "metadata": {
    "execution": {
     "iopub.execute_input": "2021-06-25T00:41:20.048420Z",
     "iopub.status.busy": "2021-06-25T00:41:20.047403Z",
     "iopub.status.idle": "2021-06-25T00:41:20.051380Z",
     "shell.execute_reply": "2021-06-25T00:41:20.051955Z",
     "shell.execute_reply.started": "2021-06-25T00:35:11.630925Z"
    },
    "papermill": {
     "duration": 0.117817,
     "end_time": "2021-06-25T00:41:20.052128",
     "exception": false,
     "start_time": "2021-06-25T00:41:19.934311",
     "status": "completed"
    },
    "tags": []
   },
   "outputs": [
    {
     "data": {
      "text/plain": [
       "<tf.Tensor: shape=(3, 3), dtype=int32, numpy=\n",
       "array([[ 27,  30,  33],\n",
       "       [ 61,  68,  75],\n",
       "       [ 95, 106, 117]], dtype=int32)>"
      ]
     },
     "execution_count": 51,
     "metadata": {},
     "output_type": "execute_result"
    }
   ],
   "source": [
    "# Perform matrix multiplication between X and Y (reshaped)\n",
    "X @ tf.reshape(Y, shape= (2,3))"
   ]
  },
  {
   "cell_type": "code",
   "execution_count": 52,
   "id": "greatest-analyst",
   "metadata": {
    "execution": {
     "iopub.execute_input": "2021-06-25T00:41:20.271191Z",
     "iopub.status.busy": "2021-06-25T00:41:20.270052Z",
     "iopub.status.idle": "2021-06-25T00:41:20.276198Z",
     "shell.execute_reply": "2021-06-25T00:41:20.276708Z",
     "shell.execute_reply.started": "2021-06-25T00:35:11.639487Z"
    },
    "papermill": {
     "duration": 0.118441,
     "end_time": "2021-06-25T00:41:20.276872",
     "exception": false,
     "start_time": "2021-06-25T00:41:20.158431",
     "status": "completed"
    },
    "tags": []
   },
   "outputs": [
    {
     "data": {
      "text/plain": [
       "<tf.Tensor: shape=(3, 3), dtype=int32, numpy=\n",
       "array([[ 23,  29,  35],\n",
       "       [ 53,  67,  81],\n",
       "       [ 83, 105, 127]], dtype=int32)>"
      ]
     },
     "execution_count": 52,
     "metadata": {},
     "output_type": "execute_result"
    }
   ],
   "source": [
    "X @ tf.transpose(Y)"
   ]
  },
  {
   "cell_type": "code",
   "execution_count": 53,
   "id": "automated-great",
   "metadata": {
    "execution": {
     "iopub.execute_input": "2021-06-25T00:41:20.496116Z",
     "iopub.status.busy": "2021-06-25T00:41:20.495076Z",
     "iopub.status.idle": "2021-06-25T00:41:20.504260Z",
     "shell.execute_reply": "2021-06-25T00:41:20.505182Z",
     "shell.execute_reply.started": "2021-06-25T00:35:11.648981Z"
    },
    "papermill": {
     "duration": 0.121872,
     "end_time": "2021-06-25T00:41:20.505454",
     "exception": false,
     "start_time": "2021-06-25T00:41:20.383582",
     "status": "completed"
    },
    "tags": []
   },
   "outputs": [
    {
     "name": "stdout",
     "output_type": "stream",
     "text": [
      "Normal Y:\n",
      "tf.Tensor(\n",
      "[[ 7  8]\n",
      " [ 9 10]\n",
      " [11 12]], shape=(3, 2), dtype=int32) \n",
      "\n",
      "Y reshaped to (2,3)\n",
      "tf.Tensor(\n",
      "[[ 7  8  9]\n",
      " [10 11 12]], shape=(2, 3), dtype=int32) \n",
      "\n",
      "Y transposed\n",
      "tf.Tensor(\n",
      "[[ 7  9 11]\n",
      " [ 8 10 12]], shape=(2, 3), dtype=int32)\n"
     ]
    }
   ],
   "source": [
    "# Check the values of Y, reshape Y and transposed Y\n",
    "print(\"Normal Y:\")\n",
    "print(Y, \"\\n\")\n",
    "print(\"Y reshaped to (2,3)\")\n",
    "print(tf.reshape(Y, shape=(2,3)),\"\\n\")\n",
    "print(\"Y transposed\")\n",
    "print(tf.transpose(Y))"
   ]
  },
  {
   "cell_type": "markdown",
   "id": "vocal-prayer",
   "metadata": {
    "papermill": {
     "duration": 0.108801,
     "end_time": "2021-06-25T00:41:20.721557",
     "exception": false,
     "start_time": "2021-06-25T00:41:20.612756",
     "status": "completed"
    },
    "tags": []
   },
   "source": [
    "Generally, when performing matrix multiplication on two tensors and one of the axes doesn't line up, you will transpose rather than reshape one of the tensors to satisfy matrix multplication rules."
   ]
  },
  {
   "cell_type": "markdown",
   "id": "aging-withdrawal",
   "metadata": {
    "papermill": {
     "duration": 0.106272,
     "end_time": "2021-06-25T00:41:20.932315",
     "exception": false,
     "start_time": "2021-06-25T00:41:20.826043",
     "status": "completed"
    },
    "tags": []
   },
   "source": [
    "### Changing the datatype of a tensor"
   ]
  },
  {
   "cell_type": "code",
   "execution_count": 54,
   "id": "enclosed-raise",
   "metadata": {
    "execution": {
     "iopub.execute_input": "2021-06-25T00:41:21.149953Z",
     "iopub.status.busy": "2021-06-25T00:41:21.148998Z",
     "iopub.status.idle": "2021-06-25T00:41:21.152922Z",
     "shell.execute_reply": "2021-06-25T00:41:21.153489Z",
     "shell.execute_reply.started": "2021-06-25T00:35:11.665085Z"
    },
    "papermill": {
     "duration": 0.116734,
     "end_time": "2021-06-25T00:41:21.153679",
     "exception": false,
     "start_time": "2021-06-25T00:41:21.036945",
     "status": "completed"
    },
    "tags": []
   },
   "outputs": [
    {
     "data": {
      "text/plain": [
       "tf.float32"
      ]
     },
     "execution_count": 54,
     "metadata": {},
     "output_type": "execute_result"
    }
   ],
   "source": [
    "# Create a new tensor with default datatype (float32)\n",
    "B = tf.constant([1.7,7.4])\n",
    "B.dtype"
   ]
  },
  {
   "cell_type": "code",
   "execution_count": 55,
   "id": "adjustable-socket",
   "metadata": {
    "execution": {
     "iopub.execute_input": "2021-06-25T00:41:21.373582Z",
     "iopub.status.busy": "2021-06-25T00:41:21.372606Z",
     "iopub.status.idle": "2021-06-25T00:41:21.376503Z",
     "shell.execute_reply": "2021-06-25T00:41:21.377013Z",
     "shell.execute_reply.started": "2021-06-25T00:35:11.675263Z"
    },
    "papermill": {
     "duration": 0.116277,
     "end_time": "2021-06-25T00:41:21.377163",
     "exception": false,
     "start_time": "2021-06-25T00:41:21.260886",
     "status": "completed"
    },
    "tags": []
   },
   "outputs": [
    {
     "data": {
      "text/plain": [
       "tf.int32"
      ]
     },
     "execution_count": 55,
     "metadata": {},
     "output_type": "execute_result"
    }
   ],
   "source": [
    "C = tf.constant([7,10])\n",
    "C.dtype"
   ]
  },
  {
   "cell_type": "code",
   "execution_count": 56,
   "id": "hairy-setup",
   "metadata": {
    "execution": {
     "iopub.execute_input": "2021-06-25T00:41:21.596298Z",
     "iopub.status.busy": "2021-06-25T00:41:21.595323Z",
     "iopub.status.idle": "2021-06-25T00:41:21.605908Z",
     "shell.execute_reply": "2021-06-25T00:41:21.605353Z",
     "shell.execute_reply.started": "2021-06-25T00:35:11.683852Z"
    },
    "papermill": {
     "duration": 0.12303,
     "end_time": "2021-06-25T00:41:21.606052",
     "exception": false,
     "start_time": "2021-06-25T00:41:21.483022",
     "status": "completed"
    },
    "tags": []
   },
   "outputs": [
    {
     "data": {
      "text/plain": [
       "tf.float16"
      ]
     },
     "execution_count": 56,
     "metadata": {},
     "output_type": "execute_result"
    }
   ],
   "source": [
    "# Change from float32 to float16\n",
    "B = tf.cast(B, dtype = tf.float16)\n",
    "B.dtype"
   ]
  },
  {
   "cell_type": "code",
   "execution_count": 57,
   "id": "lonely-pollution",
   "metadata": {
    "execution": {
     "iopub.execute_input": "2021-06-25T00:41:22.004024Z",
     "iopub.status.busy": "2021-06-25T00:41:22.000729Z",
     "iopub.status.idle": "2021-06-25T00:41:22.011671Z",
     "shell.execute_reply": "2021-06-25T00:41:22.012415Z",
     "shell.execute_reply.started": "2021-06-25T00:35:11.696426Z"
    },
    "papermill": {
     "duration": 0.201871,
     "end_time": "2021-06-25T00:41:22.012653",
     "exception": false,
     "start_time": "2021-06-25T00:41:21.810782",
     "status": "completed"
    },
    "tags": []
   },
   "outputs": [
    {
     "data": {
      "text/plain": [
       "(<tf.Tensor: shape=(2,), dtype=float32, numpy=array([ 7., 10.], dtype=float32)>,\n",
       " tf.float32)"
      ]
     },
     "execution_count": 57,
     "metadata": {},
     "output_type": "execute_result"
    }
   ],
   "source": [
    "# Change from int32 to float32\n",
    "E = tf.cast(C, dtype=tf.float32)\n",
    "E, E.dtype"
   ]
  },
  {
   "cell_type": "markdown",
   "id": "brilliant-missouri",
   "metadata": {
    "papermill": {
     "duration": 0.154264,
     "end_time": "2021-06-25T00:41:22.349035",
     "exception": false,
     "start_time": "2021-06-25T00:41:22.194771",
     "status": "completed"
    },
    "tags": []
   },
   "source": [
    "### Aggregating Tensors\n",
    "Aggregating tensors = condensing them from multiple values down to a smaller amount of values."
   ]
  },
  {
   "cell_type": "code",
   "execution_count": 58,
   "id": "straight-honey",
   "metadata": {
    "execution": {
     "iopub.execute_input": "2021-06-25T00:41:22.571188Z",
     "iopub.status.busy": "2021-06-25T00:41:22.570181Z",
     "iopub.status.idle": "2021-06-25T00:41:22.574976Z",
     "shell.execute_reply": "2021-06-25T00:41:22.574282Z",
     "shell.execute_reply.started": "2021-06-25T00:35:11.707471Z"
    },
    "papermill": {
     "duration": 0.117354,
     "end_time": "2021-06-25T00:41:22.575134",
     "exception": false,
     "start_time": "2021-06-25T00:41:22.457780",
     "status": "completed"
    },
    "tags": []
   },
   "outputs": [
    {
     "data": {
      "text/plain": [
       "<tf.Tensor: shape=(2,), dtype=int32, numpy=array([ -7, -10], dtype=int32)>"
      ]
     },
     "execution_count": 58,
     "metadata": {},
     "output_type": "execute_result"
    }
   ],
   "source": [
    "# Get the absolute values\n",
    "D = tf.constant([-7,-10])\n",
    "D"
   ]
  },
  {
   "cell_type": "code",
   "execution_count": 59,
   "id": "broken-webmaster",
   "metadata": {
    "execution": {
     "iopub.execute_input": "2021-06-25T00:41:22.791855Z",
     "iopub.status.busy": "2021-06-25T00:41:22.791197Z",
     "iopub.status.idle": "2021-06-25T00:41:22.798730Z",
     "shell.execute_reply": "2021-06-25T00:41:22.799380Z",
     "shell.execute_reply.started": "2021-06-25T00:35:11.715888Z"
    },
    "papermill": {
     "duration": 0.119052,
     "end_time": "2021-06-25T00:41:22.799532",
     "exception": false,
     "start_time": "2021-06-25T00:41:22.680480",
     "status": "completed"
    },
    "tags": []
   },
   "outputs": [
    {
     "data": {
      "text/plain": [
       "<tf.Tensor: shape=(2,), dtype=int32, numpy=array([ 7, 10], dtype=int32)>"
      ]
     },
     "execution_count": 59,
     "metadata": {},
     "output_type": "execute_result"
    }
   ],
   "source": [
    "tf.abs(D)"
   ]
  },
  {
   "cell_type": "markdown",
   "id": "former-muscle",
   "metadata": {
    "papermill": {
     "duration": 0.106658,
     "end_time": "2021-06-25T00:41:23.013022",
     "exception": false,
     "start_time": "2021-06-25T00:41:22.906364",
     "status": "completed"
    },
    "tags": []
   },
   "source": [
    "Let's go through the following forms of aggregation:\n",
    "\n",
    "1. Get the minimum\n",
    "2. Get the maximum\n",
    "3. Get the mean of a tensor\n",
    "4. Get the sum of a tensor"
   ]
  },
  {
   "cell_type": "code",
   "execution_count": 60,
   "id": "wired-coffee",
   "metadata": {
    "execution": {
     "iopub.execute_input": "2021-06-25T00:41:23.239792Z",
     "iopub.status.busy": "2021-06-25T00:41:23.238952Z",
     "iopub.status.idle": "2021-06-25T00:41:23.271356Z",
     "shell.execute_reply": "2021-06-25T00:41:23.270823Z",
     "shell.execute_reply.started": "2021-06-25T00:35:11.727143Z"
    },
    "papermill": {
     "duration": 0.150304,
     "end_time": "2021-06-25T00:41:23.271507",
     "exception": false,
     "start_time": "2021-06-25T00:41:23.121203",
     "status": "completed"
    },
    "tags": []
   },
   "outputs": [
    {
     "name": "stdout",
     "output_type": "stream",
     "text": [
      "Y:[51 92 14 71 60 20 82 86 74 74 87 99 23  2 21 52  1 87 29 37  1 63 59 20\n",
      " 32 75 57 21 88 48] \n",
      "\n",
      "\n",
      "Min:  1\n",
      "Max:  99\n",
      "Mean:  50\n",
      "Sum:  1526\n",
      "Standard Deviation:  29.898420619751064\n",
      "Variance:  893.9155555555556\n"
     ]
    }
   ],
   "source": [
    "np.random.seed(42)\n",
    "Y = tf.constant(np.random.randint(0,100,size=30))\n",
    "print(f\"Y:{Y} \\n\\n\")\n",
    "print(\"Min: \",tf.reduce_min(Y).numpy())\n",
    "print(\"Max: \", tf.reduce_max(Y).numpy())\n",
    "print(\"Mean: \", tf.reduce_mean(Y).numpy())\n",
    "print(\"Sum: \", tf.reduce_sum(Y).numpy())\n",
    "print(\"Standard Deviation: \", tf.math.reduce_std(tf.cast(Y, dtype=tf.float64)).numpy())\n",
    "print(\"Variance: \",tf.math.reduce_variance(tf.cast(Y, dtype=tf.float64)).numpy())"
   ]
  },
  {
   "cell_type": "code",
   "execution_count": 61,
   "id": "bored-decision",
   "metadata": {
    "execution": {
     "iopub.execute_input": "2021-06-25T00:41:23.493979Z",
     "iopub.status.busy": "2021-06-25T00:41:23.493043Z",
     "iopub.status.idle": "2021-06-25T00:41:24.407885Z",
     "shell.execute_reply": "2021-06-25T00:41:24.407186Z",
     "shell.execute_reply.started": "2021-06-25T00:35:11.758114Z"
    },
    "papermill": {
     "duration": 1.027172,
     "end_time": "2021-06-25T00:41:24.408047",
     "exception": false,
     "start_time": "2021-06-25T00:41:23.380875",
     "status": "completed"
    },
    "tags": []
   },
   "outputs": [
    {
     "data": {
      "text/plain": [
       "894"
      ]
     },
     "execution_count": 61,
     "metadata": {},
     "output_type": "execute_result"
    }
   ],
   "source": [
    "# Another Way to find variance\n",
    "import tensorflow_probability as tfp\n",
    "tfp.stats.variance(Y).numpy()"
   ]
  },
  {
   "cell_type": "markdown",
   "id": "honey-louisiana",
   "metadata": {
    "papermill": {
     "duration": 0.107693,
     "end_time": "2021-06-25T00:41:24.624439",
     "exception": false,
     "start_time": "2021-06-25T00:41:24.516746",
     "status": "completed"
    },
    "tags": []
   },
   "source": [
    "#### Find the positional maximum and minimum"
   ]
  },
  {
   "cell_type": "code",
   "execution_count": 62,
   "id": "registered-component",
   "metadata": {
    "execution": {
     "iopub.execute_input": "2021-06-25T00:41:24.847076Z",
     "iopub.status.busy": "2021-06-25T00:41:24.845761Z",
     "iopub.status.idle": "2021-06-25T00:41:24.854766Z",
     "shell.execute_reply": "2021-06-25T00:41:24.854167Z",
     "shell.execute_reply.started": "2021-06-25T00:35:12.473425Z"
    },
    "papermill": {
     "duration": 0.123183,
     "end_time": "2021-06-25T00:41:24.854927",
     "exception": false,
     "start_time": "2021-06-25T00:41:24.731744",
     "status": "completed"
    },
    "tags": []
   },
   "outputs": [
    {
     "data": {
      "text/plain": [
       "<tf.Tensor: shape=(50,), dtype=float32, numpy=\n",
       "array([0.6645621 , 0.44100678, 0.3528825 , 0.46448255, 0.03366041,\n",
       "       0.68467236, 0.74011743, 0.8724445 , 0.22632635, 0.22319686,\n",
       "       0.3103881 , 0.7223358 , 0.13318717, 0.5480639 , 0.5746088 ,\n",
       "       0.8996835 , 0.00946367, 0.5212307 , 0.6345445 , 0.1993283 ,\n",
       "       0.72942245, 0.54583454, 0.10756552, 0.6767061 , 0.6602763 ,\n",
       "       0.33695042, 0.60141766, 0.21062577, 0.8527372 , 0.44062173,\n",
       "       0.9485276 , 0.23752594, 0.81179297, 0.5263394 , 0.494308  ,\n",
       "       0.21612847, 0.8457197 , 0.8718841 , 0.3083862 , 0.6868038 ,\n",
       "       0.23764038, 0.7817228 , 0.9671384 , 0.06870162, 0.79873943,\n",
       "       0.66028714, 0.5871513 , 0.16461694, 0.7381023 , 0.32054043],\n",
       "      dtype=float32)>"
      ]
     },
     "execution_count": 62,
     "metadata": {},
     "output_type": "execute_result"
    }
   ],
   "source": [
    "#Create a new tensor for finding positional minimum and maximum\n",
    "tf.random.set_seed(42)\n",
    "F = tf.random.uniform(shape=[50])\n",
    "F"
   ]
  },
  {
   "cell_type": "code",
   "execution_count": 63,
   "id": "consecutive-agriculture",
   "metadata": {
    "execution": {
     "iopub.execute_input": "2021-06-25T00:41:25.076611Z",
     "iopub.status.busy": "2021-06-25T00:41:25.075979Z",
     "iopub.status.idle": "2021-06-25T00:41:25.087014Z",
     "shell.execute_reply": "2021-06-25T00:41:25.086400Z",
     "shell.execute_reply.started": "2021-06-25T00:35:12.484424Z"
    },
    "papermill": {
     "duration": 0.122425,
     "end_time": "2021-06-25T00:41:25.087158",
     "exception": false,
     "start_time": "2021-06-25T00:41:24.964733",
     "status": "completed"
    },
    "tags": []
   },
   "outputs": [
    {
     "data": {
      "text/plain": [
       "<tf.Tensor: shape=(), dtype=int64, numpy=42>"
      ]
     },
     "execution_count": 63,
     "metadata": {},
     "output_type": "execute_result"
    }
   ],
   "source": [
    "#Find the positional maximum\n",
    "tf.argmax(F)"
   ]
  },
  {
   "cell_type": "code",
   "execution_count": 64,
   "id": "moved-repository",
   "metadata": {
    "execution": {
     "iopub.execute_input": "2021-06-25T00:41:25.310145Z",
     "iopub.status.busy": "2021-06-25T00:41:25.309512Z",
     "iopub.status.idle": "2021-06-25T00:41:25.322475Z",
     "shell.execute_reply": "2021-06-25T00:41:25.321909Z",
     "shell.execute_reply.started": "2021-06-25T00:35:12.497163Z"
    },
    "papermill": {
     "duration": 0.1249,
     "end_time": "2021-06-25T00:41:25.322606",
     "exception": false,
     "start_time": "2021-06-25T00:41:25.197706",
     "status": "completed"
    },
    "tags": []
   },
   "outputs": [
    {
     "data": {
      "text/plain": [
       "<tf.Tensor: shape=(), dtype=float32, numpy=0.9671384>"
      ]
     },
     "execution_count": 64,
     "metadata": {},
     "output_type": "execute_result"
    }
   ],
   "source": [
    "#Index on our largest value position\n",
    "F[tf.argmax(F)]"
   ]
  },
  {
   "cell_type": "code",
   "execution_count": 65,
   "id": "crucial-sacrifice",
   "metadata": {
    "execution": {
     "iopub.execute_input": "2021-06-25T00:41:25.545486Z",
     "iopub.status.busy": "2021-06-25T00:41:25.544784Z",
     "iopub.status.idle": "2021-06-25T00:41:25.553975Z",
     "shell.execute_reply": "2021-06-25T00:41:25.553433Z",
     "shell.execute_reply.started": "2021-06-25T00:35:12.510138Z"
    },
    "papermill": {
     "duration": 0.121837,
     "end_time": "2021-06-25T00:41:25.554124",
     "exception": false,
     "start_time": "2021-06-25T00:41:25.432287",
     "status": "completed"
    },
    "tags": []
   },
   "outputs": [
    {
     "data": {
      "text/plain": [
       "<tf.Tensor: shape=(), dtype=float32, numpy=0.9671384>"
      ]
     },
     "execution_count": 65,
     "metadata": {},
     "output_type": "execute_result"
    }
   ],
   "source": [
    "# Find max value of F\n",
    "tf.reduce_max(F)"
   ]
  },
  {
   "cell_type": "code",
   "execution_count": 66,
   "id": "intended-argument",
   "metadata": {
    "execution": {
     "iopub.execute_input": "2021-06-25T00:41:25.775736Z",
     "iopub.status.busy": "2021-06-25T00:41:25.775095Z",
     "iopub.status.idle": "2021-06-25T00:41:25.783880Z",
     "shell.execute_reply": "2021-06-25T00:41:25.783343Z",
     "shell.execute_reply.started": "2021-06-25T00:35:12.520783Z"
    },
    "papermill": {
     "duration": 0.121661,
     "end_time": "2021-06-25T00:41:25.784018",
     "exception": false,
     "start_time": "2021-06-25T00:41:25.662357",
     "status": "completed"
    },
    "tags": []
   },
   "outputs": [
    {
     "data": {
      "text/plain": [
       "<tf.Tensor: shape=(), dtype=bool, numpy=True>"
      ]
     },
     "execution_count": 66,
     "metadata": {},
     "output_type": "execute_result"
    }
   ],
   "source": [
    "# Check for equality\n",
    "F[tf.argmax(F)] == tf.reduce_max(F)"
   ]
  },
  {
   "cell_type": "code",
   "execution_count": 67,
   "id": "parliamentary-corporation",
   "metadata": {
    "execution": {
     "iopub.execute_input": "2021-06-25T00:41:26.011983Z",
     "iopub.status.busy": "2021-06-25T00:41:26.010928Z",
     "iopub.status.idle": "2021-06-25T00:41:26.016535Z",
     "shell.execute_reply": "2021-06-25T00:41:26.017116Z",
     "shell.execute_reply.started": "2021-06-25T00:35:12.532113Z"
    },
    "papermill": {
     "duration": 0.123469,
     "end_time": "2021-06-25T00:41:26.017264",
     "exception": false,
     "start_time": "2021-06-25T00:41:25.893795",
     "status": "completed"
    },
    "tags": []
   },
   "outputs": [
    {
     "data": {
      "text/plain": [
       "<tf.Tensor: shape=(), dtype=int64, numpy=16>"
      ]
     },
     "execution_count": 67,
     "metadata": {},
     "output_type": "execute_result"
    }
   ],
   "source": [
    "# Find the positional minimum\n",
    "tf.argmin(F)"
   ]
  },
  {
   "cell_type": "code",
   "execution_count": 68,
   "id": "narrow-nepal",
   "metadata": {
    "execution": {
     "iopub.execute_input": "2021-06-25T00:41:26.251071Z",
     "iopub.status.busy": "2021-06-25T00:41:26.249978Z",
     "iopub.status.idle": "2021-06-25T00:41:26.257438Z",
     "shell.execute_reply": "2021-06-25T00:41:26.256932Z",
     "shell.execute_reply.started": "2021-06-25T00:35:12.541459Z"
    },
    "papermill": {
     "duration": 0.123857,
     "end_time": "2021-06-25T00:41:26.257568",
     "exception": false,
     "start_time": "2021-06-25T00:41:26.133711",
     "status": "completed"
    },
    "tags": []
   },
   "outputs": [
    {
     "data": {
      "text/plain": [
       "<tf.Tensor: shape=(), dtype=float32, numpy=0.009463668>"
      ]
     },
     "execution_count": 68,
     "metadata": {},
     "output_type": "execute_result"
    }
   ],
   "source": [
    "# Find the minimum using the positional minimum index\n",
    "F[tf.argmin(F)]"
   ]
  },
  {
   "cell_type": "markdown",
   "id": "differential-oxide",
   "metadata": {
    "papermill": {
     "duration": 0.111767,
     "end_time": "2021-06-25T00:41:26.482927",
     "exception": false,
     "start_time": "2021-06-25T00:41:26.371160",
     "status": "completed"
    },
    "tags": []
   },
   "source": [
    "### Squeezing a tensor (Removing all single dimensions)"
   ]
  },
  {
   "cell_type": "code",
   "execution_count": 69,
   "id": "signed-dialogue",
   "metadata": {
    "execution": {
     "iopub.execute_input": "2021-06-25T00:41:26.710569Z",
     "iopub.status.busy": "2021-06-25T00:41:26.709506Z",
     "iopub.status.idle": "2021-06-25T00:41:26.717855Z",
     "shell.execute_reply": "2021-06-25T00:41:26.717296Z",
     "shell.execute_reply.started": "2021-06-25T00:35:12.551923Z"
    },
    "papermill": {
     "duration": 0.124555,
     "end_time": "2021-06-25T00:41:26.717992",
     "exception": false,
     "start_time": "2021-06-25T00:41:26.593437",
     "status": "completed"
    },
    "tags": []
   },
   "outputs": [
    {
     "data": {
      "text/plain": [
       "<tf.Tensor: shape=(1, 1, 1, 1, 50), dtype=float32, numpy=\n",
       "array([[[[[0.6645621 , 0.44100678, 0.3528825 , 0.46448255, 0.03366041,\n",
       "           0.68467236, 0.74011743, 0.8724445 , 0.22632635, 0.22319686,\n",
       "           0.3103881 , 0.7223358 , 0.13318717, 0.5480639 , 0.5746088 ,\n",
       "           0.8996835 , 0.00946367, 0.5212307 , 0.6345445 , 0.1993283 ,\n",
       "           0.72942245, 0.54583454, 0.10756552, 0.6767061 , 0.6602763 ,\n",
       "           0.33695042, 0.60141766, 0.21062577, 0.8527372 , 0.44062173,\n",
       "           0.9485276 , 0.23752594, 0.81179297, 0.5263394 , 0.494308  ,\n",
       "           0.21612847, 0.8457197 , 0.8718841 , 0.3083862 , 0.6868038 ,\n",
       "           0.23764038, 0.7817228 , 0.9671384 , 0.06870162, 0.79873943,\n",
       "           0.66028714, 0.5871513 , 0.16461694, 0.7381023 , 0.32054043]]]]],\n",
       "      dtype=float32)>"
      ]
     },
     "execution_count": 69,
     "metadata": {},
     "output_type": "execute_result"
    }
   ],
   "source": [
    "# Create a tensor to get started\n",
    "tf.random.set_seed(42)\n",
    "G = tf.constant(tf.random.uniform(shape=[50]), shape=(1,1,1,1,50))\n",
    "G"
   ]
  },
  {
   "cell_type": "code",
   "execution_count": 70,
   "id": "fossil-response",
   "metadata": {
    "execution": {
     "iopub.execute_input": "2021-06-25T00:41:26.949773Z",
     "iopub.status.busy": "2021-06-25T00:41:26.949039Z",
     "iopub.status.idle": "2021-06-25T00:41:26.955992Z",
     "shell.execute_reply": "2021-06-25T00:41:26.955321Z",
     "shell.execute_reply.started": "2021-06-25T00:35:12.563881Z"
    },
    "papermill": {
     "duration": 0.124514,
     "end_time": "2021-06-25T00:41:26.956128",
     "exception": false,
     "start_time": "2021-06-25T00:41:26.831614",
     "status": "completed"
    },
    "tags": []
   },
   "outputs": [
    {
     "data": {
      "text/plain": [
       "TensorShape([1, 1, 1, 1, 50])"
      ]
     },
     "execution_count": 70,
     "metadata": {},
     "output_type": "execute_result"
    }
   ],
   "source": [
    "G.shape"
   ]
  },
  {
   "cell_type": "code",
   "execution_count": 71,
   "id": "loaded-original",
   "metadata": {
    "execution": {
     "iopub.execute_input": "2021-06-25T00:41:27.188324Z",
     "iopub.status.busy": "2021-06-25T00:41:27.187165Z",
     "iopub.status.idle": "2021-06-25T00:41:27.195015Z",
     "shell.execute_reply": "2021-06-25T00:41:27.194486Z",
     "shell.execute_reply.started": "2021-06-25T00:35:12.571914Z"
    },
    "papermill": {
     "duration": 0.1271,
     "end_time": "2021-06-25T00:41:27.195162",
     "exception": false,
     "start_time": "2021-06-25T00:41:27.068062",
     "status": "completed"
    },
    "tags": []
   },
   "outputs": [
    {
     "data": {
      "text/plain": [
       "(<tf.Tensor: shape=(50,), dtype=float32, numpy=\n",
       " array([0.6645621 , 0.44100678, 0.3528825 , 0.46448255, 0.03366041,\n",
       "        0.68467236, 0.74011743, 0.8724445 , 0.22632635, 0.22319686,\n",
       "        0.3103881 , 0.7223358 , 0.13318717, 0.5480639 , 0.5746088 ,\n",
       "        0.8996835 , 0.00946367, 0.5212307 , 0.6345445 , 0.1993283 ,\n",
       "        0.72942245, 0.54583454, 0.10756552, 0.6767061 , 0.6602763 ,\n",
       "        0.33695042, 0.60141766, 0.21062577, 0.8527372 , 0.44062173,\n",
       "        0.9485276 , 0.23752594, 0.81179297, 0.5263394 , 0.494308  ,\n",
       "        0.21612847, 0.8457197 , 0.8718841 , 0.3083862 , 0.6868038 ,\n",
       "        0.23764038, 0.7817228 , 0.9671384 , 0.06870162, 0.79873943,\n",
       "        0.66028714, 0.5871513 , 0.16461694, 0.7381023 , 0.32054043],\n",
       "       dtype=float32)>,\n",
       " TensorShape([50]))"
      ]
     },
     "execution_count": 71,
     "metadata": {},
     "output_type": "execute_result"
    }
   ],
   "source": [
    "G_squeezed = tf.squeeze(G)\n",
    "G_squeezed, G_squeezed.shape"
   ]
  },
  {
   "cell_type": "markdown",
   "id": "committed-atlanta",
   "metadata": {
    "papermill": {
     "duration": 0.112193,
     "end_time": "2021-06-25T00:41:27.422392",
     "exception": false,
     "start_time": "2021-06-25T00:41:27.310199",
     "status": "completed"
    },
    "tags": []
   },
   "source": [
    "### One Hot Encoding Tensors"
   ]
  },
  {
   "cell_type": "code",
   "execution_count": 72,
   "id": "grateful-accident",
   "metadata": {
    "execution": {
     "iopub.execute_input": "2021-06-25T00:41:27.671454Z",
     "iopub.status.busy": "2021-06-25T00:41:27.670319Z",
     "iopub.status.idle": "2021-06-25T00:41:27.678522Z",
     "shell.execute_reply": "2021-06-25T00:41:27.677926Z",
     "shell.execute_reply.started": "2021-06-25T00:35:12.583014Z"
    },
    "papermill": {
     "duration": 0.143056,
     "end_time": "2021-06-25T00:41:27.678737",
     "exception": false,
     "start_time": "2021-06-25T00:41:27.535681",
     "status": "completed"
    },
    "tags": []
   },
   "outputs": [
    {
     "data": {
      "text/plain": [
       "<tf.Tensor: shape=(4, 4), dtype=float32, numpy=\n",
       "array([[1., 0., 0., 0.],\n",
       "       [0., 1., 0., 0.],\n",
       "       [0., 0., 1., 0.],\n",
       "       [0., 0., 0., 1.]], dtype=float32)>"
      ]
     },
     "execution_count": 72,
     "metadata": {},
     "output_type": "execute_result"
    }
   ],
   "source": [
    "# Create a list of indices\n",
    "some_list = [0,1,2,3] # Could be red, green, blue, purple\n",
    "\n",
    "#One Hot Encode\n",
    "tf.one_hot(some_list, depth=4)"
   ]
  },
  {
   "cell_type": "code",
   "execution_count": 73,
   "id": "cosmetic-forwarding",
   "metadata": {
    "execution": {
     "iopub.execute_input": "2021-06-25T00:41:27.933628Z",
     "iopub.status.busy": "2021-06-25T00:41:27.932853Z",
     "iopub.status.idle": "2021-06-25T00:41:27.940568Z",
     "shell.execute_reply": "2021-06-25T00:41:27.941123Z",
     "shell.execute_reply.started": "2021-06-25T00:35:12.593598Z"
    },
    "papermill": {
     "duration": 0.132753,
     "end_time": "2021-06-25T00:41:27.941358",
     "exception": false,
     "start_time": "2021-06-25T00:41:27.808605",
     "status": "completed"
    },
    "tags": []
   },
   "outputs": [
    {
     "data": {
      "text/plain": [
       "<tf.Tensor: shape=(4, 4), dtype=string, numpy=\n",
       "array([[b'Yes!', b'Oh no!', b'Oh no!', b'Oh no!'],\n",
       "       [b'Oh no!', b'Yes!', b'Oh no!', b'Oh no!'],\n",
       "       [b'Oh no!', b'Oh no!', b'Yes!', b'Oh no!'],\n",
       "       [b'Oh no!', b'Oh no!', b'Oh no!', b'Yes!']], dtype=object)>"
      ]
     },
     "execution_count": 73,
     "metadata": {},
     "output_type": "execute_result"
    }
   ],
   "source": [
    "# Specify custom values\n",
    "tf.one_hot(some_list, depth=4, on_value=\"Yes!\", off_value=\"Oh no!\")"
   ]
  },
  {
   "cell_type": "markdown",
   "id": "enclosed-conservative",
   "metadata": {
    "papermill": {
     "duration": 0.116414,
     "end_time": "2021-06-25T00:41:28.173417",
     "exception": false,
     "start_time": "2021-06-25T00:41:28.057003",
     "status": "completed"
    },
    "tags": []
   },
   "source": [
    "### Squaring, Log, Square Root"
   ]
  },
  {
   "cell_type": "code",
   "execution_count": 74,
   "id": "sacred-music",
   "metadata": {
    "execution": {
     "iopub.execute_input": "2021-06-25T00:41:28.413254Z",
     "iopub.status.busy": "2021-06-25T00:41:28.412316Z",
     "iopub.status.idle": "2021-06-25T00:41:28.420303Z",
     "shell.execute_reply": "2021-06-25T00:41:28.419760Z",
     "shell.execute_reply.started": "2021-06-25T00:35:12.604913Z"
    },
    "papermill": {
     "duration": 0.131112,
     "end_time": "2021-06-25T00:41:28.420447",
     "exception": false,
     "start_time": "2021-06-25T00:41:28.289335",
     "status": "completed"
    },
    "tags": []
   },
   "outputs": [
    {
     "data": {
      "text/plain": [
       "<tf.Tensor: shape=(9,), dtype=int32, numpy=array([1, 2, 3, 4, 5, 6, 7, 8, 9], dtype=int32)>"
      ]
     },
     "execution_count": 74,
     "metadata": {},
     "output_type": "execute_result"
    }
   ],
   "source": [
    "# Create a new tensor\n",
    "H = tf.range(1,10)\n",
    "H"
   ]
  },
  {
   "cell_type": "code",
   "execution_count": 75,
   "id": "military-symbol",
   "metadata": {
    "execution": {
     "iopub.execute_input": "2021-06-25T00:41:28.659126Z",
     "iopub.status.busy": "2021-06-25T00:41:28.657938Z",
     "iopub.status.idle": "2021-06-25T00:41:28.664094Z",
     "shell.execute_reply": "2021-06-25T00:41:28.664671Z",
     "shell.execute_reply.started": "2021-06-25T00:35:12.615342Z"
    },
    "papermill": {
     "duration": 0.126936,
     "end_time": "2021-06-25T00:41:28.664849",
     "exception": false,
     "start_time": "2021-06-25T00:41:28.537913",
     "status": "completed"
    },
    "tags": []
   },
   "outputs": [
    {
     "data": {
      "text/plain": [
       "<tf.Tensor: shape=(9,), dtype=int32, numpy=array([ 1,  4,  9, 16, 25, 36, 49, 64, 81], dtype=int32)>"
      ]
     },
     "execution_count": 75,
     "metadata": {},
     "output_type": "execute_result"
    }
   ],
   "source": [
    "# Square it\n",
    "tf.square(H)"
   ]
  },
  {
   "cell_type": "code",
   "execution_count": 76,
   "id": "prompt-theology",
   "metadata": {
    "execution": {
     "iopub.execute_input": "2021-06-25T00:41:28.903399Z",
     "iopub.status.busy": "2021-06-25T00:41:28.902151Z",
     "iopub.status.idle": "2021-06-25T00:41:28.909639Z",
     "shell.execute_reply": "2021-06-25T00:41:28.909048Z",
     "shell.execute_reply.started": "2021-06-25T00:35:12.623522Z"
    },
    "papermill": {
     "duration": 0.129437,
     "end_time": "2021-06-25T00:41:28.909791",
     "exception": false,
     "start_time": "2021-06-25T00:41:28.780354",
     "status": "completed"
    },
    "tags": []
   },
   "outputs": [
    {
     "data": {
      "text/plain": [
       "<tf.Tensor: shape=(9,), dtype=float64, numpy=\n",
       "array([1.        , 1.41421356, 1.73205081, 2.        , 2.23606798,\n",
       "       2.44948974, 2.64575131, 2.82842712, 3.        ])>"
      ]
     },
     "execution_count": 76,
     "metadata": {},
     "output_type": "execute_result"
    }
   ],
   "source": [
    "# Square root (will error, method required non int type)\n",
    "tf.sqrt(tf.cast(H,dtype=tf.float64))"
   ]
  },
  {
   "cell_type": "code",
   "execution_count": 77,
   "id": "western-cleanup",
   "metadata": {
    "execution": {
     "iopub.execute_input": "2021-06-25T00:41:29.150106Z",
     "iopub.status.busy": "2021-06-25T00:41:29.149388Z",
     "iopub.status.idle": "2021-06-25T00:41:29.159785Z",
     "shell.execute_reply": "2021-06-25T00:41:29.159238Z",
     "shell.execute_reply.started": "2021-06-25T00:35:12.633876Z"
    },
    "papermill": {
     "duration": 0.133803,
     "end_time": "2021-06-25T00:41:29.159921",
     "exception": false,
     "start_time": "2021-06-25T00:41:29.026118",
     "status": "completed"
    },
    "tags": []
   },
   "outputs": [
    {
     "data": {
      "text/plain": [
       "<tf.Tensor: shape=(9,), dtype=float32, numpy=\n",
       "array([0.       , 0.6931472, 1.0986123, 1.3862944, 1.609438 , 1.7917595,\n",
       "       1.9459102, 2.0794415, 2.1972246], dtype=float32)>"
      ]
     },
     "execution_count": 77,
     "metadata": {},
     "output_type": "execute_result"
    }
   ],
   "source": [
    "tf.math.log(tf.cast(H, dtype=tf.float32))"
   ]
  },
  {
   "cell_type": "markdown",
   "id": "another-vietnamese",
   "metadata": {
    "papermill": {
     "duration": 0.118208,
     "end_time": "2021-06-25T00:41:29.396055",
     "exception": false,
     "start_time": "2021-06-25T00:41:29.277847",
     "status": "completed"
    },
    "tags": []
   },
   "source": [
    "### Tensors and NumPy\n",
    "TensorFlow interacts beautifully with NumPy arrays."
   ]
  },
  {
   "cell_type": "code",
   "execution_count": 78,
   "id": "continued-fountain",
   "metadata": {
    "execution": {
     "iopub.execute_input": "2021-06-25T00:41:29.635336Z",
     "iopub.status.busy": "2021-06-25T00:41:29.634375Z",
     "iopub.status.idle": "2021-06-25T00:41:29.639137Z",
     "shell.execute_reply": "2021-06-25T00:41:29.638572Z",
     "shell.execute_reply.started": "2021-06-25T00:35:12.646752Z"
    },
    "papermill": {
     "duration": 0.12725,
     "end_time": "2021-06-25T00:41:29.639301",
     "exception": false,
     "start_time": "2021-06-25T00:41:29.512051",
     "status": "completed"
    },
    "tags": []
   },
   "outputs": [
    {
     "data": {
      "text/plain": [
       "<tf.Tensor: shape=(3,), dtype=float64, numpy=array([ 3.,  7., 10.])>"
      ]
     },
     "execution_count": 78,
     "metadata": {},
     "output_type": "execute_result"
    }
   ],
   "source": [
    "# Create a tensor directly from NumPy array\n",
    "J = tf.constant(np.array([3.,7.,10.]))\n",
    "J"
   ]
  },
  {
   "cell_type": "code",
   "execution_count": 79,
   "id": "ordinary-channels",
   "metadata": {
    "execution": {
     "iopub.execute_input": "2021-06-25T00:41:29.885741Z",
     "iopub.status.busy": "2021-06-25T00:41:29.884052Z",
     "iopub.status.idle": "2021-06-25T00:41:29.888547Z",
     "shell.execute_reply": "2021-06-25T00:41:29.889208Z",
     "shell.execute_reply.started": "2021-06-25T00:35:12.657261Z"
    },
    "papermill": {
     "duration": 0.132009,
     "end_time": "2021-06-25T00:41:29.889450",
     "exception": false,
     "start_time": "2021-06-25T00:41:29.757441",
     "status": "completed"
    },
    "tags": []
   },
   "outputs": [
    {
     "data": {
      "text/plain": [
       "(array([ 3.,  7., 10.]), numpy.ndarray)"
      ]
     },
     "execution_count": 79,
     "metadata": {},
     "output_type": "execute_result"
    }
   ],
   "source": [
    "#Convert to NumPy Array\n",
    "np.array(J), type(np.array(J))"
   ]
  },
  {
   "cell_type": "code",
   "execution_count": 80,
   "id": "selective-kingston",
   "metadata": {
    "execution": {
     "iopub.execute_input": "2021-06-25T00:41:30.134896Z",
     "iopub.status.busy": "2021-06-25T00:41:30.133906Z",
     "iopub.status.idle": "2021-06-25T00:41:30.138698Z",
     "shell.execute_reply": "2021-06-25T00:41:30.138102Z",
     "shell.execute_reply.started": "2021-06-25T00:35:12.665927Z"
    },
    "papermill": {
     "duration": 0.127853,
     "end_time": "2021-06-25T00:41:30.138841",
     "exception": false,
     "start_time": "2021-06-25T00:41:30.010988",
     "status": "completed"
    },
    "tags": []
   },
   "outputs": [
    {
     "data": {
      "text/plain": [
       "(array([ 3.,  7., 10.]), numpy.ndarray)"
      ]
     },
     "execution_count": 80,
     "metadata": {},
     "output_type": "execute_result"
    }
   ],
   "source": [
    "#Convert tensor J to a Numpy Array\n",
    "J.numpy(), type(J.numpy())"
   ]
  },
  {
   "cell_type": "code",
   "execution_count": 81,
   "id": "sexual-perry",
   "metadata": {
    "execution": {
     "iopub.execute_input": "2021-06-25T00:41:30.381126Z",
     "iopub.status.busy": "2021-06-25T00:41:30.380062Z",
     "iopub.status.idle": "2021-06-25T00:41:30.384712Z",
     "shell.execute_reply": "2021-06-25T00:41:30.384120Z",
     "shell.execute_reply.started": "2021-06-25T00:35:12.674829Z"
    },
    "papermill": {
     "duration": 0.126921,
     "end_time": "2021-06-25T00:41:30.384850",
     "exception": false,
     "start_time": "2021-06-25T00:41:30.257929",
     "status": "completed"
    },
    "tags": []
   },
   "outputs": [
    {
     "data": {
      "text/plain": [
       "(tf.float64, tf.float32)"
      ]
     },
     "execution_count": 81,
     "metadata": {},
     "output_type": "execute_result"
    }
   ],
   "source": [
    "#The default types of each are slightly different\n",
    "numpy_J = tf. constant(np.array([3.,7.,10.]))\n",
    "tensor_J = tf.constant([3.,7.,10.])\n",
    "\n",
    "#Check datatype\n",
    "numpy_J.dtype, tensor_J.dtype"
   ]
  },
  {
   "cell_type": "markdown",
   "id": "another-theory",
   "metadata": {
    "papermill": {
     "duration": 0.115532,
     "end_time": "2021-06-25T00:41:30.618654",
     "exception": false,
     "start_time": "2021-06-25T00:41:30.503122",
     "status": "completed"
    },
    "tags": []
   },
   "source": [
    "### Finding Access to GPUs"
   ]
  },
  {
   "cell_type": "code",
   "execution_count": 82,
   "id": "respective-monroe",
   "metadata": {
    "execution": {
     "iopub.execute_input": "2021-06-25T00:41:30.858722Z",
     "iopub.status.busy": "2021-06-25T00:41:30.857756Z",
     "iopub.status.idle": "2021-06-25T00:41:30.861544Z",
     "shell.execute_reply": "2021-06-25T00:41:30.862233Z",
     "shell.execute_reply.started": "2021-06-25T00:35:12.683706Z"
    },
    "papermill": {
     "duration": 0.127295,
     "end_time": "2021-06-25T00:41:30.862411",
     "exception": false,
     "start_time": "2021-06-25T00:41:30.735116",
     "status": "completed"
    },
    "tags": []
   },
   "outputs": [
    {
     "data": {
      "text/plain": [
       "[PhysicalDevice(name='/physical_device:CPU:0', device_type='CPU'),\n",
       " PhysicalDevice(name='/physical_device:GPU:0', device_type='GPU')]"
      ]
     },
     "execution_count": 82,
     "metadata": {},
     "output_type": "execute_result"
    }
   ],
   "source": [
    "tf.config.list_physical_devices()"
   ]
  },
  {
   "cell_type": "code",
   "execution_count": 83,
   "id": "interested-demonstration",
   "metadata": {
    "execution": {
     "iopub.execute_input": "2021-06-25T00:41:31.099861Z",
     "iopub.status.busy": "2021-06-25T00:41:31.098893Z",
     "iopub.status.idle": "2021-06-25T00:41:31.103596Z",
     "shell.execute_reply": "2021-06-25T00:41:31.103057Z",
     "shell.execute_reply.started": "2021-06-25T00:35:12.695989Z"
    },
    "papermill": {
     "duration": 0.124828,
     "end_time": "2021-06-25T00:41:31.103800",
     "exception": false,
     "start_time": "2021-06-25T00:41:30.978972",
     "status": "completed"
    },
    "tags": []
   },
   "outputs": [
    {
     "data": {
      "text/plain": [
       "[PhysicalDevice(name='/physical_device:GPU:0', device_type='GPU')]"
      ]
     },
     "execution_count": 83,
     "metadata": {},
     "output_type": "execute_result"
    }
   ],
   "source": [
    "tf.config.list_physical_devices(\"GPU\")"
   ]
  },
  {
   "cell_type": "code",
   "execution_count": 84,
   "id": "addressed-problem",
   "metadata": {
    "execution": {
     "iopub.execute_input": "2021-06-25T00:41:31.345803Z",
     "iopub.status.busy": "2021-06-25T00:41:31.345155Z",
     "iopub.status.idle": "2021-06-25T00:41:32.203477Z",
     "shell.execute_reply": "2021-06-25T00:41:32.202864Z",
     "shell.execute_reply.started": "2021-06-25T00:36:48.859891Z"
    },
    "papermill": {
     "duration": 0.981757,
     "end_time": "2021-06-25T00:41:32.203676",
     "exception": false,
     "start_time": "2021-06-25T00:41:31.221919",
     "status": "completed"
    },
    "tags": []
   },
   "outputs": [
    {
     "name": "stdout",
     "output_type": "stream",
     "text": [
      "Fri Jun 25 00:41:32 2021       \r\n",
      "+-----------------------------------------------------------------------------+\r\n",
      "| NVIDIA-SMI 450.119.04   Driver Version: 450.119.04   CUDA Version: 11.0     |\r\n",
      "|-------------------------------+----------------------+----------------------+\r\n",
      "| GPU  Name        Persistence-M| Bus-Id        Disp.A | Volatile Uncorr. ECC |\r\n",
      "| Fan  Temp  Perf  Pwr:Usage/Cap|         Memory-Usage | GPU-Util  Compute M. |\r\n",
      "|                               |                      |               MIG M. |\r\n",
      "|===============================+======================+======================|\r\n",
      "|   0  Tesla P100-PCIE...  Off  | 00000000:00:04.0 Off |                    0 |\r\n",
      "| N/A   42C    P0    35W / 250W |  15327MiB / 16280MiB |      0%      Default |\r\n",
      "|                               |                      |                  N/A |\r\n",
      "+-------------------------------+----------------------+----------------------+\r\n",
      "                                                                               \r\n",
      "+-----------------------------------------------------------------------------+\r\n",
      "| Processes:                                                                  |\r\n",
      "|  GPU   GI   CI        PID   Type   Process name                  GPU Memory |\r\n",
      "|        ID   ID                                                   Usage      |\r\n",
      "|=============================================================================|\r\n",
      "+-----------------------------------------------------------------------------+\r\n"
     ]
    }
   ],
   "source": [
    "!nvidia-smi"
   ]
  }
 ],
 "metadata": {
  "kernelspec": {
   "display_name": "Python 3",
   "language": "python",
   "name": "python3"
  },
  "language_info": {
   "codemirror_mode": {
    "name": "ipython",
    "version": 3
   },
   "file_extension": ".py",
   "mimetype": "text/x-python",
   "name": "python",
   "nbconvert_exporter": "python",
   "pygments_lexer": "ipython3",
   "version": "3.7.10"
  },
  "papermill": {
   "default_parameters": {},
   "duration": 45.039605,
   "end_time": "2021-06-25T00:41:35.126686",
   "environment_variables": {},
   "exception": null,
   "input_path": "__notebook__.ipynb",
   "output_path": "__notebook__.ipynb",
   "parameters": {},
   "start_time": "2021-06-25T00:40:50.087081",
   "version": "2.3.3"
  }
 },
 "nbformat": 4,
 "nbformat_minor": 5
}
