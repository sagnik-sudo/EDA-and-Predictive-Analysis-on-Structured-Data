{
 "cells": [
  {
   "cell_type": "code",
   "execution_count": 1,
   "id": "statewide-citizenship",
   "metadata": {
    "_cell_guid": "b1076dfc-b9ad-4769-8c92-a6c4dae69d19",
    "_kg_hide-input": true,
    "_kg_hide-output": true,
    "_uuid": "8f2839f25d086af736a60e9eeb907d3b93b6e0e5",
    "execution": {
     "iopub.execute_input": "2021-06-07T02:07:28.937643Z",
     "iopub.status.busy": "2021-06-07T02:07:28.936450Z",
     "iopub.status.idle": "2021-06-07T02:07:28.946560Z",
     "shell.execute_reply": "2021-06-07T02:07:28.945852Z",
     "shell.execute_reply.started": "2021-06-07T01:05:27.642080Z"
    },
    "papermill": {
     "duration": 0.044411,
     "end_time": "2021-06-07T02:07:28.946754",
     "exception": false,
     "start_time": "2021-06-07T02:07:28.902343",
     "status": "completed"
    },
    "tags": []
   },
   "outputs": [
    {
     "name": "stdout",
     "output_type": "stream",
     "text": [
      "./input\\heart-attack-analysis-prediction-dataset\\heart.csv\n",
      "./input\\red-wine-quality-cortez-et-al-2009\\winequality-red.csv\n",
      "./input\\restaurant-scores-san-francisco\\Restaurant_Scores_-_LIVES_Standard.csv\n",
      "./input\\stroke-prediction-dataset\\healthcare-dataset-stroke-data.csv\n",
      "./input\\weather-data\\Weather Data.csv\n"
     ]
    }
   ],
   "source": [
    "import numpy as np # linear algebra\n",
    "import pandas as pd # data processing, CSV file I/O (e.g. pd.read_csv)\n",
    "import os\n",
    "for dirname, _, filenames in os.walk('./input'):\n",
    "    for filename in filenames:\n",
    "        print(os.path.join(dirname, filename))"
   ]
  },
  {
   "cell_type": "code",
   "execution_count": 2,
   "id": "gothic-valuation",
   "metadata": {
    "execution": {
     "iopub.execute_input": "2021-06-07T02:07:29.009754Z",
     "iopub.status.busy": "2021-06-07T02:07:29.008961Z",
     "iopub.status.idle": "2021-06-07T02:07:29.069428Z",
     "shell.execute_reply": "2021-06-07T02:07:29.069942Z",
     "shell.execute_reply.started": "2021-06-07T01:05:27.651978Z"
    },
    "papermill": {
     "duration": 0.094327,
     "end_time": "2021-06-07T02:07:29.070145",
     "exception": false,
     "start_time": "2021-06-07T02:07:28.975818",
     "status": "completed"
    },
    "tags": []
   },
   "outputs": [
    {
     "data": {
      "text/html": [
       "<div>\n",
       "<style scoped>\n",
       "    .dataframe tbody tr th:only-of-type {\n",
       "        vertical-align: middle;\n",
       "    }\n",
       "\n",
       "    .dataframe tbody tr th {\n",
       "        vertical-align: top;\n",
       "    }\n",
       "\n",
       "    .dataframe thead th {\n",
       "        text-align: right;\n",
       "    }\n",
       "</style>\n",
       "<table border=\"1\" class=\"dataframe\">\n",
       "  <thead>\n",
       "    <tr style=\"text-align: right;\">\n",
       "      <th></th>\n",
       "      <th>Date/Time</th>\n",
       "      <th>Temp_C</th>\n",
       "      <th>Dew Point Temp_C</th>\n",
       "      <th>Rel Hum_%</th>\n",
       "      <th>Wind Speed_km/h</th>\n",
       "      <th>Visibility_km</th>\n",
       "      <th>Press_kPa</th>\n",
       "      <th>Weather</th>\n",
       "    </tr>\n",
       "  </thead>\n",
       "  <tbody>\n",
       "    <tr>\n",
       "      <th>0</th>\n",
       "      <td>1/1/2012 0:00</td>\n",
       "      <td>-1.8</td>\n",
       "      <td>-3.9</td>\n",
       "      <td>86</td>\n",
       "      <td>4</td>\n",
       "      <td>8.0</td>\n",
       "      <td>101.24</td>\n",
       "      <td>Fog</td>\n",
       "    </tr>\n",
       "    <tr>\n",
       "      <th>1</th>\n",
       "      <td>1/1/2012 1:00</td>\n",
       "      <td>-1.8</td>\n",
       "      <td>-3.7</td>\n",
       "      <td>87</td>\n",
       "      <td>4</td>\n",
       "      <td>8.0</td>\n",
       "      <td>101.24</td>\n",
       "      <td>Fog</td>\n",
       "    </tr>\n",
       "    <tr>\n",
       "      <th>2</th>\n",
       "      <td>1/1/2012 2:00</td>\n",
       "      <td>-1.8</td>\n",
       "      <td>-3.4</td>\n",
       "      <td>89</td>\n",
       "      <td>7</td>\n",
       "      <td>4.0</td>\n",
       "      <td>101.26</td>\n",
       "      <td>Freezing Drizzle,Fog</td>\n",
       "    </tr>\n",
       "    <tr>\n",
       "      <th>3</th>\n",
       "      <td>1/1/2012 3:00</td>\n",
       "      <td>-1.5</td>\n",
       "      <td>-3.2</td>\n",
       "      <td>88</td>\n",
       "      <td>6</td>\n",
       "      <td>4.0</td>\n",
       "      <td>101.27</td>\n",
       "      <td>Freezing Drizzle,Fog</td>\n",
       "    </tr>\n",
       "    <tr>\n",
       "      <th>4</th>\n",
       "      <td>1/1/2012 4:00</td>\n",
       "      <td>-1.5</td>\n",
       "      <td>-3.3</td>\n",
       "      <td>88</td>\n",
       "      <td>7</td>\n",
       "      <td>4.8</td>\n",
       "      <td>101.23</td>\n",
       "      <td>Fog</td>\n",
       "    </tr>\n",
       "  </tbody>\n",
       "</table>\n",
       "</div>"
      ],
      "text/plain": [
       "       Date/Time  Temp_C  Dew Point Temp_C  Rel Hum_%  Wind Speed_km/h  \\\n",
       "0  1/1/2012 0:00    -1.8              -3.9         86                4   \n",
       "1  1/1/2012 1:00    -1.8              -3.7         87                4   \n",
       "2  1/1/2012 2:00    -1.8              -3.4         89                7   \n",
       "3  1/1/2012 3:00    -1.5              -3.2         88                6   \n",
       "4  1/1/2012 4:00    -1.5              -3.3         88                7   \n",
       "\n",
       "   Visibility_km  Press_kPa               Weather  \n",
       "0            8.0     101.24                   Fog  \n",
       "1            8.0     101.24                   Fog  \n",
       "2            4.0     101.26  Freezing Drizzle,Fog  \n",
       "3            4.0     101.27  Freezing Drizzle,Fog  \n",
       "4            4.8     101.23                   Fog  "
      ]
     },
     "execution_count": 2,
     "metadata": {},
     "output_type": "execute_result"
    }
   ],
   "source": [
    "weather = pd.read_csv(\"./input/weather-data/Weather Data.csv\")\n",
    "weather.head()"
   ]
  },
  {
   "cell_type": "code",
   "execution_count": 3,
   "id": "alternate-grass",
   "metadata": {
    "execution": {
     "iopub.execute_input": "2021-06-07T02:07:29.134167Z",
     "iopub.status.busy": "2021-06-07T02:07:29.133501Z",
     "iopub.status.idle": "2021-06-07T02:07:30.013461Z",
     "shell.execute_reply": "2021-06-07T02:07:30.012834Z",
     "shell.execute_reply.started": "2021-06-07T01:05:27.697415Z"
    },
    "papermill": {
     "duration": 0.912768,
     "end_time": "2021-06-07T02:07:30.013637",
     "exception": false,
     "start_time": "2021-06-07T02:07:29.100869",
     "status": "completed"
    },
    "tags": []
   },
   "outputs": [
    {
     "data": {
      "text/html": [
       "<div>\n",
       "<style scoped>\n",
       "    .dataframe tbody tr th:only-of-type {\n",
       "        vertical-align: middle;\n",
       "    }\n",
       "\n",
       "    .dataframe tbody tr th {\n",
       "        vertical-align: top;\n",
       "    }\n",
       "\n",
       "    .dataframe thead th {\n",
       "        text-align: right;\n",
       "    }\n",
       "</style>\n",
       "<table border=\"1\" class=\"dataframe\">\n",
       "  <thead>\n",
       "    <tr style=\"text-align: right;\">\n",
       "      <th></th>\n",
       "      <th>Date/Time</th>\n",
       "      <th>Temp_C</th>\n",
       "      <th>Dew Point Temp_C</th>\n",
       "      <th>Rel Hum_%</th>\n",
       "      <th>Wind Speed_km/h</th>\n",
       "      <th>Visibility_km</th>\n",
       "      <th>Press_kPa</th>\n",
       "      <th>Weather</th>\n",
       "    </tr>\n",
       "  </thead>\n",
       "  <tbody>\n",
       "    <tr>\n",
       "      <th>0</th>\n",
       "      <td>2012-01-01 00:00:00</td>\n",
       "      <td>-1.8</td>\n",
       "      <td>-3.9</td>\n",
       "      <td>86</td>\n",
       "      <td>4</td>\n",
       "      <td>8.0</td>\n",
       "      <td>101.24</td>\n",
       "      <td>Fog</td>\n",
       "    </tr>\n",
       "    <tr>\n",
       "      <th>1</th>\n",
       "      <td>2012-01-01 01:00:00</td>\n",
       "      <td>-1.8</td>\n",
       "      <td>-3.7</td>\n",
       "      <td>87</td>\n",
       "      <td>4</td>\n",
       "      <td>8.0</td>\n",
       "      <td>101.24</td>\n",
       "      <td>Fog</td>\n",
       "    </tr>\n",
       "    <tr>\n",
       "      <th>2</th>\n",
       "      <td>2012-01-01 02:00:00</td>\n",
       "      <td>-1.8</td>\n",
       "      <td>-3.4</td>\n",
       "      <td>89</td>\n",
       "      <td>7</td>\n",
       "      <td>4.0</td>\n",
       "      <td>101.26</td>\n",
       "      <td>Freezing Drizzle,Fog</td>\n",
       "    </tr>\n",
       "    <tr>\n",
       "      <th>3</th>\n",
       "      <td>2012-01-01 03:00:00</td>\n",
       "      <td>-1.5</td>\n",
       "      <td>-3.2</td>\n",
       "      <td>88</td>\n",
       "      <td>6</td>\n",
       "      <td>4.0</td>\n",
       "      <td>101.27</td>\n",
       "      <td>Freezing Drizzle,Fog</td>\n",
       "    </tr>\n",
       "    <tr>\n",
       "      <th>4</th>\n",
       "      <td>2012-01-01 04:00:00</td>\n",
       "      <td>-1.5</td>\n",
       "      <td>-3.3</td>\n",
       "      <td>88</td>\n",
       "      <td>7</td>\n",
       "      <td>4.8</td>\n",
       "      <td>101.23</td>\n",
       "      <td>Fog</td>\n",
       "    </tr>\n",
       "    <tr>\n",
       "      <th>5</th>\n",
       "      <td>2012-01-01 05:00:00</td>\n",
       "      <td>-1.4</td>\n",
       "      <td>-3.3</td>\n",
       "      <td>87</td>\n",
       "      <td>9</td>\n",
       "      <td>6.4</td>\n",
       "      <td>101.27</td>\n",
       "      <td>Fog</td>\n",
       "    </tr>\n",
       "    <tr>\n",
       "      <th>6</th>\n",
       "      <td>2012-01-01 06:00:00</td>\n",
       "      <td>-1.5</td>\n",
       "      <td>-3.1</td>\n",
       "      <td>89</td>\n",
       "      <td>7</td>\n",
       "      <td>6.4</td>\n",
       "      <td>101.29</td>\n",
       "      <td>Fog</td>\n",
       "    </tr>\n",
       "    <tr>\n",
       "      <th>7</th>\n",
       "      <td>2012-01-01 07:00:00</td>\n",
       "      <td>-1.4</td>\n",
       "      <td>-3.6</td>\n",
       "      <td>85</td>\n",
       "      <td>7</td>\n",
       "      <td>8.0</td>\n",
       "      <td>101.26</td>\n",
       "      <td>Fog</td>\n",
       "    </tr>\n",
       "    <tr>\n",
       "      <th>8</th>\n",
       "      <td>2012-01-01 08:00:00</td>\n",
       "      <td>-1.4</td>\n",
       "      <td>-3.6</td>\n",
       "      <td>85</td>\n",
       "      <td>9</td>\n",
       "      <td>8.0</td>\n",
       "      <td>101.23</td>\n",
       "      <td>Fog</td>\n",
       "    </tr>\n",
       "    <tr>\n",
       "      <th>9</th>\n",
       "      <td>2012-01-01 09:00:00</td>\n",
       "      <td>-1.3</td>\n",
       "      <td>-3.1</td>\n",
       "      <td>88</td>\n",
       "      <td>15</td>\n",
       "      <td>4.0</td>\n",
       "      <td>101.20</td>\n",
       "      <td>Fog</td>\n",
       "    </tr>\n",
       "  </tbody>\n",
       "</table>\n",
       "</div>"
      ],
      "text/plain": [
       "            Date/Time  Temp_C  Dew Point Temp_C  Rel Hum_%  Wind Speed_km/h  \\\n",
       "0 2012-01-01 00:00:00    -1.8              -3.9         86                4   \n",
       "1 2012-01-01 01:00:00    -1.8              -3.7         87                4   \n",
       "2 2012-01-01 02:00:00    -1.8              -3.4         89                7   \n",
       "3 2012-01-01 03:00:00    -1.5              -3.2         88                6   \n",
       "4 2012-01-01 04:00:00    -1.5              -3.3         88                7   \n",
       "5 2012-01-01 05:00:00    -1.4              -3.3         87                9   \n",
       "6 2012-01-01 06:00:00    -1.5              -3.1         89                7   \n",
       "7 2012-01-01 07:00:00    -1.4              -3.6         85                7   \n",
       "8 2012-01-01 08:00:00    -1.4              -3.6         85                9   \n",
       "9 2012-01-01 09:00:00    -1.3              -3.1         88               15   \n",
       "\n",
       "   Visibility_km  Press_kPa               Weather  \n",
       "0            8.0     101.24                   Fog  \n",
       "1            8.0     101.24                   Fog  \n",
       "2            4.0     101.26  Freezing Drizzle,Fog  \n",
       "3            4.0     101.27  Freezing Drizzle,Fog  \n",
       "4            4.8     101.23                   Fog  \n",
       "5            6.4     101.27                   Fog  \n",
       "6            6.4     101.29                   Fog  \n",
       "7            8.0     101.26                   Fog  \n",
       "8            8.0     101.23                   Fog  \n",
       "9            4.0     101.20                   Fog  "
      ]
     },
     "execution_count": 3,
     "metadata": {},
     "output_type": "execute_result"
    }
   ],
   "source": [
    "weather[\"Date/Time\"] = pd.to_datetime(weather[\"Date/Time\"])\n",
    "weather.head(10)"
   ]
  },
  {
   "cell_type": "code",
   "execution_count": 4,
   "id": "boring-madonna",
   "metadata": {
    "execution": {
     "iopub.execute_input": "2021-06-07T02:07:30.084369Z",
     "iopub.status.busy": "2021-06-07T02:07:30.083498Z",
     "iopub.status.idle": "2021-06-07T02:07:30.457400Z",
     "shell.execute_reply": "2021-06-07T02:07:30.456605Z",
     "shell.execute_reply.started": "2021-06-07T01:05:28.439329Z"
    },
    "papermill": {
     "duration": 0.413493,
     "end_time": "2021-06-07T02:07:30.457574",
     "exception": false,
     "start_time": "2021-06-07T02:07:30.044081",
     "status": "completed"
    },
    "tags": []
   },
   "outputs": [
    {
     "data": {
      "text/html": [
       "<div>\n",
       "<style scoped>\n",
       "    .dataframe tbody tr th:only-of-type {\n",
       "        vertical-align: middle;\n",
       "    }\n",
       "\n",
       "    .dataframe tbody tr th {\n",
       "        vertical-align: top;\n",
       "    }\n",
       "\n",
       "    .dataframe thead th {\n",
       "        text-align: right;\n",
       "    }\n",
       "</style>\n",
       "<table border=\"1\" class=\"dataframe\">\n",
       "  <thead>\n",
       "    <tr style=\"text-align: right;\">\n",
       "      <th></th>\n",
       "      <th>Date/Time</th>\n",
       "      <th>Temp_C</th>\n",
       "      <th>Dew Point Temp_C</th>\n",
       "      <th>Rel Hum_%</th>\n",
       "      <th>Wind Speed_km/h</th>\n",
       "      <th>Visibility_km</th>\n",
       "      <th>Press_kPa</th>\n",
       "      <th>Blowing Snow</th>\n",
       "      <th>Clear</th>\n",
       "      <th>Cloudy</th>\n",
       "      <th>...</th>\n",
       "      <th>Moderate Rain Showers</th>\n",
       "      <th>Moderate Snow</th>\n",
       "      <th>Mostly Cloudy</th>\n",
       "      <th>Rain</th>\n",
       "      <th>Rain Showers</th>\n",
       "      <th>Snow</th>\n",
       "      <th>Snow Grains</th>\n",
       "      <th>Snow Pellets</th>\n",
       "      <th>Snow Showers</th>\n",
       "      <th>Thunderstorms</th>\n",
       "    </tr>\n",
       "  </thead>\n",
       "  <tbody>\n",
       "    <tr>\n",
       "      <th>0</th>\n",
       "      <td>2012-01-01 00:00:00</td>\n",
       "      <td>-1.8</td>\n",
       "      <td>-3.9</td>\n",
       "      <td>86</td>\n",
       "      <td>4</td>\n",
       "      <td>8.0</td>\n",
       "      <td>101.24</td>\n",
       "      <td>0</td>\n",
       "      <td>0</td>\n",
       "      <td>0</td>\n",
       "      <td>...</td>\n",
       "      <td>0</td>\n",
       "      <td>0</td>\n",
       "      <td>0</td>\n",
       "      <td>0</td>\n",
       "      <td>0</td>\n",
       "      <td>0</td>\n",
       "      <td>0</td>\n",
       "      <td>0</td>\n",
       "      <td>0</td>\n",
       "      <td>0</td>\n",
       "    </tr>\n",
       "    <tr>\n",
       "      <th>1</th>\n",
       "      <td>2012-01-01 01:00:00</td>\n",
       "      <td>-1.8</td>\n",
       "      <td>-3.7</td>\n",
       "      <td>87</td>\n",
       "      <td>4</td>\n",
       "      <td>8.0</td>\n",
       "      <td>101.24</td>\n",
       "      <td>0</td>\n",
       "      <td>0</td>\n",
       "      <td>0</td>\n",
       "      <td>...</td>\n",
       "      <td>0</td>\n",
       "      <td>0</td>\n",
       "      <td>0</td>\n",
       "      <td>0</td>\n",
       "      <td>0</td>\n",
       "      <td>0</td>\n",
       "      <td>0</td>\n",
       "      <td>0</td>\n",
       "      <td>0</td>\n",
       "      <td>0</td>\n",
       "    </tr>\n",
       "    <tr>\n",
       "      <th>2</th>\n",
       "      <td>2012-01-01 02:00:00</td>\n",
       "      <td>-1.8</td>\n",
       "      <td>-3.4</td>\n",
       "      <td>89</td>\n",
       "      <td>7</td>\n",
       "      <td>4.0</td>\n",
       "      <td>101.26</td>\n",
       "      <td>0</td>\n",
       "      <td>0</td>\n",
       "      <td>0</td>\n",
       "      <td>...</td>\n",
       "      <td>0</td>\n",
       "      <td>0</td>\n",
       "      <td>0</td>\n",
       "      <td>0</td>\n",
       "      <td>0</td>\n",
       "      <td>0</td>\n",
       "      <td>0</td>\n",
       "      <td>0</td>\n",
       "      <td>0</td>\n",
       "      <td>0</td>\n",
       "    </tr>\n",
       "    <tr>\n",
       "      <th>3</th>\n",
       "      <td>2012-01-01 03:00:00</td>\n",
       "      <td>-1.5</td>\n",
       "      <td>-3.2</td>\n",
       "      <td>88</td>\n",
       "      <td>6</td>\n",
       "      <td>4.0</td>\n",
       "      <td>101.27</td>\n",
       "      <td>0</td>\n",
       "      <td>0</td>\n",
       "      <td>0</td>\n",
       "      <td>...</td>\n",
       "      <td>0</td>\n",
       "      <td>0</td>\n",
       "      <td>0</td>\n",
       "      <td>0</td>\n",
       "      <td>0</td>\n",
       "      <td>0</td>\n",
       "      <td>0</td>\n",
       "      <td>0</td>\n",
       "      <td>0</td>\n",
       "      <td>0</td>\n",
       "    </tr>\n",
       "    <tr>\n",
       "      <th>4</th>\n",
       "      <td>2012-01-01 04:00:00</td>\n",
       "      <td>-1.5</td>\n",
       "      <td>-3.3</td>\n",
       "      <td>88</td>\n",
       "      <td>7</td>\n",
       "      <td>4.8</td>\n",
       "      <td>101.23</td>\n",
       "      <td>0</td>\n",
       "      <td>0</td>\n",
       "      <td>0</td>\n",
       "      <td>...</td>\n",
       "      <td>0</td>\n",
       "      <td>0</td>\n",
       "      <td>0</td>\n",
       "      <td>0</td>\n",
       "      <td>0</td>\n",
       "      <td>0</td>\n",
       "      <td>0</td>\n",
       "      <td>0</td>\n",
       "      <td>0</td>\n",
       "      <td>0</td>\n",
       "    </tr>\n",
       "  </tbody>\n",
       "</table>\n",
       "<p>5 rows × 30 columns</p>\n",
       "</div>"
      ],
      "text/plain": [
       "            Date/Time  Temp_C  Dew Point Temp_C  Rel Hum_%  Wind Speed_km/h  \\\n",
       "0 2012-01-01 00:00:00    -1.8              -3.9         86                4   \n",
       "1 2012-01-01 01:00:00    -1.8              -3.7         87                4   \n",
       "2 2012-01-01 02:00:00    -1.8              -3.4         89                7   \n",
       "3 2012-01-01 03:00:00    -1.5              -3.2         88                6   \n",
       "4 2012-01-01 04:00:00    -1.5              -3.3         88                7   \n",
       "\n",
       "   Visibility_km  Press_kPa  Blowing Snow  Clear  Cloudy  ...  \\\n",
       "0            8.0     101.24             0      0       0  ...   \n",
       "1            8.0     101.24             0      0       0  ...   \n",
       "2            4.0     101.26             0      0       0  ...   \n",
       "3            4.0     101.27             0      0       0  ...   \n",
       "4            4.8     101.23             0      0       0  ...   \n",
       "\n",
       "   Moderate Rain Showers  Moderate Snow  Mostly Cloudy  Rain  Rain Showers  \\\n",
       "0                      0              0              0     0             0   \n",
       "1                      0              0              0     0             0   \n",
       "2                      0              0              0     0             0   \n",
       "3                      0              0              0     0             0   \n",
       "4                      0              0              0     0             0   \n",
       "\n",
       "   Snow  Snow Grains  Snow Pellets  Snow Showers  Thunderstorms  \n",
       "0     0            0             0             0              0  \n",
       "1     0            0             0             0              0  \n",
       "2     0            0             0             0              0  \n",
       "3     0            0             0             0              0  \n",
       "4     0            0             0             0              0  \n",
       "\n",
       "[5 rows x 30 columns]"
      ]
     },
     "execution_count": 4,
     "metadata": {},
     "output_type": "execute_result"
    }
   ],
   "source": [
    "typeofweather = weather['Weather'].str.get_dummies(sep=',')\n",
    "forecast = pd.concat([weather,typeofweather],axis=1)\n",
    "forecast = forecast.drop(\"Weather\",axis=1)\n",
    "forecast.head()"
   ]
  },
  {
   "cell_type": "code",
   "execution_count": 5,
   "id": "positive-tuition",
   "metadata": {
    "execution": {
     "iopub.execute_input": "2021-06-07T02:07:30.528575Z",
     "iopub.status.busy": "2021-06-07T02:07:30.527460Z",
     "iopub.status.idle": "2021-06-07T02:07:30.603467Z",
     "shell.execute_reply": "2021-06-07T02:07:30.602817Z",
     "shell.execute_reply.started": "2021-06-07T01:05:28.607806Z"
    },
    "papermill": {
     "duration": 0.114736,
     "end_time": "2021-06-07T02:07:30.603631",
     "exception": false,
     "start_time": "2021-06-07T02:07:30.488895",
     "status": "completed"
    },
    "tags": []
   },
   "outputs": [
    {
     "data": {
      "text/html": [
       "<div>\n",
       "<style scoped>\n",
       "    .dataframe tbody tr th:only-of-type {\n",
       "        vertical-align: middle;\n",
       "    }\n",
       "\n",
       "    .dataframe tbody tr th {\n",
       "        vertical-align: top;\n",
       "    }\n",
       "\n",
       "    .dataframe thead th {\n",
       "        text-align: right;\n",
       "    }\n",
       "</style>\n",
       "<table border=\"1\" class=\"dataframe\">\n",
       "  <thead>\n",
       "    <tr style=\"text-align: right;\">\n",
       "      <th></th>\n",
       "      <th>Date/Time</th>\n",
       "      <th>Temp_C</th>\n",
       "      <th>Dew Point Temp_C</th>\n",
       "      <th>Rel Hum_%</th>\n",
       "      <th>Wind Speed_km/h</th>\n",
       "      <th>Visibility_km</th>\n",
       "      <th>Press_kPa</th>\n",
       "      <th>Blowing Snow</th>\n",
       "      <th>Clear</th>\n",
       "      <th>Cloudy</th>\n",
       "      <th>...</th>\n",
       "      <th>Mostly Cloudy</th>\n",
       "      <th>Rain</th>\n",
       "      <th>Rain Showers</th>\n",
       "      <th>Snow</th>\n",
       "      <th>Snow Grains</th>\n",
       "      <th>Snow Pellets</th>\n",
       "      <th>Snow Showers</th>\n",
       "      <th>Thunderstorms</th>\n",
       "      <th>Day</th>\n",
       "      <th>Hour</th>\n",
       "    </tr>\n",
       "  </thead>\n",
       "  <tbody>\n",
       "    <tr>\n",
       "      <th>0</th>\n",
       "      <td>734503</td>\n",
       "      <td>-1.8</td>\n",
       "      <td>-3.9</td>\n",
       "      <td>86</td>\n",
       "      <td>4</td>\n",
       "      <td>8.0</td>\n",
       "      <td>101.24</td>\n",
       "      <td>0</td>\n",
       "      <td>0</td>\n",
       "      <td>0</td>\n",
       "      <td>...</td>\n",
       "      <td>0</td>\n",
       "      <td>0</td>\n",
       "      <td>0</td>\n",
       "      <td>0</td>\n",
       "      <td>0</td>\n",
       "      <td>0</td>\n",
       "      <td>0</td>\n",
       "      <td>0</td>\n",
       "      <td>6</td>\n",
       "      <td>0</td>\n",
       "    </tr>\n",
       "    <tr>\n",
       "      <th>1</th>\n",
       "      <td>734503</td>\n",
       "      <td>-1.8</td>\n",
       "      <td>-3.7</td>\n",
       "      <td>87</td>\n",
       "      <td>4</td>\n",
       "      <td>8.0</td>\n",
       "      <td>101.24</td>\n",
       "      <td>0</td>\n",
       "      <td>0</td>\n",
       "      <td>0</td>\n",
       "      <td>...</td>\n",
       "      <td>0</td>\n",
       "      <td>0</td>\n",
       "      <td>0</td>\n",
       "      <td>0</td>\n",
       "      <td>0</td>\n",
       "      <td>0</td>\n",
       "      <td>0</td>\n",
       "      <td>0</td>\n",
       "      <td>6</td>\n",
       "      <td>1</td>\n",
       "    </tr>\n",
       "    <tr>\n",
       "      <th>2</th>\n",
       "      <td>734503</td>\n",
       "      <td>-1.8</td>\n",
       "      <td>-3.4</td>\n",
       "      <td>89</td>\n",
       "      <td>7</td>\n",
       "      <td>4.0</td>\n",
       "      <td>101.26</td>\n",
       "      <td>0</td>\n",
       "      <td>0</td>\n",
       "      <td>0</td>\n",
       "      <td>...</td>\n",
       "      <td>0</td>\n",
       "      <td>0</td>\n",
       "      <td>0</td>\n",
       "      <td>0</td>\n",
       "      <td>0</td>\n",
       "      <td>0</td>\n",
       "      <td>0</td>\n",
       "      <td>0</td>\n",
       "      <td>6</td>\n",
       "      <td>2</td>\n",
       "    </tr>\n",
       "    <tr>\n",
       "      <th>3</th>\n",
       "      <td>734503</td>\n",
       "      <td>-1.5</td>\n",
       "      <td>-3.2</td>\n",
       "      <td>88</td>\n",
       "      <td>6</td>\n",
       "      <td>4.0</td>\n",
       "      <td>101.27</td>\n",
       "      <td>0</td>\n",
       "      <td>0</td>\n",
       "      <td>0</td>\n",
       "      <td>...</td>\n",
       "      <td>0</td>\n",
       "      <td>0</td>\n",
       "      <td>0</td>\n",
       "      <td>0</td>\n",
       "      <td>0</td>\n",
       "      <td>0</td>\n",
       "      <td>0</td>\n",
       "      <td>0</td>\n",
       "      <td>6</td>\n",
       "      <td>3</td>\n",
       "    </tr>\n",
       "    <tr>\n",
       "      <th>4</th>\n",
       "      <td>734503</td>\n",
       "      <td>-1.5</td>\n",
       "      <td>-3.3</td>\n",
       "      <td>88</td>\n",
       "      <td>7</td>\n",
       "      <td>4.8</td>\n",
       "      <td>101.23</td>\n",
       "      <td>0</td>\n",
       "      <td>0</td>\n",
       "      <td>0</td>\n",
       "      <td>...</td>\n",
       "      <td>0</td>\n",
       "      <td>0</td>\n",
       "      <td>0</td>\n",
       "      <td>0</td>\n",
       "      <td>0</td>\n",
       "      <td>0</td>\n",
       "      <td>0</td>\n",
       "      <td>0</td>\n",
       "      <td>6</td>\n",
       "      <td>4</td>\n",
       "    </tr>\n",
       "  </tbody>\n",
       "</table>\n",
       "<p>5 rows × 32 columns</p>\n",
       "</div>"
      ],
      "text/plain": [
       "   Date/Time  Temp_C  Dew Point Temp_C  Rel Hum_%  Wind Speed_km/h  \\\n",
       "0     734503    -1.8              -3.9         86                4   \n",
       "1     734503    -1.8              -3.7         87                4   \n",
       "2     734503    -1.8              -3.4         89                7   \n",
       "3     734503    -1.5              -3.2         88                6   \n",
       "4     734503    -1.5              -3.3         88                7   \n",
       "\n",
       "   Visibility_km  Press_kPa  Blowing Snow  Clear  Cloudy  ...  Mostly Cloudy  \\\n",
       "0            8.0     101.24             0      0       0  ...              0   \n",
       "1            8.0     101.24             0      0       0  ...              0   \n",
       "2            4.0     101.26             0      0       0  ...              0   \n",
       "3            4.0     101.27             0      0       0  ...              0   \n",
       "4            4.8     101.23             0      0       0  ...              0   \n",
       "\n",
       "   Rain  Rain Showers  Snow  Snow Grains  Snow Pellets  Snow Showers  \\\n",
       "0     0             0     0            0             0             0   \n",
       "1     0             0     0            0             0             0   \n",
       "2     0             0     0            0             0             0   \n",
       "3     0             0     0            0             0             0   \n",
       "4     0             0     0            0             0             0   \n",
       "\n",
       "   Thunderstorms  Day  Hour  \n",
       "0              0    6     0  \n",
       "1              0    6     1  \n",
       "2              0    6     2  \n",
       "3              0    6     3  \n",
       "4              0    6     4  \n",
       "\n",
       "[5 rows x 32 columns]"
      ]
     },
     "execution_count": 5,
     "metadata": {},
     "output_type": "execute_result"
    }
   ],
   "source": [
    "forecast[\"Day\"]=forecast[\"Date/Time\"].dt.weekday\n",
    "forecast[\"Hour\"]=forecast[\"Date/Time\"].dt.hour\n",
    "import datetime as dt\n",
    "forecast['Date/Time']=forecast['Date/Time'].map(dt.datetime.toordinal)\n",
    "forecast.head()"
   ]
  },
  {
   "cell_type": "markdown",
   "id": "fewer-intranet",
   "metadata": {
    "papermill": {
     "duration": 0.030605,
     "end_time": "2021-06-07T02:07:30.665502",
     "exception": false,
     "start_time": "2021-06-07T02:07:30.634897",
     "status": "completed"
    },
    "tags": []
   },
   "source": [
    "## Prediction of Visibility"
   ]
  },
  {
   "cell_type": "code",
   "execution_count": 6,
   "id": "mature-welcome",
   "metadata": {
    "execution": {
     "iopub.execute_input": "2021-06-07T02:07:30.734727Z",
     "iopub.status.busy": "2021-06-07T02:07:30.733989Z",
     "iopub.status.idle": "2021-06-07T02:07:30.743402Z",
     "shell.execute_reply": "2021-06-07T02:07:30.742691Z",
     "shell.execute_reply.started": "2021-06-07T01:05:28.663031Z"
    },
    "papermill": {
     "duration": 0.04691,
     "end_time": "2021-06-07T02:07:30.743560",
     "exception": false,
     "start_time": "2021-06-07T02:07:30.696650",
     "status": "completed"
    },
    "tags": []
   },
   "outputs": [],
   "source": [
    "X = forecast.drop(\"Visibility_km\",axis=1)\n",
    "y = forecast[\"Visibility_km\"]"
   ]
  },
  {
   "cell_type": "code",
   "execution_count": 7,
   "id": "finite-trade",
   "metadata": {
    "execution": {
     "iopub.execute_input": "2021-06-07T02:07:30.813842Z",
     "iopub.status.busy": "2021-06-07T02:07:30.812961Z",
     "iopub.status.idle": "2021-06-07T02:07:32.088162Z",
     "shell.execute_reply": "2021-06-07T02:07:32.088733Z",
     "shell.execute_reply.started": "2021-06-07T01:05:28.671882Z"
    },
    "papermill": {
     "duration": 1.312298,
     "end_time": "2021-06-07T02:07:32.088940",
     "exception": false,
     "start_time": "2021-06-07T02:07:30.776642",
     "status": "completed"
    },
    "tags": []
   },
   "outputs": [],
   "source": [
    "from sklearn.model_selection import train_test_split\n",
    "X_train,X_test,y_train,y_test = train_test_split(X,y,test_size=0.2)"
   ]
  },
  {
   "cell_type": "markdown",
   "id": "transparent-webcam",
   "metadata": {
    "papermill": {
     "duration": 0.029811,
     "end_time": "2021-06-07T02:07:32.149479",
     "exception": false,
     "start_time": "2021-06-07T02:07:32.119668",
     "status": "completed"
    },
    "tags": []
   },
   "source": [
    "### Ridge Regression"
   ]
  },
  {
   "cell_type": "code",
   "execution_count": 8,
   "id": "numerical-complement",
   "metadata": {
    "execution": {
     "iopub.execute_input": "2021-06-07T02:07:32.216268Z",
     "iopub.status.busy": "2021-06-07T02:07:32.215561Z",
     "iopub.status.idle": "2021-06-07T02:07:32.440644Z",
     "shell.execute_reply": "2021-06-07T02:07:32.442603Z",
     "shell.execute_reply.started": "2021-06-07T01:05:28.691690Z"
    },
    "papermill": {
     "duration": 0.263381,
     "end_time": "2021-06-07T02:07:32.442997",
     "exception": false,
     "start_time": "2021-06-07T02:07:32.179616",
     "status": "completed"
    },
    "tags": []
   },
   "outputs": [
    {
     "name": "stdout",
     "output_type": "stream",
     "text": [
      "Ridge Model Accuracy: 53.896773544977904%\n"
     ]
    }
   ],
   "source": [
    "from sklearn.linear_model import Ridge\n",
    "np.random.seed(42)\n",
    "rmodel = Ridge()\n",
    "rmodel.fit(X_train,y_train)\n",
    "print(f\"Ridge Model Accuracy: {rmodel.score(X_test,y_test) *100}%\")"
   ]
  },
  {
   "cell_type": "markdown",
   "id": "designed-pursuit",
   "metadata": {
    "papermill": {
     "duration": 0.054847,
     "end_time": "2021-06-07T02:07:32.555415",
     "exception": false,
     "start_time": "2021-06-07T02:07:32.500568",
     "status": "completed"
    },
    "tags": []
   },
   "source": [
    "### Random Forest Regression"
   ]
  },
  {
   "cell_type": "code",
   "execution_count": 9,
   "id": "cooperative-rocket",
   "metadata": {
    "execution": {
     "iopub.execute_input": "2021-06-07T02:07:32.625006Z",
     "iopub.status.busy": "2021-06-07T02:07:32.624080Z",
     "iopub.status.idle": "2021-06-07T02:07:36.045678Z",
     "shell.execute_reply": "2021-06-07T02:07:36.046160Z",
     "shell.execute_reply.started": "2021-06-07T01:05:28.714786Z"
    },
    "papermill": {
     "duration": 3.459304,
     "end_time": "2021-06-07T02:07:36.046406",
     "exception": false,
     "start_time": "2021-06-07T02:07:32.587102",
     "status": "completed"
    },
    "tags": []
   },
   "outputs": [
    {
     "name": "stdout",
     "output_type": "stream",
     "text": [
      "Random Forest Model Accuracy: 76.55673751908319%\n"
     ]
    }
   ],
   "source": [
    "from sklearn.ensemble import RandomForestRegressor\n",
    "np.random.seed(42)\n",
    "rfmodel = RandomForestRegressor()\n",
    "rfmodel.fit(X_train,y_train)\n",
    "print(f\"Random Forest Model Accuracy: {rfmodel.score(X_test,y_test) *100}%\")"
   ]
  },
  {
   "cell_type": "code",
   "execution_count": 10,
   "id": "northern-staff",
   "metadata": {
    "execution": {
     "iopub.execute_input": "2021-06-07T02:07:36.114840Z",
     "iopub.status.busy": "2021-06-07T02:07:36.113738Z",
     "iopub.status.idle": "2021-06-07T02:07:36.166915Z",
     "shell.execute_reply": "2021-06-07T02:07:36.167462Z",
     "shell.execute_reply.started": "2021-06-07T01:05:31.880017Z"
    },
    "papermill": {
     "duration": 0.089861,
     "end_time": "2021-06-07T02:07:36.167834",
     "exception": false,
     "start_time": "2021-06-07T02:07:36.077973",
     "status": "completed"
    },
    "tags": []
   },
   "outputs": [
    {
     "data": {
      "text/plain": [
       "array([43.654, 24.982, 13.64 , 47.583, 26.165])"
      ]
     },
     "execution_count": 10,
     "metadata": {},
     "output_type": "execute_result"
    }
   ],
   "source": [
    "y_preds = rfmodel.predict(X_test)\n",
    "y_preds[:5]"
   ]
  },
  {
   "cell_type": "markdown",
   "id": "lucky-sitting",
   "metadata": {
    "papermill": {
     "duration": 0.030735,
     "end_time": "2021-06-07T02:07:36.230184",
     "exception": false,
     "start_time": "2021-06-07T02:07:36.199449",
     "status": "completed"
    },
    "tags": []
   },
   "source": [
    "*Mean absolute error*"
   ]
  },
  {
   "cell_type": "code",
   "execution_count": 11,
   "id": "hybrid-grant",
   "metadata": {
    "execution": {
     "iopub.execute_input": "2021-06-07T02:07:36.297466Z",
     "iopub.status.busy": "2021-06-07T02:07:36.296727Z",
     "iopub.status.idle": "2021-06-07T02:07:36.303733Z",
     "shell.execute_reply": "2021-06-07T02:07:36.304246Z",
     "shell.execute_reply.started": "2021-06-07T01:05:31.925190Z"
    },
    "papermill": {
     "duration": 0.043029,
     "end_time": "2021-06-07T02:07:36.304457",
     "exception": false,
     "start_time": "2021-06-07T02:07:36.261428",
     "status": "completed"
    },
    "tags": []
   },
   "outputs": [
    {
     "data": {
      "text/plain": [
       "3.6950461013090394"
      ]
     },
     "execution_count": 11,
     "metadata": {},
     "output_type": "execute_result"
    }
   ],
   "source": [
    "#Comparing truth with predictions\n",
    "from sklearn.metrics import mean_absolute_error\n",
    "mean_absolute_error(y_test,y_preds)"
   ]
  },
  {
   "cell_type": "markdown",
   "id": "charitable-brand",
   "metadata": {
    "papermill": {
     "duration": 0.031215,
     "end_time": "2021-06-07T02:07:36.367956",
     "exception": false,
     "start_time": "2021-06-07T02:07:36.336741",
     "status": "completed"
    },
    "tags": []
   },
   "source": [
    "*R^2 or Coefficient of determination*"
   ]
  },
  {
   "cell_type": "code",
   "execution_count": 12,
   "id": "right-usage",
   "metadata": {
    "execution": {
     "iopub.execute_input": "2021-06-07T02:07:36.435860Z",
     "iopub.status.busy": "2021-06-07T02:07:36.435128Z",
     "iopub.status.idle": "2021-06-07T02:07:36.441146Z",
     "shell.execute_reply": "2021-06-07T02:07:36.441660Z",
     "shell.execute_reply.started": "2021-06-07T01:05:31.936635Z"
    },
    "papermill": {
     "duration": 0.042143,
     "end_time": "2021-06-07T02:07:36.441852",
     "exception": false,
     "start_time": "2021-06-07T02:07:36.399709",
     "status": "completed"
    },
    "tags": []
   },
   "outputs": [
    {
     "data": {
      "text/plain": [
       "0.7655673751908318"
      ]
     },
     "execution_count": 12,
     "metadata": {},
     "output_type": "execute_result"
    }
   ],
   "source": [
    "from sklearn.metrics import r2_score\n",
    "r2_score(y_test,y_preds)"
   ]
  },
  {
   "cell_type": "markdown",
   "id": "changed-ontario",
   "metadata": {
    "papermill": {
     "duration": 0.031568,
     "end_time": "2021-06-07T02:07:36.505040",
     "exception": false,
     "start_time": "2021-06-07T02:07:36.473472",
     "status": "completed"
    },
    "tags": []
   },
   "source": [
    "*Mean Squared Error*"
   ]
  },
  {
   "cell_type": "code",
   "execution_count": 13,
   "id": "integral-hybrid",
   "metadata": {
    "execution": {
     "iopub.execute_input": "2021-06-07T02:07:36.574602Z",
     "iopub.status.busy": "2021-06-07T02:07:36.573848Z",
     "iopub.status.idle": "2021-06-07T02:07:36.579757Z",
     "shell.execute_reply": "2021-06-07T02:07:36.580211Z",
     "shell.execute_reply.started": "2021-06-07T01:05:31.951425Z"
    },
    "papermill": {
     "duration": 0.043534,
     "end_time": "2021-06-07T02:07:36.580434",
     "exception": false,
     "start_time": "2021-06-07T02:07:36.536900",
     "status": "completed"
    },
    "tags": []
   },
   "outputs": [
    {
     "data": {
      "text/plain": [
       "37.21582426977798"
      ]
     },
     "execution_count": 13,
     "metadata": {},
     "output_type": "execute_result"
    }
   ],
   "source": [
    "from sklearn.metrics import mean_squared_error\n",
    "mean_squared_error(y_test,y_preds)"
   ]
  },
  {
   "cell_type": "markdown",
   "id": "economic-recall",
   "metadata": {
    "papermill": {
     "duration": 0.03275,
     "end_time": "2021-06-07T02:07:36.645948",
     "exception": false,
     "start_time": "2021-06-07T02:07:36.613198",
     "status": "completed"
    },
    "tags": []
   },
   "source": [
    "#### Comparing Predicted vs Actual Value"
   ]
  },
  {
   "cell_type": "code",
   "execution_count": 14,
   "id": "wireless-stretch",
   "metadata": {
    "execution": {
     "iopub.execute_input": "2021-06-07T02:07:36.716159Z",
     "iopub.status.busy": "2021-06-07T02:07:36.715456Z",
     "iopub.status.idle": "2021-06-07T02:07:36.726666Z",
     "shell.execute_reply": "2021-06-07T02:07:36.727149Z",
     "shell.execute_reply.started": "2021-06-07T01:05:31.973418Z"
    },
    "papermill": {
     "duration": 0.047646,
     "end_time": "2021-06-07T02:07:36.727458",
     "exception": false,
     "start_time": "2021-06-07T02:07:36.679812",
     "status": "completed"
    },
    "tags": []
   },
   "outputs": [
    {
     "data": {
      "text/html": [
       "<div>\n",
       "<style scoped>\n",
       "    .dataframe tbody tr th:only-of-type {\n",
       "        vertical-align: middle;\n",
       "    }\n",
       "\n",
       "    .dataframe tbody tr th {\n",
       "        vertical-align: top;\n",
       "    }\n",
       "\n",
       "    .dataframe thead th {\n",
       "        text-align: right;\n",
       "    }\n",
       "</style>\n",
       "<table border=\"1\" class=\"dataframe\">\n",
       "  <thead>\n",
       "    <tr style=\"text-align: right;\">\n",
       "      <th></th>\n",
       "      <th>Actual</th>\n",
       "      <th>Predicted</th>\n",
       "    </tr>\n",
       "  </thead>\n",
       "  <tbody>\n",
       "    <tr>\n",
       "      <th>5291</th>\n",
       "      <td>48.3</td>\n",
       "      <td>43.654</td>\n",
       "    </tr>\n",
       "    <tr>\n",
       "      <th>4128</th>\n",
       "      <td>25.0</td>\n",
       "      <td>24.982</td>\n",
       "    </tr>\n",
       "    <tr>\n",
       "      <th>1772</th>\n",
       "      <td>12.9</td>\n",
       "      <td>13.640</td>\n",
       "    </tr>\n",
       "    <tr>\n",
       "      <th>7142</th>\n",
       "      <td>48.3</td>\n",
       "      <td>47.583</td>\n",
       "    </tr>\n",
       "    <tr>\n",
       "      <th>3962</th>\n",
       "      <td>25.0</td>\n",
       "      <td>26.165</td>\n",
       "    </tr>\n",
       "  </tbody>\n",
       "</table>\n",
       "</div>"
      ],
      "text/plain": [
       "      Actual  Predicted\n",
       "5291    48.3     43.654\n",
       "4128    25.0     24.982\n",
       "1772    12.9     13.640\n",
       "7142    48.3     47.583\n",
       "3962    25.0     26.165"
      ]
     },
     "execution_count": 14,
     "metadata": {},
     "output_type": "execute_result"
    }
   ],
   "source": [
    "compare = pd.DataFrame(data={\"Actual\":y_test,\"Predicted\":y_preds})\n",
    "compare.head()"
   ]
  },
  {
   "cell_type": "code",
   "execution_count": 15,
   "id": "breathing-bunch",
   "metadata": {
    "execution": {
     "iopub.execute_input": "2021-06-07T02:07:36.799081Z",
     "iopub.status.busy": "2021-06-07T02:07:36.798329Z",
     "iopub.status.idle": "2021-06-07T02:07:37.109565Z",
     "shell.execute_reply": "2021-06-07T02:07:37.108856Z",
     "shell.execute_reply.started": "2021-06-07T01:05:31.995753Z"
    },
    "papermill": {
     "duration": 0.348858,
     "end_time": "2021-06-07T02:07:37.109731",
     "exception": false,
     "start_time": "2021-06-07T02:07:36.760873",
     "status": "completed"
    },
    "tags": []
   },
   "outputs": [
    {
     "data": {
      "image/png": "[encoded data removed]",
      "text/plain": [
       "<Figure size 432x288 with 1 Axes>"
      ]
     },
     "metadata": {
      "needs_background": "light"
     },
     "output_type": "display_data"
    }
   ],
   "source": [
    "comp=compare[:50]\n",
    "import matplotlib.pyplot as plt\n",
    "fig, ax = plt.subplots()\n",
    "x = np.arange(0, len(comp),1)\n",
    "ax.scatter(x,comp[\"Actual\"],c=\"b\",label=\"Actual Values\")\n",
    "ax.scatter(x,comp[\"Predicted\"],c=\"r\",label=\"Predicted Values\")\n",
    "ax.legend(loc=(1,0.5))\n",
    "ax.grid()"
   ]
  },
  {
   "cell_type": "markdown",
   "id": "super-finding",
   "metadata": {
    "papermill": {
     "duration": 0.034739,
     "end_time": "2021-06-07T02:07:37.181334",
     "exception": false,
     "start_time": "2021-06-07T02:07:37.146595",
     "status": "completed"
    },
    "tags": []
   },
   "source": [
    "#### Scoring Parameter"
   ]
  },
  {
   "cell_type": "code",
   "execution_count": 16,
   "id": "severe-shape",
   "metadata": {
    "execution": {
     "iopub.execute_input": "2021-06-07T02:07:37.257939Z",
     "iopub.status.busy": "2021-06-07T02:07:37.257047Z",
     "iopub.status.idle": "2021-06-07T02:07:53.080908Z",
     "shell.execute_reply": "2021-06-07T02:07:53.080328Z",
     "shell.execute_reply.started": "2021-06-07T01:11:33.458562Z"
    },
    "papermill": {
     "duration": 15.865732,
     "end_time": "2021-06-07T02:07:53.081093",
     "exception": false,
     "start_time": "2021-06-07T02:07:37.215361",
     "status": "completed"
    },
    "tags": []
   },
   "outputs": [
    {
     "name": "stdout",
     "output_type": "stream",
     "text": [
      "Cross Validated R^2 Score is 0.418891\n"
     ]
    }
   ],
   "source": [
    "from sklearn.model_selection import cross_val_score\n",
    "#R^2 Score\n",
    "cv_r2= cross_val_score(rfmodel, X,y,cv=5,scoring=\"r2\")\n",
    "print(f\"Cross Validated R^2 Score is {np.mean(cv_r2):2f}\")"
   ]
  },
  {
   "cell_type": "markdown",
   "id": "muslim-judgment",
   "metadata": {
    "papermill": {
     "duration": 0.035328,
     "end_time": "2021-06-07T02:07:53.150999",
     "exception": false,
     "start_time": "2021-06-07T02:07:53.115671",
     "status": "completed"
    },
    "tags": []
   },
   "source": [
    "### Hyperparameter tuning using RandomizedSearchCV"
   ]
  },
  {
   "cell_type": "code",
   "execution_count": 17,
   "id": "incoming-apparel",
   "metadata": {
    "execution": {
     "iopub.execute_input": "2021-06-07T02:07:53.227071Z",
     "iopub.status.busy": "2021-06-07T02:07:53.226377Z",
     "iopub.status.idle": "2021-06-07T02:07:53.229720Z",
     "shell.execute_reply": "2021-06-07T02:07:53.230180Z",
     "shell.execute_reply.started": "2021-06-07T01:19:10.413615Z"
    },
    "papermill": {
     "duration": 0.044777,
     "end_time": "2021-06-07T02:07:53.230410",
     "exception": false,
     "start_time": "2021-06-07T02:07:53.185633",
     "status": "completed"
    },
    "tags": []
   },
   "outputs": [
    {
     "data": {
      "text/plain": [
       "{'bootstrap': True,\n",
       " 'ccp_alpha': 0.0,\n",
       " 'criterion': 'mse',\n",
       " 'max_depth': None,\n",
       " 'max_features': 'auto',\n",
       " 'max_leaf_nodes': None,\n",
       " 'max_samples': None,\n",
       " 'min_impurity_decrease': 0.0,\n",
       " 'min_impurity_split': None,\n",
       " 'min_samples_leaf': 1,\n",
       " 'min_samples_split': 2,\n",
       " 'min_weight_fraction_leaf': 0.0,\n",
       " 'n_estimators': 100,\n",
       " 'n_jobs': None,\n",
       " 'oob_score': False,\n",
       " 'random_state': None,\n",
       " 'verbose': 0,\n",
       " 'warm_start': False}"
      ]
     },
     "execution_count": 17,
     "metadata": {},
     "output_type": "execute_result"
    }
   ],
   "source": [
    "rfmodel.get_params()"
   ]
  },
  {
   "cell_type": "code",
   "execution_count": 18,
   "id": "outdoor-threshold",
   "metadata": {
    "execution": {
     "iopub.execute_input": "2021-06-07T02:07:53.308844Z",
     "iopub.status.busy": "2021-06-07T02:07:53.308134Z",
     "iopub.status.idle": "2021-06-07T02:07:53.313512Z",
     "shell.execute_reply": "2021-06-07T02:07:53.314137Z",
     "shell.execute_reply.started": "2021-06-07T01:28:53.675924Z"
    },
    "papermill": {
     "duration": 0.046934,
     "end_time": "2021-06-07T02:07:53.314378",
     "exception": false,
     "start_time": "2021-06-07T02:07:53.267444",
     "status": "completed"
    },
    "tags": []
   },
   "outputs": [],
   "source": [
    "grid = {\"n_estimators\":[10,100,200,500,1000,1200],\n",
    "       \"max_depth\":[None,5,10,20,30],\n",
    "       \"max_features\":[\"auto\",\"sqrt\"],\n",
    "       \"min_samples_split\":[2,4,6],\n",
    "       \"min_samples_leaf\":[1,2,4]}"
   ]
  },
  {
   "cell_type": "code",
   "execution_count": 19,
   "id": "religious-algeria",
   "metadata": {
    "execution": {
     "iopub.execute_input": "2021-06-07T02:07:53.390709Z",
     "iopub.status.busy": "2021-06-07T02:07:53.389988Z",
     "iopub.status.idle": "2021-06-07T02:19:51.012108Z",
     "shell.execute_reply": "2021-06-07T02:19:51.011490Z",
     "shell.execute_reply.started": "2021-06-07T01:28:55.200874Z"
    },
    "papermill": {
     "duration": 717.660486,
     "end_time": "2021-06-07T02:19:51.012276",
     "exception": false,
     "start_time": "2021-06-07T02:07:53.351790",
     "status": "completed"
    },
    "tags": []
   },
   "outputs": [
    {
     "name": "stdout",
     "output_type": "stream",
     "text": [
      "Fitting 5 folds for each of 20 candidates, totalling 100 fits\n",
      "[CV] END max_depth=10, max_features=auto, min_samples_leaf=2, min_samples_split=4, n_estimators=1000; total time=  46.9s\n",
      "[CV] END max_depth=10, max_features=auto, min_samples_leaf=2, min_samples_split=4, n_estimators=1000; total time=  20.5s\n",
      "[CV] END max_depth=10, max_features=auto, min_samples_leaf=2, min_samples_split=4, n_estimators=1000; total time=  39.2s\n",
      "[CV] END max_depth=10, max_features=auto, min_samples_leaf=2, min_samples_split=4, n_estimators=1000; total time=  47.8s\n",
      "[CV] END max_depth=10, max_features=auto, min_samples_leaf=2, min_samples_split=4, n_estimators=1000; total time=  27.4s\n",
      "[CV] END max_depth=30, max_features=auto, min_samples_leaf=2, min_samples_split=6, n_estimators=1200; total time=  44.5s\n",
      "[CV] END max_depth=30, max_features=auto, min_samples_leaf=2, min_samples_split=6, n_estimators=1200; total time= 1.2min\n",
      "[CV] END max_depth=30, max_features=auto, min_samples_leaf=2, min_samples_split=6, n_estimators=1200; total time= 1.5min\n",
      "[CV] END max_depth=30, max_features=auto, min_samples_leaf=2, min_samples_split=6, n_estimators=1200; total time=  45.9s\n",
      "[CV] END max_depth=30, max_features=auto, min_samples_leaf=2, min_samples_split=6, n_estimators=1200; total time=  47.4s\n",
      "[CV] END max_depth=30, max_features=sqrt, min_samples_leaf=1, min_samples_split=6, n_estimators=10; total time=   0.0s\n",
      "[CV] END max_depth=30, max_features=sqrt, min_samples_leaf=1, min_samples_split=6, n_estimators=10; total time=   0.0s\n",
      "[CV] END max_depth=30, max_features=sqrt, min_samples_leaf=1, min_samples_split=6, n_estimators=10; total time=   0.0s\n",
      "[CV] END max_depth=30, max_features=sqrt, min_samples_leaf=1, min_samples_split=6, n_estimators=10; total time=   0.0s\n",
      "[CV] END max_depth=30, max_features=sqrt, min_samples_leaf=1, min_samples_split=6, n_estimators=10; total time=   0.0s\n",
      "[CV] END max_depth=30, max_features=auto, min_samples_leaf=4, min_samples_split=2, n_estimators=200; total time=   3.7s\n",
      "[CV] END max_depth=30, max_features=auto, min_samples_leaf=4, min_samples_split=2, n_estimators=200; total time=   3.7s\n",
      "[CV] END max_depth=30, max_features=auto, min_samples_leaf=4, min_samples_split=2, n_estimators=200; total time=   3.7s\n",
      "[CV] END max_depth=30, max_features=auto, min_samples_leaf=4, min_samples_split=2, n_estimators=200; total time=   3.7s\n",
      "[CV] END max_depth=30, max_features=auto, min_samples_leaf=4, min_samples_split=2, n_estimators=200; total time=   3.9s\n",
      "[CV] END max_depth=None, max_features=sqrt, min_samples_leaf=1, min_samples_split=6, n_estimators=1000; total time=   6.5s\n",
      "[CV] END max_depth=None, max_features=sqrt, min_samples_leaf=1, min_samples_split=6, n_estimators=1000; total time=   6.6s\n",
      "[CV] END max_depth=None, max_features=sqrt, min_samples_leaf=1, min_samples_split=6, n_estimators=1000; total time=   6.4s\n",
      "[CV] END max_depth=None, max_features=sqrt, min_samples_leaf=1, min_samples_split=6, n_estimators=1000; total time=   6.3s\n",
      "[CV] END max_depth=None, max_features=sqrt, min_samples_leaf=1, min_samples_split=6, n_estimators=1000; total time=   6.6s\n",
      "[CV] END max_depth=10, max_features=sqrt, min_samples_leaf=4, min_samples_split=4, n_estimators=200; total time=   0.8s\n",
      "[CV] END max_depth=10, max_features=sqrt, min_samples_leaf=4, min_samples_split=4, n_estimators=200; total time=   1.0s\n",
      "[CV] END max_depth=10, max_features=sqrt, min_samples_leaf=4, min_samples_split=4, n_estimators=200; total time=   0.9s\n",
      "[CV] END max_depth=10, max_features=sqrt, min_samples_leaf=4, min_samples_split=4, n_estimators=200; total time=   0.9s\n",
      "[CV] END max_depth=10, max_features=sqrt, min_samples_leaf=4, min_samples_split=4, n_estimators=200; total time=   0.9s\n",
      "[CV] END max_depth=5, max_features=sqrt, min_samples_leaf=1, min_samples_split=4, n_estimators=200; total time=   0.5s\n",
      "[CV] END max_depth=5, max_features=sqrt, min_samples_leaf=1, min_samples_split=4, n_estimators=200; total time=   0.5s\n",
      "[CV] END max_depth=5, max_features=sqrt, min_samples_leaf=1, min_samples_split=4, n_estimators=200; total time=   0.5s\n",
      "[CV] END max_depth=5, max_features=sqrt, min_samples_leaf=1, min_samples_split=4, n_estimators=200; total time=   0.5s\n",
      "[CV] END max_depth=5, max_features=sqrt, min_samples_leaf=1, min_samples_split=4, n_estimators=200; total time=   0.5s\n",
      "[CV] END max_depth=30, max_features=auto, min_samples_leaf=4, min_samples_split=6, n_estimators=1000; total time=  21.1s\n",
      "[CV] END max_depth=30, max_features=auto, min_samples_leaf=4, min_samples_split=6, n_estimators=1000; total time=  29.0s\n",
      "[CV] END max_depth=30, max_features=auto, min_samples_leaf=4, min_samples_split=6, n_estimators=1000; total time= 1.1min\n",
      "[CV] END max_depth=30, max_features=auto, min_samples_leaf=4, min_samples_split=6, n_estimators=1000; total time= 1.1min\n",
      "[CV] END max_depth=30, max_features=auto, min_samples_leaf=4, min_samples_split=6, n_estimators=1000; total time=  53.1s\n",
      "[CV] END max_depth=None, max_features=sqrt, min_samples_leaf=2, min_samples_split=6, n_estimators=1000; total time=  21.9s\n",
      "[CV] END max_depth=None, max_features=sqrt, min_samples_leaf=2, min_samples_split=6, n_estimators=1000; total time=  19.3s\n",
      "[CV] END max_depth=None, max_features=sqrt, min_samples_leaf=2, min_samples_split=6, n_estimators=1000; total time=  19.8s\n",
      "[CV] END max_depth=None, max_features=sqrt, min_samples_leaf=2, min_samples_split=6, n_estimators=1000; total time=  21.2s\n",
      "[CV] END max_depth=None, max_features=sqrt, min_samples_leaf=2, min_samples_split=6, n_estimators=1000; total time=  19.4s\n",
      "[CV] END max_depth=10, max_features=sqrt, min_samples_leaf=2, min_samples_split=6, n_estimators=500; total time=   7.2s\n",
      "[CV] END max_depth=10, max_features=sqrt, min_samples_leaf=2, min_samples_split=6, n_estimators=500; total time=   7.4s\n",
      "[CV] END max_depth=10, max_features=sqrt, min_samples_leaf=2, min_samples_split=6, n_estimators=500; total time=   7.3s\n",
      "[CV] END max_depth=10, max_features=sqrt, min_samples_leaf=2, min_samples_split=6, n_estimators=500; total time=   7.0s\n",
      "[CV] END max_depth=10, max_features=sqrt, min_samples_leaf=2, min_samples_split=6, n_estimators=500; total time=   7.3s\n",
      "[CV] END max_depth=None, max_features=sqrt, min_samples_leaf=2, min_samples_split=2, n_estimators=1000; total time=  20.6s\n",
      "[CV] END max_depth=None, max_features=sqrt, min_samples_leaf=2, min_samples_split=2, n_estimators=1000; total time=  20.6s\n",
      "[CV] END max_depth=None, max_features=sqrt, min_samples_leaf=2, min_samples_split=2, n_estimators=1000; total time=  20.1s\n",
      "[CV] END max_depth=None, max_features=sqrt, min_samples_leaf=2, min_samples_split=2, n_estimators=1000; total time=  21.4s\n",
      "[CV] END max_depth=None, max_features=sqrt, min_samples_leaf=2, min_samples_split=2, n_estimators=1000; total time=  20.2s\n",
      "[CV] END max_depth=20, max_features=sqrt, min_samples_leaf=4, min_samples_split=4, n_estimators=1200; total time=  21.5s\n",
      "[CV] END max_depth=20, max_features=sqrt, min_samples_leaf=4, min_samples_split=4, n_estimators=1200; total time=  20.4s\n",
      "[CV] END max_depth=20, max_features=sqrt, min_samples_leaf=4, min_samples_split=4, n_estimators=1200; total time=  20.7s\n",
      "[CV] END max_depth=20, max_features=sqrt, min_samples_leaf=4, min_samples_split=4, n_estimators=1200; total time=  21.3s\n",
      "[CV] END max_depth=20, max_features=sqrt, min_samples_leaf=4, min_samples_split=4, n_estimators=1200; total time=  21.7s\n",
      "[CV] END max_depth=20, max_features=auto, min_samples_leaf=2, min_samples_split=6, n_estimators=100; total time=   7.3s\n",
      "[CV] END max_depth=20, max_features=auto, min_samples_leaf=2, min_samples_split=6, n_estimators=100; total time=   7.5s\n",
      "[CV] END max_depth=20, max_features=auto, min_samples_leaf=2, min_samples_split=6, n_estimators=100; total time=   7.4s\n",
      "[CV] END max_depth=20, max_features=auto, min_samples_leaf=2, min_samples_split=6, n_estimators=100; total time=   7.6s\n",
      "[CV] END max_depth=20, max_features=auto, min_samples_leaf=2, min_samples_split=6, n_estimators=100; total time=   7.2s\n",
      "[CV] END max_depth=5, max_features=sqrt, min_samples_leaf=4, min_samples_split=4, n_estimators=500; total time=   4.5s\n",
      "[CV] END max_depth=5, max_features=sqrt, min_samples_leaf=4, min_samples_split=4, n_estimators=500; total time=   4.4s\n",
      "[CV] END max_depth=5, max_features=sqrt, min_samples_leaf=4, min_samples_split=4, n_estimators=500; total time=   4.7s\n"
     ]
    },
    {
     "name": "stdout",
     "output_type": "stream",
     "text": [
      "[CV] END max_depth=5, max_features=sqrt, min_samples_leaf=4, min_samples_split=4, n_estimators=500; total time=   4.3s\n",
      "[CV] END max_depth=5, max_features=sqrt, min_samples_leaf=4, min_samples_split=4, n_estimators=500; total time=   4.9s\n",
      "[CV] END max_depth=30, max_features=sqrt, min_samples_leaf=4, min_samples_split=4, n_estimators=100; total time=   1.7s\n",
      "[CV] END max_depth=30, max_features=sqrt, min_samples_leaf=4, min_samples_split=4, n_estimators=100; total time=   1.7s\n",
      "[CV] END max_depth=30, max_features=sqrt, min_samples_leaf=4, min_samples_split=4, n_estimators=100; total time=   1.6s\n",
      "[CV] END max_depth=30, max_features=sqrt, min_samples_leaf=4, min_samples_split=4, n_estimators=100; total time=   1.6s\n",
      "[CV] END max_depth=30, max_features=sqrt, min_samples_leaf=4, min_samples_split=4, n_estimators=100; total time=   1.6s\n",
      "[CV] END max_depth=20, max_features=auto, min_samples_leaf=2, min_samples_split=2, n_estimators=100; total time=   7.2s\n",
      "[CV] END max_depth=20, max_features=auto, min_samples_leaf=2, min_samples_split=2, n_estimators=100; total time=   7.6s\n",
      "[CV] END max_depth=20, max_features=auto, min_samples_leaf=2, min_samples_split=2, n_estimators=100; total time=   6.3s\n",
      "[CV] END max_depth=20, max_features=auto, min_samples_leaf=2, min_samples_split=2, n_estimators=100; total time=   2.0s\n",
      "[CV] END max_depth=20, max_features=auto, min_samples_leaf=2, min_samples_split=2, n_estimators=100; total time=   2.3s\n",
      "[CV] END max_depth=None, max_features=auto, min_samples_leaf=2, min_samples_split=6, n_estimators=10; total time=   0.6s\n",
      "[CV] END max_depth=None, max_features=auto, min_samples_leaf=2, min_samples_split=6, n_estimators=10; total time=   0.7s\n",
      "[CV] END max_depth=None, max_features=auto, min_samples_leaf=2, min_samples_split=6, n_estimators=10; total time=   0.6s\n",
      "[CV] END max_depth=None, max_features=auto, min_samples_leaf=2, min_samples_split=6, n_estimators=10; total time=   0.7s\n",
      "[CV] END max_depth=None, max_features=auto, min_samples_leaf=2, min_samples_split=6, n_estimators=10; total time=   0.8s\n",
      "[CV] END max_depth=None, max_features=sqrt, min_samples_leaf=1, min_samples_split=6, n_estimators=100; total time=   2.3s\n",
      "[CV] END max_depth=None, max_features=sqrt, min_samples_leaf=1, min_samples_split=6, n_estimators=100; total time=   1.8s\n",
      "[CV] END max_depth=None, max_features=sqrt, min_samples_leaf=1, min_samples_split=6, n_estimators=100; total time=   1.9s\n",
      "[CV] END max_depth=None, max_features=sqrt, min_samples_leaf=1, min_samples_split=6, n_estimators=100; total time=   1.8s\n",
      "[CV] END max_depth=None, max_features=sqrt, min_samples_leaf=1, min_samples_split=6, n_estimators=100; total time=   1.9s\n",
      "[CV] END max_depth=5, max_features=sqrt, min_samples_leaf=1, min_samples_split=6, n_estimators=100; total time=   0.8s\n",
      "[CV] END max_depth=5, max_features=sqrt, min_samples_leaf=1, min_samples_split=6, n_estimators=100; total time=   0.8s\n",
      "[CV] END max_depth=5, max_features=sqrt, min_samples_leaf=1, min_samples_split=6, n_estimators=100; total time=   0.9s\n",
      "[CV] END max_depth=5, max_features=sqrt, min_samples_leaf=1, min_samples_split=6, n_estimators=100; total time=   0.9s\n",
      "[CV] END max_depth=5, max_features=sqrt, min_samples_leaf=1, min_samples_split=6, n_estimators=100; total time=   0.9s\n",
      "[CV] END max_depth=20, max_features=auto, min_samples_leaf=2, min_samples_split=6, n_estimators=1200; total time=  35.0s\n",
      "[CV] END max_depth=20, max_features=auto, min_samples_leaf=2, min_samples_split=6, n_estimators=1200; total time=  25.9s\n",
      "[CV] END max_depth=20, max_features=auto, min_samples_leaf=2, min_samples_split=6, n_estimators=1200; total time=  38.7s\n",
      "[CV] END max_depth=20, max_features=auto, min_samples_leaf=2, min_samples_split=6, n_estimators=1200; total time=  57.9s\n",
      "[CV] END max_depth=20, max_features=auto, min_samples_leaf=2, min_samples_split=6, n_estimators=1200; total time= 1.5min\n"
     ]
    },
    {
     "data": {
      "text/plain": [
       "RandomizedSearchCV(cv=5, estimator=RandomForestRegressor(), n_iter=20,\n",
       "                   param_distributions={'max_depth': [None, 5, 10, 20, 30],\n",
       "                                        'max_features': ['auto', 'sqrt'],\n",
       "                                        'min_samples_leaf': [1, 2, 4],\n",
       "                                        'min_samples_split': [2, 4, 6],\n",
       "                                        'n_estimators': [10, 100, 200, 500,\n",
       "                                                         1000, 1200]},\n",
       "                   verbose=2)"
      ]
     },
     "execution_count": 19,
     "metadata": {},
     "output_type": "execute_result"
    }
   ],
   "source": [
    "from sklearn.model_selection import RandomizedSearchCV\n",
    "rsmodel = RandomizedSearchCV(estimator=rfmodel,\n",
    "                            param_distributions=grid,\n",
    "                            n_iter=20,\n",
    "                            cv=5,\n",
    "                            verbose=2)\n",
    "rsmodel.fit(X_train,y_train)"
   ]
  },
  {
   "cell_type": "code",
   "execution_count": 20,
   "id": "criminal-import",
   "metadata": {
    "execution": {
     "iopub.execute_input": "2021-06-07T02:19:51.148122Z",
     "iopub.status.busy": "2021-06-07T02:19:51.147456Z",
     "iopub.status.idle": "2021-06-07T02:19:51.152381Z",
     "shell.execute_reply": "2021-06-07T02:19:51.151693Z",
     "shell.execute_reply.started": "2021-06-07T01:39:57.898528Z"
    },
    "papermill": {
     "duration": 0.074622,
     "end_time": "2021-06-07T02:19:51.152536",
     "exception": false,
     "start_time": "2021-06-07T02:19:51.077914",
     "status": "completed"
    },
    "tags": []
   },
   "outputs": [
    {
     "data": {
      "text/plain": [
       "{'n_estimators': 1200,\n",
       " 'min_samples_split': 6,\n",
       " 'min_samples_leaf': 2,\n",
       " 'max_features': 'auto',\n",
       " 'max_depth': 30}"
      ]
     },
     "execution_count": 20,
     "metadata": {},
     "output_type": "execute_result"
    }
   ],
   "source": [
    "rsmodel.best_params_"
   ]
  },
  {
   "cell_type": "code",
   "execution_count": 21,
   "id": "future-wonder",
   "metadata": {
    "execution": {
     "iopub.execute_input": "2021-06-07T02:19:51.288980Z",
     "iopub.status.busy": "2021-06-07T02:19:51.288204Z",
     "iopub.status.idle": "2021-06-07T02:19:51.331555Z",
     "shell.execute_reply": "2021-06-07T02:19:51.330946Z",
     "shell.execute_reply.started": "2021-06-07T01:41:12.908630Z"
    },
    "papermill": {
     "duration": 0.11497,
     "end_time": "2021-06-07T02:19:51.331712",
     "exception": false,
     "start_time": "2021-06-07T02:19:51.216742",
     "status": "completed"
    },
    "tags": []
   },
   "outputs": [
    {
     "data": {
      "text/plain": [
       "array([42.40212771, 25.03768208, 14.24674935, ..., 25.0494747 ,\n",
       "       17.90076862, 25.40920968])"
      ]
     },
     "execution_count": 21,
     "metadata": {},
     "output_type": "execute_result"
    }
   ],
   "source": [
    "rs_y_preds = rsmodel.predict(X_test)\n",
    "rs_y_preds"
   ]
  },
  {
   "cell_type": "code",
   "execution_count": 22,
   "id": "religious-reverse",
   "metadata": {
    "execution": {
     "iopub.execute_input": "2021-06-07T02:19:51.464681Z",
     "iopub.status.busy": "2021-06-07T02:19:51.463672Z",
     "iopub.status.idle": "2021-06-07T02:19:51.475978Z",
     "shell.execute_reply": "2021-06-07T02:19:51.476467Z",
     "shell.execute_reply.started": "2021-06-07T01:43:53.553553Z"
    },
    "papermill": {
     "duration": 0.080765,
     "end_time": "2021-06-07T02:19:51.476680",
     "exception": false,
     "start_time": "2021-06-07T02:19:51.395915",
     "status": "completed"
    },
    "tags": []
   },
   "outputs": [
    {
     "data": {
      "text/html": [
       "<div>\n",
       "<style scoped>\n",
       "    .dataframe tbody tr th:only-of-type {\n",
       "        vertical-align: middle;\n",
       "    }\n",
       "\n",
       "    .dataframe tbody tr th {\n",
       "        vertical-align: top;\n",
       "    }\n",
       "\n",
       "    .dataframe thead th {\n",
       "        text-align: right;\n",
       "    }\n",
       "</style>\n",
       "<table border=\"1\" class=\"dataframe\">\n",
       "  <thead>\n",
       "    <tr style=\"text-align: right;\">\n",
       "      <th></th>\n",
       "      <th>Actual</th>\n",
       "      <th>Predicted</th>\n",
       "    </tr>\n",
       "  </thead>\n",
       "  <tbody>\n",
       "    <tr>\n",
       "      <th>5291</th>\n",
       "      <td>48.3</td>\n",
       "      <td>42.402128</td>\n",
       "    </tr>\n",
       "    <tr>\n",
       "      <th>4128</th>\n",
       "      <td>25.0</td>\n",
       "      <td>25.037682</td>\n",
       "    </tr>\n",
       "    <tr>\n",
       "      <th>1772</th>\n",
       "      <td>12.9</td>\n",
       "      <td>14.246749</td>\n",
       "    </tr>\n",
       "    <tr>\n",
       "      <th>7142</th>\n",
       "      <td>48.3</td>\n",
       "      <td>47.329317</td>\n",
       "    </tr>\n",
       "    <tr>\n",
       "      <th>3962</th>\n",
       "      <td>25.0</td>\n",
       "      <td>25.540615</td>\n",
       "    </tr>\n",
       "  </tbody>\n",
       "</table>\n",
       "</div>"
      ],
      "text/plain": [
       "      Actual  Predicted\n",
       "5291    48.3  42.402128\n",
       "4128    25.0  25.037682\n",
       "1772    12.9  14.246749\n",
       "7142    48.3  47.329317\n",
       "3962    25.0  25.540615"
      ]
     },
     "execution_count": 22,
     "metadata": {},
     "output_type": "execute_result"
    }
   ],
   "source": [
    "compare = pd.DataFrame(data={\"Actual\":y_test,\"Predicted\":rs_y_preds})\n",
    "compare.head()"
   ]
  },
  {
   "cell_type": "code",
   "execution_count": 23,
   "id": "equipped-broadway",
   "metadata": {
    "execution": {
     "iopub.execute_input": "2021-06-07T02:19:51.614807Z",
     "iopub.status.busy": "2021-06-07T02:19:51.613750Z",
     "iopub.status.idle": "2021-06-07T02:19:51.661744Z",
     "shell.execute_reply": "2021-06-07T02:19:51.662222Z",
     "shell.execute_reply.started": "2021-06-07T01:44:26.172793Z"
    },
    "papermill": {
     "duration": 0.118921,
     "end_time": "2021-06-07T02:19:51.662445",
     "exception": false,
     "start_time": "2021-06-07T02:19:51.543524",
     "status": "completed"
    },
    "tags": []
   },
   "outputs": [
    {
     "data": {
      "text/plain": [
       "0.7591808096569534"
      ]
     },
     "execution_count": 23,
     "metadata": {},
     "output_type": "execute_result"
    }
   ],
   "source": [
    "rsmodel.score(X_test,y_test)"
   ]
  },
  {
   "cell_type": "markdown",
   "id": "polar-hospital",
   "metadata": {
    "papermill": {
     "duration": 0.065029,
     "end_time": "2021-06-07T02:19:51.792950",
     "exception": false,
     "start_time": "2021-06-07T02:19:51.727921",
     "status": "completed"
    },
    "tags": []
   },
   "source": [
    "### Hyperparameter tuning using GridSearchCV"
   ]
  },
  {
   "cell_type": "code",
   "execution_count": 24,
   "id": "literary-arkansas",
   "metadata": {
    "execution": {
     "iopub.execute_input": "2021-06-07T02:19:51.928186Z",
     "iopub.status.busy": "2021-06-07T02:19:51.927507Z",
     "iopub.status.idle": "2021-06-07T02:29:04.495576Z",
     "shell.execute_reply": "2021-06-07T02:29:04.496122Z",
     "shell.execute_reply.started": "2021-06-07T01:52:55.438435Z"
    },
    "papermill": {
     "duration": 552.636814,
     "end_time": "2021-06-07T02:29:04.496364",
     "exception": false,
     "start_time": "2021-06-07T02:19:51.859550",
     "status": "completed"
    },
    "tags": []
   },
   "outputs": [
    {
     "name": "stdout",
     "output_type": "stream",
     "text": [
      "Fitting 5 folds for each of 16 candidates, totalling 80 fits\n",
      "[CV] END max_depth=None, max_features=auto, min_samples_split=2, n_estimators=100; total time=   7.9s\n",
      "[CV] END max_depth=None, max_features=auto, min_samples_split=2, n_estimators=100; total time=   8.1s\n",
      "[CV] END max_depth=None, max_features=auto, min_samples_split=2, n_estimators=100; total time=   7.8s\n",
      "[CV] END max_depth=None, max_features=auto, min_samples_split=2, n_estimators=100; total time=   8.2s\n",
      "[CV] END max_depth=None, max_features=auto, min_samples_split=2, n_estimators=100; total time=   8.1s\n",
      "[CV] END max_depth=None, max_features=auto, min_samples_split=2, n_estimators=1000; total time= 1.1min\n",
      "[CV] END max_depth=None, max_features=auto, min_samples_split=2, n_estimators=1000; total time= 1.4min\n",
      "[CV] END max_depth=None, max_features=auto, min_samples_split=2, n_estimators=1000; total time= 1.3min\n",
      "[CV] END max_depth=None, max_features=auto, min_samples_split=2, n_estimators=1000; total time= 1.3min\n",
      "[CV] END max_depth=None, max_features=auto, min_samples_split=2, n_estimators=1000; total time= 2.9min\n",
      "[CV] END max_depth=None, max_features=auto, min_samples_split=4, n_estimators=100; total time=   2.0s\n",
      "[CV] END max_depth=None, max_features=auto, min_samples_split=4, n_estimators=100; total time=   2.1s\n",
      "[CV] END max_depth=None, max_features=auto, min_samples_split=4, n_estimators=100; total time=   1.9s\n",
      "[CV] END max_depth=None, max_features=auto, min_samples_split=4, n_estimators=100; total time=   2.0s\n",
      "[CV] END max_depth=None, max_features=auto, min_samples_split=4, n_estimators=100; total time=   2.1s\n",
      "[CV] END max_depth=None, max_features=auto, min_samples_split=4, n_estimators=1000; total time=  21.9s\n",
      "[CV] END max_depth=None, max_features=auto, min_samples_split=4, n_estimators=1000; total time=  59.8s\n",
      "[CV] END max_depth=None, max_features=auto, min_samples_split=4, n_estimators=1000; total time= 1.3min\n",
      "[CV] END max_depth=None, max_features=auto, min_samples_split=4, n_estimators=1000; total time=11.8min\n",
      "[CV] END max_depth=None, max_features=auto, min_samples_split=4, n_estimators=1000; total time=  31.1s\n",
      "[CV] END max_depth=None, max_features=sqrt, min_samples_split=2, n_estimators=100; total time=   0.7s\n",
      "[CV] END max_depth=None, max_features=sqrt, min_samples_split=2, n_estimators=100; total time=   0.6s\n",
      "[CV] END max_depth=None, max_features=sqrt, min_samples_split=2, n_estimators=100; total time=   0.6s\n",
      "[CV] END max_depth=None, max_features=sqrt, min_samples_split=2, n_estimators=100; total time=   0.6s\n",
      "[CV] END max_depth=None, max_features=sqrt, min_samples_split=2, n_estimators=100; total time=   0.6s\n",
      "[CV] END max_depth=None, max_features=sqrt, min_samples_split=2, n_estimators=1000; total time=   6.6s\n",
      "[CV] END max_depth=None, max_features=sqrt, min_samples_split=2, n_estimators=1000; total time=   6.4s\n",
      "[CV] END max_depth=None, max_features=sqrt, min_samples_split=2, n_estimators=1000; total time=   6.5s\n",
      "[CV] END max_depth=None, max_features=sqrt, min_samples_split=2, n_estimators=1000; total time=   9.3s\n",
      "[CV] END max_depth=None, max_features=sqrt, min_samples_split=2, n_estimators=1000; total time=   8.8s\n",
      "[CV] END max_depth=None, max_features=sqrt, min_samples_split=4, n_estimators=100; total time=   0.6s\n",
      "[CV] END max_depth=None, max_features=sqrt, min_samples_split=4, n_estimators=100; total time=   0.6s\n",
      "[CV] END max_depth=None, max_features=sqrt, min_samples_split=4, n_estimators=100; total time=   0.6s\n",
      "[CV] END max_depth=None, max_features=sqrt, min_samples_split=4, n_estimators=100; total time=   0.6s\n",
      "[CV] END max_depth=None, max_features=sqrt, min_samples_split=4, n_estimators=100; total time=   0.6s\n",
      "[CV] END max_depth=None, max_features=sqrt, min_samples_split=4, n_estimators=1000; total time=   6.7s\n",
      "[CV] END max_depth=None, max_features=sqrt, min_samples_split=4, n_estimators=1000; total time=   6.8s\n",
      "[CV] END max_depth=None, max_features=sqrt, min_samples_split=4, n_estimators=1000; total time=   6.6s\n",
      "[CV] END max_depth=None, max_features=sqrt, min_samples_split=4, n_estimators=1000; total time=   6.6s\n",
      "[CV] END max_depth=None, max_features=sqrt, min_samples_split=4, n_estimators=1000; total time=   6.6s\n",
      "[CV] END max_depth=5, max_features=auto, min_samples_split=2, n_estimators=100; total time=   1.0s\n",
      "[CV] END max_depth=5, max_features=auto, min_samples_split=2, n_estimators=100; total time=   0.9s\n",
      "[CV] END max_depth=5, max_features=auto, min_samples_split=2, n_estimators=100; total time=   0.9s\n",
      "[CV] END max_depth=5, max_features=auto, min_samples_split=2, n_estimators=100; total time=   0.9s\n",
      "[CV] END max_depth=5, max_features=auto, min_samples_split=2, n_estimators=100; total time=   0.9s\n",
      "[CV] END max_depth=5, max_features=auto, min_samples_split=2, n_estimators=1000; total time=   9.8s\n",
      "[CV] END max_depth=5, max_features=auto, min_samples_split=2, n_estimators=1000; total time=   9.7s\n",
      "[CV] END max_depth=5, max_features=auto, min_samples_split=2, n_estimators=1000; total time=   9.6s\n",
      "[CV] END max_depth=5, max_features=auto, min_samples_split=2, n_estimators=1000; total time=   9.7s\n",
      "[CV] END max_depth=5, max_features=auto, min_samples_split=2, n_estimators=1000; total time=   9.7s\n",
      "[CV] END max_depth=5, max_features=auto, min_samples_split=4, n_estimators=100; total time=   0.9s\n",
      "[CV] END max_depth=5, max_features=auto, min_samples_split=4, n_estimators=100; total time=   0.9s\n",
      "[CV] END max_depth=5, max_features=auto, min_samples_split=4, n_estimators=100; total time=   0.9s\n",
      "[CV] END max_depth=5, max_features=auto, min_samples_split=4, n_estimators=100; total time=   0.9s\n",
      "[CV] END max_depth=5, max_features=auto, min_samples_split=4, n_estimators=100; total time=   0.9s\n",
      "[CV] END max_depth=5, max_features=auto, min_samples_split=4, n_estimators=1000; total time=  10.4s\n",
      "[CV] END max_depth=5, max_features=auto, min_samples_split=4, n_estimators=1000; total time=  29.4s\n",
      "[CV] END max_depth=5, max_features=auto, min_samples_split=4, n_estimators=1000; total time=  30.1s\n",
      "[CV] END max_depth=5, max_features=auto, min_samples_split=4, n_estimators=1000; total time=  23.4s\n",
      "[CV] END max_depth=5, max_features=auto, min_samples_split=4, n_estimators=1000; total time=  18.6s\n",
      "[CV] END max_depth=5, max_features=sqrt, min_samples_split=2, n_estimators=100; total time=   0.2s\n",
      "[CV] END max_depth=5, max_features=sqrt, min_samples_split=2, n_estimators=100; total time=   0.3s\n",
      "[CV] END max_depth=5, max_features=sqrt, min_samples_split=2, n_estimators=100; total time=   0.2s\n",
      "[CV] END max_depth=5, max_features=sqrt, min_samples_split=2, n_estimators=100; total time=   0.2s\n",
      "[CV] END max_depth=5, max_features=sqrt, min_samples_split=2, n_estimators=100; total time=   0.2s\n",
      "[CV] END max_depth=5, max_features=sqrt, min_samples_split=2, n_estimators=1000; total time=   3.0s\n",
      "[CV] END max_depth=5, max_features=sqrt, min_samples_split=2, n_estimators=1000; total time=   5.0s\n",
      "[CV] END max_depth=5, max_features=sqrt, min_samples_split=2, n_estimators=1000; total time=   8.9s\n",
      "[CV] END max_depth=5, max_features=sqrt, min_samples_split=2, n_estimators=1000; total time=   9.0s\n",
      "[CV] END max_depth=5, max_features=sqrt, min_samples_split=2, n_estimators=1000; total time=   9.1s\n",
      "[CV] END max_depth=5, max_features=sqrt, min_samples_split=4, n_estimators=100; total time=   0.7s\n",
      "[CV] END max_depth=5, max_features=sqrt, min_samples_split=4, n_estimators=100; total time=   0.8s\n",
      "[CV] END max_depth=5, max_features=sqrt, min_samples_split=4, n_estimators=100; total time=   0.8s\n",
      "[CV] END max_depth=5, max_features=sqrt, min_samples_split=4, n_estimators=100; total time=   0.8s\n",
      "[CV] END max_depth=5, max_features=sqrt, min_samples_split=4, n_estimators=100; total time=   0.9s\n",
      "[CV] END max_depth=5, max_features=sqrt, min_samples_split=4, n_estimators=1000; total time=   9.2s\n",
      "[CV] END max_depth=5, max_features=sqrt, min_samples_split=4, n_estimators=1000; total time=   9.5s\n",
      "[CV] END max_depth=5, max_features=sqrt, min_samples_split=4, n_estimators=1000; total time=   9.0s\n",
      "[CV] END max_depth=5, max_features=sqrt, min_samples_split=4, n_estimators=1000; total time=   2.7s\n",
      "[CV] END max_depth=5, max_features=sqrt, min_samples_split=4, n_estimators=1000; total time=   2.7s\n"
     ]
    },
    {
     "data": {
      "text/plain": [
       "GridSearchCV(cv=5, estimator=RandomForestRegressor(),\n",
       "             param_grid={'max_depth': [None, 5],\n",
       "                         'max_features': ['auto', 'sqrt'],\n",
       "                         'min_samples_split': [2, 4],\n",
       "                         'n_estimators': [100, 1000]},\n",
       "             verbose=2)"
      ]
     },
     "execution_count": 24,
     "metadata": {},
     "output_type": "execute_result"
    }
   ],
   "source": [
    "from sklearn.model_selection import GridSearchCV\n",
    "pipe_grid = {\n",
    "    \"n_estimators\": [100, 1000],\n",
    "    \"max_depth\": [None, 5],\n",
    "    \"max_features\": [\"auto\", \"sqrt\"],\n",
    "    \"min_samples_split\": [2, 4]\n",
    "}\n",
    "\n",
    "gs_model = GridSearchCV(rfmodel, pipe_grid, cv=5, verbose=2)\n",
    "gs_model.fit(X_train, y_train)"
   ]
  },
  {
   "cell_type": "code",
   "execution_count": 25,
   "id": "informative-barrel",
   "metadata": {
    "execution": {
     "iopub.execute_input": "2021-06-07T02:29:04.686441Z",
     "iopub.status.busy": "2021-06-07T02:29:04.685727Z",
     "iopub.status.idle": "2021-06-07T02:29:05.104933Z",
     "shell.execute_reply": "2021-06-07T02:29:05.104268Z",
     "shell.execute_reply.started": "2021-06-07T02:03:22.537567Z"
    },
    "papermill": {
     "duration": 0.517092,
     "end_time": "2021-06-07T02:29:05.105078",
     "exception": false,
     "start_time": "2021-06-07T02:29:04.587986",
     "status": "completed"
    },
    "tags": []
   },
   "outputs": [
    {
     "data": {
      "text/plain": [
       "0.7708006838521093"
      ]
     },
     "execution_count": 25,
     "metadata": {},
     "output_type": "execute_result"
    }
   ],
   "source": [
    "gs_model.score(X_test, y_test)"
   ]
  },
  {
   "cell_type": "markdown",
   "id": "incoming-radius",
   "metadata": {
    "papermill": {
     "duration": 0.089547,
     "end_time": "2021-06-07T02:29:05.284307",
     "exception": false,
     "start_time": "2021-06-07T02:29:05.194760",
     "status": "completed"
    },
    "tags": []
   },
   "source": [
    "### Saving Model"
   ]
  },
  {
   "cell_type": "code",
   "execution_count": 26,
   "id": "historical-found",
   "metadata": {
    "execution": {
     "iopub.execute_input": "2021-06-07T02:29:05.468170Z",
     "iopub.status.busy": "2021-06-07T02:29:05.467540Z",
     "iopub.status.idle": "2021-06-07T02:29:05.955050Z",
     "shell.execute_reply": "2021-06-07T02:29:05.954347Z",
     "shell.execute_reply.started": "2021-06-07T02:05:24.930493Z"
    },
    "papermill": {
     "duration": 0.582156,
     "end_time": "2021-06-07T02:29:05.955189",
     "exception": false,
     "start_time": "2021-06-07T02:29:05.373033",
     "status": "completed"
    },
    "tags": []
   },
   "outputs": [],
   "source": [
    "import pickle\n",
    "#Save\n",
    "pickle.dump(gs_model,open(\"gs_model_randomforest.pkl\",\"wb\"))"
   ]
  },
  {
   "cell_type": "code",
   "execution_count": 27,
   "id": "explicit-bronze",
   "metadata": {
    "execution": {
     "iopub.execute_input": "2021-06-07T02:29:06.140968Z",
     "iopub.status.busy": "2021-06-07T02:29:06.140344Z",
     "iopub.status.idle": "2021-06-07T02:29:06.587696Z",
     "shell.execute_reply": "2021-06-07T02:29:06.585857Z",
     "shell.execute_reply.started": "2021-06-07T02:06:57.635554Z"
    },
    "papermill": {
     "duration": 0.542538,
     "end_time": "2021-06-07T02:29:06.587894",
     "exception": false,
     "start_time": "2021-06-07T02:29:06.045356",
     "status": "completed"
    },
    "tags": []
   },
   "outputs": [],
   "source": [
    "#Load Model\n",
    "loadmodel = pickle.load(open(\"gs_model_randomforest.pkl\",\"rb\"))"
   ]
  },
  {
   "cell_type": "code",
   "execution_count": 28,
   "id": "prepared-geology",
   "metadata": {
    "execution": {
     "iopub.execute_input": "2021-06-07T02:29:06.779008Z",
     "iopub.status.busy": "2021-06-07T02:29:06.777954Z",
     "iopub.status.idle": "2021-06-07T02:29:07.203409Z",
     "shell.execute_reply": "2021-06-07T02:29:07.202195Z",
     "shell.execute_reply.started": "2021-06-07T02:06:58.637343Z"
    },
    "papermill": {
     "duration": 0.524881,
     "end_time": "2021-06-07T02:29:07.203610",
     "exception": false,
     "start_time": "2021-06-07T02:29:06.678729",
     "status": "completed"
    },
    "tags": []
   },
   "outputs": [
    {
     "data": {
      "text/plain": [
       "0.7708006838521093"
      ]
     },
     "execution_count": 28,
     "metadata": {},
     "output_type": "execute_result"
    }
   ],
   "source": [
    "loadmodel.score(X_test,y_test)"
   ]
  }
 ],
 "metadata": {
  "kernelspec": {
   "display_name": "Python 3",
   "language": "python",
   "name": "python3"
  },
  "language_info": {
   "codemirror_mode": {
    "name": "ipython",
    "version": 3
   },
   "file_extension": ".py",
   "mimetype": "text/x-python",
   "name": "python",
   "nbconvert_exporter": "python",
   "pygments_lexer": "ipython3",
   "version": "3.9.5"
  },
  "papermill": {
   "default_parameters": {},
   "duration": 1306.325373,
   "end_time": "2021-06-07T02:29:08.110062",
   "environment_variables": {},
   "exception": null,
   "input_path": "__notebook__.ipynb",
   "output_path": "__notebook__.ipynb",
   "parameters": {},
   "start_time": "2021-06-07T02:07:21.784689",
   "version": "2.3.2"
  }
 },
 "nbformat": 4,
 "nbformat_minor": 5
}
