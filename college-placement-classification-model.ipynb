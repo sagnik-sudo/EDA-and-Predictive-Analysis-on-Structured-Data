{
 "cells": [
  {
   "cell_type": "code",
   "execution_count": 1,
   "id": "sunrise-manual",
   "metadata": {
    "_cell_guid": "b1076dfc-b9ad-4769-8c92-a6c4dae69d19",
    "_kg_hide-input": true,
    "_kg_hide-output": true,
    "_uuid": "8f2839f25d086af736a60e9eeb907d3b93b6e0e5",
    "execution": {
     "iopub.execute_input": "2021-06-12T23:51:03.370486Z",
     "iopub.status.busy": "2021-06-12T23:51:03.369300Z",
     "iopub.status.idle": "2021-06-12T23:51:03.390748Z",
     "shell.execute_reply": "2021-06-12T23:51:03.391376Z",
     "shell.execute_reply.started": "2021-06-10T23:40:38.673832Z"
    },
    "papermill": {
     "duration": 0.071996,
     "end_time": "2021-06-12T23:51:03.391743",
     "exception": false,
     "start_time": "2021-06-12T23:51:03.319747",
     "status": "completed"
    },
    "tags": []
   },
   "outputs": [
    {
     "name": "stdout",
     "output_type": "stream",
     "text": [
      "/kaggle/input/factors-affecting-campus-placement/Placement_Data_Full_Class.csv\n"
     ]
    }
   ],
   "source": [
    "import numpy as np # linear algebra\n",
    "import pandas as pd # data processing, CSV file I/O (e.g. pd.read_csv)\n",
    "import os\n",
    "for dirname, _, filenames in os.walk('./input'):\n",
    "    for filename in filenames:\n",
    "        print(os.path.join(dirname, filename))"
   ]
  },
  {
   "cell_type": "markdown",
   "id": "floral-nicholas",
   "metadata": {
    "papermill": {
     "duration": 0.045099,
     "end_time": "2021-06-12T23:51:03.482790",
     "exception": false,
     "start_time": "2021-06-12T23:51:03.437691",
     "status": "completed"
    },
    "tags": []
   },
   "source": [
    "# Getting the data ready"
   ]
  },
  {
   "cell_type": "markdown",
   "id": "grave-external",
   "metadata": {
    "papermill": {
     "duration": 0.0444,
     "end_time": "2021-06-12T23:51:03.572211",
     "exception": false,
     "start_time": "2021-06-12T23:51:03.527811",
     "status": "completed"
    },
    "tags": []
   },
   "source": [
    "### Loading DataSet"
   ]
  },
  {
   "cell_type": "code",
   "execution_count": 2,
   "id": "dominant-warren",
   "metadata": {
    "execution": {
     "iopub.execute_input": "2021-06-12T23:51:03.667199Z",
     "iopub.status.busy": "2021-06-12T23:51:03.666470Z",
     "iopub.status.idle": "2021-06-12T23:51:03.690112Z",
     "shell.execute_reply": "2021-06-12T23:51:03.689381Z",
     "shell.execute_reply.started": "2021-06-10T23:40:38.687366Z"
    },
    "papermill": {
     "duration": 0.07316,
     "end_time": "2021-06-12T23:51:03.690287",
     "exception": false,
     "start_time": "2021-06-12T23:51:03.617127",
     "status": "completed"
    },
    "tags": []
   },
   "outputs": [],
   "source": [
    "data = pd.read_csv(\"./input/factors-affecting-campus-placement/Placement_Data_Full_Class.csv\")"
   ]
  },
  {
   "cell_type": "code",
   "execution_count": 3,
   "id": "innovative-terrorism",
   "metadata": {
    "execution": {
     "iopub.execute_input": "2021-06-12T23:51:03.794057Z",
     "iopub.status.busy": "2021-06-12T23:51:03.793331Z",
     "iopub.status.idle": "2021-06-12T23:51:03.823056Z",
     "shell.execute_reply": "2021-06-12T23:51:03.823589Z",
     "shell.execute_reply.started": "2021-06-10T23:40:38.702829Z"
    },
    "papermill": {
     "duration": 0.087714,
     "end_time": "2021-06-12T23:51:03.823794",
     "exception": false,
     "start_time": "2021-06-12T23:51:03.736080",
     "status": "completed"
    },
    "tags": []
   },
   "outputs": [
    {
     "data": {
      "text/html": [
       "<div>\n",
       "<style scoped>\n",
       "    .dataframe tbody tr th:only-of-type {\n",
       "        vertical-align: middle;\n",
       "    }\n",
       "\n",
       "    .dataframe tbody tr th {\n",
       "        vertical-align: top;\n",
       "    }\n",
       "\n",
       "    .dataframe thead th {\n",
       "        text-align: right;\n",
       "    }\n",
       "</style>\n",
       "<table border=\"1\" class=\"dataframe\">\n",
       "  <thead>\n",
       "    <tr style=\"text-align: right;\">\n",
       "      <th></th>\n",
       "      <th>sl_no</th>\n",
       "      <th>gender</th>\n",
       "      <th>ssc_p</th>\n",
       "      <th>ssc_b</th>\n",
       "      <th>hsc_p</th>\n",
       "      <th>hsc_b</th>\n",
       "      <th>hsc_s</th>\n",
       "      <th>degree_p</th>\n",
       "      <th>degree_t</th>\n",
       "      <th>workex</th>\n",
       "      <th>etest_p</th>\n",
       "      <th>specialisation</th>\n",
       "      <th>mba_p</th>\n",
       "      <th>status</th>\n",
       "      <th>salary</th>\n",
       "    </tr>\n",
       "  </thead>\n",
       "  <tbody>\n",
       "    <tr>\n",
       "      <th>0</th>\n",
       "      <td>1</td>\n",
       "      <td>M</td>\n",
       "      <td>67.00</td>\n",
       "      <td>Others</td>\n",
       "      <td>91.00</td>\n",
       "      <td>Others</td>\n",
       "      <td>Commerce</td>\n",
       "      <td>58.00</td>\n",
       "      <td>Sci&amp;Tech</td>\n",
       "      <td>No</td>\n",
       "      <td>55.0</td>\n",
       "      <td>Mkt&amp;HR</td>\n",
       "      <td>58.80</td>\n",
       "      <td>Placed</td>\n",
       "      <td>270000.0</td>\n",
       "    </tr>\n",
       "    <tr>\n",
       "      <th>1</th>\n",
       "      <td>2</td>\n",
       "      <td>M</td>\n",
       "      <td>79.33</td>\n",
       "      <td>Central</td>\n",
       "      <td>78.33</td>\n",
       "      <td>Others</td>\n",
       "      <td>Science</td>\n",
       "      <td>77.48</td>\n",
       "      <td>Sci&amp;Tech</td>\n",
       "      <td>Yes</td>\n",
       "      <td>86.5</td>\n",
       "      <td>Mkt&amp;Fin</td>\n",
       "      <td>66.28</td>\n",
       "      <td>Placed</td>\n",
       "      <td>200000.0</td>\n",
       "    </tr>\n",
       "    <tr>\n",
       "      <th>2</th>\n",
       "      <td>3</td>\n",
       "      <td>M</td>\n",
       "      <td>65.00</td>\n",
       "      <td>Central</td>\n",
       "      <td>68.00</td>\n",
       "      <td>Central</td>\n",
       "      <td>Arts</td>\n",
       "      <td>64.00</td>\n",
       "      <td>Comm&amp;Mgmt</td>\n",
       "      <td>No</td>\n",
       "      <td>75.0</td>\n",
       "      <td>Mkt&amp;Fin</td>\n",
       "      <td>57.80</td>\n",
       "      <td>Placed</td>\n",
       "      <td>250000.0</td>\n",
       "    </tr>\n",
       "    <tr>\n",
       "      <th>3</th>\n",
       "      <td>4</td>\n",
       "      <td>M</td>\n",
       "      <td>56.00</td>\n",
       "      <td>Central</td>\n",
       "      <td>52.00</td>\n",
       "      <td>Central</td>\n",
       "      <td>Science</td>\n",
       "      <td>52.00</td>\n",
       "      <td>Sci&amp;Tech</td>\n",
       "      <td>No</td>\n",
       "      <td>66.0</td>\n",
       "      <td>Mkt&amp;HR</td>\n",
       "      <td>59.43</td>\n",
       "      <td>Not Placed</td>\n",
       "      <td>NaN</td>\n",
       "    </tr>\n",
       "    <tr>\n",
       "      <th>4</th>\n",
       "      <td>5</td>\n",
       "      <td>M</td>\n",
       "      <td>85.80</td>\n",
       "      <td>Central</td>\n",
       "      <td>73.60</td>\n",
       "      <td>Central</td>\n",
       "      <td>Commerce</td>\n",
       "      <td>73.30</td>\n",
       "      <td>Comm&amp;Mgmt</td>\n",
       "      <td>No</td>\n",
       "      <td>96.8</td>\n",
       "      <td>Mkt&amp;Fin</td>\n",
       "      <td>55.50</td>\n",
       "      <td>Placed</td>\n",
       "      <td>425000.0</td>\n",
       "    </tr>\n",
       "  </tbody>\n",
       "</table>\n",
       "</div>"
      ],
      "text/plain": [
       "   sl_no gender  ssc_p    ssc_b  hsc_p    hsc_b     hsc_s  degree_p  \\\n",
       "0      1      M  67.00   Others  91.00   Others  Commerce     58.00   \n",
       "1      2      M  79.33  Central  78.33   Others   Science     77.48   \n",
       "2      3      M  65.00  Central  68.00  Central      Arts     64.00   \n",
       "3      4      M  56.00  Central  52.00  Central   Science     52.00   \n",
       "4      5      M  85.80  Central  73.60  Central  Commerce     73.30   \n",
       "\n",
       "    degree_t workex  etest_p specialisation  mba_p      status    salary  \n",
       "0   Sci&Tech     No     55.0         Mkt&HR  58.80      Placed  270000.0  \n",
       "1   Sci&Tech    Yes     86.5        Mkt&Fin  66.28      Placed  200000.0  \n",
       "2  Comm&Mgmt     No     75.0        Mkt&Fin  57.80      Placed  250000.0  \n",
       "3   Sci&Tech     No     66.0         Mkt&HR  59.43  Not Placed       NaN  \n",
       "4  Comm&Mgmt     No     96.8        Mkt&Fin  55.50      Placed  425000.0  "
      ]
     },
     "execution_count": 3,
     "metadata": {},
     "output_type": "execute_result"
    }
   ],
   "source": [
    "data.head()"
   ]
  },
  {
   "cell_type": "code",
   "execution_count": 4,
   "id": "arabic-parish",
   "metadata": {
    "execution": {
     "iopub.execute_input": "2021-06-12T23:51:03.936928Z",
     "iopub.status.busy": "2021-06-12T23:51:03.936135Z",
     "iopub.status.idle": "2021-06-12T23:51:03.940271Z",
     "shell.execute_reply": "2021-06-12T23:51:03.940772Z",
     "shell.execute_reply.started": "2021-06-10T23:40:38.730359Z"
    },
    "papermill": {
     "duration": 0.071808,
     "end_time": "2021-06-12T23:51:03.940975",
     "exception": false,
     "start_time": "2021-06-12T23:51:03.869167",
     "status": "completed"
    },
    "tags": []
   },
   "outputs": [
    {
     "data": {
      "text/html": [
       "<div>\n",
       "<style scoped>\n",
       "    .dataframe tbody tr th:only-of-type {\n",
       "        vertical-align: middle;\n",
       "    }\n",
       "\n",
       "    .dataframe tbody tr th {\n",
       "        vertical-align: top;\n",
       "    }\n",
       "\n",
       "    .dataframe thead th {\n",
       "        text-align: right;\n",
       "    }\n",
       "</style>\n",
       "<table border=\"1\" class=\"dataframe\">\n",
       "  <thead>\n",
       "    <tr style=\"text-align: right;\">\n",
       "      <th></th>\n",
       "      <th>sl_no</th>\n",
       "      <th>gender</th>\n",
       "      <th>ssc_p</th>\n",
       "      <th>ssc_b</th>\n",
       "      <th>hsc_p</th>\n",
       "      <th>hsc_b</th>\n",
       "      <th>hsc_s</th>\n",
       "      <th>degree_p</th>\n",
       "      <th>degree_t</th>\n",
       "      <th>workex</th>\n",
       "      <th>etest_p</th>\n",
       "      <th>specialisation</th>\n",
       "      <th>mba_p</th>\n",
       "      <th>salary</th>\n",
       "    </tr>\n",
       "    <tr>\n",
       "      <th>status</th>\n",
       "      <th></th>\n",
       "      <th></th>\n",
       "      <th></th>\n",
       "      <th></th>\n",
       "      <th></th>\n",
       "      <th></th>\n",
       "      <th></th>\n",
       "      <th></th>\n",
       "      <th></th>\n",
       "      <th></th>\n",
       "      <th></th>\n",
       "      <th></th>\n",
       "      <th></th>\n",
       "      <th></th>\n",
       "    </tr>\n",
       "  </thead>\n",
       "  <tbody>\n",
       "    <tr>\n",
       "      <th>0</th>\n",
       "      <td>67</td>\n",
       "      <td>67</td>\n",
       "      <td>67</td>\n",
       "      <td>67</td>\n",
       "      <td>67</td>\n",
       "      <td>67</td>\n",
       "      <td>67</td>\n",
       "      <td>67</td>\n",
       "      <td>67</td>\n",
       "      <td>67</td>\n",
       "      <td>67</td>\n",
       "      <td>67</td>\n",
       "      <td>67</td>\n",
       "      <td>0</td>\n",
       "    </tr>\n",
       "    <tr>\n",
       "      <th>1</th>\n",
       "      <td>148</td>\n",
       "      <td>148</td>\n",
       "      <td>148</td>\n",
       "      <td>148</td>\n",
       "      <td>148</td>\n",
       "      <td>148</td>\n",
       "      <td>148</td>\n",
       "      <td>148</td>\n",
       "      <td>148</td>\n",
       "      <td>148</td>\n",
       "      <td>148</td>\n",
       "      <td>148</td>\n",
       "      <td>148</td>\n",
       "      <td>148</td>\n",
       "    </tr>\n",
       "  </tbody>\n",
       "</table>\n",
       "</div>"
      ],
      "text/plain": [
       "        sl_no  gender  ssc_p  ssc_b  hsc_p  hsc_b  hsc_s  degree_p  degree_t  \\\n",
       "status                                                                         \n",
       "0          67      67     67     67     67     67     67        67        67   \n",
       "1         148     148    148    148    148    148    148       148       148   \n",
       "\n",
       "        workex  etest_p  specialisation  mba_p  salary  \n",
       "status                                                  \n",
       "0           67       67              67     67       0  \n",
       "1          148      148             148    148     148  "
      ]
     },
     "execution_count": 4,
     "metadata": {},
     "output_type": "execute_result"
    }
   ],
   "source": [
    "data['status'] = data['status'].map({'Placed': 1, 'Not Placed': 0})\n",
    "data.groupby(\"status\").count()"
   ]
  },
  {
   "cell_type": "markdown",
   "id": "worldwide-power",
   "metadata": {
    "papermill": {
     "duration": 0.047301,
     "end_time": "2021-06-12T23:51:04.035525",
     "exception": false,
     "start_time": "2021-06-12T23:51:03.988224",
     "status": "completed"
    },
    "tags": []
   },
   "source": [
    "### Splitting Between X and y"
   ]
  },
  {
   "cell_type": "code",
   "execution_count": 5,
   "id": "prepared-necklace",
   "metadata": {
    "execution": {
     "iopub.execute_input": "2021-06-12T23:51:04.143872Z",
     "iopub.status.busy": "2021-06-12T23:51:04.143168Z",
     "iopub.status.idle": "2021-06-12T23:51:04.146533Z",
     "shell.execute_reply": "2021-06-12T23:51:04.145927Z",
     "shell.execute_reply.started": "2021-06-10T23:40:38.758848Z"
    },
    "papermill": {
     "duration": 0.056393,
     "end_time": "2021-06-12T23:51:04.146700",
     "exception": false,
     "start_time": "2021-06-12T23:51:04.090307",
     "status": "completed"
    },
    "tags": []
   },
   "outputs": [],
   "source": [
    "X = data.drop([\"sl_no\",\"status\",\"salary\"],axis=1)\n",
    "y= data[\"status\"]"
   ]
  },
  {
   "cell_type": "code",
   "execution_count": 6,
   "id": "ruled-florence",
   "metadata": {
    "execution": {
     "iopub.execute_input": "2021-06-12T23:51:04.257151Z",
     "iopub.status.busy": "2021-06-12T23:51:04.256062Z",
     "iopub.status.idle": "2021-06-12T23:51:04.269922Z",
     "shell.execute_reply": "2021-06-12T23:51:04.270898Z",
     "shell.execute_reply.started": "2021-06-10T23:40:38.765819Z"
    },
    "papermill": {
     "duration": 0.077987,
     "end_time": "2021-06-12T23:51:04.271235",
     "exception": false,
     "start_time": "2021-06-12T23:51:04.193248",
     "status": "completed"
    },
    "tags": []
   },
   "outputs": [
    {
     "data": {
      "text/plain": [
       "(  gender  ssc_p    ssc_b  hsc_p    hsc_b     hsc_s  degree_p   degree_t  \\\n",
       " 0      M  67.00   Others  91.00   Others  Commerce     58.00   Sci&Tech   \n",
       " 1      M  79.33  Central  78.33   Others   Science     77.48   Sci&Tech   \n",
       " 2      M  65.00  Central  68.00  Central      Arts     64.00  Comm&Mgmt   \n",
       " \n",
       "   workex  etest_p specialisation  mba_p  \n",
       " 0     No     55.0         Mkt&HR  58.80  \n",
       " 1    Yes     86.5        Mkt&Fin  66.28  \n",
       " 2     No     75.0        Mkt&Fin  57.80  ,\n",
       " 0    1\n",
       " 1    1\n",
       " 2    1\n",
       " Name: status, dtype: int64)"
      ]
     },
     "execution_count": 6,
     "metadata": {},
     "output_type": "execute_result"
    }
   ],
   "source": [
    "X.head(3),y.head(3)"
   ]
  },
  {
   "cell_type": "markdown",
   "id": "selective-reviewer",
   "metadata": {
    "papermill": {
     "duration": 0.054503,
     "end_time": "2021-06-12T23:51:04.391846",
     "exception": false,
     "start_time": "2021-06-12T23:51:04.337343",
     "status": "completed"
    },
    "tags": []
   },
   "source": [
    "#### Converting Categorical Data to Numerical"
   ]
  },
  {
   "cell_type": "code",
   "execution_count": 7,
   "id": "departmental-meaning",
   "metadata": {
    "execution": {
     "iopub.execute_input": "2021-06-12T23:51:04.558898Z",
     "iopub.status.busy": "2021-06-12T23:51:04.526761Z",
     "iopub.status.idle": "2021-06-12T23:51:04.561719Z",
     "shell.execute_reply": "2021-06-12T23:51:04.559527Z",
     "shell.execute_reply.started": "2021-06-10T23:43:21.216085Z"
    },
    "papermill": {
     "duration": 0.121459,
     "end_time": "2021-06-12T23:51:04.561918",
     "exception": false,
     "start_time": "2021-06-12T23:51:04.440459",
     "status": "completed"
    },
    "tags": []
   },
   "outputs": [
    {
     "data": {
      "text/html": [
       "<div>\n",
       "<style scoped>\n",
       "    .dataframe tbody tr th:only-of-type {\n",
       "        vertical-align: middle;\n",
       "    }\n",
       "\n",
       "    .dataframe tbody tr th {\n",
       "        vertical-align: top;\n",
       "    }\n",
       "\n",
       "    .dataframe thead th {\n",
       "        text-align: right;\n",
       "    }\n",
       "</style>\n",
       "<table border=\"1\" class=\"dataframe\">\n",
       "  <thead>\n",
       "    <tr style=\"text-align: right;\">\n",
       "      <th></th>\n",
       "      <th>ssc_p</th>\n",
       "      <th>hsc_p</th>\n",
       "      <th>degree_p</th>\n",
       "      <th>etest_p</th>\n",
       "      <th>mba_p</th>\n",
       "      <th>gender_F</th>\n",
       "      <th>gender_M</th>\n",
       "      <th>ssc_b_Central</th>\n",
       "      <th>ssc_b_Others</th>\n",
       "      <th>hsc_b_Central</th>\n",
       "      <th>...</th>\n",
       "      <th>hsc_s_Arts</th>\n",
       "      <th>hsc_s_Commerce</th>\n",
       "      <th>hsc_s_Science</th>\n",
       "      <th>degree_t_Comm&amp;Mgmt</th>\n",
       "      <th>degree_t_Others</th>\n",
       "      <th>degree_t_Sci&amp;Tech</th>\n",
       "      <th>workex_No</th>\n",
       "      <th>workex_Yes</th>\n",
       "      <th>specialisation_Mkt&amp;Fin</th>\n",
       "      <th>specialisation_Mkt&amp;HR</th>\n",
       "    </tr>\n",
       "  </thead>\n",
       "  <tbody>\n",
       "    <tr>\n",
       "      <th>0</th>\n",
       "      <td>67.00</td>\n",
       "      <td>91.00</td>\n",
       "      <td>58.00</td>\n",
       "      <td>55.0</td>\n",
       "      <td>58.80</td>\n",
       "      <td>0</td>\n",
       "      <td>1</td>\n",
       "      <td>0</td>\n",
       "      <td>1</td>\n",
       "      <td>0</td>\n",
       "      <td>...</td>\n",
       "      <td>0</td>\n",
       "      <td>1</td>\n",
       "      <td>0</td>\n",
       "      <td>0</td>\n",
       "      <td>0</td>\n",
       "      <td>1</td>\n",
       "      <td>1</td>\n",
       "      <td>0</td>\n",
       "      <td>0</td>\n",
       "      <td>1</td>\n",
       "    </tr>\n",
       "    <tr>\n",
       "      <th>1</th>\n",
       "      <td>79.33</td>\n",
       "      <td>78.33</td>\n",
       "      <td>77.48</td>\n",
       "      <td>86.5</td>\n",
       "      <td>66.28</td>\n",
       "      <td>0</td>\n",
       "      <td>1</td>\n",
       "      <td>1</td>\n",
       "      <td>0</td>\n",
       "      <td>0</td>\n",
       "      <td>...</td>\n",
       "      <td>0</td>\n",
       "      <td>0</td>\n",
       "      <td>1</td>\n",
       "      <td>0</td>\n",
       "      <td>0</td>\n",
       "      <td>1</td>\n",
       "      <td>0</td>\n",
       "      <td>1</td>\n",
       "      <td>1</td>\n",
       "      <td>0</td>\n",
       "    </tr>\n",
       "    <tr>\n",
       "      <th>2</th>\n",
       "      <td>65.00</td>\n",
       "      <td>68.00</td>\n",
       "      <td>64.00</td>\n",
       "      <td>75.0</td>\n",
       "      <td>57.80</td>\n",
       "      <td>0</td>\n",
       "      <td>1</td>\n",
       "      <td>1</td>\n",
       "      <td>0</td>\n",
       "      <td>1</td>\n",
       "      <td>...</td>\n",
       "      <td>1</td>\n",
       "      <td>0</td>\n",
       "      <td>0</td>\n",
       "      <td>1</td>\n",
       "      <td>0</td>\n",
       "      <td>0</td>\n",
       "      <td>1</td>\n",
       "      <td>0</td>\n",
       "      <td>1</td>\n",
       "      <td>0</td>\n",
       "    </tr>\n",
       "    <tr>\n",
       "      <th>3</th>\n",
       "      <td>56.00</td>\n",
       "      <td>52.00</td>\n",
       "      <td>52.00</td>\n",
       "      <td>66.0</td>\n",
       "      <td>59.43</td>\n",
       "      <td>0</td>\n",
       "      <td>1</td>\n",
       "      <td>1</td>\n",
       "      <td>0</td>\n",
       "      <td>1</td>\n",
       "      <td>...</td>\n",
       "      <td>0</td>\n",
       "      <td>0</td>\n",
       "      <td>1</td>\n",
       "      <td>0</td>\n",
       "      <td>0</td>\n",
       "      <td>1</td>\n",
       "      <td>1</td>\n",
       "      <td>0</td>\n",
       "      <td>0</td>\n",
       "      <td>1</td>\n",
       "    </tr>\n",
       "    <tr>\n",
       "      <th>4</th>\n",
       "      <td>85.80</td>\n",
       "      <td>73.60</td>\n",
       "      <td>73.30</td>\n",
       "      <td>96.8</td>\n",
       "      <td>55.50</td>\n",
       "      <td>0</td>\n",
       "      <td>1</td>\n",
       "      <td>1</td>\n",
       "      <td>0</td>\n",
       "      <td>1</td>\n",
       "      <td>...</td>\n",
       "      <td>0</td>\n",
       "      <td>1</td>\n",
       "      <td>0</td>\n",
       "      <td>1</td>\n",
       "      <td>0</td>\n",
       "      <td>0</td>\n",
       "      <td>1</td>\n",
       "      <td>0</td>\n",
       "      <td>1</td>\n",
       "      <td>0</td>\n",
       "    </tr>\n",
       "  </tbody>\n",
       "</table>\n",
       "<p>5 rows × 21 columns</p>\n",
       "</div>"
      ],
      "text/plain": [
       "   ssc_p  hsc_p  degree_p  etest_p  mba_p  gender_F  gender_M  ssc_b_Central  \\\n",
       "0  67.00  91.00     58.00     55.0  58.80         0         1              0   \n",
       "1  79.33  78.33     77.48     86.5  66.28         0         1              1   \n",
       "2  65.00  68.00     64.00     75.0  57.80         0         1              1   \n",
       "3  56.00  52.00     52.00     66.0  59.43         0         1              1   \n",
       "4  85.80  73.60     73.30     96.8  55.50         0         1              1   \n",
       "\n",
       "   ssc_b_Others  hsc_b_Central  ...  hsc_s_Arts  hsc_s_Commerce  \\\n",
       "0             1              0  ...           0               1   \n",
       "1             0              0  ...           0               0   \n",
       "2             0              1  ...           1               0   \n",
       "3             0              1  ...           0               0   \n",
       "4             0              1  ...           0               1   \n",
       "\n",
       "   hsc_s_Science  degree_t_Comm&Mgmt  degree_t_Others  degree_t_Sci&Tech  \\\n",
       "0              0                   0                0                  1   \n",
       "1              1                   0                0                  1   \n",
       "2              0                   1                0                  0   \n",
       "3              1                   0                0                  1   \n",
       "4              0                   1                0                  0   \n",
       "\n",
       "   workex_No  workex_Yes  specialisation_Mkt&Fin  specialisation_Mkt&HR  \n",
       "0          1           0                       0                      1  \n",
       "1          0           1                       1                      0  \n",
       "2          1           0                       1                      0  \n",
       "3          1           0                       0                      1  \n",
       "4          1           0                       1                      0  \n",
       "\n",
       "[5 rows x 21 columns]"
      ]
     },
     "execution_count": 7,
     "metadata": {},
     "output_type": "execute_result"
    }
   ],
   "source": [
    "X_dummy = pd.get_dummies(X)\n",
    "X_dummy.head()"
   ]
  },
  {
   "cell_type": "markdown",
   "id": "skilled-visiting",
   "metadata": {
    "papermill": {
     "duration": 0.050867,
     "end_time": "2021-06-12T23:51:04.660912",
     "exception": false,
     "start_time": "2021-06-12T23:51:04.610045",
     "status": "completed"
    },
    "tags": []
   },
   "source": [
    "### Train and Test Data Split"
   ]
  },
  {
   "cell_type": "code",
   "execution_count": 8,
   "id": "oriental-yugoslavia",
   "metadata": {
    "execution": {
     "iopub.execute_input": "2021-06-12T23:51:04.771773Z",
     "iopub.status.busy": "2021-06-12T23:51:04.770785Z",
     "iopub.status.idle": "2021-06-12T23:51:05.822985Z",
     "shell.execute_reply": "2021-06-12T23:51:05.822203Z",
     "shell.execute_reply.started": "2021-06-10T23:51:01.060867Z"
    },
    "papermill": {
     "duration": 1.111405,
     "end_time": "2021-06-12T23:51:05.823157",
     "exception": false,
     "start_time": "2021-06-12T23:51:04.711752",
     "status": "completed"
    },
    "tags": []
   },
   "outputs": [],
   "source": [
    "from sklearn.model_selection import train_test_split\n",
    "np.random.seed(42)\n",
    "X_train,X_test, y_train, y_test = train_test_split(X_dummy,y,test_size=0.2)"
   ]
  },
  {
   "cell_type": "markdown",
   "id": "hairy-oxide",
   "metadata": {
    "papermill": {
     "duration": 0.046808,
     "end_time": "2021-06-12T23:51:05.917415",
     "exception": false,
     "start_time": "2021-06-12T23:51:05.870607",
     "status": "completed"
    },
    "tags": []
   },
   "source": [
    "# Choosing the right maching learning estimator/aglorithm/model \n",
    "and Fitting  chosen machine learning model to data and using it to make a prediction"
   ]
  },
  {
   "cell_type": "markdown",
   "id": "characteristic-bahrain",
   "metadata": {
    "papermill": {
     "duration": 0.046572,
     "end_time": "2021-06-12T23:51:06.011112",
     "exception": false,
     "start_time": "2021-06-12T23:51:05.964540",
     "status": "completed"
    },
    "tags": []
   },
   "source": [
    "### Model Fitting"
   ]
  },
  {
   "cell_type": "code",
   "execution_count": 9,
   "id": "valued-average",
   "metadata": {
    "execution": {
     "iopub.execute_input": "2021-06-12T23:51:06.112822Z",
     "iopub.status.busy": "2021-06-12T23:51:06.112057Z",
     "iopub.status.idle": "2021-06-12T23:51:06.541538Z",
     "shell.execute_reply": "2021-06-12T23:51:06.542010Z",
     "shell.execute_reply.started": "2021-06-10T23:58:12.415862Z"
    },
    "papermill": {
     "duration": 0.483431,
     "end_time": "2021-06-12T23:51:06.542205",
     "exception": false,
     "start_time": "2021-06-12T23:51:06.058774",
     "status": "completed"
    },
    "tags": []
   },
   "outputs": [
    {
     "data": {
      "text/plain": [
       "0.7906976744186046"
      ]
     },
     "execution_count": 9,
     "metadata": {},
     "output_type": "execute_result"
    }
   ],
   "source": [
    "from sklearn.ensemble import RandomForestClassifier\n",
    "np.random.seed(42)\n",
    "clf = RandomForestClassifier()\n",
    "clf.fit(X_train,y_train)\n",
    "clf.score(X_test,y_test)"
   ]
  },
  {
   "cell_type": "markdown",
   "id": "unnecessary-speaker",
   "metadata": {
    "papermill": {
     "duration": 0.046742,
     "end_time": "2021-06-12T23:51:06.635751",
     "exception": false,
     "start_time": "2021-06-12T23:51:06.589009",
     "status": "completed"
    },
    "tags": []
   },
   "source": [
    "### Using Model to produce predictions"
   ]
  },
  {
   "cell_type": "code",
   "execution_count": 10,
   "id": "cosmetic-substance",
   "metadata": {
    "execution": {
     "iopub.execute_input": "2021-06-12T23:51:06.754421Z",
     "iopub.status.busy": "2021-06-12T23:51:06.753553Z",
     "iopub.status.idle": "2021-06-12T23:51:06.757709Z",
     "shell.execute_reply": "2021-06-12T23:51:06.758174Z",
     "shell.execute_reply.started": "2021-06-11T00:02:59.103188Z"
    },
    "papermill": {
     "duration": 0.075481,
     "end_time": "2021-06-12T23:51:06.758376",
     "exception": false,
     "start_time": "2021-06-12T23:51:06.682895",
     "status": "completed"
    },
    "tags": []
   },
   "outputs": [
    {
     "data": {
      "text/plain": [
       "array([1, 1, 1, 0, 1])"
      ]
     },
     "execution_count": 10,
     "metadata": {},
     "output_type": "execute_result"
    }
   ],
   "source": [
    "y_pred = clf.predict(X_test)\n",
    "y_pred[:5]"
   ]
  },
  {
   "cell_type": "markdown",
   "id": "textile-agriculture",
   "metadata": {
    "papermill": {
     "duration": 0.047989,
     "end_time": "2021-06-12T23:51:06.854297",
     "exception": false,
     "start_time": "2021-06-12T23:51:06.806308",
     "status": "completed"
    },
    "tags": []
   },
   "source": [
    "# Evaluation of Model"
   ]
  },
  {
   "cell_type": "markdown",
   "id": "saving-athletics",
   "metadata": {
    "papermill": {
     "duration": 0.048675,
     "end_time": "2021-06-12T23:51:06.951950",
     "exception": false,
     "start_time": "2021-06-12T23:51:06.903275",
     "status": "completed"
    },
    "tags": []
   },
   "source": [
    "### Scoring Metrics"
   ]
  },
  {
   "cell_type": "markdown",
   "id": "trained-meditation",
   "metadata": {
    "papermill": {
     "duration": 0.04895,
     "end_time": "2021-06-12T23:51:07.049353",
     "exception": false,
     "start_time": "2021-06-12T23:51:07.000403",
     "status": "completed"
    },
    "tags": []
   },
   "source": [
    "#### Accuracy Score"
   ]
  },
  {
   "cell_type": "code",
   "execution_count": 11,
   "id": "contained-impression",
   "metadata": {
    "execution": {
     "iopub.execute_input": "2021-06-12T23:51:07.153224Z",
     "iopub.status.busy": "2021-06-12T23:51:07.152260Z",
     "iopub.status.idle": "2021-06-12T23:51:07.156742Z",
     "shell.execute_reply": "2021-06-12T23:51:07.157256Z",
     "shell.execute_reply.started": "2021-06-11T00:03:08.258854Z"
    },
    "papermill": {
     "duration": 0.060213,
     "end_time": "2021-06-12T23:51:07.157482",
     "exception": false,
     "start_time": "2021-06-12T23:51:07.097269",
     "status": "completed"
    },
    "tags": []
   },
   "outputs": [
    {
     "data": {
      "text/plain": [
       "0.7906976744186046"
      ]
     },
     "execution_count": 11,
     "metadata": {},
     "output_type": "execute_result"
    }
   ],
   "source": [
    "from sklearn.metrics import accuracy_score\n",
    "accuracy_score(y_test,y_pred)"
   ]
  },
  {
   "cell_type": "markdown",
   "id": "phantom-pasta",
   "metadata": {
    "papermill": {
     "duration": 0.049364,
     "end_time": "2021-06-12T23:51:07.256799",
     "exception": false,
     "start_time": "2021-06-12T23:51:07.207435",
     "status": "completed"
    },
    "tags": []
   },
   "source": [
    "#### Prediction Probability"
   ]
  },
  {
   "cell_type": "code",
   "execution_count": 12,
   "id": "collaborative-consolidation",
   "metadata": {
    "execution": {
     "iopub.execute_input": "2021-06-12T23:51:07.373923Z",
     "iopub.status.busy": "2021-06-12T23:51:07.373223Z",
     "iopub.status.idle": "2021-06-12T23:51:07.377355Z",
     "shell.execute_reply": "2021-06-12T23:51:07.376822Z",
     "shell.execute_reply.started": "2021-06-11T00:03:59.571164Z"
    },
    "papermill": {
     "duration": 0.07312,
     "end_time": "2021-06-12T23:51:07.377539",
     "exception": false,
     "start_time": "2021-06-12T23:51:07.304419",
     "status": "completed"
    },
    "tags": []
   },
   "outputs": [
    {
     "data": {
      "text/plain": [
       "array([[0.1 , 0.9 ],\n",
       "       [0.11, 0.89],\n",
       "       [0.04, 0.96],\n",
       "       [0.65, 0.35],\n",
       "       [0.04, 0.96]])"
      ]
     },
     "execution_count": 12,
     "metadata": {},
     "output_type": "execute_result"
    }
   ],
   "source": [
    "clf.predict_proba(X_test[:5])"
   ]
  },
  {
   "cell_type": "markdown",
   "id": "internal-investor",
   "metadata": {
    "papermill": {
     "duration": 0.049128,
     "end_time": "2021-06-12T23:51:07.475788",
     "exception": false,
     "start_time": "2021-06-12T23:51:07.426660",
     "status": "completed"
    },
    "tags": []
   },
   "source": [
    "#### Cross Validation Score"
   ]
  },
  {
   "cell_type": "code",
   "execution_count": 13,
   "id": "integral-shame",
   "metadata": {
    "execution": {
     "iopub.execute_input": "2021-06-12T23:51:07.579861Z",
     "iopub.status.busy": "2021-06-12T23:51:07.579065Z",
     "iopub.status.idle": "2021-06-12T23:51:08.765147Z",
     "shell.execute_reply": "2021-06-12T23:51:08.765663Z",
     "shell.execute_reply.started": "2021-06-11T00:11:24.305258Z"
    },
    "papermill": {
     "duration": 1.241579,
     "end_time": "2021-06-12T23:51:08.765859",
     "exception": false,
     "start_time": "2021-06-12T23:51:07.524280",
     "status": "completed"
    },
    "tags": []
   },
   "outputs": [
    {
     "data": {
      "text/plain": [
       "array([0.88888889, 0.86111111, 0.88888889, 0.88888889, 0.83333333,\n",
       "       0.82857143])"
      ]
     },
     "execution_count": 13,
     "metadata": {},
     "output_type": "execute_result"
    }
   ],
   "source": [
    "from sklearn.model_selection import cross_val_score\n",
    "np.random.seed(42)\n",
    "cross_val_score(clf,X_dummy,y,cv=6)"
   ]
  },
  {
   "cell_type": "markdown",
   "id": "cosmetic-column",
   "metadata": {
    "execution": {
     "iopub.execute_input": "2021-06-11T00:12:08.227654Z",
     "iopub.status.busy": "2021-06-11T00:12:08.227268Z",
     "iopub.status.idle": "2021-06-11T00:12:08.231469Z",
     "shell.execute_reply": "2021-06-11T00:12:08.230567Z",
     "shell.execute_reply.started": "2021-06-11T00:12:08.227621Z"
    },
    "papermill": {
     "duration": 0.047896,
     "end_time": "2021-06-12T23:51:08.862148",
     "exception": false,
     "start_time": "2021-06-12T23:51:08.814252",
     "status": "completed"
    },
    "tags": []
   },
   "source": [
    "#### Single Score vs Cross Validation Score"
   ]
  },
  {
   "cell_type": "code",
   "execution_count": 14,
   "id": "independent-degree",
   "metadata": {
    "execution": {
     "iopub.execute_input": "2021-06-12T23:51:08.962818Z",
     "iopub.status.busy": "2021-06-12T23:51:08.962152Z",
     "iopub.status.idle": "2021-06-12T23:51:10.167253Z",
     "shell.execute_reply": "2021-06-12T23:51:10.166746Z",
     "shell.execute_reply.started": "2021-06-11T00:19:20.033332Z"
    },
    "papermill": {
     "duration": 1.257032,
     "end_time": "2021-06-12T23:51:10.167397",
     "exception": false,
     "start_time": "2021-06-12T23:51:08.910365",
     "status": "completed"
    },
    "tags": []
   },
   "outputs": [
    {
     "data": {
      "text/html": [
       "<div>\n",
       "<style scoped>\n",
       "    .dataframe tbody tr th:only-of-type {\n",
       "        vertical-align: middle;\n",
       "    }\n",
       "\n",
       "    .dataframe tbody tr th {\n",
       "        vertical-align: top;\n",
       "    }\n",
       "\n",
       "    .dataframe thead th {\n",
       "        text-align: right;\n",
       "    }\n",
       "</style>\n",
       "<table border=\"1\" class=\"dataframe\">\n",
       "  <thead>\n",
       "    <tr style=\"text-align: right;\">\n",
       "      <th></th>\n",
       "      <th>Classification Single Score</th>\n",
       "      <th>Cross Validation Score</th>\n",
       "    </tr>\n",
       "  </thead>\n",
       "  <tbody>\n",
       "    <tr>\n",
       "      <th>0</th>\n",
       "      <td>0.790698</td>\n",
       "      <td>0.864947</td>\n",
       "    </tr>\n",
       "  </tbody>\n",
       "</table>\n",
       "</div>"
      ],
      "text/plain": [
       "   Classification Single Score  Cross Validation Score\n",
       "0                     0.790698                0.864947"
      ]
     },
     "execution_count": 14,
     "metadata": {},
     "output_type": "execute_result"
    }
   ],
   "source": [
    "np.random.seed(42)\n",
    "clf_single_score = clf.score(X_test,y_test)\n",
    "clf_crossval_score = np.mean(cross_val_score(clf,X_dummy,y,cv=6))\n",
    "pd.DataFrame([{\"Classification Single Score\":clf_single_score,\"Cross Validation Score\":clf_crossval_score}])"
   ]
  },
  {
   "cell_type": "markdown",
   "id": "sustainable-brother",
   "metadata": {
    "execution": {
     "iopub.execute_input": "2021-06-11T00:25:57.898198Z",
     "iopub.status.busy": "2021-06-11T00:25:57.897808Z",
     "iopub.status.idle": "2021-06-11T00:25:57.902973Z",
     "shell.execute_reply": "2021-06-11T00:25:57.901537Z",
     "shell.execute_reply.started": "2021-06-11T00:25:57.898166Z"
    },
    "papermill": {
     "duration": 0.049047,
     "end_time": "2021-06-12T23:51:10.266238",
     "exception": false,
     "start_time": "2021-06-12T23:51:10.217191",
     "status": "completed"
    },
    "tags": []
   },
   "source": [
    "### Area under Receiver Operating Characteristic Curve (ROC)"
   ]
  },
  {
   "cell_type": "code",
   "execution_count": 15,
   "id": "interested-perfume",
   "metadata": {
    "execution": {
     "iopub.execute_input": "2021-06-12T23:51:10.376582Z",
     "iopub.status.busy": "2021-06-12T23:51:10.374196Z",
     "iopub.status.idle": "2021-06-12T23:51:10.391519Z",
     "shell.execute_reply": "2021-06-12T23:51:10.390976Z",
     "shell.execute_reply.started": "2021-06-11T00:31:33.600208Z"
    },
    "papermill": {
     "duration": 0.076457,
     "end_time": "2021-06-12T23:51:10.391692",
     "exception": false,
     "start_time": "2021-06-12T23:51:10.315235",
     "status": "completed"
    },
    "tags": []
   },
   "outputs": [
    {
     "data": {
      "text/plain": [
       "array([0.        , 0.        , 0.        , 0.        , 0.        ,\n",
       "       0.08333333, 0.08333333, 0.08333333, 0.08333333, 0.08333333,\n",
       "       0.25      , 0.25      , 0.41666667, 0.41666667, 0.5       ,\n",
       "       0.5       , 0.66666667, 0.66666667, 0.75      , 0.91666667,\n",
       "       1.        ])"
      ]
     },
     "execution_count": 15,
     "metadata": {},
     "output_type": "execute_result"
    }
   ],
   "source": [
    "from sklearn.metrics import roc_curve\n",
    "y_prob = clf.predict_proba(X_test)\n",
    "y_positive = y_prob[:,1]\n",
    "\n",
    "#Calculate false positive rate, true positive rate and thresholds\n",
    "fpr,tpr,thresholds = roc_curve(y_test,y_positive)\n",
    "fpr"
   ]
  },
  {
   "cell_type": "code",
   "execution_count": 16,
   "id": "configured-archive",
   "metadata": {
    "execution": {
     "iopub.execute_input": "2021-06-12T23:51:10.515362Z",
     "iopub.status.busy": "2021-06-12T23:51:10.514691Z",
     "iopub.status.idle": "2021-06-12T23:51:10.698498Z",
     "shell.execute_reply": "2021-06-12T23:51:10.698961Z",
     "shell.execute_reply.started": "2021-06-11T00:37:35.474478Z"
    },
    "papermill": {
     "duration": 0.257934,
     "end_time": "2021-06-12T23:51:10.699145",
     "exception": false,
     "start_time": "2021-06-12T23:51:10.441211",
     "status": "completed"
    },
    "tags": []
   },
   "outputs": [
    {
     "data": {
      "image/png": "[encoded data removed]",
      "text/plain": [
       "<Figure size 432x288 with 1 Axes>"
      ]
     },
     "metadata": {
      "needs_background": "light"
     },
     "output_type": "display_data"
    }
   ],
   "source": [
    "import matplotlib.pyplot as plt\n",
    "def plot_roc(fpr,tpr):\n",
    "    plt.plot(fpr,tpr,color='orange',label='ROC')\n",
    "    plt.plot([0,1],[0,1],color='darkblue',linestyle='--',label=\"Guessing\")\n",
    "    plt.xlabel(\"False Positive Rate\")\n",
    "    plt.ylabel(\"True Positive Rate\")\n",
    "    plt.title(\"Receiver Operating Characteristics Curve (ROC)\")\n",
    "    plt.legend()\n",
    "    plt.show()\n",
    "    \n",
    "plot_roc(fpr,tpr)"
   ]
  },
  {
   "cell_type": "markdown",
   "id": "conventional-tamil",
   "metadata": {
    "papermill": {
     "duration": 0.049729,
     "end_time": "2021-06-12T23:51:10.798981",
     "exception": false,
     "start_time": "2021-06-12T23:51:10.749252",
     "status": "completed"
    },
    "tags": []
   },
   "source": [
    "#### ROC Score"
   ]
  },
  {
   "cell_type": "code",
   "execution_count": 17,
   "id": "amended-craft",
   "metadata": {
    "execution": {
     "iopub.execute_input": "2021-06-12T23:51:10.902783Z",
     "iopub.status.busy": "2021-06-12T23:51:10.901777Z",
     "iopub.status.idle": "2021-06-12T23:51:10.909347Z",
     "shell.execute_reply": "2021-06-12T23:51:10.909864Z",
     "shell.execute_reply.started": "2021-06-11T00:39:12.214811Z"
    },
    "papermill": {
     "duration": 0.060963,
     "end_time": "2021-06-12T23:51:10.910037",
     "exception": false,
     "start_time": "2021-06-12T23:51:10.849074",
     "status": "completed"
    },
    "tags": []
   },
   "outputs": [
    {
     "data": {
      "text/plain": [
       "0.8588709677419354"
      ]
     },
     "execution_count": 17,
     "metadata": {},
     "output_type": "execute_result"
    }
   ],
   "source": [
    "from sklearn.metrics import roc_auc_score\n",
    "roc_auc_score(y_test,y_positive)"
   ]
  },
  {
   "cell_type": "markdown",
   "id": "comparable-baptist",
   "metadata": {
    "papermill": {
     "duration": 0.049968,
     "end_time": "2021-06-12T23:51:11.011225",
     "exception": false,
     "start_time": "2021-06-12T23:51:10.961257",
     "status": "completed"
    },
    "tags": []
   },
   "source": [
    "### Confusion Matrix"
   ]
  },
  {
   "cell_type": "code",
   "execution_count": 18,
   "id": "blank-occasions",
   "metadata": {
    "execution": {
     "iopub.execute_input": "2021-06-12T23:51:11.117811Z",
     "iopub.status.busy": "2021-06-12T23:51:11.116804Z",
     "iopub.status.idle": "2021-06-12T23:51:11.140874Z",
     "shell.execute_reply": "2021-06-12T23:51:11.140317Z",
     "shell.execute_reply.started": "2021-06-11T00:41:26.482022Z"
    },
    "papermill": {
     "duration": 0.078399,
     "end_time": "2021-06-12T23:51:11.141021",
     "exception": false,
     "start_time": "2021-06-12T23:51:11.062622",
     "status": "completed"
    },
    "tags": []
   },
   "outputs": [
    {
     "data": {
      "text/plain": [
       "array([[ 6,  6],\n",
       "       [ 3, 28]])"
      ]
     },
     "execution_count": 18,
     "metadata": {},
     "output_type": "execute_result"
    }
   ],
   "source": [
    "from sklearn.metrics import confusion_matrix\n",
    "y_pred = clf.predict(X_test)\n",
    "confusion_matrix(y_test,y_pred)"
   ]
  },
  {
   "cell_type": "markdown",
   "id": "transsexual-array",
   "metadata": {
    "papermill": {
     "duration": 0.051599,
     "end_time": "2021-06-12T23:51:11.243066",
     "exception": false,
     "start_time": "2021-06-12T23:51:11.191467",
     "status": "completed"
    },
    "tags": []
   },
   "source": [
    "#### Visualizing Confusion Matrix"
   ]
  },
  {
   "cell_type": "code",
   "execution_count": 19,
   "id": "reduced-manufacturer",
   "metadata": {
    "execution": {
     "iopub.execute_input": "2021-06-12T23:51:11.357228Z",
     "iopub.status.busy": "2021-06-12T23:51:11.356089Z",
     "iopub.status.idle": "2021-06-12T23:51:11.396694Z",
     "shell.execute_reply": "2021-06-12T23:51:11.397146Z",
     "shell.execute_reply.started": "2021-06-11T00:42:58.211475Z"
    },
    "papermill": {
     "duration": 0.103321,
     "end_time": "2021-06-12T23:51:11.397348",
     "exception": false,
     "start_time": "2021-06-12T23:51:11.294027",
     "status": "completed"
    },
    "tags": []
   },
   "outputs": [
    {
     "data": {
      "text/html": [
       "<div>\n",
       "<style scoped>\n",
       "    .dataframe tbody tr th:only-of-type {\n",
       "        vertical-align: middle;\n",
       "    }\n",
       "\n",
       "    .dataframe tbody tr th {\n",
       "        vertical-align: top;\n",
       "    }\n",
       "\n",
       "    .dataframe thead th {\n",
       "        text-align: right;\n",
       "    }\n",
       "</style>\n",
       "<table border=\"1\" class=\"dataframe\">\n",
       "  <thead>\n",
       "    <tr style=\"text-align: right;\">\n",
       "      <th>Predicted Label</th>\n",
       "      <th>0</th>\n",
       "      <th>1</th>\n",
       "    </tr>\n",
       "    <tr>\n",
       "      <th>Actual Label</th>\n",
       "      <th></th>\n",
       "      <th></th>\n",
       "    </tr>\n",
       "  </thead>\n",
       "  <tbody>\n",
       "    <tr>\n",
       "      <th>0</th>\n",
       "      <td>6</td>\n",
       "      <td>6</td>\n",
       "    </tr>\n",
       "    <tr>\n",
       "      <th>1</th>\n",
       "      <td>3</td>\n",
       "      <td>28</td>\n",
       "    </tr>\n",
       "  </tbody>\n",
       "</table>\n",
       "</div>"
      ],
      "text/plain": [
       "Predicted Label  0   1\n",
       "Actual Label          \n",
       "0                6   6\n",
       "1                3  28"
      ]
     },
     "execution_count": 19,
     "metadata": {},
     "output_type": "execute_result"
    }
   ],
   "source": [
    "pd.crosstab(y_test,y_pred,\n",
    "           rownames=[\"Actual Label\"],\n",
    "           colnames=[\"Predicted Label\"])"
   ]
  },
  {
   "cell_type": "code",
   "execution_count": 20,
   "id": "voluntary-croatia",
   "metadata": {
    "execution": {
     "iopub.execute_input": "2021-06-12T23:51:11.506178Z",
     "iopub.status.busy": "2021-06-12T23:51:11.505164Z",
     "iopub.status.idle": "2021-06-12T23:51:11.827902Z",
     "shell.execute_reply": "2021-06-12T23:51:11.828362Z",
     "shell.execute_reply.started": "2021-06-11T00:45:52.302638Z"
    },
    "papermill": {
     "duration": 0.379006,
     "end_time": "2021-06-12T23:51:11.828601",
     "exception": false,
     "start_time": "2021-06-12T23:51:11.449595",
     "status": "completed"
    },
    "tags": []
   },
   "outputs": [
    {
     "data": {
      "image/png": "[encoded data removed]",
      "text/plain": [
       "<Figure size 432x288 with 2 Axes>"
      ]
     },
     "metadata": {},
     "output_type": "display_data"
    }
   ],
   "source": [
    "import seaborn as sns\n",
    "sns.set(font_scale=1.5)\n",
    "conf_mat = confusion_matrix(y_test,y_pred)\n",
    "sns.heatmap(conf_mat);"
   ]
  },
  {
   "cell_type": "code",
   "execution_count": 21,
   "id": "sized-partnership",
   "metadata": {
    "execution": {
     "iopub.execute_input": "2021-06-12T23:51:11.938659Z",
     "iopub.status.busy": "2021-06-12T23:51:11.937966Z",
     "iopub.status.idle": "2021-06-12T23:51:12.265814Z",
     "shell.execute_reply": "2021-06-12T23:51:12.264988Z",
     "shell.execute_reply.started": "2021-06-11T00:46:45.607737Z"
    },
    "papermill": {
     "duration": 0.384334,
     "end_time": "2021-06-12T23:51:12.266034",
     "exception": false,
     "start_time": "2021-06-12T23:51:11.881700",
     "status": "completed"
    },
    "tags": []
   },
   "outputs": [
    {
     "data": {
      "image/png": "[encoded data removed]",
      "text/plain": [
       "<Figure size 216x216 with 1 Axes>"
      ]
     },
     "metadata": {},
     "output_type": "display_data"
    }
   ],
   "source": [
    "def plot_conf_mat(conf_mat):\n",
    "    \"\"\"\n",
    "    Plots a confusion matrix using Seaborn's heatmap().\n",
    "    \"\"\"\n",
    "    fig, ax = plt.subplots(figsize=(3, 3))\n",
    "    ax = sns.heatmap(conf_mat,\n",
    "                     annot=True, # Annotate the boxes \n",
    "                     cbar=False)\n",
    "    plt.xlabel('Predicted label')\n",
    "    plt.ylabel('True label');\n",
    "\n",
    "plot_conf_mat(conf_mat)"
   ]
  },
  {
   "cell_type": "code",
   "execution_count": 22,
   "id": "aging-ordinary",
   "metadata": {
    "execution": {
     "iopub.execute_input": "2021-06-12T23:51:12.383269Z",
     "iopub.status.busy": "2021-06-12T23:51:12.382558Z",
     "iopub.status.idle": "2021-06-12T23:51:12.580869Z",
     "shell.execute_reply": "2021-06-12T23:51:12.581376Z",
     "shell.execute_reply.started": "2021-06-11T00:47:35.89912Z"
    },
    "papermill": {
     "duration": 0.26186,
     "end_time": "2021-06-12T23:51:12.581624",
     "exception": false,
     "start_time": "2021-06-12T23:51:12.319764",
     "status": "completed"
    },
    "tags": []
   },
   "outputs": [
    {
     "data": {
      "text/plain": [
       "<sklearn.metrics._plot.confusion_matrix.ConfusionMatrixDisplay at 0x7fbaadf1ec10>"
      ]
     },
     "execution_count": 22,
     "metadata": {},
     "output_type": "execute_result"
    },
    {
     "data": {
      "image/png": "[encoded data removed]",
      "text/plain": [
       "<Figure size 432x288 with 2 Axes>"
      ]
     },
     "metadata": {},
     "output_type": "display_data"
    }
   ],
   "source": [
    "from sklearn.metrics import plot_confusion_matrix\n",
    "\n",
    "plot_confusion_matrix(clf, X_dummy, y)"
   ]
  },
  {
   "cell_type": "markdown",
   "id": "placed-distribution",
   "metadata": {
    "execution": {
     "iopub.execute_input": "2021-06-11T00:48:23.299075Z",
     "iopub.status.busy": "2021-06-11T00:48:23.298729Z",
     "iopub.status.idle": "2021-06-11T00:48:23.303874Z",
     "shell.execute_reply": "2021-06-11T00:48:23.302625Z",
     "shell.execute_reply.started": "2021-06-11T00:48:23.299045Z"
    },
    "papermill": {
     "duration": 0.05622,
     "end_time": "2021-06-12T23:51:12.692330",
     "exception": false,
     "start_time": "2021-06-12T23:51:12.636110",
     "status": "completed"
    },
    "tags": []
   },
   "source": [
    "### Classification Report\n",
    "* Precision - Indicates the proportion of positive identifications (model predicted class 1) which were actually correct. A model which produces no false positives has a precision of 1.0.\n",
    "* Recall - Indicates the proportion of actual positives which were correctly classified. A model which produces no false negatives has a recall of 1.0.\n",
    "* F1 score - A combination of precision and recall. A perfect model achieves an F1 score of 1.0.\n",
    "* Support - The number of samples each metric was calculated on.\n",
    "* Accuracy - The accuracy of the model in decimal form. Perfect accuracy is equal to 1.0, in other words, getting the prediction right 100% of the time.\n",
    "* Macro avg - Short for macro average, the average precision, recall and F1 score between classes. Macro avg doesn't take class imbalance into effect. So if you do have class imbalances (more examples of one class than another), you should pay attention to this.\n",
    "* Weighted avg - Short for weighted average, the weighted average precision, recall and F1 score between classes. Weighted means each metric is calculated with respect to how many samples there are in each class. This metric will favour the majority class (e.g. it will give a high value when one class out performs another due to having more samples)."
   ]
  },
  {
   "cell_type": "code",
   "execution_count": 23,
   "id": "rising-guard",
   "metadata": {
    "execution": {
     "iopub.execute_input": "2021-06-12T23:51:12.809321Z",
     "iopub.status.busy": "2021-06-12T23:51:12.808624Z",
     "iopub.status.idle": "2021-06-12T23:51:12.817963Z",
     "shell.execute_reply": "2021-06-12T23:51:12.816916Z",
     "shell.execute_reply.started": "2021-06-11T00:50:26.428413Z"
    },
    "papermill": {
     "duration": 0.070871,
     "end_time": "2021-06-12T23:51:12.818179",
     "exception": false,
     "start_time": "2021-06-12T23:51:12.747308",
     "status": "completed"
    },
    "tags": []
   },
   "outputs": [
    {
     "name": "stdout",
     "output_type": "stream",
     "text": [
      "              precision    recall  f1-score   support\n",
      "\n",
      "           0       0.67      0.50      0.57        12\n",
      "           1       0.82      0.90      0.86        31\n",
      "\n",
      "    accuracy                           0.79        43\n",
      "   macro avg       0.75      0.70      0.72        43\n",
      "weighted avg       0.78      0.79      0.78        43\n",
      "\n"
     ]
    }
   ],
   "source": [
    "from sklearn.metrics import classification_report\n",
    "print(classification_report(y_test,y_pred))"
   ]
  },
  {
   "cell_type": "markdown",
   "id": "included-petite",
   "metadata": {
    "papermill": {
     "duration": 0.053853,
     "end_time": "2021-06-12T23:51:12.927346",
     "exception": false,
     "start_time": "2021-06-12T23:51:12.873493",
     "status": "completed"
    },
    "tags": []
   },
   "source": [
    "### Using Scoring Parameter"
   ]
  },
  {
   "cell_type": "code",
   "execution_count": 24,
   "id": "textile-analyst",
   "metadata": {
    "execution": {
     "iopub.execute_input": "2021-06-12T23:51:13.043833Z",
     "iopub.status.busy": "2021-06-12T23:51:13.042873Z",
     "iopub.status.idle": "2021-06-12T23:51:14.018403Z",
     "shell.execute_reply": "2021-06-12T23:51:14.017681Z",
     "shell.execute_reply.started": "2021-06-11T00:56:54.742569Z"
    },
    "papermill": {
     "duration": 1.036857,
     "end_time": "2021-06-12T23:51:14.018591",
     "exception": false,
     "start_time": "2021-06-12T23:51:12.981734",
     "status": "completed"
    },
    "tags": []
   },
   "outputs": [
    {
     "name": "stdout",
     "output_type": "stream",
     "text": [
      "The Cross Validated Accuracy : 85.12%\n"
     ]
    }
   ],
   "source": [
    "np.random.seed(42)\n",
    "#Default- Mean Accuracy\n",
    "cv_acc = cross_val_score(clf,X_dummy,y,cv=5)\n",
    "#Cross Validated Score\n",
    "print(f\"The Cross Validated Accuracy : {np.mean(cv_acc)*100:.2f}%\")"
   ]
  },
  {
   "cell_type": "code",
   "execution_count": 25,
   "id": "robust-marker",
   "metadata": {
    "execution": {
     "iopub.execute_input": "2021-06-12T23:51:14.143880Z",
     "iopub.status.busy": "2021-06-12T23:51:14.143161Z",
     "iopub.status.idle": "2021-06-12T23:51:15.131102Z",
     "shell.execute_reply": "2021-06-12T23:51:15.131618Z",
     "shell.execute_reply.started": "2021-06-11T00:58:39.369904Z"
    },
    "papermill": {
     "duration": 1.055587,
     "end_time": "2021-06-12T23:51:15.131824",
     "exception": false,
     "start_time": "2021-06-12T23:51:14.076237",
     "status": "completed"
    },
    "tags": []
   },
   "outputs": [
    {
     "name": "stdout",
     "output_type": "stream",
     "text": [
      "The Cross Validated Accuracy : 85.12%\n"
     ]
    }
   ],
   "source": [
    "np.random.seed(42)\n",
    "#Accuracy Param\n",
    "cv_acc = cross_val_score(clf,X_dummy,y,cv=5,scoring=\"accuracy\")\n",
    "#Cross Validated Score\n",
    "print(f\"The Cross Validated Accuracy : {np.mean(cv_acc)*100:.2f}%\")"
   ]
  },
  {
   "cell_type": "code",
   "execution_count": 26,
   "id": "ecological-morning",
   "metadata": {
    "execution": {
     "iopub.execute_input": "2021-06-12T23:51:15.283174Z",
     "iopub.status.busy": "2021-06-12T23:51:15.272382Z",
     "iopub.status.idle": "2021-06-12T23:51:16.280715Z",
     "shell.execute_reply": "2021-06-12T23:51:16.280012Z",
     "shell.execute_reply.started": "2021-06-11T00:59:21.098062Z"
    },
    "papermill": {
     "duration": 1.089622,
     "end_time": "2021-06-12T23:51:16.280877",
     "exception": false,
     "start_time": "2021-06-12T23:51:15.191255",
     "status": "completed"
    },
    "tags": []
   },
   "outputs": [
    {
     "name": "stdout",
     "output_type": "stream",
     "text": [
      "The Cross Validated Precision : 86.57%\n"
     ]
    }
   ],
   "source": [
    "np.random.seed(42)\n",
    "#Precision Param\n",
    "cv_acc = cross_val_score(clf,X_dummy,y,cv=5,scoring=\"precision\")\n",
    "print(f\"The Cross Validated Precision : {np.mean(cv_acc)*100:.2f}%\")"
   ]
  },
  {
   "cell_type": "code",
   "execution_count": 27,
   "id": "unexpected-netherlands",
   "metadata": {
    "execution": {
     "iopub.execute_input": "2021-06-12T23:51:16.401485Z",
     "iopub.status.busy": "2021-06-12T23:51:16.400805Z",
     "iopub.status.idle": "2021-06-12T23:51:17.386161Z",
     "shell.execute_reply": "2021-06-12T23:51:17.385363Z",
     "shell.execute_reply.started": "2021-06-11T01:00:00.576966Z"
    },
    "papermill": {
     "duration": 1.049262,
     "end_time": "2021-06-12T23:51:17.386383",
     "exception": false,
     "start_time": "2021-06-12T23:51:16.337121",
     "status": "completed"
    },
    "tags": []
   },
   "outputs": [
    {
     "name": "stdout",
     "output_type": "stream",
     "text": [
      "The Cross Validated Recall : 93.10%\n"
     ]
    }
   ],
   "source": [
    "np.random.seed(42)\n",
    "#Recall Param\n",
    "cv_acc = cross_val_score(clf,X_dummy,y,cv=5,scoring=\"recall\")\n",
    "print(f\"The Cross Validated Recall : {np.mean(cv_acc)*100:.2f}%\")"
   ]
  },
  {
   "cell_type": "code",
   "execution_count": 28,
   "id": "super-miller",
   "metadata": {
    "execution": {
     "iopub.execute_input": "2021-06-12T23:51:17.507628Z",
     "iopub.status.busy": "2021-06-12T23:51:17.506656Z",
     "iopub.status.idle": "2021-06-12T23:51:18.482679Z",
     "shell.execute_reply": "2021-06-12T23:51:18.482139Z",
     "shell.execute_reply.started": "2021-06-11T01:00:35.637492Z"
    },
    "papermill": {
     "duration": 1.039984,
     "end_time": "2021-06-12T23:51:18.482829",
     "exception": false,
     "start_time": "2021-06-12T23:51:17.442845",
     "status": "completed"
    },
    "tags": []
   },
   "outputs": [
    {
     "name": "stdout",
     "output_type": "stream",
     "text": [
      "The Cross Validated F1 score : 89.39%\n"
     ]
    }
   ],
   "source": [
    "np.random.seed(42)\n",
    "#F1 Param\n",
    "cv_acc = cross_val_score(clf,X_dummy,y,cv=5,scoring=\"f1\")\n",
    "print(f\"The Cross Validated F1 score : {np.mean(cv_acc)*100:.2f}%\")"
   ]
  },
  {
   "cell_type": "markdown",
   "id": "executed-forestry",
   "metadata": {
    "papermill": {
     "duration": 0.05576,
     "end_time": "2021-06-12T23:51:18.595030",
     "exception": false,
     "start_time": "2021-06-12T23:51:18.539270",
     "status": "completed"
    },
    "tags": []
   },
   "source": [
    "### Classification Functions"
   ]
  },
  {
   "cell_type": "code",
   "execution_count": 29,
   "id": "catholic-sterling",
   "metadata": {
    "execution": {
     "iopub.execute_input": "2021-06-12T23:51:18.718687Z",
     "iopub.status.busy": "2021-06-12T23:51:18.716346Z",
     "iopub.status.idle": "2021-06-12T23:51:18.731218Z",
     "shell.execute_reply": "2021-06-12T23:51:18.730649Z",
     "shell.execute_reply.started": "2021-06-11T01:48:04.977115Z"
    },
    "papermill": {
     "duration": 0.080241,
     "end_time": "2021-06-12T23:51:18.731383",
     "exception": false,
     "start_time": "2021-06-12T23:51:18.651142",
     "status": "completed"
    },
    "tags": []
   },
   "outputs": [
    {
     "name": "stdout",
     "output_type": "stream",
     "text": [
      "Classification Metrics: \n",
      "Accuracy: 79.07%\n",
      "Precision: 82.35%\n",
      "Recall: 90.32%\n",
      "F1: 86.15%\n"
     ]
    }
   ],
   "source": [
    "def classification_metrics(y_test,y_pred):\n",
    "    from sklearn.metrics import accuracy_score,precision_score,f1_score,recall_score\n",
    "    print(\"Classification Metrics: \")\n",
    "    print(f\"Accuracy: {accuracy_score(y_test,y_pred)*100 :.2f}%\")\n",
    "    print(f\"Precision: {precision_score(y_test,y_pred)*100 :.2f}%\")\n",
    "    print(f\"Recall: {recall_score(y_test,y_pred)*100 :.2f}%\")\n",
    "    print(f\"F1: {f1_score(y_test,y_pred)*100 :.2f}%\")\n",
    "    metric_dict = {\"accuracy\": round(accuracy_score(y_test,y_pred), 2),\n",
    "                   \"precision\": round(precision_score(y_test,y_pred), 2), \n",
    "                   \"recall\": round(recall_score(y_test,y_pred), 2),\n",
    "                   \"f1\": round(f1_score(y_test,y_pred), 2)}\n",
    "    return metric_dict\n",
    "base_metrics = classification_metrics(y_test,y_pred)"
   ]
  },
  {
   "cell_type": "markdown",
   "id": "ignored-video",
   "metadata": {
    "papermill": {
     "duration": 0.056055,
     "end_time": "2021-06-12T23:51:18.843845",
     "exception": false,
     "start_time": "2021-06-12T23:51:18.787790",
     "status": "completed"
    },
    "tags": []
   },
   "source": [
    "# Improving model predictions through Experimentation (Hyperparameter Tuning)"
   ]
  },
  {
   "cell_type": "code",
   "execution_count": 30,
   "id": "prospective-arizona",
   "metadata": {
    "execution": {
     "iopub.execute_input": "2021-06-12T23:51:18.961525Z",
     "iopub.status.busy": "2021-06-12T23:51:18.960903Z",
     "iopub.status.idle": "2021-06-12T23:51:18.966583Z",
     "shell.execute_reply": "2021-06-12T23:51:18.967086Z",
     "shell.execute_reply.started": "2021-06-11T01:31:19.696284Z"
    },
    "papermill": {
     "duration": 0.066193,
     "end_time": "2021-06-12T23:51:18.967271",
     "exception": false,
     "start_time": "2021-06-12T23:51:18.901078",
     "status": "completed"
    },
    "tags": []
   },
   "outputs": [
    {
     "data": {
      "text/plain": [
       "{'bootstrap': True,\n",
       " 'ccp_alpha': 0.0,\n",
       " 'class_weight': None,\n",
       " 'criterion': 'gini',\n",
       " 'max_depth': None,\n",
       " 'max_features': 'auto',\n",
       " 'max_leaf_nodes': None,\n",
       " 'max_samples': None,\n",
       " 'min_impurity_decrease': 0.0,\n",
       " 'min_impurity_split': None,\n",
       " 'min_samples_leaf': 1,\n",
       " 'min_samples_split': 2,\n",
       " 'min_weight_fraction_leaf': 0.0,\n",
       " 'n_estimators': 100,\n",
       " 'n_jobs': None,\n",
       " 'oob_score': False,\n",
       " 'random_state': None,\n",
       " 'verbose': 0,\n",
       " 'warm_start': False}"
      ]
     },
     "execution_count": 30,
     "metadata": {},
     "output_type": "execute_result"
    }
   ],
   "source": [
    "clf.get_params()"
   ]
  },
  {
   "cell_type": "markdown",
   "id": "willing-license",
   "metadata": {
    "papermill": {
     "duration": 0.058902,
     "end_time": "2021-06-12T23:51:19.082818",
     "exception": false,
     "start_time": "2021-06-12T23:51:19.023916",
     "status": "completed"
    },
    "tags": []
   },
   "source": [
    "### Hyperparameter tuning using `RandomizedSearchCV`"
   ]
  },
  {
   "cell_type": "code",
   "execution_count": 31,
   "id": "constitutional-sample",
   "metadata": {
    "execution": {
     "iopub.execute_input": "2021-06-12T23:51:19.202165Z",
     "iopub.status.busy": "2021-06-12T23:51:19.201482Z",
     "iopub.status.idle": "2021-06-12T23:51:19.206039Z",
     "shell.execute_reply": "2021-06-12T23:51:19.206636Z",
     "shell.execute_reply.started": "2021-06-11T01:36:40.264137Z"
    },
    "papermill": {
     "duration": 0.0648,
     "end_time": "2021-06-12T23:51:19.206835",
     "exception": false,
     "start_time": "2021-06-12T23:51:19.142035",
     "status": "completed"
    },
    "tags": []
   },
   "outputs": [],
   "source": [
    "grid = {\"n_estimators\":[10,100,500,1000,1500,2000],\n",
    "       \"max_depth\":[None,5,10,20,30],\n",
    "       \"max_features\":[\"auto\",\"sqrt\"],\n",
    "       \"min_samples_split\":[2,4,6],\n",
    "       \"min_samples_leaf\":[1,2,4]}"
   ]
  },
  {
   "cell_type": "code",
   "execution_count": 32,
   "id": "postal-theme",
   "metadata": {
    "_kg_hide-output": true,
    "execution": {
     "iopub.execute_input": "2021-06-12T23:51:19.323433Z",
     "iopub.status.busy": "2021-06-12T23:51:19.322805Z",
     "iopub.status.idle": "2021-06-13T00:05:28.307248Z",
     "shell.execute_reply": "2021-06-13T00:05:28.307793Z",
     "shell.execute_reply.started": "2021-06-11T01:43:13.875836Z"
    },
    "papermill": {
     "duration": 849.044332,
     "end_time": "2021-06-13T00:05:28.308008",
     "exception": false,
     "start_time": "2021-06-12T23:51:19.263676",
     "status": "completed"
    },
    "tags": []
   },
   "outputs": [
    {
     "name": "stdout",
     "output_type": "stream",
     "text": [
      "Fitting 5 folds for each of 100 candidates, totalling 500 fits\n",
      "[CV] END max_depth=10, max_features=auto, min_samples_leaf=1, min_samples_split=6, n_estimators=100; total time=   0.2s\n",
      "[CV] END max_depth=10, max_features=auto, min_samples_leaf=1, min_samples_split=6, n_estimators=100; total time=   0.2s\n",
      "[CV] END max_depth=10, max_features=auto, min_samples_leaf=1, min_samples_split=6, n_estimators=100; total time=   0.2s\n",
      "[CV] END max_depth=10, max_features=auto, min_samples_leaf=1, min_samples_split=6, n_estimators=100; total time=   0.2s\n",
      "[CV] END max_depth=10, max_features=auto, min_samples_leaf=1, min_samples_split=6, n_estimators=100; total time=   0.2s\n",
      "[CV] END max_depth=None, max_features=sqrt, min_samples_leaf=2, min_samples_split=2, n_estimators=100; total time=   0.2s\n",
      "[CV] END max_depth=None, max_features=sqrt, min_samples_leaf=2, min_samples_split=2, n_estimators=100; total time=   0.2s\n",
      "[CV] END max_depth=None, max_features=sqrt, min_samples_leaf=2, min_samples_split=2, n_estimators=100; total time=   0.2s\n",
      "[CV] END max_depth=None, max_features=sqrt, min_samples_leaf=2, min_samples_split=2, n_estimators=100; total time=   0.2s\n",
      "[CV] END max_depth=None, max_features=sqrt, min_samples_leaf=2, min_samples_split=2, n_estimators=100; total time=   0.2s\n",
      "[CV] END max_depth=30, max_features=sqrt, min_samples_leaf=2, min_samples_split=6, n_estimators=2000; total time=   3.6s\n",
      "[CV] END max_depth=30, max_features=sqrt, min_samples_leaf=2, min_samples_split=6, n_estimators=2000; total time=   3.7s\n",
      "[CV] END max_depth=30, max_features=sqrt, min_samples_leaf=2, min_samples_split=6, n_estimators=2000; total time=   3.6s\n",
      "[CV] END max_depth=30, max_features=sqrt, min_samples_leaf=2, min_samples_split=6, n_estimators=2000; total time=   3.6s\n",
      "[CV] END max_depth=30, max_features=sqrt, min_samples_leaf=2, min_samples_split=6, n_estimators=2000; total time=   3.7s\n",
      "[CV] END max_depth=None, max_features=sqrt, min_samples_leaf=2, min_samples_split=6, n_estimators=500; total time=   0.9s\n",
      "[CV] END max_depth=None, max_features=sqrt, min_samples_leaf=2, min_samples_split=6, n_estimators=500; total time=   0.9s\n",
      "[CV] END max_depth=None, max_features=sqrt, min_samples_leaf=2, min_samples_split=6, n_estimators=500; total time=   0.9s\n",
      "[CV] END max_depth=None, max_features=sqrt, min_samples_leaf=2, min_samples_split=6, n_estimators=500; total time=   0.9s\n",
      "[CV] END max_depth=None, max_features=sqrt, min_samples_leaf=2, min_samples_split=6, n_estimators=500; total time=   0.9s\n",
      "[CV] END max_depth=30, max_features=auto, min_samples_leaf=4, min_samples_split=2, n_estimators=100; total time=   0.2s\n",
      "[CV] END max_depth=30, max_features=auto, min_samples_leaf=4, min_samples_split=2, n_estimators=100; total time=   0.2s\n",
      "[CV] END max_depth=30, max_features=auto, min_samples_leaf=4, min_samples_split=2, n_estimators=100; total time=   0.2s\n",
      "[CV] END max_depth=30, max_features=auto, min_samples_leaf=4, min_samples_split=2, n_estimators=100; total time=   0.2s\n",
      "[CV] END max_depth=30, max_features=auto, min_samples_leaf=4, min_samples_split=2, n_estimators=100; total time=   0.2s\n",
      "[CV] END max_depth=None, max_features=sqrt, min_samples_leaf=2, min_samples_split=2, n_estimators=2000; total time=   3.7s\n",
      "[CV] END max_depth=None, max_features=sqrt, min_samples_leaf=2, min_samples_split=2, n_estimators=2000; total time=   3.8s\n",
      "[CV] END max_depth=None, max_features=sqrt, min_samples_leaf=2, min_samples_split=2, n_estimators=2000; total time=   3.7s\n",
      "[CV] END max_depth=None, max_features=sqrt, min_samples_leaf=2, min_samples_split=2, n_estimators=2000; total time=   3.7s\n",
      "[CV] END max_depth=None, max_features=sqrt, min_samples_leaf=2, min_samples_split=2, n_estimators=2000; total time=   3.7s\n",
      "[CV] END max_depth=10, max_features=sqrt, min_samples_leaf=2, min_samples_split=4, n_estimators=1000; total time=   1.8s\n",
      "[CV] END max_depth=10, max_features=sqrt, min_samples_leaf=2, min_samples_split=4, n_estimators=1000; total time=   1.8s\n",
      "[CV] END max_depth=10, max_features=sqrt, min_samples_leaf=2, min_samples_split=4, n_estimators=1000; total time=   1.9s\n",
      "[CV] END max_depth=10, max_features=sqrt, min_samples_leaf=2, min_samples_split=4, n_estimators=1000; total time=   1.9s\n",
      "[CV] END max_depth=10, max_features=sqrt, min_samples_leaf=2, min_samples_split=4, n_estimators=1000; total time=   1.9s\n",
      "[CV] END max_depth=20, max_features=sqrt, min_samples_leaf=4, min_samples_split=2, n_estimators=1500; total time=   2.7s\n",
      "[CV] END max_depth=20, max_features=sqrt, min_samples_leaf=4, min_samples_split=2, n_estimators=1500; total time=   2.7s\n",
      "[CV] END max_depth=20, max_features=sqrt, min_samples_leaf=4, min_samples_split=2, n_estimators=1500; total time=   2.7s\n",
      "[CV] END max_depth=20, max_features=sqrt, min_samples_leaf=4, min_samples_split=2, n_estimators=1500; total time=   2.9s\n",
      "[CV] END max_depth=20, max_features=sqrt, min_samples_leaf=4, min_samples_split=2, n_estimators=1500; total time=   2.7s\n",
      "[CV] END max_depth=20, max_features=auto, min_samples_leaf=2, min_samples_split=2, n_estimators=10; total time=   0.0s\n",
      "[CV] END max_depth=20, max_features=auto, min_samples_leaf=2, min_samples_split=2, n_estimators=10; total time=   0.0s\n",
      "[CV] END max_depth=20, max_features=auto, min_samples_leaf=2, min_samples_split=2, n_estimators=10; total time=   0.0s\n",
      "[CV] END max_depth=20, max_features=auto, min_samples_leaf=2, min_samples_split=2, n_estimators=10; total time=   0.0s\n",
      "[CV] END max_depth=20, max_features=auto, min_samples_leaf=2, min_samples_split=2, n_estimators=10; total time=   0.0s\n",
      "[CV] END max_depth=20, max_features=sqrt, min_samples_leaf=1, min_samples_split=2, n_estimators=2000; total time=   3.7s\n",
      "[CV] END max_depth=20, max_features=sqrt, min_samples_leaf=1, min_samples_split=2, n_estimators=2000; total time=   3.7s\n",
      "[CV] END max_depth=20, max_features=sqrt, min_samples_leaf=1, min_samples_split=2, n_estimators=2000; total time=   3.7s\n",
      "[CV] END max_depth=20, max_features=sqrt, min_samples_leaf=1, min_samples_split=2, n_estimators=2000; total time=   3.7s\n",
      "[CV] END max_depth=20, max_features=sqrt, min_samples_leaf=1, min_samples_split=2, n_estimators=2000; total time=   3.8s\n",
      "[CV] END max_depth=None, max_features=auto, min_samples_leaf=1, min_samples_split=4, n_estimators=10; total time=   0.0s\n",
      "[CV] END max_depth=None, max_features=auto, min_samples_leaf=1, min_samples_split=4, n_estimators=10; total time=   0.0s\n",
      "[CV] END max_depth=None, max_features=auto, min_samples_leaf=1, min_samples_split=4, n_estimators=10; total time=   0.0s\n",
      "[CV] END max_depth=None, max_features=auto, min_samples_leaf=1, min_samples_split=4, n_estimators=10; total time=   0.0s\n",
      "[CV] END max_depth=None, max_features=auto, min_samples_leaf=1, min_samples_split=4, n_estimators=10; total time=   0.0s\n",
      "[CV] END max_depth=5, max_features=auto, min_samples_leaf=1, min_samples_split=4, n_estimators=1000; total time=   1.8s\n",
      "[CV] END max_depth=5, max_features=auto, min_samples_leaf=1, min_samples_split=4, n_estimators=1000; total time=   1.8s\n",
      "[CV] END max_depth=5, max_features=auto, min_samples_leaf=1, min_samples_split=4, n_estimators=1000; total time=   1.8s\n",
      "[CV] END max_depth=5, max_features=auto, min_samples_leaf=1, min_samples_split=4, n_estimators=1000; total time=   1.8s\n",
      "[CV] END max_depth=5, max_features=auto, min_samples_leaf=1, min_samples_split=4, n_estimators=1000; total time=   1.9s\n",
      "[CV] END max_depth=20, max_features=sqrt, min_samples_leaf=2, min_samples_split=6, n_estimators=500; total time=   0.9s\n",
      "[CV] END max_depth=20, max_features=sqrt, min_samples_leaf=2, min_samples_split=6, n_estimators=500; total time=   0.9s\n",
      "[CV] END max_depth=20, max_features=sqrt, min_samples_leaf=2, min_samples_split=6, n_estimators=500; total time=   1.0s\n",
      "[CV] END max_depth=20, max_features=sqrt, min_samples_leaf=2, min_samples_split=6, n_estimators=500; total time=   0.9s\n",
      "[CV] END max_depth=20, max_features=sqrt, min_samples_leaf=2, min_samples_split=6, n_estimators=500; total time=   0.9s\n",
      "[CV] END max_depth=None, max_features=sqrt, min_samples_leaf=2, min_samples_split=2, n_estimators=1000; total time=   1.8s\n",
      "[CV] END max_depth=None, max_features=sqrt, min_samples_leaf=2, min_samples_split=2, n_estimators=1000; total time=   1.8s\n",
      "[CV] END max_depth=None, max_features=sqrt, min_samples_leaf=2, min_samples_split=2, n_estimators=1000; total time=   1.8s\n",
      "[CV] END max_depth=None, max_features=sqrt, min_samples_leaf=2, min_samples_split=2, n_estimators=1000; total time=   1.9s\n",
      "[CV] END max_depth=None, max_features=sqrt, min_samples_leaf=2, min_samples_split=2, n_estimators=1000; total time=   1.8s\n",
      "[CV] END max_depth=10, max_features=sqrt, min_samples_leaf=1, min_samples_split=2, n_estimators=500; total time=   0.9s\n",
      "[CV] END max_depth=10, max_features=sqrt, min_samples_leaf=1, min_samples_split=2, n_estimators=500; total time=   0.9s\n",
      "[CV] END max_depth=10, max_features=sqrt, min_samples_leaf=1, min_samples_split=2, n_estimators=500; total time=   0.9s\n",
      "[CV] END max_depth=10, max_features=sqrt, min_samples_leaf=1, min_samples_split=2, n_estimators=500; total time=   0.9s\n",
      "[CV] END max_depth=10, max_features=sqrt, min_samples_leaf=1, min_samples_split=2, n_estimators=500; total time=   0.9s\n",
      "[CV] END max_depth=5, max_features=sqrt, min_samples_leaf=2, min_samples_split=6, n_estimators=1000; total time=   1.9s\n",
      "[CV] END max_depth=5, max_features=sqrt, min_samples_leaf=2, min_samples_split=6, n_estimators=1000; total time=   1.9s\n",
      "[CV] END max_depth=5, max_features=sqrt, min_samples_leaf=2, min_samples_split=6, n_estimators=1000; total time=   1.9s\n",
      "[CV] END max_depth=5, max_features=sqrt, min_samples_leaf=2, min_samples_split=6, n_estimators=1000; total time=   1.8s\n",
      "[CV] END max_depth=5, max_features=sqrt, min_samples_leaf=2, min_samples_split=6, n_estimators=1000; total time=   1.8s\n",
      "[CV] END max_depth=30, max_features=sqrt, min_samples_leaf=1, min_samples_split=4, n_estimators=500; total time=   0.9s\n",
      "[CV] END max_depth=30, max_features=sqrt, min_samples_leaf=1, min_samples_split=4, n_estimators=500; total time=   0.9s\n",
      "[CV] END max_depth=30, max_features=sqrt, min_samples_leaf=1, min_samples_split=4, n_estimators=500; total time=   0.9s\n",
      "[CV] END max_depth=30, max_features=sqrt, min_samples_leaf=1, min_samples_split=4, n_estimators=500; total time=   0.9s\n",
      "[CV] END max_depth=30, max_features=sqrt, min_samples_leaf=1, min_samples_split=4, n_estimators=500; total time=   0.9s\n",
      "[CV] END max_depth=None, max_features=sqrt, min_samples_leaf=4, min_samples_split=4, n_estimators=2000; total time=   3.6s\n",
      "[CV] END max_depth=None, max_features=sqrt, min_samples_leaf=4, min_samples_split=4, n_estimators=2000; total time=   3.6s\n",
      "[CV] END max_depth=None, max_features=sqrt, min_samples_leaf=4, min_samples_split=4, n_estimators=2000; total time=   3.6s\n",
      "[CV] END max_depth=None, max_features=sqrt, min_samples_leaf=4, min_samples_split=4, n_estimators=2000; total time=   3.8s\n",
      "[CV] END max_depth=None, max_features=sqrt, min_samples_leaf=4, min_samples_split=4, n_estimators=2000; total time=   3.7s\n",
      "[CV] END max_depth=30, max_features=sqrt, min_samples_leaf=4, min_samples_split=2, n_estimators=1500; total time=   2.7s\n",
      "[CV] END max_depth=30, max_features=sqrt, min_samples_leaf=4, min_samples_split=2, n_estimators=1500; total time=   2.8s\n",
      "[CV] END max_depth=30, max_features=sqrt, min_samples_leaf=4, min_samples_split=2, n_estimators=1500; total time=   2.7s\n",
      "[CV] END max_depth=30, max_features=sqrt, min_samples_leaf=4, min_samples_split=2, n_estimators=1500; total time=   2.7s\n",
      "[CV] END max_depth=30, max_features=sqrt, min_samples_leaf=4, min_samples_split=2, n_estimators=1500; total time=   2.8s\n",
      "[CV] END max_depth=None, max_features=sqrt, min_samples_leaf=1, min_samples_split=2, n_estimators=100; total time=   0.2s\n",
      "[CV] END max_depth=None, max_features=sqrt, min_samples_leaf=1, min_samples_split=2, n_estimators=100; total time=   0.2s\n",
      "[CV] END max_depth=None, max_features=sqrt, min_samples_leaf=1, min_samples_split=2, n_estimators=100; total time=   0.2s\n",
      "[CV] END max_depth=None, max_features=sqrt, min_samples_leaf=1, min_samples_split=2, n_estimators=100; total time=   0.2s\n",
      "[CV] END max_depth=None, max_features=sqrt, min_samples_leaf=1, min_samples_split=2, n_estimators=100; total time=   0.2s\n",
      "[CV] END max_depth=20, max_features=auto, min_samples_leaf=4, min_samples_split=6, n_estimators=100; total time=   0.2s\n",
      "[CV] END max_depth=20, max_features=auto, min_samples_leaf=4, min_samples_split=6, n_estimators=100; total time=   0.2s\n",
      "[CV] END max_depth=20, max_features=auto, min_samples_leaf=4, min_samples_split=6, n_estimators=100; total time=   0.2s\n",
      "[CV] END max_depth=20, max_features=auto, min_samples_leaf=4, min_samples_split=6, n_estimators=100; total time=   0.2s\n",
      "[CV] END max_depth=20, max_features=auto, min_samples_leaf=4, min_samples_split=6, n_estimators=100; total time=   0.2s\n",
      "[CV] END max_depth=5, max_features=sqrt, min_samples_leaf=2, min_samples_split=2, n_estimators=2000; total time=   3.6s\n",
      "[CV] END max_depth=5, max_features=sqrt, min_samples_leaf=2, min_samples_split=2, n_estimators=2000; total time=   3.6s\n",
      "[CV] END max_depth=5, max_features=sqrt, min_samples_leaf=2, min_samples_split=2, n_estimators=2000; total time=   3.7s\n",
      "[CV] END max_depth=5, max_features=sqrt, min_samples_leaf=2, min_samples_split=2, n_estimators=2000; total time=   3.7s\n",
      "[CV] END max_depth=5, max_features=sqrt, min_samples_leaf=2, min_samples_split=2, n_estimators=2000; total time=   3.7s\n",
      "[CV] END max_depth=10, max_features=sqrt, min_samples_leaf=2, min_samples_split=4, n_estimators=1500; total time=   2.8s\n",
      "[CV] END max_depth=10, max_features=sqrt, min_samples_leaf=2, min_samples_split=4, n_estimators=1500; total time=   2.7s\n",
      "[CV] END max_depth=10, max_features=sqrt, min_samples_leaf=2, min_samples_split=4, n_estimators=1500; total time=   2.7s\n",
      "[CV] END max_depth=10, max_features=sqrt, min_samples_leaf=2, min_samples_split=4, n_estimators=1500; total time=   2.7s\n",
      "[CV] END max_depth=10, max_features=sqrt, min_samples_leaf=2, min_samples_split=4, n_estimators=1500; total time=   2.8s\n",
      "[CV] END max_depth=5, max_features=sqrt, min_samples_leaf=1, min_samples_split=2, n_estimators=2000; total time=   3.6s\n",
      "[CV] END max_depth=5, max_features=sqrt, min_samples_leaf=1, min_samples_split=2, n_estimators=2000; total time=   3.7s\n",
      "[CV] END max_depth=5, max_features=sqrt, min_samples_leaf=1, min_samples_split=2, n_estimators=2000; total time=   3.7s\n",
      "[CV] END max_depth=5, max_features=sqrt, min_samples_leaf=1, min_samples_split=2, n_estimators=2000; total time=   3.6s\n",
      "[CV] END max_depth=5, max_features=sqrt, min_samples_leaf=1, min_samples_split=2, n_estimators=2000; total time=   3.8s\n",
      "[CV] END max_depth=30, max_features=auto, min_samples_leaf=4, min_samples_split=4, n_estimators=2000; total time=   3.6s\n",
      "[CV] END max_depth=30, max_features=auto, min_samples_leaf=4, min_samples_split=4, n_estimators=2000; total time=   3.6s\n",
      "[CV] END max_depth=30, max_features=auto, min_samples_leaf=4, min_samples_split=4, n_estimators=2000; total time=   3.6s\n",
      "[CV] END max_depth=30, max_features=auto, min_samples_leaf=4, min_samples_split=4, n_estimators=2000; total time=   3.7s\n",
      "[CV] END max_depth=30, max_features=auto, min_samples_leaf=4, min_samples_split=4, n_estimators=2000; total time=   3.6s\n",
      "[CV] END max_depth=None, max_features=auto, min_samples_leaf=1, min_samples_split=2, n_estimators=500; total time=   0.9s\n",
      "[CV] END max_depth=None, max_features=auto, min_samples_leaf=1, min_samples_split=2, n_estimators=500; total time=   0.9s\n",
      "[CV] END max_depth=None, max_features=auto, min_samples_leaf=1, min_samples_split=2, n_estimators=500; total time=   0.9s\n",
      "[CV] END max_depth=None, max_features=auto, min_samples_leaf=1, min_samples_split=2, n_estimators=500; total time=   0.9s\n",
      "[CV] END max_depth=None, max_features=auto, min_samples_leaf=1, min_samples_split=2, n_estimators=500; total time=   0.9s\n",
      "[CV] END max_depth=5, max_features=sqrt, min_samples_leaf=2, min_samples_split=2, n_estimators=10; total time=   0.0s\n",
      "[CV] END max_depth=5, max_features=sqrt, min_samples_leaf=2, min_samples_split=2, n_estimators=10; total time=   0.0s\n",
      "[CV] END max_depth=5, max_features=sqrt, min_samples_leaf=2, min_samples_split=2, n_estimators=10; total time=   0.0s\n",
      "[CV] END max_depth=5, max_features=sqrt, min_samples_leaf=2, min_samples_split=2, n_estimators=10; total time=   0.0s\n",
      "[CV] END max_depth=5, max_features=sqrt, min_samples_leaf=2, min_samples_split=2, n_estimators=10; total time=   0.0s\n",
      "[CV] END max_depth=20, max_features=auto, min_samples_leaf=2, min_samples_split=6, n_estimators=1000; total time=   1.8s\n",
      "[CV] END max_depth=20, max_features=auto, min_samples_leaf=2, min_samples_split=6, n_estimators=1000; total time=   1.9s\n",
      "[CV] END max_depth=20, max_features=auto, min_samples_leaf=2, min_samples_split=6, n_estimators=1000; total time=   1.9s\n",
      "[CV] END max_depth=20, max_features=auto, min_samples_leaf=2, min_samples_split=6, n_estimators=1000; total time=   1.8s\n",
      "[CV] END max_depth=20, max_features=auto, min_samples_leaf=2, min_samples_split=6, n_estimators=1000; total time=   1.8s\n",
      "[CV] END max_depth=None, max_features=auto, min_samples_leaf=1, min_samples_split=4, n_estimators=1500; total time=   2.9s\n",
      "[CV] END max_depth=None, max_features=auto, min_samples_leaf=1, min_samples_split=4, n_estimators=1500; total time=   2.8s\n",
      "[CV] END max_depth=None, max_features=auto, min_samples_leaf=1, min_samples_split=4, n_estimators=1500; total time=   2.7s\n",
      "[CV] END max_depth=None, max_features=auto, min_samples_leaf=1, min_samples_split=4, n_estimators=1500; total time=   2.8s\n",
      "[CV] END max_depth=None, max_features=auto, min_samples_leaf=1, min_samples_split=4, n_estimators=1500; total time=   2.8s\n",
      "[CV] END max_depth=10, max_features=sqrt, min_samples_leaf=4, min_samples_split=2, n_estimators=2000; total time=   3.7s\n",
      "[CV] END max_depth=10, max_features=sqrt, min_samples_leaf=4, min_samples_split=2, n_estimators=2000; total time=   3.6s\n",
      "[CV] END max_depth=10, max_features=sqrt, min_samples_leaf=4, min_samples_split=2, n_estimators=2000; total time=   3.6s\n",
      "[CV] END max_depth=10, max_features=sqrt, min_samples_leaf=4, min_samples_split=2, n_estimators=2000; total time=   3.7s\n",
      "[CV] END max_depth=10, max_features=sqrt, min_samples_leaf=4, min_samples_split=2, n_estimators=2000; total time=   3.7s\n",
      "[CV] END max_depth=20, max_features=auto, min_samples_leaf=4, min_samples_split=4, n_estimators=2000; total time=   3.7s\n",
      "[CV] END max_depth=20, max_features=auto, min_samples_leaf=4, min_samples_split=4, n_estimators=2000; total time=   3.7s\n",
      "[CV] END max_depth=20, max_features=auto, min_samples_leaf=4, min_samples_split=4, n_estimators=2000; total time=   3.6s\n",
      "[CV] END max_depth=20, max_features=auto, min_samples_leaf=4, min_samples_split=4, n_estimators=2000; total time=   3.7s\n",
      "[CV] END max_depth=20, max_features=auto, min_samples_leaf=4, min_samples_split=4, n_estimators=2000; total time=   3.7s\n",
      "[CV] END max_depth=5, max_features=sqrt, min_samples_leaf=1, min_samples_split=6, n_estimators=500; total time=   0.9s\n",
      "[CV] END max_depth=5, max_features=sqrt, min_samples_leaf=1, min_samples_split=6, n_estimators=500; total time=   0.9s\n",
      "[CV] END max_depth=5, max_features=sqrt, min_samples_leaf=1, min_samples_split=6, n_estimators=500; total time=   0.9s\n",
      "[CV] END max_depth=5, max_features=sqrt, min_samples_leaf=1, min_samples_split=6, n_estimators=500; total time=   0.9s\n",
      "[CV] END max_depth=5, max_features=sqrt, min_samples_leaf=1, min_samples_split=6, n_estimators=500; total time=   0.9s\n",
      "[CV] END max_depth=10, max_features=auto, min_samples_leaf=2, min_samples_split=4, n_estimators=2000; total time=   3.7s\n",
      "[CV] END max_depth=10, max_features=auto, min_samples_leaf=2, min_samples_split=4, n_estimators=2000; total time=   3.8s\n",
      "[CV] END max_depth=10, max_features=auto, min_samples_leaf=2, min_samples_split=4, n_estimators=2000; total time=   3.9s\n",
      "[CV] END max_depth=10, max_features=auto, min_samples_leaf=2, min_samples_split=4, n_estimators=2000; total time=   3.7s\n",
      "[CV] END max_depth=10, max_features=auto, min_samples_leaf=2, min_samples_split=4, n_estimators=2000; total time=   3.7s\n",
      "[CV] END max_depth=30, max_features=auto, min_samples_leaf=2, min_samples_split=6, n_estimators=500; total time=   0.9s\n",
      "[CV] END max_depth=30, max_features=auto, min_samples_leaf=2, min_samples_split=6, n_estimators=500; total time=   0.9s\n",
      "[CV] END max_depth=30, max_features=auto, min_samples_leaf=2, min_samples_split=6, n_estimators=500; total time=   0.9s\n",
      "[CV] END max_depth=30, max_features=auto, min_samples_leaf=2, min_samples_split=6, n_estimators=500; total time=   0.9s\n",
      "[CV] END max_depth=30, max_features=auto, min_samples_leaf=2, min_samples_split=6, n_estimators=500; total time=   0.9s\n",
      "[CV] END max_depth=20, max_features=auto, min_samples_leaf=2, min_samples_split=4, n_estimators=100; total time=   0.2s\n",
      "[CV] END max_depth=20, max_features=auto, min_samples_leaf=2, min_samples_split=4, n_estimators=100; total time=   0.2s\n",
      "[CV] END max_depth=20, max_features=auto, min_samples_leaf=2, min_samples_split=4, n_estimators=100; total time=   0.2s\n",
      "[CV] END max_depth=20, max_features=auto, min_samples_leaf=2, min_samples_split=4, n_estimators=100; total time=   0.2s\n",
      "[CV] END max_depth=20, max_features=auto, min_samples_leaf=2, min_samples_split=4, n_estimators=100; total time=   0.2s\n",
      "[CV] END max_depth=30, max_features=sqrt, min_samples_leaf=4, min_samples_split=2, n_estimators=500; total time=   0.9s\n",
      "[CV] END max_depth=30, max_features=sqrt, min_samples_leaf=4, min_samples_split=2, n_estimators=500; total time=   0.9s\n",
      "[CV] END max_depth=30, max_features=sqrt, min_samples_leaf=4, min_samples_split=2, n_estimators=500; total time=   0.9s\n",
      "[CV] END max_depth=30, max_features=sqrt, min_samples_leaf=4, min_samples_split=2, n_estimators=500; total time=   0.9s\n",
      "[CV] END max_depth=30, max_features=sqrt, min_samples_leaf=4, min_samples_split=2, n_estimators=500; total time=   0.9s\n",
      "[CV] END max_depth=20, max_features=sqrt, min_samples_leaf=4, min_samples_split=2, n_estimators=10; total time=   0.0s\n",
      "[CV] END max_depth=20, max_features=sqrt, min_samples_leaf=4, min_samples_split=2, n_estimators=10; total time=   0.0s\n",
      "[CV] END max_depth=20, max_features=sqrt, min_samples_leaf=4, min_samples_split=2, n_estimators=10; total time=   0.0s\n",
      "[CV] END max_depth=20, max_features=sqrt, min_samples_leaf=4, min_samples_split=2, n_estimators=10; total time=   0.0s\n",
      "[CV] END max_depth=20, max_features=sqrt, min_samples_leaf=4, min_samples_split=2, n_estimators=10; total time=   0.0s\n",
      "[CV] END max_depth=None, max_features=sqrt, min_samples_leaf=2, min_samples_split=2, n_estimators=10; total time=   0.0s\n",
      "[CV] END max_depth=None, max_features=sqrt, min_samples_leaf=2, min_samples_split=2, n_estimators=10; total time=   0.0s\n",
      "[CV] END max_depth=None, max_features=sqrt, min_samples_leaf=2, min_samples_split=2, n_estimators=10; total time=   0.0s\n",
      "[CV] END max_depth=None, max_features=sqrt, min_samples_leaf=2, min_samples_split=2, n_estimators=10; total time=   0.0s\n",
      "[CV] END max_depth=None, max_features=sqrt, min_samples_leaf=2, min_samples_split=2, n_estimators=10; total time=   0.0s\n",
      "[CV] END max_depth=5, max_features=sqrt, min_samples_leaf=2, min_samples_split=6, n_estimators=1500; total time=   2.7s\n",
      "[CV] END max_depth=5, max_features=sqrt, min_samples_leaf=2, min_samples_split=6, n_estimators=1500; total time=   2.7s\n",
      "[CV] END max_depth=5, max_features=sqrt, min_samples_leaf=2, min_samples_split=6, n_estimators=1500; total time=   2.8s\n",
      "[CV] END max_depth=5, max_features=sqrt, min_samples_leaf=2, min_samples_split=6, n_estimators=1500; total time=   2.7s\n",
      "[CV] END max_depth=5, max_features=sqrt, min_samples_leaf=2, min_samples_split=6, n_estimators=1500; total time=   2.7s\n",
      "[CV] END max_depth=10, max_features=auto, min_samples_leaf=4, min_samples_split=6, n_estimators=1500; total time=   2.7s\n",
      "[CV] END max_depth=10, max_features=auto, min_samples_leaf=4, min_samples_split=6, n_estimators=1500; total time=   2.7s\n",
      "[CV] END max_depth=10, max_features=auto, min_samples_leaf=4, min_samples_split=6, n_estimators=1500; total time=   2.7s\n",
      "[CV] END max_depth=10, max_features=auto, min_samples_leaf=4, min_samples_split=6, n_estimators=1500; total time=   2.9s\n",
      "[CV] END max_depth=10, max_features=auto, min_samples_leaf=4, min_samples_split=6, n_estimators=1500; total time=   2.7s\n",
      "[CV] END max_depth=10, max_features=sqrt, min_samples_leaf=4, min_samples_split=6, n_estimators=1000; total time=   1.8s\n",
      "[CV] END max_depth=10, max_features=sqrt, min_samples_leaf=4, min_samples_split=6, n_estimators=1000; total time=   1.8s\n",
      "[CV] END max_depth=10, max_features=sqrt, min_samples_leaf=4, min_samples_split=6, n_estimators=1000; total time=   1.8s\n",
      "[CV] END max_depth=10, max_features=sqrt, min_samples_leaf=4, min_samples_split=6, n_estimators=1000; total time=   1.8s\n",
      "[CV] END max_depth=10, max_features=sqrt, min_samples_leaf=4, min_samples_split=6, n_estimators=1000; total time=   1.8s\n",
      "[CV] END max_depth=30, max_features=sqrt, min_samples_leaf=1, min_samples_split=2, n_estimators=500; total time=   0.9s\n",
      "[CV] END max_depth=30, max_features=sqrt, min_samples_leaf=1, min_samples_split=2, n_estimators=500; total time=   1.0s\n",
      "[CV] END max_depth=30, max_features=sqrt, min_samples_leaf=1, min_samples_split=2, n_estimators=500; total time=   0.9s\n",
      "[CV] END max_depth=30, max_features=sqrt, min_samples_leaf=1, min_samples_split=2, n_estimators=500; total time=   0.9s\n",
      "[CV] END max_depth=30, max_features=sqrt, min_samples_leaf=1, min_samples_split=2, n_estimators=500; total time=   0.9s\n",
      "[CV] END max_depth=5, max_features=auto, min_samples_leaf=2, min_samples_split=6, n_estimators=500; total time=   0.9s\n",
      "[CV] END max_depth=5, max_features=auto, min_samples_leaf=2, min_samples_split=6, n_estimators=500; total time=   0.9s\n",
      "[CV] END max_depth=5, max_features=auto, min_samples_leaf=2, min_samples_split=6, n_estimators=500; total time=   0.9s\n",
      "[CV] END max_depth=5, max_features=auto, min_samples_leaf=2, min_samples_split=6, n_estimators=500; total time=   0.9s\n",
      "[CV] END max_depth=5, max_features=auto, min_samples_leaf=2, min_samples_split=6, n_estimators=500; total time=   0.9s\n",
      "[CV] END max_depth=30, max_features=auto, min_samples_leaf=2, min_samples_split=4, n_estimators=100; total time=   0.2s\n",
      "[CV] END max_depth=30, max_features=auto, min_samples_leaf=2, min_samples_split=4, n_estimators=100; total time=   0.2s\n",
      "[CV] END max_depth=30, max_features=auto, min_samples_leaf=2, min_samples_split=4, n_estimators=100; total time=   0.2s\n",
      "[CV] END max_depth=30, max_features=auto, min_samples_leaf=2, min_samples_split=4, n_estimators=100; total time=   0.2s\n",
      "[CV] END max_depth=30, max_features=auto, min_samples_leaf=2, min_samples_split=4, n_estimators=100; total time=   0.2s\n",
      "[CV] END max_depth=5, max_features=sqrt, min_samples_leaf=1, min_samples_split=4, n_estimators=2000; total time=   3.6s\n",
      "[CV] END max_depth=5, max_features=sqrt, min_samples_leaf=1, min_samples_split=4, n_estimators=2000; total time=   3.7s\n",
      "[CV] END max_depth=5, max_features=sqrt, min_samples_leaf=1, min_samples_split=4, n_estimators=2000; total time=   3.6s\n",
      "[CV] END max_depth=5, max_features=sqrt, min_samples_leaf=1, min_samples_split=4, n_estimators=2000; total time=   3.8s\n",
      "[CV] END max_depth=5, max_features=sqrt, min_samples_leaf=1, min_samples_split=4, n_estimators=2000; total time=   3.7s\n",
      "[CV] END max_depth=None, max_features=sqrt, min_samples_leaf=2, min_samples_split=4, n_estimators=100; total time=   0.2s\n",
      "[CV] END max_depth=None, max_features=sqrt, min_samples_leaf=2, min_samples_split=4, n_estimators=100; total time=   0.2s\n",
      "[CV] END max_depth=None, max_features=sqrt, min_samples_leaf=2, min_samples_split=4, n_estimators=100; total time=   0.2s\n",
      "[CV] END max_depth=None, max_features=sqrt, min_samples_leaf=2, min_samples_split=4, n_estimators=100; total time=   0.2s\n",
      "[CV] END max_depth=None, max_features=sqrt, min_samples_leaf=2, min_samples_split=4, n_estimators=100; total time=   0.2s\n",
      "[CV] END max_depth=20, max_features=auto, min_samples_leaf=4, min_samples_split=2, n_estimators=500; total time=   0.9s\n",
      "[CV] END max_depth=20, max_features=auto, min_samples_leaf=4, min_samples_split=2, n_estimators=500; total time=   0.9s\n",
      "[CV] END max_depth=20, max_features=auto, min_samples_leaf=4, min_samples_split=2, n_estimators=500; total time=   0.9s\n",
      "[CV] END max_depth=20, max_features=auto, min_samples_leaf=4, min_samples_split=2, n_estimators=500; total time=   1.0s\n",
      "[CV] END max_depth=20, max_features=auto, min_samples_leaf=4, min_samples_split=2, n_estimators=500; total time=   0.9s\n",
      "[CV] END max_depth=20, max_features=sqrt, min_samples_leaf=2, min_samples_split=2, n_estimators=10; total time=   0.0s\n",
      "[CV] END max_depth=20, max_features=sqrt, min_samples_leaf=2, min_samples_split=2, n_estimators=10; total time=   0.0s\n",
      "[CV] END max_depth=20, max_features=sqrt, min_samples_leaf=2, min_samples_split=2, n_estimators=10; total time=   0.0s\n",
      "[CV] END max_depth=20, max_features=sqrt, min_samples_leaf=2, min_samples_split=2, n_estimators=10; total time=   0.0s\n",
      "[CV] END max_depth=20, max_features=sqrt, min_samples_leaf=2, min_samples_split=2, n_estimators=10; total time=   0.0s\n",
      "[CV] END max_depth=30, max_features=sqrt, min_samples_leaf=4, min_samples_split=4, n_estimators=2000; total time=   3.6s\n",
      "[CV] END max_depth=30, max_features=sqrt, min_samples_leaf=4, min_samples_split=4, n_estimators=2000; total time=   3.6s\n",
      "[CV] END max_depth=30, max_features=sqrt, min_samples_leaf=4, min_samples_split=4, n_estimators=2000; total time=   3.6s\n",
      "[CV] END max_depth=30, max_features=sqrt, min_samples_leaf=4, min_samples_split=4, n_estimators=2000; total time=   3.6s\n",
      "[CV] END max_depth=30, max_features=sqrt, min_samples_leaf=4, min_samples_split=4, n_estimators=2000; total time=   3.6s\n",
      "[CV] END max_depth=None, max_features=auto, min_samples_leaf=2, min_samples_split=6, n_estimators=10; total time=   0.0s\n",
      "[CV] END max_depth=None, max_features=auto, min_samples_leaf=2, min_samples_split=6, n_estimators=10; total time=   0.0s\n",
      "[CV] END max_depth=None, max_features=auto, min_samples_leaf=2, min_samples_split=6, n_estimators=10; total time=   0.0s\n",
      "[CV] END max_depth=None, max_features=auto, min_samples_leaf=2, min_samples_split=6, n_estimators=10; total time=   0.0s\n",
      "[CV] END max_depth=None, max_features=auto, min_samples_leaf=2, min_samples_split=6, n_estimators=10; total time=   0.0s\n",
      "[CV] END max_depth=10, max_features=auto, min_samples_leaf=2, min_samples_split=2, n_estimators=100; total time=   0.2s\n",
      "[CV] END max_depth=10, max_features=auto, min_samples_leaf=2, min_samples_split=2, n_estimators=100; total time=   0.2s\n",
      "[CV] END max_depth=10, max_features=auto, min_samples_leaf=2, min_samples_split=2, n_estimators=100; total time=   0.2s\n",
      "[CV] END max_depth=10, max_features=auto, min_samples_leaf=2, min_samples_split=2, n_estimators=100; total time=   0.2s\n",
      "[CV] END max_depth=10, max_features=auto, min_samples_leaf=2, min_samples_split=2, n_estimators=100; total time=   0.2s\n",
      "[CV] END max_depth=30, max_features=sqrt, min_samples_leaf=2, min_samples_split=4, n_estimators=100; total time=   0.2s\n",
      "[CV] END max_depth=30, max_features=sqrt, min_samples_leaf=2, min_samples_split=4, n_estimators=100; total time=   0.2s\n",
      "[CV] END max_depth=30, max_features=sqrt, min_samples_leaf=2, min_samples_split=4, n_estimators=100; total time=   0.2s\n",
      "[CV] END max_depth=30, max_features=sqrt, min_samples_leaf=2, min_samples_split=4, n_estimators=100; total time=   0.2s\n",
      "[CV] END max_depth=30, max_features=sqrt, min_samples_leaf=2, min_samples_split=4, n_estimators=100; total time=   0.2s\n",
      "[CV] END max_depth=30, max_features=sqrt, min_samples_leaf=1, min_samples_split=4, n_estimators=2000; total time=   3.6s\n",
      "[CV] END max_depth=30, max_features=sqrt, min_samples_leaf=1, min_samples_split=4, n_estimators=2000; total time=   3.8s\n",
      "[CV] END max_depth=30, max_features=sqrt, min_samples_leaf=1, min_samples_split=4, n_estimators=2000; total time=   3.7s\n",
      "[CV] END max_depth=30, max_features=sqrt, min_samples_leaf=1, min_samples_split=4, n_estimators=2000; total time=   3.6s\n",
      "[CV] END max_depth=30, max_features=sqrt, min_samples_leaf=1, min_samples_split=4, n_estimators=2000; total time=   3.7s\n",
      "[CV] END max_depth=None, max_features=auto, min_samples_leaf=1, min_samples_split=4, n_estimators=1000; total time=   1.8s\n",
      "[CV] END max_depth=None, max_features=auto, min_samples_leaf=1, min_samples_split=4, n_estimators=1000; total time=   1.8s\n",
      "[CV] END max_depth=None, max_features=auto, min_samples_leaf=1, min_samples_split=4, n_estimators=1000; total time=   1.9s\n",
      "[CV] END max_depth=None, max_features=auto, min_samples_leaf=1, min_samples_split=4, n_estimators=1000; total time=   1.8s\n",
      "[CV] END max_depth=None, max_features=auto, min_samples_leaf=1, min_samples_split=4, n_estimators=1000; total time=   1.9s\n",
      "[CV] END max_depth=30, max_features=sqrt, min_samples_leaf=4, min_samples_split=4, n_estimators=10; total time=   0.0s\n",
      "[CV] END max_depth=30, max_features=sqrt, min_samples_leaf=4, min_samples_split=4, n_estimators=10; total time=   0.0s\n",
      "[CV] END max_depth=30, max_features=sqrt, min_samples_leaf=4, min_samples_split=4, n_estimators=10; total time=   0.0s\n",
      "[CV] END max_depth=30, max_features=sqrt, min_samples_leaf=4, min_samples_split=4, n_estimators=10; total time=   0.0s\n",
      "[CV] END max_depth=30, max_features=sqrt, min_samples_leaf=4, min_samples_split=4, n_estimators=10; total time=   0.0s\n",
      "[CV] END max_depth=20, max_features=auto, min_samples_leaf=1, min_samples_split=2, n_estimators=100; total time=   0.2s\n",
      "[CV] END max_depth=20, max_features=auto, min_samples_leaf=1, min_samples_split=2, n_estimators=100; total time=   0.2s\n",
      "[CV] END max_depth=20, max_features=auto, min_samples_leaf=1, min_samples_split=2, n_estimators=100; total time=   0.2s\n",
      "[CV] END max_depth=20, max_features=auto, min_samples_leaf=1, min_samples_split=2, n_estimators=100; total time=   0.2s\n",
      "[CV] END max_depth=20, max_features=auto, min_samples_leaf=1, min_samples_split=2, n_estimators=100; total time=   0.2s\n",
      "[CV] END max_depth=None, max_features=sqrt, min_samples_leaf=4, min_samples_split=6, n_estimators=500; total time=   0.9s\n",
      "[CV] END max_depth=None, max_features=sqrt, min_samples_leaf=4, min_samples_split=6, n_estimators=500; total time=   0.9s\n",
      "[CV] END max_depth=None, max_features=sqrt, min_samples_leaf=4, min_samples_split=6, n_estimators=500; total time=   0.9s\n",
      "[CV] END max_depth=None, max_features=sqrt, min_samples_leaf=4, min_samples_split=6, n_estimators=500; total time=   0.9s\n",
      "[CV] END max_depth=None, max_features=sqrt, min_samples_leaf=4, min_samples_split=6, n_estimators=500; total time=   0.9s\n",
      "[CV] END max_depth=30, max_features=auto, min_samples_leaf=1, min_samples_split=6, n_estimators=500; total time=   0.9s\n",
      "[CV] END max_depth=30, max_features=auto, min_samples_leaf=1, min_samples_split=6, n_estimators=500; total time=   0.9s\n",
      "[CV] END max_depth=30, max_features=auto, min_samples_leaf=1, min_samples_split=6, n_estimators=500; total time=   0.9s\n",
      "[CV] END max_depth=30, max_features=auto, min_samples_leaf=1, min_samples_split=6, n_estimators=500; total time=   0.9s\n",
      "[CV] END max_depth=30, max_features=auto, min_samples_leaf=1, min_samples_split=6, n_estimators=500; total time=   0.9s\n",
      "[CV] END max_depth=20, max_features=auto, min_samples_leaf=4, min_samples_split=4, n_estimators=1500; total time=   2.7s\n",
      "[CV] END max_depth=20, max_features=auto, min_samples_leaf=4, min_samples_split=4, n_estimators=1500; total time=   2.9s\n",
      "[CV] END max_depth=20, max_features=auto, min_samples_leaf=4, min_samples_split=4, n_estimators=1500; total time=   2.7s\n",
      "[CV] END max_depth=20, max_features=auto, min_samples_leaf=4, min_samples_split=4, n_estimators=1500; total time=   2.7s\n",
      "[CV] END max_depth=20, max_features=auto, min_samples_leaf=4, min_samples_split=4, n_estimators=1500; total time=   2.7s\n",
      "[CV] END max_depth=5, max_features=auto, min_samples_leaf=4, min_samples_split=6, n_estimators=500; total time=   0.9s\n",
      "[CV] END max_depth=5, max_features=auto, min_samples_leaf=4, min_samples_split=6, n_estimators=500; total time=   0.9s\n",
      "[CV] END max_depth=5, max_features=auto, min_samples_leaf=4, min_samples_split=6, n_estimators=500; total time=   0.9s\n",
      "[CV] END max_depth=5, max_features=auto, min_samples_leaf=4, min_samples_split=6, n_estimators=500; total time=   0.9s\n",
      "[CV] END max_depth=5, max_features=auto, min_samples_leaf=4, min_samples_split=6, n_estimators=500; total time=   0.9s\n",
      "[CV] END max_depth=10, max_features=auto, min_samples_leaf=2, min_samples_split=6, n_estimators=1000; total time=   1.8s\n",
      "[CV] END max_depth=10, max_features=auto, min_samples_leaf=2, min_samples_split=6, n_estimators=1000; total time=   1.9s\n",
      "[CV] END max_depth=10, max_features=auto, min_samples_leaf=2, min_samples_split=6, n_estimators=1000; total time=   1.8s\n",
      "[CV] END max_depth=10, max_features=auto, min_samples_leaf=2, min_samples_split=6, n_estimators=1000; total time=   1.8s\n",
      "[CV] END max_depth=10, max_features=auto, min_samples_leaf=2, min_samples_split=6, n_estimators=1000; total time=   1.8s\n",
      "[CV] END max_depth=10, max_features=sqrt, min_samples_leaf=4, min_samples_split=4, n_estimators=1500; total time=   2.7s\n",
      "[CV] END max_depth=10, max_features=sqrt, min_samples_leaf=4, min_samples_split=4, n_estimators=1500; total time=   2.7s\n",
      "[CV] END max_depth=10, max_features=sqrt, min_samples_leaf=4, min_samples_split=4, n_estimators=1500; total time=   2.8s\n",
      "[CV] END max_depth=10, max_features=sqrt, min_samples_leaf=4, min_samples_split=4, n_estimators=1500; total time=   2.7s\n",
      "[CV] END max_depth=10, max_features=sqrt, min_samples_leaf=4, min_samples_split=4, n_estimators=1500; total time=   2.9s\n",
      "[CV] END max_depth=None, max_features=sqrt, min_samples_leaf=2, min_samples_split=2, n_estimators=1500; total time=   2.8s\n",
      "[CV] END max_depth=None, max_features=sqrt, min_samples_leaf=2, min_samples_split=2, n_estimators=1500; total time=   2.9s\n",
      "[CV] END max_depth=None, max_features=sqrt, min_samples_leaf=2, min_samples_split=2, n_estimators=1500; total time=   2.8s\n",
      "[CV] END max_depth=None, max_features=sqrt, min_samples_leaf=2, min_samples_split=2, n_estimators=1500; total time=   2.7s\n",
      "[CV] END max_depth=None, max_features=sqrt, min_samples_leaf=2, min_samples_split=2, n_estimators=1500; total time=   2.8s\n",
      "[CV] END max_depth=30, max_features=sqrt, min_samples_leaf=4, min_samples_split=6, n_estimators=100; total time=   0.2s\n",
      "[CV] END max_depth=30, max_features=sqrt, min_samples_leaf=4, min_samples_split=6, n_estimators=100; total time=   0.2s\n",
      "[CV] END max_depth=30, max_features=sqrt, min_samples_leaf=4, min_samples_split=6, n_estimators=100; total time=   0.2s\n",
      "[CV] END max_depth=30, max_features=sqrt, min_samples_leaf=4, min_samples_split=6, n_estimators=100; total time=   0.2s\n",
      "[CV] END max_depth=30, max_features=sqrt, min_samples_leaf=4, min_samples_split=6, n_estimators=100; total time=   0.2s\n",
      "[CV] END max_depth=None, max_features=sqrt, min_samples_leaf=1, min_samples_split=6, n_estimators=1500; total time=   2.7s\n",
      "[CV] END max_depth=None, max_features=sqrt, min_samples_leaf=1, min_samples_split=6, n_estimators=1500; total time=   2.7s\n",
      "[CV] END max_depth=None, max_features=sqrt, min_samples_leaf=1, min_samples_split=6, n_estimators=1500; total time=   2.8s\n",
      "[CV] END max_depth=None, max_features=sqrt, min_samples_leaf=1, min_samples_split=6, n_estimators=1500; total time=   2.8s\n",
      "[CV] END max_depth=None, max_features=sqrt, min_samples_leaf=1, min_samples_split=6, n_estimators=1500; total time=   2.8s\n",
      "[CV] END max_depth=30, max_features=sqrt, min_samples_leaf=1, min_samples_split=2, n_estimators=10; total time=   0.0s\n",
      "[CV] END max_depth=30, max_features=sqrt, min_samples_leaf=1, min_samples_split=2, n_estimators=10; total time=   0.0s\n",
      "[CV] END max_depth=30, max_features=sqrt, min_samples_leaf=1, min_samples_split=2, n_estimators=10; total time=   0.0s\n",
      "[CV] END max_depth=30, max_features=sqrt, min_samples_leaf=1, min_samples_split=2, n_estimators=10; total time=   0.0s\n",
      "[CV] END max_depth=30, max_features=sqrt, min_samples_leaf=1, min_samples_split=2, n_estimators=10; total time=   0.0s\n",
      "[CV] END max_depth=30, max_features=auto, min_samples_leaf=2, min_samples_split=4, n_estimators=1500; total time=   2.7s\n",
      "[CV] END max_depth=30, max_features=auto, min_samples_leaf=2, min_samples_split=4, n_estimators=1500; total time=   2.8s\n",
      "[CV] END max_depth=30, max_features=auto, min_samples_leaf=2, min_samples_split=4, n_estimators=1500; total time=   2.9s\n",
      "[CV] END max_depth=30, max_features=auto, min_samples_leaf=2, min_samples_split=4, n_estimators=1500; total time=   2.8s\n",
      "[CV] END max_depth=30, max_features=auto, min_samples_leaf=2, min_samples_split=4, n_estimators=1500; total time=   2.7s\n",
      "[CV] END max_depth=20, max_features=auto, min_samples_leaf=4, min_samples_split=4, n_estimators=500; total time=   1.0s\n",
      "[CV] END max_depth=20, max_features=auto, min_samples_leaf=4, min_samples_split=4, n_estimators=500; total time=   0.9s\n",
      "[CV] END max_depth=20, max_features=auto, min_samples_leaf=4, min_samples_split=4, n_estimators=500; total time=   0.9s\n",
      "[CV] END max_depth=20, max_features=auto, min_samples_leaf=4, min_samples_split=4, n_estimators=500; total time=   0.9s\n",
      "[CV] END max_depth=20, max_features=auto, min_samples_leaf=4, min_samples_split=4, n_estimators=500; total time=   0.9s\n",
      "[CV] END max_depth=10, max_features=sqrt, min_samples_leaf=1, min_samples_split=2, n_estimators=100; total time=   0.2s\n",
      "[CV] END max_depth=10, max_features=sqrt, min_samples_leaf=1, min_samples_split=2, n_estimators=100; total time=   0.2s\n",
      "[CV] END max_depth=10, max_features=sqrt, min_samples_leaf=1, min_samples_split=2, n_estimators=100; total time=   0.2s\n",
      "[CV] END max_depth=10, max_features=sqrt, min_samples_leaf=1, min_samples_split=2, n_estimators=100; total time=   0.2s\n",
      "[CV] END max_depth=10, max_features=sqrt, min_samples_leaf=1, min_samples_split=2, n_estimators=100; total time=   0.2s\n",
      "[CV] END max_depth=5, max_features=auto, min_samples_leaf=2, min_samples_split=4, n_estimators=10; total time=   0.0s\n",
      "[CV] END max_depth=5, max_features=auto, min_samples_leaf=2, min_samples_split=4, n_estimators=10; total time=   0.0s\n",
      "[CV] END max_depth=5, max_features=auto, min_samples_leaf=2, min_samples_split=4, n_estimators=10; total time=   0.0s\n",
      "[CV] END max_depth=5, max_features=auto, min_samples_leaf=2, min_samples_split=4, n_estimators=10; total time=   0.0s\n",
      "[CV] END max_depth=5, max_features=auto, min_samples_leaf=2, min_samples_split=4, n_estimators=10; total time=   0.0s\n",
      "[CV] END max_depth=None, max_features=sqrt, min_samples_leaf=2, min_samples_split=4, n_estimators=10; total time=   0.0s\n",
      "[CV] END max_depth=None, max_features=sqrt, min_samples_leaf=2, min_samples_split=4, n_estimators=10; total time=   0.0s\n",
      "[CV] END max_depth=None, max_features=sqrt, min_samples_leaf=2, min_samples_split=4, n_estimators=10; total time=   0.0s\n",
      "[CV] END max_depth=None, max_features=sqrt, min_samples_leaf=2, min_samples_split=4, n_estimators=10; total time=   0.0s\n",
      "[CV] END max_depth=None, max_features=sqrt, min_samples_leaf=2, min_samples_split=4, n_estimators=10; total time=   0.0s\n",
      "[CV] END max_depth=5, max_features=auto, min_samples_leaf=4, min_samples_split=2, n_estimators=2000; total time=   3.6s\n",
      "[CV] END max_depth=5, max_features=auto, min_samples_leaf=4, min_samples_split=2, n_estimators=2000; total time=   3.6s\n",
      "[CV] END max_depth=5, max_features=auto, min_samples_leaf=4, min_samples_split=2, n_estimators=2000; total time=   3.8s\n",
      "[CV] END max_depth=5, max_features=auto, min_samples_leaf=4, min_samples_split=2, n_estimators=2000; total time=   3.7s\n",
      "[CV] END max_depth=5, max_features=auto, min_samples_leaf=4, min_samples_split=2, n_estimators=2000; total time=   3.7s\n",
      "[CV] END max_depth=20, max_features=auto, min_samples_leaf=1, min_samples_split=4, n_estimators=2000; total time=   3.7s\n",
      "[CV] END max_depth=20, max_features=auto, min_samples_leaf=1, min_samples_split=4, n_estimators=2000; total time=   3.8s\n",
      "[CV] END max_depth=20, max_features=auto, min_samples_leaf=1, min_samples_split=4, n_estimators=2000; total time=   3.7s\n",
      "[CV] END max_depth=20, max_features=auto, min_samples_leaf=1, min_samples_split=4, n_estimators=2000; total time=   3.7s\n",
      "[CV] END max_depth=20, max_features=auto, min_samples_leaf=1, min_samples_split=4, n_estimators=2000; total time=   3.7s\n",
      "[CV] END max_depth=5, max_features=sqrt, min_samples_leaf=4, min_samples_split=4, n_estimators=1500; total time=   2.8s\n",
      "[CV] END max_depth=5, max_features=sqrt, min_samples_leaf=4, min_samples_split=4, n_estimators=1500; total time=   2.8s\n",
      "[CV] END max_depth=5, max_features=sqrt, min_samples_leaf=4, min_samples_split=4, n_estimators=1500; total time=   2.8s\n",
      "[CV] END max_depth=5, max_features=sqrt, min_samples_leaf=4, min_samples_split=4, n_estimators=1500; total time=   2.8s\n",
      "[CV] END max_depth=5, max_features=sqrt, min_samples_leaf=4, min_samples_split=4, n_estimators=1500; total time=   2.7s\n",
      "[CV] END max_depth=None, max_features=sqrt, min_samples_leaf=1, min_samples_split=6, n_estimators=500; total time=   0.9s\n",
      "[CV] END max_depth=None, max_features=sqrt, min_samples_leaf=1, min_samples_split=6, n_estimators=500; total time=   1.0s\n",
      "[CV] END max_depth=None, max_features=sqrt, min_samples_leaf=1, min_samples_split=6, n_estimators=500; total time=   0.9s\n",
      "[CV] END max_depth=None, max_features=sqrt, min_samples_leaf=1, min_samples_split=6, n_estimators=500; total time=   0.9s\n",
      "[CV] END max_depth=None, max_features=sqrt, min_samples_leaf=1, min_samples_split=6, n_estimators=500; total time=   0.9s\n",
      "[CV] END max_depth=10, max_features=auto, min_samples_leaf=2, min_samples_split=6, n_estimators=1500; total time=   2.9s\n",
      "[CV] END max_depth=10, max_features=auto, min_samples_leaf=2, min_samples_split=6, n_estimators=1500; total time=   2.7s\n",
      "[CV] END max_depth=10, max_features=auto, min_samples_leaf=2, min_samples_split=6, n_estimators=1500; total time=   2.8s\n",
      "[CV] END max_depth=10, max_features=auto, min_samples_leaf=2, min_samples_split=6, n_estimators=1500; total time=   2.7s\n",
      "[CV] END max_depth=10, max_features=auto, min_samples_leaf=2, min_samples_split=6, n_estimators=1500; total time=   2.8s\n",
      "[CV] END max_depth=None, max_features=sqrt, min_samples_leaf=1, min_samples_split=4, n_estimators=1000; total time=   2.0s\n",
      "[CV] END max_depth=None, max_features=sqrt, min_samples_leaf=1, min_samples_split=4, n_estimators=1000; total time=   1.9s\n",
      "[CV] END max_depth=None, max_features=sqrt, min_samples_leaf=1, min_samples_split=4, n_estimators=1000; total time=   1.9s\n",
      "[CV] END max_depth=None, max_features=sqrt, min_samples_leaf=1, min_samples_split=4, n_estimators=1000; total time=   1.8s\n",
      "[CV] END max_depth=None, max_features=sqrt, min_samples_leaf=1, min_samples_split=4, n_estimators=1000; total time=   1.8s\n",
      "[CV] END max_depth=10, max_features=auto, min_samples_leaf=2, min_samples_split=2, n_estimators=10; total time=   0.0s\n",
      "[CV] END max_depth=10, max_features=auto, min_samples_leaf=2, min_samples_split=2, n_estimators=10; total time=   0.0s\n",
      "[CV] END max_depth=10, max_features=auto, min_samples_leaf=2, min_samples_split=2, n_estimators=10; total time=   0.0s\n",
      "[CV] END max_depth=10, max_features=auto, min_samples_leaf=2, min_samples_split=2, n_estimators=10; total time=   0.0s\n",
      "[CV] END max_depth=10, max_features=auto, min_samples_leaf=2, min_samples_split=2, n_estimators=10; total time=   0.0s\n",
      "[CV] END max_depth=5, max_features=sqrt, min_samples_leaf=4, min_samples_split=4, n_estimators=2000; total time=   3.6s\n",
      "[CV] END max_depth=5, max_features=sqrt, min_samples_leaf=4, min_samples_split=4, n_estimators=2000; total time=   3.6s\n",
      "[CV] END max_depth=5, max_features=sqrt, min_samples_leaf=4, min_samples_split=4, n_estimators=2000; total time=   3.7s\n",
      "[CV] END max_depth=5, max_features=sqrt, min_samples_leaf=4, min_samples_split=4, n_estimators=2000; total time=   3.6s\n",
      "[CV] END max_depth=5, max_features=sqrt, min_samples_leaf=4, min_samples_split=4, n_estimators=2000; total time=   3.8s\n",
      "[CV] END max_depth=None, max_features=sqrt, min_samples_leaf=2, min_samples_split=4, n_estimators=1500; total time=   2.7s\n",
      "[CV] END max_depth=None, max_features=sqrt, min_samples_leaf=2, min_samples_split=4, n_estimators=1500; total time=   2.8s\n",
      "[CV] END max_depth=None, max_features=sqrt, min_samples_leaf=2, min_samples_split=4, n_estimators=1500; total time=   2.8s\n",
      "[CV] END max_depth=None, max_features=sqrt, min_samples_leaf=2, min_samples_split=4, n_estimators=1500; total time=   2.8s\n",
      "[CV] END max_depth=None, max_features=sqrt, min_samples_leaf=2, min_samples_split=4, n_estimators=1500; total time=   2.8s\n",
      "[CV] END max_depth=5, max_features=sqrt, min_samples_leaf=2, min_samples_split=6, n_estimators=10; total time=   0.0s\n",
      "[CV] END max_depth=5, max_features=sqrt, min_samples_leaf=2, min_samples_split=6, n_estimators=10; total time=   0.0s\n",
      "[CV] END max_depth=5, max_features=sqrt, min_samples_leaf=2, min_samples_split=6, n_estimators=10; total time=   0.0s\n",
      "[CV] END max_depth=5, max_features=sqrt, min_samples_leaf=2, min_samples_split=6, n_estimators=10; total time=   0.0s\n",
      "[CV] END max_depth=5, max_features=sqrt, min_samples_leaf=2, min_samples_split=6, n_estimators=10; total time=   0.0s\n",
      "[CV] END max_depth=None, max_features=auto, min_samples_leaf=2, min_samples_split=6, n_estimators=1000; total time=   1.9s\n",
      "[CV] END max_depth=None, max_features=auto, min_samples_leaf=2, min_samples_split=6, n_estimators=1000; total time=   1.8s\n",
      "[CV] END max_depth=None, max_features=auto, min_samples_leaf=2, min_samples_split=6, n_estimators=1000; total time=   1.9s\n",
      "[CV] END max_depth=None, max_features=auto, min_samples_leaf=2, min_samples_split=6, n_estimators=1000; total time=   1.9s\n",
      "[CV] END max_depth=None, max_features=auto, min_samples_leaf=2, min_samples_split=6, n_estimators=1000; total time=   1.8s\n",
      "[CV] END max_depth=None, max_features=sqrt, min_samples_leaf=2, min_samples_split=6, n_estimators=10; total time=   0.0s\n",
      "[CV] END max_depth=None, max_features=sqrt, min_samples_leaf=2, min_samples_split=6, n_estimators=10; total time=   0.0s\n",
      "[CV] END max_depth=None, max_features=sqrt, min_samples_leaf=2, min_samples_split=6, n_estimators=10; total time=   0.0s\n",
      "[CV] END max_depth=None, max_features=sqrt, min_samples_leaf=2, min_samples_split=6, n_estimators=10; total time=   0.0s\n",
      "[CV] END max_depth=None, max_features=sqrt, min_samples_leaf=2, min_samples_split=6, n_estimators=10; total time=   0.0s\n",
      "[CV] END max_depth=5, max_features=sqrt, min_samples_leaf=1, min_samples_split=6, n_estimators=1000; total time=   1.9s\n",
      "[CV] END max_depth=5, max_features=sqrt, min_samples_leaf=1, min_samples_split=6, n_estimators=1000; total time=   1.9s\n",
      "[CV] END max_depth=5, max_features=sqrt, min_samples_leaf=1, min_samples_split=6, n_estimators=1000; total time=   1.8s\n",
      "[CV] END max_depth=5, max_features=sqrt, min_samples_leaf=1, min_samples_split=6, n_estimators=1000; total time=   1.8s\n",
      "[CV] END max_depth=5, max_features=sqrt, min_samples_leaf=1, min_samples_split=6, n_estimators=1000; total time=   1.9s\n",
      "[CV] END max_depth=None, max_features=auto, min_samples_leaf=1, min_samples_split=2, n_estimators=10; total time=   0.0s\n",
      "[CV] END max_depth=None, max_features=auto, min_samples_leaf=1, min_samples_split=2, n_estimators=10; total time=   0.0s\n",
      "[CV] END max_depth=None, max_features=auto, min_samples_leaf=1, min_samples_split=2, n_estimators=10; total time=   0.0s\n",
      "[CV] END max_depth=None, max_features=auto, min_samples_leaf=1, min_samples_split=2, n_estimators=10; total time=   0.0s\n",
      "[CV] END max_depth=None, max_features=auto, min_samples_leaf=1, min_samples_split=2, n_estimators=10; total time=   0.0s\n",
      "[CV] END max_depth=None, max_features=auto, min_samples_leaf=1, min_samples_split=4, n_estimators=2000; total time=   3.8s\n",
      "[CV] END max_depth=None, max_features=auto, min_samples_leaf=1, min_samples_split=4, n_estimators=2000; total time=   3.9s\n",
      "[CV] END max_depth=None, max_features=auto, min_samples_leaf=1, min_samples_split=4, n_estimators=2000; total time=   3.8s\n",
      "[CV] END max_depth=None, max_features=auto, min_samples_leaf=1, min_samples_split=4, n_estimators=2000; total time=   3.8s\n",
      "[CV] END max_depth=None, max_features=auto, min_samples_leaf=1, min_samples_split=4, n_estimators=2000; total time=   3.7s\n",
      "[CV] END max_depth=30, max_features=auto, min_samples_leaf=4, min_samples_split=2, n_estimators=1500; total time=   2.8s\n",
      "[CV] END max_depth=30, max_features=auto, min_samples_leaf=4, min_samples_split=2, n_estimators=1500; total time=   2.7s\n",
      "[CV] END max_depth=30, max_features=auto, min_samples_leaf=4, min_samples_split=2, n_estimators=1500; total time=   2.7s\n",
      "[CV] END max_depth=30, max_features=auto, min_samples_leaf=4, min_samples_split=2, n_estimators=1500; total time=   2.8s\n",
      "[CV] END max_depth=30, max_features=auto, min_samples_leaf=4, min_samples_split=2, n_estimators=1500; total time=   2.8s\n",
      "[CV] END max_depth=None, max_features=auto, min_samples_leaf=2, min_samples_split=2, n_estimators=1500; total time=   2.9s\n",
      "[CV] END max_depth=None, max_features=auto, min_samples_leaf=2, min_samples_split=2, n_estimators=1500; total time=   2.8s\n",
      "[CV] END max_depth=None, max_features=auto, min_samples_leaf=2, min_samples_split=2, n_estimators=1500; total time=   2.9s\n",
      "[CV] END max_depth=None, max_features=auto, min_samples_leaf=2, min_samples_split=2, n_estimators=1500; total time=   2.8s\n",
      "[CV] END max_depth=None, max_features=auto, min_samples_leaf=2, min_samples_split=2, n_estimators=1500; total time=   2.8s\n",
      "[CV] END max_depth=20, max_features=auto, min_samples_leaf=2, min_samples_split=6, n_estimators=500; total time=   0.9s\n",
      "[CV] END max_depth=20, max_features=auto, min_samples_leaf=2, min_samples_split=6, n_estimators=500; total time=   0.9s\n",
      "[CV] END max_depth=20, max_features=auto, min_samples_leaf=2, min_samples_split=6, n_estimators=500; total time=   0.9s\n",
      "[CV] END max_depth=20, max_features=auto, min_samples_leaf=2, min_samples_split=6, n_estimators=500; total time=   0.9s\n",
      "[CV] END max_depth=20, max_features=auto, min_samples_leaf=2, min_samples_split=6, n_estimators=500; total time=   0.9s\n",
      "[CV] END max_depth=None, max_features=sqrt, min_samples_leaf=4, min_samples_split=2, n_estimators=10; total time=   0.0s\n",
      "[CV] END max_depth=None, max_features=sqrt, min_samples_leaf=4, min_samples_split=2, n_estimators=10; total time=   0.0s\n",
      "[CV] END max_depth=None, max_features=sqrt, min_samples_leaf=4, min_samples_split=2, n_estimators=10; total time=   0.0s\n",
      "[CV] END max_depth=None, max_features=sqrt, min_samples_leaf=4, min_samples_split=2, n_estimators=10; total time=   0.0s\n",
      "[CV] END max_depth=None, max_features=sqrt, min_samples_leaf=4, min_samples_split=2, n_estimators=10; total time=   0.0s\n",
      "[CV] END max_depth=None, max_features=sqrt, min_samples_leaf=2, min_samples_split=6, n_estimators=2000; total time=   3.7s\n",
      "[CV] END max_depth=None, max_features=sqrt, min_samples_leaf=2, min_samples_split=6, n_estimators=2000; total time=   3.6s\n",
      "[CV] END max_depth=None, max_features=sqrt, min_samples_leaf=2, min_samples_split=6, n_estimators=2000; total time=   3.7s\n",
      "[CV] END max_depth=None, max_features=sqrt, min_samples_leaf=2, min_samples_split=6, n_estimators=2000; total time=   3.8s\n",
      "[CV] END max_depth=None, max_features=sqrt, min_samples_leaf=2, min_samples_split=6, n_estimators=2000; total time=   3.6s\n",
      "[CV] END max_depth=5, max_features=auto, min_samples_leaf=4, min_samples_split=4, n_estimators=1000; total time=   1.8s\n",
      "[CV] END max_depth=5, max_features=auto, min_samples_leaf=4, min_samples_split=4, n_estimators=1000; total time=   1.8s\n",
      "[CV] END max_depth=5, max_features=auto, min_samples_leaf=4, min_samples_split=4, n_estimators=1000; total time=   1.8s\n",
      "[CV] END max_depth=5, max_features=auto, min_samples_leaf=4, min_samples_split=4, n_estimators=1000; total time=   1.9s\n",
      "[CV] END max_depth=5, max_features=auto, min_samples_leaf=4, min_samples_split=4, n_estimators=1000; total time=   1.8s\n",
      "[CV] END max_depth=10, max_features=sqrt, min_samples_leaf=1, min_samples_split=4, n_estimators=100; total time=   0.2s\n",
      "[CV] END max_depth=10, max_features=sqrt, min_samples_leaf=1, min_samples_split=4, n_estimators=100; total time=   0.2s\n",
      "[CV] END max_depth=10, max_features=sqrt, min_samples_leaf=1, min_samples_split=4, n_estimators=100; total time=   0.2s\n",
      "[CV] END max_depth=10, max_features=sqrt, min_samples_leaf=1, min_samples_split=4, n_estimators=100; total time=   0.2s\n",
      "[CV] END max_depth=10, max_features=sqrt, min_samples_leaf=1, min_samples_split=4, n_estimators=100; total time=   0.2s\n",
      "[CV] END max_depth=5, max_features=auto, min_samples_leaf=2, min_samples_split=4, n_estimators=2000; total time=   3.6s\n",
      "[CV] END max_depth=5, max_features=auto, min_samples_leaf=2, min_samples_split=4, n_estimators=2000; total time=   3.7s\n",
      "[CV] END max_depth=5, max_features=auto, min_samples_leaf=2, min_samples_split=4, n_estimators=2000; total time=   3.7s\n",
      "[CV] END max_depth=5, max_features=auto, min_samples_leaf=2, min_samples_split=4, n_estimators=2000; total time=   3.8s\n",
      "[CV] END max_depth=5, max_features=auto, min_samples_leaf=2, min_samples_split=4, n_estimators=2000; total time=   3.8s\n",
      "[CV] END max_depth=20, max_features=auto, min_samples_leaf=4, min_samples_split=6, n_estimators=1500; total time=   2.7s\n",
      "[CV] END max_depth=20, max_features=auto, min_samples_leaf=4, min_samples_split=6, n_estimators=1500; total time=   2.7s\n",
      "[CV] END max_depth=20, max_features=auto, min_samples_leaf=4, min_samples_split=6, n_estimators=1500; total time=   2.7s\n",
      "[CV] END max_depth=20, max_features=auto, min_samples_leaf=4, min_samples_split=6, n_estimators=1500; total time=   2.9s\n",
      "[CV] END max_depth=20, max_features=auto, min_samples_leaf=4, min_samples_split=6, n_estimators=1500; total time=   2.8s\n",
      "[CV] END max_depth=5, max_features=auto, min_samples_leaf=2, min_samples_split=2, n_estimators=2000; total time=   3.6s\n",
      "[CV] END max_depth=5, max_features=auto, min_samples_leaf=2, min_samples_split=2, n_estimators=2000; total time=   3.7s\n",
      "[CV] END max_depth=5, max_features=auto, min_samples_leaf=2, min_samples_split=2, n_estimators=2000; total time=   3.9s\n",
      "[CV] END max_depth=5, max_features=auto, min_samples_leaf=2, min_samples_split=2, n_estimators=2000; total time=   3.7s\n",
      "[CV] END max_depth=5, max_features=auto, min_samples_leaf=2, min_samples_split=2, n_estimators=2000; total time=   3.7s\n",
      "[CV] END max_depth=20, max_features=sqrt, min_samples_leaf=4, min_samples_split=6, n_estimators=1000; total time=   1.9s\n",
      "[CV] END max_depth=20, max_features=sqrt, min_samples_leaf=4, min_samples_split=6, n_estimators=1000; total time=   1.9s\n",
      "[CV] END max_depth=20, max_features=sqrt, min_samples_leaf=4, min_samples_split=6, n_estimators=1000; total time=   1.8s\n",
      "[CV] END max_depth=20, max_features=sqrt, min_samples_leaf=4, min_samples_split=6, n_estimators=1000; total time=   2.0s\n",
      "[CV] END max_depth=20, max_features=sqrt, min_samples_leaf=4, min_samples_split=6, n_estimators=1000; total time=   1.8s\n",
      "[CV] END max_depth=None, max_features=auto, min_samples_leaf=2, min_samples_split=2, n_estimators=10; total time=   0.0s\n",
      "[CV] END max_depth=None, max_features=auto, min_samples_leaf=2, min_samples_split=2, n_estimators=10; total time=   0.0s\n",
      "[CV] END max_depth=None, max_features=auto, min_samples_leaf=2, min_samples_split=2, n_estimators=10; total time=   0.0s\n",
      "[CV] END max_depth=None, max_features=auto, min_samples_leaf=2, min_samples_split=2, n_estimators=10; total time=   0.0s\n",
      "[CV] END max_depth=None, max_features=auto, min_samples_leaf=2, min_samples_split=2, n_estimators=10; total time=   0.0s\n",
      "[CV] END max_depth=10, max_features=sqrt, min_samples_leaf=1, min_samples_split=4, n_estimators=1500; total time=   2.8s\n",
      "[CV] END max_depth=10, max_features=sqrt, min_samples_leaf=1, min_samples_split=4, n_estimators=1500; total time=   2.7s\n",
      "[CV] END max_depth=10, max_features=sqrt, min_samples_leaf=1, min_samples_split=4, n_estimators=1500; total time=   2.7s\n",
      "[CV] END max_depth=10, max_features=sqrt, min_samples_leaf=1, min_samples_split=4, n_estimators=1500; total time=   2.8s\n",
      "[CV] END max_depth=10, max_features=sqrt, min_samples_leaf=1, min_samples_split=4, n_estimators=1500; total time=   2.8s\n",
      "[CV] END max_depth=30, max_features=auto, min_samples_leaf=1, min_samples_split=6, n_estimators=1500; total time=   2.8s\n",
      "[CV] END max_depth=30, max_features=auto, min_samples_leaf=1, min_samples_split=6, n_estimators=1500; total time=   2.7s\n",
      "[CV] END max_depth=30, max_features=auto, min_samples_leaf=1, min_samples_split=6, n_estimators=1500; total time=   2.8s\n",
      "[CV] END max_depth=30, max_features=auto, min_samples_leaf=1, min_samples_split=6, n_estimators=1500; total time=   2.8s\n",
      "[CV] END max_depth=30, max_features=auto, min_samples_leaf=1, min_samples_split=6, n_estimators=1500; total time=   2.7s\n"
     ]
    },
    {
     "data": {
      "text/plain": [
       "RandomizedSearchCV(cv=5, estimator=RandomForestClassifier(n_jobs=1), n_iter=100,\n",
       "                   param_distributions={'max_depth': [None, 5, 10, 20, 30],\n",
       "                                        'max_features': ['auto', 'sqrt'],\n",
       "                                        'min_samples_leaf': [1, 2, 4],\n",
       "                                        'min_samples_split': [2, 4, 6],\n",
       "                                        'n_estimators': [10, 100, 500, 1000,\n",
       "                                                         1500, 2000]},\n",
       "                   verbose=2)"
      ]
     },
     "execution_count": 32,
     "metadata": {},
     "output_type": "execute_result"
    }
   ],
   "source": [
    "np.random.seed(42)\n",
    "clf= RandomForestClassifier(n_jobs=1)\n",
    "from sklearn.model_selection import RandomizedSearchCV\n",
    "rs_clf = RandomizedSearchCV(estimator=clf,\n",
    "                   param_distributions=grid,\n",
    "                   n_iter=100, #Increasing too 100 from 20\n",
    "                   cv=5,\n",
    "                   verbose=2)\n",
    "rs_clf.fit(X_train,y_train)"
   ]
  },
  {
   "cell_type": "code",
   "execution_count": 33,
   "id": "compound-chrome",
   "metadata": {
    "execution": {
     "iopub.execute_input": "2021-06-13T00:05:28.653864Z",
     "iopub.status.busy": "2021-06-13T00:05:28.653147Z",
     "iopub.status.idle": "2021-06-13T00:05:28.656075Z",
     "shell.execute_reply": "2021-06-13T00:05:28.656591Z",
     "shell.execute_reply.started": "2021-06-11T01:46:22.831743Z"
    },
    "papermill": {
     "duration": 0.177457,
     "end_time": "2021-06-13T00:05:28.656781",
     "exception": false,
     "start_time": "2021-06-13T00:05:28.479324",
     "status": "completed"
    },
    "tags": []
   },
   "outputs": [
    {
     "data": {
      "text/plain": [
       "{'n_estimators': 500,\n",
       " 'min_samples_split': 2,\n",
       " 'min_samples_leaf': 1,\n",
       " 'max_features': 'sqrt',\n",
       " 'max_depth': 30}"
      ]
     },
     "execution_count": 33,
     "metadata": {},
     "output_type": "execute_result"
    }
   ],
   "source": [
    "rs_clf.best_params_"
   ]
  },
  {
   "cell_type": "code",
   "execution_count": 34,
   "id": "pleasant-montreal",
   "metadata": {
    "execution": {
     "iopub.execute_input": "2021-06-13T00:05:29.006750Z",
     "iopub.status.busy": "2021-06-13T00:05:29.006029Z",
     "iopub.status.idle": "2021-06-13T00:05:29.072001Z",
     "shell.execute_reply": "2021-06-13T00:05:29.071321Z",
     "shell.execute_reply.started": "2021-06-11T01:49:29.174598Z"
    },
    "papermill": {
     "duration": 0.246817,
     "end_time": "2021-06-13T00:05:29.072144",
     "exception": false,
     "start_time": "2021-06-13T00:05:28.825327",
     "status": "completed"
    },
    "tags": []
   },
   "outputs": [
    {
     "name": "stdout",
     "output_type": "stream",
     "text": [
      "Classification Metrics: \n",
      "Accuracy: 81.40%\n",
      "Precision: 82.86%\n",
      "Recall: 93.55%\n",
      "F1: 87.88%\n"
     ]
    }
   ],
   "source": [
    "rs_y_preds = rs_clf.predict(X_test)\n",
    "rs_metrics = classification_metrics(y_test,rs_y_preds)"
   ]
  },
  {
   "cell_type": "markdown",
   "id": "chief-agent",
   "metadata": {
    "papermill": {
     "duration": 0.171398,
     "end_time": "2021-06-13T00:05:29.415433",
     "exception": false,
     "start_time": "2021-06-13T00:05:29.244035",
     "status": "completed"
    },
    "tags": []
   },
   "source": [
    "### Hyperparameter tuning using `GridSearchCV`"
   ]
  },
  {
   "cell_type": "code",
   "execution_count": 35,
   "id": "extended-sweet",
   "metadata": {
    "execution": {
     "iopub.execute_input": "2021-06-13T00:05:29.760946Z",
     "iopub.status.busy": "2021-06-13T00:05:29.760083Z",
     "iopub.status.idle": "2021-06-13T00:05:29.763700Z",
     "shell.execute_reply": "2021-06-13T00:05:29.763047Z",
     "shell.execute_reply.started": "2021-06-11T01:54:35.244361Z"
    },
    "papermill": {
     "duration": 0.177797,
     "end_time": "2021-06-13T00:05:29.763858",
     "exception": false,
     "start_time": "2021-06-13T00:05:29.586061",
     "status": "completed"
    },
    "tags": []
   },
   "outputs": [],
   "source": [
    "grid_2 = {'n_estimators':[2000,2500,3000],\n",
    "         'max_depth':[10],\n",
    "         'max_features':['auto','sqrt'],\n",
    "         'min_samples_split':[2,4],\n",
    "         'min_samples_leaf':[2]}"
   ]
  },
  {
   "cell_type": "code",
   "execution_count": 36,
   "id": "postal-python",
   "metadata": {
    "execution": {
     "iopub.execute_input": "2021-06-13T00:05:30.123311Z",
     "iopub.status.busy": "2021-06-13T00:05:30.122366Z",
     "iopub.status.idle": "2021-06-13T00:05:30.127075Z",
     "shell.execute_reply": "2021-06-13T00:05:30.126466Z",
     "shell.execute_reply.started": "2021-06-11T01:55:53.859115Z"
    },
    "papermill": {
     "duration": 0.190934,
     "end_time": "2021-06-13T00:05:30.127208",
     "exception": false,
     "start_time": "2021-06-13T00:05:29.936274",
     "status": "completed"
    },
    "tags": []
   },
   "outputs": [
    {
     "data": {
      "text/html": [
       "<div>\n",
       "<style scoped>\n",
       "    .dataframe tbody tr th:only-of-type {\n",
       "        vertical-align: middle;\n",
       "    }\n",
       "\n",
       "    .dataframe tbody tr th {\n",
       "        vertical-align: top;\n",
       "    }\n",
       "\n",
       "    .dataframe thead th {\n",
       "        text-align: right;\n",
       "    }\n",
       "</style>\n",
       "<table border=\"1\" class=\"dataframe\">\n",
       "  <thead>\n",
       "    <tr style=\"text-align: right;\">\n",
       "      <th></th>\n",
       "      <th>n_estimators</th>\n",
       "      <th>max_depth</th>\n",
       "      <th>max_features</th>\n",
       "      <th>min_samples_split</th>\n",
       "      <th>min_samples_leaf</th>\n",
       "    </tr>\n",
       "  </thead>\n",
       "  <tbody>\n",
       "    <tr>\n",
       "      <th>Grid1</th>\n",
       "      <td>[10, 100, 500, 1000, 1500, 2000]</td>\n",
       "      <td>[None, 5, 10, 20, 30]</td>\n",
       "      <td>[auto, sqrt]</td>\n",
       "      <td>[2, 4, 6]</td>\n",
       "      <td>[1, 2, 4]</td>\n",
       "    </tr>\n",
       "    <tr>\n",
       "      <th>Grid2</th>\n",
       "      <td>[2000, 2500, 3000]</td>\n",
       "      <td>[10]</td>\n",
       "      <td>[auto, sqrt]</td>\n",
       "      <td>[2, 4]</td>\n",
       "      <td>[2]</td>\n",
       "    </tr>\n",
       "  </tbody>\n",
       "</table>\n",
       "</div>"
      ],
      "text/plain": [
       "                           n_estimators              max_depth  max_features  \\\n",
       "Grid1  [10, 100, 500, 1000, 1500, 2000]  [None, 5, 10, 20, 30]  [auto, sqrt]   \n",
       "Grid2                [2000, 2500, 3000]                   [10]  [auto, sqrt]   \n",
       "\n",
       "      min_samples_split min_samples_leaf  \n",
       "Grid1         [2, 4, 6]        [1, 2, 4]  \n",
       "Grid2            [2, 4]              [2]  "
      ]
     },
     "execution_count": 36,
     "metadata": {},
     "output_type": "execute_result"
    }
   ],
   "source": [
    "pd.DataFrame([grid,grid_2],index=['Grid1','Grid2'])"
   ]
  },
  {
   "cell_type": "code",
   "execution_count": 37,
   "id": "level-bristol",
   "metadata": {
    "_kg_hide-output": true,
    "execution": {
     "iopub.execute_input": "2021-06-13T00:05:30.484923Z",
     "iopub.status.busy": "2021-06-13T00:05:30.474401Z",
     "iopub.status.idle": "2021-06-13T00:10:12.241305Z",
     "shell.execute_reply": "2021-06-13T00:10:12.240703Z",
     "shell.execute_reply.started": "2021-06-11T01:58:12.768137Z"
    },
    "papermill": {
     "duration": 281.945052,
     "end_time": "2021-06-13T00:10:12.241474",
     "exception": false,
     "start_time": "2021-06-13T00:05:30.296422",
     "status": "completed"
    },
    "tags": []
   },
   "outputs": [
    {
     "name": "stdout",
     "output_type": "stream",
     "text": [
      "Fitting 5 folds for each of 12 candidates, totalling 60 fits\n",
      "[CV] END max_depth=10, max_features=auto, min_samples_leaf=2, min_samples_split=2, n_estimators=2000; total time=   3.8s\n",
      "[CV] END max_depth=10, max_features=auto, min_samples_leaf=2, min_samples_split=2, n_estimators=2000; total time=   3.6s\n",
      "[CV] END max_depth=10, max_features=auto, min_samples_leaf=2, min_samples_split=2, n_estimators=2000; total time=   3.7s\n",
      "[CV] END max_depth=10, max_features=auto, min_samples_leaf=2, min_samples_split=2, n_estimators=2000; total time=   3.7s\n",
      "[CV] END max_depth=10, max_features=auto, min_samples_leaf=2, min_samples_split=2, n_estimators=2000; total time=   3.7s\n",
      "[CV] END max_depth=10, max_features=auto, min_samples_leaf=2, min_samples_split=2, n_estimators=2500; total time=   4.6s\n",
      "[CV] END max_depth=10, max_features=auto, min_samples_leaf=2, min_samples_split=2, n_estimators=2500; total time=   4.7s\n",
      "[CV] END max_depth=10, max_features=auto, min_samples_leaf=2, min_samples_split=2, n_estimators=2500; total time=   4.9s\n",
      "[CV] END max_depth=10, max_features=auto, min_samples_leaf=2, min_samples_split=2, n_estimators=2500; total time=   4.6s\n",
      "[CV] END max_depth=10, max_features=auto, min_samples_leaf=2, min_samples_split=2, n_estimators=2500; total time=   4.7s\n",
      "[CV] END max_depth=10, max_features=auto, min_samples_leaf=2, min_samples_split=2, n_estimators=3000; total time=   5.6s\n",
      "[CV] END max_depth=10, max_features=auto, min_samples_leaf=2, min_samples_split=2, n_estimators=3000; total time=   5.5s\n",
      "[CV] END max_depth=10, max_features=auto, min_samples_leaf=2, min_samples_split=2, n_estimators=3000; total time=   5.7s\n",
      "[CV] END max_depth=10, max_features=auto, min_samples_leaf=2, min_samples_split=2, n_estimators=3000; total time=   5.5s\n",
      "[CV] END max_depth=10, max_features=auto, min_samples_leaf=2, min_samples_split=2, n_estimators=3000; total time=   5.5s\n",
      "[CV] END max_depth=10, max_features=auto, min_samples_leaf=2, min_samples_split=4, n_estimators=2000; total time=   3.7s\n",
      "[CV] END max_depth=10, max_features=auto, min_samples_leaf=2, min_samples_split=4, n_estimators=2000; total time=   3.6s\n",
      "[CV] END max_depth=10, max_features=auto, min_samples_leaf=2, min_samples_split=4, n_estimators=2000; total time=   3.7s\n",
      "[CV] END max_depth=10, max_features=auto, min_samples_leaf=2, min_samples_split=4, n_estimators=2000; total time=   3.6s\n",
      "[CV] END max_depth=10, max_features=auto, min_samples_leaf=2, min_samples_split=4, n_estimators=2000; total time=   3.7s\n",
      "[CV] END max_depth=10, max_features=auto, min_samples_leaf=2, min_samples_split=4, n_estimators=2500; total time=   4.6s\n",
      "[CV] END max_depth=10, max_features=auto, min_samples_leaf=2, min_samples_split=4, n_estimators=2500; total time=   4.5s\n",
      "[CV] END max_depth=10, max_features=auto, min_samples_leaf=2, min_samples_split=4, n_estimators=2500; total time=   4.6s\n",
      "[CV] END max_depth=10, max_features=auto, min_samples_leaf=2, min_samples_split=4, n_estimators=2500; total time=   4.7s\n",
      "[CV] END max_depth=10, max_features=auto, min_samples_leaf=2, min_samples_split=4, n_estimators=2500; total time=   4.5s\n",
      "[CV] END max_depth=10, max_features=auto, min_samples_leaf=2, min_samples_split=4, n_estimators=3000; total time=   5.5s\n",
      "[CV] END max_depth=10, max_features=auto, min_samples_leaf=2, min_samples_split=4, n_estimators=3000; total time=   5.5s\n",
      "[CV] END max_depth=10, max_features=auto, min_samples_leaf=2, min_samples_split=4, n_estimators=3000; total time=   5.5s\n",
      "[CV] END max_depth=10, max_features=auto, min_samples_leaf=2, min_samples_split=4, n_estimators=3000; total time=   5.6s\n",
      "[CV] END max_depth=10, max_features=auto, min_samples_leaf=2, min_samples_split=4, n_estimators=3000; total time=   5.5s\n",
      "[CV] END max_depth=10, max_features=sqrt, min_samples_leaf=2, min_samples_split=2, n_estimators=2000; total time=   3.6s\n",
      "[CV] END max_depth=10, max_features=sqrt, min_samples_leaf=2, min_samples_split=2, n_estimators=2000; total time=   3.7s\n",
      "[CV] END max_depth=10, max_features=sqrt, min_samples_leaf=2, min_samples_split=2, n_estimators=2000; total time=   3.7s\n",
      "[CV] END max_depth=10, max_features=sqrt, min_samples_leaf=2, min_samples_split=2, n_estimators=2000; total time=   3.7s\n",
      "[CV] END max_depth=10, max_features=sqrt, min_samples_leaf=2, min_samples_split=2, n_estimators=2000; total time=   3.7s\n",
      "[CV] END max_depth=10, max_features=sqrt, min_samples_leaf=2, min_samples_split=2, n_estimators=2500; total time=   4.6s\n",
      "[CV] END max_depth=10, max_features=sqrt, min_samples_leaf=2, min_samples_split=2, n_estimators=2500; total time=   4.8s\n",
      "[CV] END max_depth=10, max_features=sqrt, min_samples_leaf=2, min_samples_split=2, n_estimators=2500; total time=   4.6s\n",
      "[CV] END max_depth=10, max_features=sqrt, min_samples_leaf=2, min_samples_split=2, n_estimators=2500; total time=   4.6s\n",
      "[CV] END max_depth=10, max_features=sqrt, min_samples_leaf=2, min_samples_split=2, n_estimators=2500; total time=   4.6s\n",
      "[CV] END max_depth=10, max_features=sqrt, min_samples_leaf=2, min_samples_split=2, n_estimators=3000; total time=   5.7s\n",
      "[CV] END max_depth=10, max_features=sqrt, min_samples_leaf=2, min_samples_split=2, n_estimators=3000; total time=   5.7s\n",
      "[CV] END max_depth=10, max_features=sqrt, min_samples_leaf=2, min_samples_split=2, n_estimators=3000; total time=   5.5s\n",
      "[CV] END max_depth=10, max_features=sqrt, min_samples_leaf=2, min_samples_split=2, n_estimators=3000; total time=   5.5s\n",
      "[CV] END max_depth=10, max_features=sqrt, min_samples_leaf=2, min_samples_split=2, n_estimators=3000; total time=   5.5s\n",
      "[CV] END max_depth=10, max_features=sqrt, min_samples_leaf=2, min_samples_split=4, n_estimators=2000; total time=   3.7s\n",
      "[CV] END max_depth=10, max_features=sqrt, min_samples_leaf=2, min_samples_split=4, n_estimators=2000; total time=   3.8s\n",
      "[CV] END max_depth=10, max_features=sqrt, min_samples_leaf=2, min_samples_split=4, n_estimators=2000; total time=   3.8s\n",
      "[CV] END max_depth=10, max_features=sqrt, min_samples_leaf=2, min_samples_split=4, n_estimators=2000; total time=   3.7s\n",
      "[CV] END max_depth=10, max_features=sqrt, min_samples_leaf=2, min_samples_split=4, n_estimators=2000; total time=   3.7s\n",
      "[CV] END max_depth=10, max_features=sqrt, min_samples_leaf=2, min_samples_split=4, n_estimators=2500; total time=   4.5s\n",
      "[CV] END max_depth=10, max_features=sqrt, min_samples_leaf=2, min_samples_split=4, n_estimators=2500; total time=   4.6s\n",
      "[CV] END max_depth=10, max_features=sqrt, min_samples_leaf=2, min_samples_split=4, n_estimators=2500; total time=   4.5s\n",
      "[CV] END max_depth=10, max_features=sqrt, min_samples_leaf=2, min_samples_split=4, n_estimators=2500; total time=   4.6s\n",
      "[CV] END max_depth=10, max_features=sqrt, min_samples_leaf=2, min_samples_split=4, n_estimators=2500; total time=   4.7s\n",
      "[CV] END max_depth=10, max_features=sqrt, min_samples_leaf=2, min_samples_split=4, n_estimators=3000; total time=   5.5s\n",
      "[CV] END max_depth=10, max_features=sqrt, min_samples_leaf=2, min_samples_split=4, n_estimators=3000; total time=   5.5s\n",
      "[CV] END max_depth=10, max_features=sqrt, min_samples_leaf=2, min_samples_split=4, n_estimators=3000; total time=   5.5s\n",
      "[CV] END max_depth=10, max_features=sqrt, min_samples_leaf=2, min_samples_split=4, n_estimators=3000; total time=   5.6s\n",
      "[CV] END max_depth=10, max_features=sqrt, min_samples_leaf=2, min_samples_split=4, n_estimators=3000; total time=   5.5s\n"
     ]
    }
   ],
   "source": [
    "from sklearn.model_selection import GridSearchCV\n",
    "np.random.seed(42)\n",
    "\n",
    "gs_clf = GridSearchCV(estimator=clf,\n",
    "                     param_grid=grid_2,\n",
    "                     cv=5,\n",
    "                     verbose=2)\n",
    "\n",
    "gs_clf.fit(X_train,y_train);"
   ]
  },
  {
   "cell_type": "code",
   "execution_count": 38,
   "id": "fallen-compromise",
   "metadata": {
    "execution": {
     "iopub.execute_input": "2021-06-13T00:10:12.640096Z",
     "iopub.status.busy": "2021-06-13T00:10:12.639108Z",
     "iopub.status.idle": "2021-06-13T00:10:12.643940Z",
     "shell.execute_reply": "2021-06-13T00:10:12.643336Z"
    },
    "papermill": {
     "duration": 0.202804,
     "end_time": "2021-06-13T00:10:12.644113",
     "exception": false,
     "start_time": "2021-06-13T00:10:12.441309",
     "status": "completed"
    },
    "tags": []
   },
   "outputs": [
    {
     "data": {
      "text/plain": [
       "{'max_depth': 10,\n",
       " 'max_features': 'sqrt',\n",
       " 'min_samples_leaf': 2,\n",
       " 'min_samples_split': 4,\n",
       " 'n_estimators': 2500}"
      ]
     },
     "execution_count": 38,
     "metadata": {},
     "output_type": "execute_result"
    }
   ],
   "source": [
    "gs_clf.best_params_"
   ]
  },
  {
   "cell_type": "code",
   "execution_count": 39,
   "id": "gentle-benchmark",
   "metadata": {
    "execution": {
     "iopub.execute_input": "2021-06-13T00:10:13.040000Z",
     "iopub.status.busy": "2021-06-13T00:10:13.037333Z",
     "iopub.status.idle": "2021-06-13T00:10:13.299645Z",
     "shell.execute_reply": "2021-06-13T00:10:13.298901Z"
    },
    "papermill": {
     "duration": 0.463852,
     "end_time": "2021-06-13T00:10:13.299805",
     "exception": false,
     "start_time": "2021-06-13T00:10:12.835953",
     "status": "completed"
    },
    "tags": []
   },
   "outputs": [
    {
     "name": "stdout",
     "output_type": "stream",
     "text": [
      "Classification Metrics: \n",
      "Accuracy: 79.07%\n",
      "Precision: 80.56%\n",
      "Recall: 93.55%\n",
      "F1: 86.57%\n"
     ]
    }
   ],
   "source": [
    "gs_y_preds = gs_clf.predict(X_test)\n",
    "gs_metrics= classification_metrics(y_test,gs_y_preds)"
   ]
  },
  {
   "cell_type": "code",
   "execution_count": 40,
   "id": "welcome-broadway",
   "metadata": {
    "execution": {
     "iopub.execute_input": "2021-06-13T00:10:13.691257Z",
     "iopub.status.busy": "2021-06-13T00:10:13.690539Z",
     "iopub.status.idle": "2021-06-13T00:10:13.934035Z",
     "shell.execute_reply": "2021-06-13T00:10:13.933311Z",
     "shell.execute_reply.started": "2021-06-11T02:30:49.447713Z"
    },
    "papermill": {
     "duration": 0.441116,
     "end_time": "2021-06-13T00:10:13.934190",
     "exception": false,
     "start_time": "2021-06-13T00:10:13.493074",
     "status": "completed"
    },
    "tags": []
   },
   "outputs": [
    {
     "data": {
      "text/plain": [
       "<AxesSubplot:>"
      ]
     },
     "execution_count": 40,
     "metadata": {},
     "output_type": "execute_result"
    },
    {
     "data": {
      "image/png": "[encoded data removed]",
      "text/plain": [
       "<Figure size 720x576 with 1 Axes>"
      ]
     },
     "metadata": {},
     "output_type": "display_data"
    }
   ],
   "source": [
    "compare_metrics = pd.DataFrame({\"baseline\": base_metrics,\n",
    "                                \"random search\": rs_metrics,\n",
    "                                \"grid search\": gs_metrics})\n",
    "compare_metrics.plot.bar(figsize=(10, 8))"
   ]
  },
  {
   "cell_type": "markdown",
   "id": "speaking-federation",
   "metadata": {
    "papermill": {
     "duration": 0.195246,
     "end_time": "2021-06-13T00:10:14.322295",
     "exception": false,
     "start_time": "2021-06-13T00:10:14.127049",
     "status": "completed"
    },
    "tags": []
   },
   "source": [
    "# Saving and Loading Model for later use"
   ]
  },
  {
   "cell_type": "code",
   "execution_count": 41,
   "id": "twelve-mexico",
   "metadata": {
    "execution": {
     "iopub.execute_input": "2021-06-13T00:10:14.716744Z",
     "iopub.status.busy": "2021-06-13T00:10:14.714986Z",
     "iopub.status.idle": "2021-06-13T00:10:14.865360Z",
     "shell.execute_reply": "2021-06-13T00:10:14.864724Z"
    },
    "papermill": {
     "duration": 0.347813,
     "end_time": "2021-06-13T00:10:14.865558",
     "exception": false,
     "start_time": "2021-06-13T00:10:14.517745",
     "status": "completed"
    },
    "tags": []
   },
   "outputs": [],
   "source": [
    "import pickle\n",
    "\n",
    "# Save an existing model to file\n",
    "pickle.dump(gs_clf, open(\"gs_random_forest_model_1.pkl\", \"wb\"))"
   ]
  },
  {
   "cell_type": "code",
   "execution_count": 42,
   "id": "iraqi-scene",
   "metadata": {
    "execution": {
     "iopub.execute_input": "2021-06-13T00:10:15.260531Z",
     "iopub.status.busy": "2021-06-13T00:10:15.259848Z",
     "iopub.status.idle": "2021-06-13T00:10:15.374141Z",
     "shell.execute_reply": "2021-06-13T00:10:15.374662Z"
    },
    "papermill": {
     "duration": 0.31593,
     "end_time": "2021-06-13T00:10:15.374885",
     "exception": false,
     "start_time": "2021-06-13T00:10:15.058955",
     "status": "completed"
    },
    "tags": []
   },
   "outputs": [],
   "source": [
    "# Load a saved model\n",
    "loaded_pickle_model = pickle.load(open(\"gs_random_forest_model_1.pkl\", \"rb\"))"
   ]
  },
  {
   "cell_type": "code",
   "execution_count": 43,
   "id": "based-virtue",
   "metadata": {
    "execution": {
     "iopub.execute_input": "2021-06-13T00:10:15.772286Z",
     "iopub.status.busy": "2021-06-13T00:10:15.769292Z",
     "iopub.status.idle": "2021-06-13T00:10:16.032996Z",
     "shell.execute_reply": "2021-06-13T00:10:16.033750Z"
    },
    "papermill": {
     "duration": 0.46598,
     "end_time": "2021-06-13T00:10:16.034019",
     "exception": false,
     "start_time": "2021-06-13T00:10:15.568039",
     "status": "completed"
    },
    "tags": []
   },
   "outputs": [
    {
     "name": "stdout",
     "output_type": "stream",
     "text": [
      "Classification Metrics: \n",
      "Accuracy: 79.07%\n",
      "Precision: 80.56%\n",
      "Recall: 93.55%\n",
      "F1: 86.57%\n"
     ]
    },
    {
     "data": {
      "text/plain": [
       "{'accuracy': 0.79, 'precision': 0.81, 'recall': 0.94, 'f1': 0.87}"
      ]
     },
     "execution_count": 43,
     "metadata": {},
     "output_type": "execute_result"
    }
   ],
   "source": [
    "# Make predictions and evaluate the loaded model\n",
    "pickle_y_preds = loaded_pickle_model.predict(X_test)\n",
    "classification_metrics(y_test, pickle_y_preds)"
   ]
  }
 ],
 "metadata": {
  "kernelspec": {
   "display_name": "Python 3",
   "language": "python",
   "name": "python3"
  },
  "language_info": {
   "codemirror_mode": {
    "name": "ipython",
    "version": 3
   },
   "file_extension": ".py",
   "mimetype": "text/x-python",
   "name": "python",
   "nbconvert_exporter": "python",
   "pygments_lexer": "ipython3",
   "version": "3.9.5"
  },
  "papermill": {
   "default_parameters": {},
   "duration": 1162.433507,
   "end_time": "2021-06-13T00:10:17.567978",
   "environment_variables": {},
   "exception": null,
   "input_path": "__notebook__.ipynb",
   "output_path": "__notebook__.ipynb",
   "parameters": {},
   "start_time": "2021-06-12T23:50:55.134471",
   "version": "2.3.3"
  }
 },
 "nbformat": 4,
 "nbformat_minor": 5
}
