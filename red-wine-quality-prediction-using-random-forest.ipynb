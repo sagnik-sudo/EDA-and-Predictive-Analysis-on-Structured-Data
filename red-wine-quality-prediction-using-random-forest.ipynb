{
 "cells": [
  {
   "cell_type": "code",
   "execution_count": 1,
   "id": "enclosed-harrison",
   "metadata": {
    "_cell_guid": "b1076dfc-b9ad-4769-8c92-a6c4dae69d19",
    "_kg_hide-input": true,
    "_kg_hide-output": true,
    "_uuid": "8f2839f25d086af736a60e9eeb907d3b93b6e0e5",
    "execution": {
     "iopub.execute_input": "2021-06-06T07:06:21.315763Z",
     "iopub.status.busy": "2021-06-06T07:06:21.314570Z",
     "iopub.status.idle": "2021-06-06T07:06:21.333758Z",
     "shell.execute_reply": "2021-06-06T07:06:21.334315Z",
     "shell.execute_reply.started": "2021-06-06T07:04:02.179688Z"
    },
    "papermill": {
     "duration": 0.042584,
     "end_time": "2021-06-06T07:06:21.334619",
     "exception": false,
     "start_time": "2021-06-06T07:06:21.292035",
     "status": "completed"
    },
    "tags": []
   },
   "outputs": [
    {
     "name": "stdout",
     "output_type": "stream",
     "text": [
      "./input\\heart-attack-analysis-prediction-dataset\\heart.csv\n",
      "./input\\red-wine-quality-cortez-et-al-2009\\winequality-red.csv\n",
      "./input\\restaurant-scores-san-francisco\\Restaurant_Scores_-_LIVES_Standard.csv\n",
      "./input\\stroke-prediction-dataset\\healthcare-dataset-stroke-data.csv\n"
     ]
    }
   ],
   "source": [
    "import numpy as np # linear algebra\n",
    "import pandas as pd # data processing, CSV file I/O (e.g. pd.read_csv)\n",
    "import os\n",
    "for dirname, _, filenames in os.walk('./input'):\n",
    "    for filename in filenames:\n",
    "        print(os.path.join(dirname, filename))"
   ]
  },
  {
   "cell_type": "markdown",
   "id": "silver-ordinance",
   "metadata": {
    "papermill": {
     "duration": 0.017608,
     "end_time": "2021-06-06T07:06:21.370813",
     "exception": false,
     "start_time": "2021-06-06T07:06:21.353205",
     "status": "completed"
    },
    "tags": []
   },
   "source": [
    "# Red Wine Quality Prediction using Random Forest\n",
    "### Loading Dataset and Preparing Dataset\n",
    "#### 1. Reading File"
   ]
  },
  {
   "cell_type": "code",
   "execution_count": 2,
   "id": "lightweight-liverpool",
   "metadata": {
    "execution": {
     "iopub.execute_input": "2021-06-06T07:06:21.409916Z",
     "iopub.status.busy": "2021-06-06T07:06:21.409196Z",
     "iopub.status.idle": "2021-06-06T07:06:21.465479Z",
     "shell.execute_reply": "2021-06-06T07:06:21.466021Z",
     "shell.execute_reply.started": "2021-06-06T07:04:02.433320Z"
    },
    "papermill": {
     "duration": 0.077359,
     "end_time": "2021-06-06T07:06:21.466197",
     "exception": false,
     "start_time": "2021-06-06T07:06:21.388838",
     "status": "completed"
    },
    "tags": []
   },
   "outputs": [
    {
     "data": {
      "text/html": [
       "<div>\n",
       "<style scoped>\n",
       "    .dataframe tbody tr th:only-of-type {\n",
       "        vertical-align: middle;\n",
       "    }\n",
       "\n",
       "    .dataframe tbody tr th {\n",
       "        vertical-align: top;\n",
       "    }\n",
       "\n",
       "    .dataframe thead th {\n",
       "        text-align: right;\n",
       "    }\n",
       "</style>\n",
       "<table border=\"1\" class=\"dataframe\">\n",
       "  <thead>\n",
       "    <tr style=\"text-align: right;\">\n",
       "      <th></th>\n",
       "      <th>fixed acidity</th>\n",
       "      <th>volatile acidity</th>\n",
       "      <th>citric acid</th>\n",
       "      <th>residual sugar</th>\n",
       "      <th>chlorides</th>\n",
       "      <th>free sulfur dioxide</th>\n",
       "      <th>total sulfur dioxide</th>\n",
       "      <th>density</th>\n",
       "      <th>pH</th>\n",
       "      <th>sulphates</th>\n",
       "      <th>alcohol</th>\n",
       "      <th>quality</th>\n",
       "    </tr>\n",
       "  </thead>\n",
       "  <tbody>\n",
       "    <tr>\n",
       "      <th>0</th>\n",
       "      <td>7.4</td>\n",
       "      <td>0.70</td>\n",
       "      <td>0.00</td>\n",
       "      <td>1.9</td>\n",
       "      <td>0.076</td>\n",
       "      <td>11.0</td>\n",
       "      <td>34.0</td>\n",
       "      <td>0.9978</td>\n",
       "      <td>3.51</td>\n",
       "      <td>0.56</td>\n",
       "      <td>9.4</td>\n",
       "      <td>5</td>\n",
       "    </tr>\n",
       "    <tr>\n",
       "      <th>1</th>\n",
       "      <td>7.8</td>\n",
       "      <td>0.88</td>\n",
       "      <td>0.00</td>\n",
       "      <td>2.6</td>\n",
       "      <td>0.098</td>\n",
       "      <td>25.0</td>\n",
       "      <td>67.0</td>\n",
       "      <td>0.9968</td>\n",
       "      <td>3.20</td>\n",
       "      <td>0.68</td>\n",
       "      <td>9.8</td>\n",
       "      <td>5</td>\n",
       "    </tr>\n",
       "    <tr>\n",
       "      <th>2</th>\n",
       "      <td>7.8</td>\n",
       "      <td>0.76</td>\n",
       "      <td>0.04</td>\n",
       "      <td>2.3</td>\n",
       "      <td>0.092</td>\n",
       "      <td>15.0</td>\n",
       "      <td>54.0</td>\n",
       "      <td>0.9970</td>\n",
       "      <td>3.26</td>\n",
       "      <td>0.65</td>\n",
       "      <td>9.8</td>\n",
       "      <td>5</td>\n",
       "    </tr>\n",
       "    <tr>\n",
       "      <th>3</th>\n",
       "      <td>11.2</td>\n",
       "      <td>0.28</td>\n",
       "      <td>0.56</td>\n",
       "      <td>1.9</td>\n",
       "      <td>0.075</td>\n",
       "      <td>17.0</td>\n",
       "      <td>60.0</td>\n",
       "      <td>0.9980</td>\n",
       "      <td>3.16</td>\n",
       "      <td>0.58</td>\n",
       "      <td>9.8</td>\n",
       "      <td>6</td>\n",
       "    </tr>\n",
       "    <tr>\n",
       "      <th>4</th>\n",
       "      <td>7.4</td>\n",
       "      <td>0.70</td>\n",
       "      <td>0.00</td>\n",
       "      <td>1.9</td>\n",
       "      <td>0.076</td>\n",
       "      <td>11.0</td>\n",
       "      <td>34.0</td>\n",
       "      <td>0.9978</td>\n",
       "      <td>3.51</td>\n",
       "      <td>0.56</td>\n",
       "      <td>9.4</td>\n",
       "      <td>5</td>\n",
       "    </tr>\n",
       "  </tbody>\n",
       "</table>\n",
       "</div>"
      ],
      "text/plain": [
       "   fixed acidity  volatile acidity  citric acid  residual sugar  chlorides  \\\n",
       "0            7.4              0.70         0.00             1.9      0.076   \n",
       "1            7.8              0.88         0.00             2.6      0.098   \n",
       "2            7.8              0.76         0.04             2.3      0.092   \n",
       "3           11.2              0.28         0.56             1.9      0.075   \n",
       "4            7.4              0.70         0.00             1.9      0.076   \n",
       "\n",
       "   free sulfur dioxide  total sulfur dioxide  density    pH  sulphates  \\\n",
       "0                 11.0                  34.0   0.9978  3.51       0.56   \n",
       "1                 25.0                  67.0   0.9968  3.20       0.68   \n",
       "2                 15.0                  54.0   0.9970  3.26       0.65   \n",
       "3                 17.0                  60.0   0.9980  3.16       0.58   \n",
       "4                 11.0                  34.0   0.9978  3.51       0.56   \n",
       "\n",
       "   alcohol  quality  \n",
       "0      9.4        5  \n",
       "1      9.8        5  \n",
       "2      9.8        5  \n",
       "3      9.8        6  \n",
       "4      9.4        5  "
      ]
     },
     "execution_count": 2,
     "metadata": {},
     "output_type": "execute_result"
    }
   ],
   "source": [
    "winequality = pd.read_csv(\"./input/red-wine-quality-cortez-et-al-2009/winequality-red.csv\")\n",
    "winequality.head()"
   ]
  },
  {
   "cell_type": "markdown",
   "id": "present-partition",
   "metadata": {
    "papermill": {
     "duration": 0.018057,
     "end_time": "2021-06-06T07:06:21.502861",
     "exception": false,
     "start_time": "2021-06-06T07:06:21.484804",
     "status": "completed"
    },
    "tags": []
   },
   "source": [
    "#### 2. Splitting into X and y"
   ]
  },
  {
   "cell_type": "code",
   "execution_count": 3,
   "id": "shared-jaguar",
   "metadata": {
    "execution": {
     "iopub.execute_input": "2021-06-06T07:06:21.543379Z",
     "iopub.status.busy": "2021-06-06T07:06:21.542672Z",
     "iopub.status.idle": "2021-06-06T07:06:21.549472Z",
     "shell.execute_reply": "2021-06-06T07:06:21.550005Z",
     "shell.execute_reply.started": "2021-06-06T07:04:02.466351Z"
    },
    "papermill": {
     "duration": 0.028826,
     "end_time": "2021-06-06T07:06:21.550179",
     "exception": false,
     "start_time": "2021-06-06T07:06:21.521353",
     "status": "completed"
    },
    "tags": []
   },
   "outputs": [],
   "source": [
    "X=winequality.drop(\"quality\",axis=1)\n",
    "y=winequality[\"quality\"]"
   ]
  },
  {
   "cell_type": "markdown",
   "id": "blocked-berlin",
   "metadata": {
    "papermill": {
     "duration": 0.018015,
     "end_time": "2021-06-06T07:06:21.586854",
     "exception": false,
     "start_time": "2021-06-06T07:06:21.568839",
     "status": "completed"
    },
    "tags": []
   },
   "source": [
    "#### 3. Splitting into Train and Test Data"
   ]
  },
  {
   "cell_type": "code",
   "execution_count": 4,
   "id": "vulnerable-density",
   "metadata": {
    "execution": {
     "iopub.execute_input": "2021-06-06T07:06:21.626926Z",
     "iopub.status.busy": "2021-06-06T07:06:21.626254Z",
     "iopub.status.idle": "2021-06-06T07:06:22.643220Z",
     "shell.execute_reply": "2021-06-06T07:06:22.642683Z",
     "shell.execute_reply.started": "2021-06-06T07:04:04.397868Z"
    },
    "papermill": {
     "duration": 1.038136,
     "end_time": "2021-06-06T07:06:22.643372",
     "exception": false,
     "start_time": "2021-06-06T07:06:21.605236",
     "status": "completed"
    },
    "tags": []
   },
   "outputs": [
    {
     "data": {
      "text/plain": [
       "((1279, 11), (320, 11), (1279,), (320,))"
      ]
     },
     "execution_count": 4,
     "metadata": {},
     "output_type": "execute_result"
    }
   ],
   "source": [
    "from sklearn.model_selection import train_test_split\n",
    "X_train, X_test, y_train, y_test = train_test_split(X,y, test_size=0.2)\n",
    "X_train.shape,X_test.shape,y_train.shape,y_test.shape"
   ]
  },
  {
   "cell_type": "markdown",
   "id": "suspended-jamaica",
   "metadata": {
    "papermill": {
     "duration": 0.018501,
     "end_time": "2021-06-06T07:06:22.681384",
     "exception": false,
     "start_time": "2021-06-06T07:06:22.662883",
     "status": "completed"
    },
    "tags": []
   },
   "source": [
    "### Fitting into Model"
   ]
  },
  {
   "cell_type": "code",
   "execution_count": 5,
   "id": "competitive-classification",
   "metadata": {
    "execution": {
     "iopub.execute_input": "2021-06-06T07:06:22.724827Z",
     "iopub.status.busy": "2021-06-06T07:06:22.724072Z",
     "iopub.status.idle": "2021-06-06T07:06:23.330632Z",
     "shell.execute_reply": "2021-06-06T07:06:23.330016Z",
     "shell.execute_reply.started": "2021-06-06T07:04:04.498131Z"
    },
    "papermill": {
     "duration": 0.629765,
     "end_time": "2021-06-06T07:06:23.330783",
     "exception": false,
     "start_time": "2021-06-06T07:06:22.701018",
     "status": "completed"
    },
    "tags": []
   },
   "outputs": [
    {
     "data": {
      "text/plain": [
       "RandomForestClassifier()"
      ]
     },
     "execution_count": 5,
     "metadata": {},
     "output_type": "execute_result"
    }
   ],
   "source": [
    "from sklearn.ensemble import RandomForestClassifier\n",
    "model = RandomForestClassifier(n_estimators=100)\n",
    "model.fit(X_train,y_train)"
   ]
  },
  {
   "cell_type": "code",
   "execution_count": 6,
   "id": "unable-academy",
   "metadata": {
    "execution": {
     "iopub.execute_input": "2021-06-06T07:06:23.377811Z",
     "iopub.status.busy": "2021-06-06T07:06:23.377065Z",
     "iopub.status.idle": "2021-06-06T07:06:23.400356Z",
     "shell.execute_reply": "2021-06-06T07:06:23.399789Z",
     "shell.execute_reply.started": "2021-06-06T07:04:04.890595Z"
    },
    "papermill": {
     "duration": 0.050315,
     "end_time": "2021-06-06T07:06:23.400498",
     "exception": false,
     "start_time": "2021-06-06T07:06:23.350183",
     "status": "completed"
    },
    "tags": []
   },
   "outputs": [
    {
     "data": {
      "text/plain": [
       "0.7"
      ]
     },
     "execution_count": 6,
     "metadata": {},
     "output_type": "execute_result"
    }
   ],
   "source": [
    "model.score(X_test,y_test)"
   ]
  },
  {
   "cell_type": "markdown",
   "id": "classified-salem",
   "metadata": {
    "papermill": {
     "duration": 0.019794,
     "end_time": "2021-06-06T07:06:23.440621",
     "exception": false,
     "start_time": "2021-06-06T07:06:23.420827",
     "status": "completed"
    },
    "tags": []
   },
   "source": [
    "### Prediction"
   ]
  },
  {
   "cell_type": "code",
   "execution_count": 7,
   "id": "interim-gentleman",
   "metadata": {
    "execution": {
     "iopub.execute_input": "2021-06-06T07:06:23.488326Z",
     "iopub.status.busy": "2021-06-06T07:06:23.487212Z",
     "iopub.status.idle": "2021-06-06T07:06:23.508355Z",
     "shell.execute_reply": "2021-06-06T07:06:23.508815Z",
     "shell.execute_reply.started": "2021-06-06T07:04:04.920696Z"
    },
    "papermill": {
     "duration": 0.048637,
     "end_time": "2021-06-06T07:06:23.508996",
     "exception": false,
     "start_time": "2021-06-06T07:06:23.460359",
     "status": "completed"
    },
    "tags": []
   },
   "outputs": [
    {
     "data": {
      "text/plain": [
       "array([5, 6, 5, 5, 5, 6, 5, 6, 7, 5, 6, 6, 5, 6, 7, 6, 5, 5, 5, 6],\n",
       "      dtype=int64)"
      ]
     },
     "execution_count": 7,
     "metadata": {},
     "output_type": "execute_result"
    }
   ],
   "source": [
    "y_preds = model.predict(X_test)\n",
    "y_preds[:20]"
   ]
  },
  {
   "cell_type": "markdown",
   "id": "least-fourth",
   "metadata": {
    "papermill": {
     "duration": 0.019565,
     "end_time": "2021-06-06T07:06:23.548294",
     "exception": false,
     "start_time": "2021-06-06T07:06:23.528729",
     "status": "completed"
    },
    "tags": []
   },
   "source": [
    "### Classification Report and Confusion Matrix"
   ]
  },
  {
   "cell_type": "code",
   "execution_count": 8,
   "id": "pointed-tanzania",
   "metadata": {
    "execution": {
     "iopub.execute_input": "2021-06-06T07:06:23.592090Z",
     "iopub.status.busy": "2021-06-06T07:06:23.591069Z",
     "iopub.status.idle": "2021-06-06T07:06:23.607051Z",
     "shell.execute_reply": "2021-06-06T07:06:23.606481Z",
     "shell.execute_reply.started": "2021-06-06T07:04:04.949753Z"
    },
    "papermill": {
     "duration": 0.039008,
     "end_time": "2021-06-06T07:06:23.607261",
     "exception": false,
     "start_time": "2021-06-06T07:06:23.568253",
     "status": "completed"
    },
    "tags": []
   },
   "outputs": [
    {
     "name": "stdout",
     "output_type": "stream",
     "text": [
      "              precision    recall  f1-score   support\n",
      "\n",
      "           3       0.00      0.00      0.00         1\n",
      "           4       0.00      0.00      0.00        13\n",
      "           5       0.80      0.79      0.80       156\n",
      "           6       0.59      0.74      0.66       111\n",
      "           7       0.66      0.53      0.58        36\n",
      "           8       0.00      0.00      0.00         3\n",
      "\n",
      "    accuracy                           0.70       320\n",
      "   macro avg       0.34      0.34      0.34       320\n",
      "weighted avg       0.67      0.70      0.68       320\n",
      "\n"
     ]
    },
    {
     "name": "stderr",
     "output_type": "stream",
     "text": [
      "D:\\Coding\\env\\lib\\site-packages\\sklearn\\metrics\\_classification.py:1248: UndefinedMetricWarning: Precision and F-score are ill-defined and being set to 0.0 in labels with no predicted samples. Use `zero_division` parameter to control this behavior.\n",
      "  _warn_prf(average, modifier, msg_start, len(result))\n",
      "D:\\Coding\\env\\lib\\site-packages\\sklearn\\metrics\\_classification.py:1248: UndefinedMetricWarning: Precision and F-score are ill-defined and being set to 0.0 in labels with no predicted samples. Use `zero_division` parameter to control this behavior.\n",
      "  _warn_prf(average, modifier, msg_start, len(result))\n",
      "D:\\Coding\\env\\lib\\site-packages\\sklearn\\metrics\\_classification.py:1248: UndefinedMetricWarning: Precision and F-score are ill-defined and being set to 0.0 in labels with no predicted samples. Use `zero_division` parameter to control this behavior.\n",
      "  _warn_prf(average, modifier, msg_start, len(result))\n"
     ]
    }
   ],
   "source": [
    "from sklearn.metrics import classification_report, confusion_matrix, accuracy_score\n",
    "print(classification_report(y_test,y_preds))"
   ]
  },
  {
   "cell_type": "code",
   "execution_count": 9,
   "id": "treated-roots",
   "metadata": {
    "execution": {
     "iopub.execute_input": "2021-06-06T07:06:23.656337Z",
     "iopub.status.busy": "2021-06-06T07:06:23.653316Z",
     "iopub.status.idle": "2021-06-06T07:06:23.661065Z",
     "shell.execute_reply": "2021-06-06T07:06:23.661717Z",
     "shell.execute_reply.started": "2021-06-06T07:04:04.964099Z"
    },
    "papermill": {
     "duration": 0.033767,
     "end_time": "2021-06-06T07:06:23.661962",
     "exception": false,
     "start_time": "2021-06-06T07:06:23.628195",
     "status": "completed"
    },
    "tags": []
   },
   "outputs": [
    {
     "name": "stdout",
     "output_type": "stream",
     "text": [
      "[[  0   0   1   0   0   0]\n",
      " [  0   0   8   5   0   0]\n",
      " [  0   0 123  33   0   0]\n",
      " [  0   0  20  82   9   0]\n",
      " [  0   0   1  16  19   0]\n",
      " [  0   0   0   2   1   0]]\n"
     ]
    }
   ],
   "source": [
    "conf_matrix = confusion_matrix(y_test,y_preds)\n",
    "print(conf_matrix)"
   ]
  },
  {
   "cell_type": "code",
   "execution_count": 10,
   "id": "young-equipment",
   "metadata": {
    "execution": {
     "iopub.execute_input": "2021-06-06T07:06:23.710722Z",
     "iopub.status.busy": "2021-06-06T07:06:23.709889Z",
     "iopub.status.idle": "2021-06-06T07:06:23.714048Z",
     "shell.execute_reply": "2021-06-06T07:06:23.713516Z",
     "shell.execute_reply.started": "2021-06-06T07:04:04.973558Z"
    },
    "papermill": {
     "duration": 0.030776,
     "end_time": "2021-06-06T07:06:23.714200",
     "exception": false,
     "start_time": "2021-06-06T07:06:23.683424",
     "status": "completed"
    },
    "tags": []
   },
   "outputs": [
    {
     "data": {
      "text/plain": [
       "0.7"
      ]
     },
     "execution_count": 10,
     "metadata": {},
     "output_type": "execute_result"
    }
   ],
   "source": [
    "accuracy_score(y_test,y_preds)"
   ]
  },
  {
   "cell_type": "markdown",
   "id": "still-qualification",
   "metadata": {
    "papermill": {
     "duration": 0.020876,
     "end_time": "2021-06-06T07:06:23.756880",
     "exception": false,
     "start_time": "2021-06-06T07:06:23.736004",
     "status": "completed"
    },
    "tags": []
   },
   "source": [
    "### Prediction Probability"
   ]
  },
  {
   "cell_type": "code",
   "execution_count": 11,
   "id": "alert-footage",
   "metadata": {
    "execution": {
     "iopub.execute_input": "2021-06-06T07:06:23.808875Z",
     "iopub.status.busy": "2021-06-06T07:06:23.808148Z",
     "iopub.status.idle": "2021-06-06T07:06:23.822502Z",
     "shell.execute_reply": "2021-06-06T07:06:23.821965Z",
     "shell.execute_reply.started": "2021-06-06T07:04:04.984689Z"
    },
    "papermill": {
     "duration": 0.044671,
     "end_time": "2021-06-06T07:06:23.822670",
     "exception": false,
     "start_time": "2021-06-06T07:06:23.777999",
     "status": "completed"
    },
    "tags": []
   },
   "outputs": [
    {
     "data": {
      "text/plain": [
       "array([[0.01, 0.03, 0.84, 0.11, 0.01, 0.  ],\n",
       "       [0.  , 0.15, 0.39, 0.46, 0.  , 0.  ],\n",
       "       [0.  , 0.  , 0.65, 0.35, 0.  , 0.  ],\n",
       "       [0.04, 0.1 , 0.45, 0.37, 0.04, 0.  ],\n",
       "       [0.05, 0.23, 0.51, 0.19, 0.02, 0.  ]])"
      ]
     },
     "execution_count": 11,
     "metadata": {},
     "output_type": "execute_result"
    }
   ],
   "source": [
    "model.predict_proba(X_test[:5])"
   ]
  },
  {
   "cell_type": "code",
   "execution_count": 12,
   "id": "august-cutting",
   "metadata": {
    "execution": {
     "iopub.execute_input": "2021-06-06T07:06:23.875116Z",
     "iopub.status.busy": "2021-06-06T07:06:23.874396Z",
     "iopub.status.idle": "2021-06-06T07:07:07.932837Z",
     "shell.execute_reply": "2021-06-06T07:07:07.933371Z",
     "shell.execute_reply.started": "2021-06-06T07:04:05.010678Z"
    },
    "papermill": {
     "duration": 44.089251,
     "end_time": "2021-06-06T07:07:07.933551",
     "exception": false,
     "start_time": "2021-06-06T07:06:23.844300",
     "status": "completed"
    },
    "tags": []
   },
   "outputs": [
    {
     "name": "stdout",
     "output_type": "stream",
     "text": [
      "Trying with 10 estimators:\n",
      "Model Accuracy Score: 65.3125%\n",
      "Cross-Validation Score: 55.84561128526646%\n",
      "\n",
      "Trying with 20 estimators:\n",
      "Model Accuracy Score: 68.75%\n",
      "Cross-Validation Score: 56.348354231974916%\n",
      "\n",
      "Trying with 30 estimators:\n",
      "Model Accuracy Score: 71.5625%\n",
      "Cross-Validation Score: 56.28546238244514%\n",
      "\n",
      "Trying with 40 estimators:\n",
      "Model Accuracy Score: 67.5%\n",
      "Cross-Validation Score: 55.34874608150471%\n",
      "\n",
      "Trying with 50 estimators:\n",
      "Model Accuracy Score: 70.625%\n",
      "Cross-Validation Score: 57.848942006269596%\n",
      "\n",
      "Trying with 60 estimators:\n",
      "Model Accuracy Score: 67.1875%\n",
      "Cross-Validation Score: 58.78683385579937%\n",
      "\n",
      "Trying with 70 estimators:\n",
      "Model Accuracy Score: 70.3125%\n",
      "Cross-Validation Score: 56.160658307210035%\n",
      "\n",
      "Trying with 80 estimators:\n",
      "Model Accuracy Score: 69.375%\n",
      "Cross-Validation Score: 58.09972570532915%\n",
      "\n",
      "Trying with 90 estimators:\n",
      "Model Accuracy Score: 70.0%\n",
      "Cross-Validation Score: 56.78605015673981%\n",
      "\n",
      "Trying with 100 estimators:\n",
      "Model Accuracy Score: 68.75%\n",
      "Cross-Validation Score: 55.28330721003135%\n",
      "\n",
      "Trying with 110 estimators:\n",
      "Model Accuracy Score: 70.625%\n",
      "Cross-Validation Score: 57.09835423197492%\n",
      "\n",
      "Trying with 120 estimators:\n",
      "Model Accuracy Score: 68.75%\n",
      "Cross-Validation Score: 57.78742163009405%\n",
      "\n",
      "Trying with 130 estimators:\n",
      "Model Accuracy Score: 69.0625%\n",
      "Cross-Validation Score: 57.91379310344828%\n",
      "\n",
      "Trying with 140 estimators:\n",
      "Model Accuracy Score: 69.6875%\n",
      "Cross-Validation Score: 57.035266457680244%\n",
      "\n",
      "Trying with 150 estimators:\n",
      "Model Accuracy Score: 69.6875%\n",
      "Cross-Validation Score: 57.911833855799365%\n",
      "\n",
      "Trying with 160 estimators:\n",
      "Model Accuracy Score: 68.4375%\n",
      "Cross-Validation Score: 56.34874608150471%\n",
      "\n",
      "Trying with 170 estimators:\n",
      "Model Accuracy Score: 70.0%\n",
      "Cross-Validation Score: 57.03702978056426%\n",
      "\n",
      "Trying with 180 estimators:\n",
      "Model Accuracy Score: 70.625%\n",
      "Cross-Validation Score: 57.41163793103448%\n",
      "\n",
      "Trying with 190 estimators:\n",
      "Model Accuracy Score: 67.5%\n",
      "Cross-Validation Score: 58.72511755485894%\n",
      "\n"
     ]
    }
   ],
   "source": [
    "np.random.seed(42)\n",
    "from sklearn.model_selection import cross_val_score\n",
    "for est in range(10,200,10):\n",
    "    print(f\"Trying with {est} estimators:\")\n",
    "    model = RandomForestClassifier(n_estimators= est).fit(X_train,y_train)\n",
    "    score = model.score(X_test,y_test)*100\n",
    "    print(f\"Model Accuracy Score: {score}%\")\n",
    "    crossvalscore = np.mean(cross_val_score(model,X,y,cv=5)) *100\n",
    "    print(f\"Cross-Validation Score: {crossvalscore}%\\n\")"
   ]
  },
  {
   "cell_type": "markdown",
   "id": "afraid-comfort",
   "metadata": {
    "papermill": {
     "duration": 0.032179,
     "end_time": "2021-06-06T07:07:07.997855",
     "exception": false,
     "start_time": "2021-06-06T07:07:07.965676",
     "status": "completed"
    },
    "tags": []
   },
   "source": [
    "### Finding Best Estimator"
   ]
  },
  {
   "cell_type": "code",
   "execution_count": 13,
   "id": "mature-gregory",
   "metadata": {
    "execution": {
     "iopub.execute_input": "2021-06-06T07:07:08.069629Z",
     "iopub.status.busy": "2021-06-06T07:07:08.068974Z",
     "iopub.status.idle": "2021-06-06T07:07:45.295185Z",
     "shell.execute_reply": "2021-06-06T07:07:45.295721Z",
     "shell.execute_reply.started": "2021-06-06T07:04:48.739174Z"
    },
    "papermill": {
     "duration": 37.266236,
     "end_time": "2021-06-06T07:07:45.295921",
     "exception": false,
     "start_time": "2021-06-06T07:07:08.029685",
     "status": "completed"
    },
    "tags": []
   },
   "outputs": [
    {
     "data": {
      "text/plain": [
       "{'n_estimators': 150}"
      ]
     },
     "execution_count": 13,
     "metadata": {},
     "output_type": "execute_result"
    }
   ],
   "source": [
    "from sklearn.model_selection import GridSearchCV\n",
    "param_grid = {'n_estimators': [i for i in range(10,200,10)]}\n",
    "grid = GridSearchCV(RandomForestClassifier(),\n",
    "                   param_grid,\n",
    "                   cv=5)\n",
    "grid.fit(X,y)\n",
    "\n",
    "grid.best_params_"
   ]
  },
  {
   "cell_type": "code",
   "execution_count": 14,
   "id": "distinct-particular",
   "metadata": {
    "execution": {
     "iopub.execute_input": "2021-06-06T07:07:45.368384Z",
     "iopub.status.busy": "2021-06-06T07:07:45.367704Z",
     "iopub.status.idle": "2021-06-06T07:07:45.944932Z",
     "shell.execute_reply": "2021-06-06T07:07:45.944211Z",
     "shell.execute_reply.started": "2021-06-06T07:05:25.490408Z"
    },
    "papermill": {
     "duration": 0.616432,
     "end_time": "2021-06-06T07:07:45.945078",
     "exception": false,
     "start_time": "2021-06-06T07:07:45.328646",
     "status": "completed"
    },
    "tags": []
   },
   "outputs": [
    {
     "data": {
      "text/plain": [
       "0.696875"
      ]
     },
     "execution_count": 14,
     "metadata": {},
     "output_type": "execute_result"
    }
   ],
   "source": [
    "model = grid.best_estimator_\n",
    "model = model.fit(X_train,y_train)\n",
    "\n",
    "model.score(X_test,y_test)"
   ]
  },
  {
   "cell_type": "markdown",
   "id": "bulgarian-paintball",
   "metadata": {
    "papermill": {
     "duration": 0.03343,
     "end_time": "2021-06-06T07:07:46.011228",
     "exception": false,
     "start_time": "2021-06-06T07:07:45.977798",
     "status": "completed"
    },
    "tags": []
   },
   "source": [
    "### Save Model and Reload Model"
   ]
  },
  {
   "cell_type": "code",
   "execution_count": 15,
   "id": "immune-hypothetical",
   "metadata": {
    "execution": {
     "iopub.execute_input": "2021-06-06T07:07:46.099750Z",
     "iopub.status.busy": "2021-06-06T07:07:46.081054Z",
     "iopub.status.idle": "2021-06-06T07:07:46.112215Z",
     "shell.execute_reply": "2021-06-06T07:07:46.112849Z",
     "shell.execute_reply.started": "2021-06-06T07:05:26.065171Z"
    },
    "papermill": {
     "duration": 0.069133,
     "end_time": "2021-06-06T07:07:46.113061",
     "exception": false,
     "start_time": "2021-06-06T07:07:46.043928",
     "status": "completed"
    },
    "tags": []
   },
   "outputs": [],
   "source": [
    "import pickle\n",
    "pickle.dump(model,open(\"RedWineModel.pkl\",\"wb\"))"
   ]
  },
  {
   "cell_type": "code",
   "execution_count": 16,
   "id": "empirical-chance",
   "metadata": {
    "execution": {
     "iopub.execute_input": "2021-06-06T07:07:46.183670Z",
     "iopub.status.busy": "2021-06-06T07:07:46.183003Z",
     "iopub.status.idle": "2021-06-06T07:07:46.229991Z",
     "shell.execute_reply": "2021-06-06T07:07:46.229446Z",
     "shell.execute_reply.started": "2021-06-06T07:05:26.109468Z"
    },
    "papermill": {
     "duration": 0.083072,
     "end_time": "2021-06-06T07:07:46.230150",
     "exception": false,
     "start_time": "2021-06-06T07:07:46.147078",
     "status": "completed"
    },
    "tags": []
   },
   "outputs": [
    {
     "data": {
      "text/plain": [
       "0.696875"
      ]
     },
     "execution_count": 16,
     "metadata": {},
     "output_type": "execute_result"
    }
   ],
   "source": [
    "loadmodel = pickle.load(open(\"RedWineModel.pkl\",\"rb\"))\n",
    "loadmodel.score(X_test,y_test)"
   ]
  }
 ],
 "metadata": {
  "kernelspec": {
   "display_name": "Python 3",
   "language": "python",
   "name": "python3"
  },
  "language_info": {
   "codemirror_mode": {
    "name": "ipython",
    "version": 3
   },
   "file_extension": ".py",
   "mimetype": "text/x-python",
   "name": "python",
   "nbconvert_exporter": "python",
   "pygments_lexer": "ipython3",
   "version": "3.9.5"
  },
  "papermill": {
   "default_parameters": {},
   "duration": 94.905723,
   "end_time": "2021-06-06T07:07:47.920913",
   "environment_variables": {},
   "exception": null,
   "input_path": "__notebook__.ipynb",
   "output_path": "__notebook__.ipynb",
   "parameters": {},
   "start_time": "2021-06-06T07:06:13.015190",
   "version": "2.3.3"
  }
 },
 "nbformat": 4,
 "nbformat_minor": 5
}
