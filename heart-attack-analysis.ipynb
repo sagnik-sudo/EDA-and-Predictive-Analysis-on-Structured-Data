{
 "cells": [
  {
   "cell_type": "code",
   "execution_count": 1,
   "id": "reverse-belgium",
   "metadata": {
    "_cell_guid": "b1076dfc-b9ad-4769-8c92-a6c4dae69d19",
    "_kg_hide-input": true,
    "_kg_hide-output": true,
    "_uuid": "8f2839f25d086af736a60e9eeb907d3b93b6e0e5",
    "execution": {
     "iopub.execute_input": "2021-04-02T21:08:27.171821Z",
     "iopub.status.busy": "2021-04-02T21:08:27.169956Z",
     "iopub.status.idle": "2021-04-02T21:08:27.188270Z",
     "shell.execute_reply": "2021-04-02T21:08:27.189488Z"
    },
    "papermill": {
     "duration": 0.03785,
     "end_time": "2021-04-02T21:08:27.190296",
     "exception": false,
     "start_time": "2021-04-02T21:08:27.152446",
     "status": "completed"
    },
    "tags": []
   },
   "outputs": [],
   "source": [
    "# This Python 3 environment comes with many helpful analytics libraries installed\n",
    "# It is defined by the kaggle/python Docker image: https://github.com/kaggle/docker-python\n",
    "# For example, here's several helpful packages to load\n",
    "\n",
    "import numpy as np # linear algebra\n",
    "import pandas as pd # data processing, CSV file I/O (e.g. pd.read_csv)\n",
    "\n",
    "# Input data files are available in the read-only \"../input/\" directory\n",
    "# For example, running this (by clicking run or pressing Shift+Enter) will list all files under the input directory\n",
    "\n",
    "import os\n",
    "for dirname, _, filenames in os.walk('/kaggle/input'):\n",
    "    for filename in filenames:\n",
    "        print(os.path.join(dirname, filename))\n",
    "\n",
    "# You can write up to 20GB to the current directory (/kaggle/working/) that gets preserved as output when you create a version using \"Save & Run All\" \n",
    "# You can also write temporary files to /kaggle/temp/, but they won't be saved outside of the current session"
   ]
  },
  {
   "cell_type": "markdown",
   "id": "transsexual-surge",
   "metadata": {
    "papermill": {
     "duration": 0.012477,
     "end_time": "2021-04-02T21:08:27.217109",
     "exception": false,
     "start_time": "2021-04-02T21:08:27.204632",
     "status": "completed"
    },
    "tags": []
   },
   "source": [
    "# Heart Attack Data Analysis"
   ]
  },
  {
   "cell_type": "markdown",
   "id": "identified-hampton",
   "metadata": {
    "papermill": {
     "duration": 0.011702,
     "end_time": "2021-04-02T21:08:27.241309",
     "exception": false,
     "start_time": "2021-04-02T21:08:27.229607",
     "status": "completed"
    },
    "tags": []
   },
   "source": [
    "**Load Data sheet**"
   ]
  },
  {
   "cell_type": "code",
   "execution_count": 2,
   "id": "significant-inflation",
   "metadata": {
    "execution": {
     "iopub.execute_input": "2021-04-02T21:08:27.269418Z",
     "iopub.status.busy": "2021-04-02T21:08:27.268800Z",
     "iopub.status.idle": "2021-04-02T21:08:27.289344Z",
     "shell.execute_reply": "2021-04-02T21:08:27.288774Z"
    },
    "papermill": {
     "duration": 0.035888,
     "end_time": "2021-04-02T21:08:27.289492",
     "exception": false,
     "start_time": "2021-04-02T21:08:27.253604",
     "status": "completed"
    },
    "tags": []
   },
   "outputs": [],
   "source": [
    "heart = pd.read_csv(\"./input/heart-attack-analysis-prediction-dataset/heart.csv\")"
   ]
  },
  {
   "cell_type": "code",
   "execution_count": 3,
   "id": "architectural-mexican",
   "metadata": {
    "execution": {
     "iopub.execute_input": "2021-04-02T21:08:27.318552Z",
     "iopub.status.busy": "2021-04-02T21:08:27.317828Z",
     "iopub.status.idle": "2021-04-02T21:08:27.390294Z",
     "shell.execute_reply": "2021-04-02T21:08:27.390798Z"
    },
    "papermill": {
     "duration": 0.089356,
     "end_time": "2021-04-02T21:08:27.390977",
     "exception": false,
     "start_time": "2021-04-02T21:08:27.301621",
     "status": "completed"
    },
    "tags": []
   },
   "outputs": [
    {
     "data": {
      "text/html": [
       "<div>\n",
       "<style scoped>\n",
       "    .dataframe tbody tr th:only-of-type {\n",
       "        vertical-align: middle;\n",
       "    }\n",
       "\n",
       "    .dataframe tbody tr th {\n",
       "        vertical-align: top;\n",
       "    }\n",
       "\n",
       "    .dataframe thead th {\n",
       "        text-align: right;\n",
       "    }\n",
       "</style>\n",
       "<table border=\"1\" class=\"dataframe\">\n",
       "  <thead>\n",
       "    <tr style=\"text-align: right;\">\n",
       "      <th></th>\n",
       "      <th>age</th>\n",
       "      <th>sex</th>\n",
       "      <th>cp</th>\n",
       "      <th>trtbps</th>\n",
       "      <th>chol</th>\n",
       "      <th>fbs</th>\n",
       "      <th>restecg</th>\n",
       "      <th>thalachh</th>\n",
       "      <th>exng</th>\n",
       "      <th>oldpeak</th>\n",
       "      <th>slp</th>\n",
       "      <th>caa</th>\n",
       "      <th>thall</th>\n",
       "      <th>output</th>\n",
       "    </tr>\n",
       "  </thead>\n",
       "  <tbody>\n",
       "    <tr>\n",
       "      <th>count</th>\n",
       "      <td>303.000000</td>\n",
       "      <td>303.000000</td>\n",
       "      <td>303.000000</td>\n",
       "      <td>303.000000</td>\n",
       "      <td>303.000000</td>\n",
       "      <td>303.000000</td>\n",
       "      <td>303.000000</td>\n",
       "      <td>303.000000</td>\n",
       "      <td>303.000000</td>\n",
       "      <td>303.000000</td>\n",
       "      <td>303.000000</td>\n",
       "      <td>303.000000</td>\n",
       "      <td>303.000000</td>\n",
       "      <td>303.000000</td>\n",
       "    </tr>\n",
       "    <tr>\n",
       "      <th>mean</th>\n",
       "      <td>54.366337</td>\n",
       "      <td>0.683168</td>\n",
       "      <td>0.966997</td>\n",
       "      <td>131.623762</td>\n",
       "      <td>246.264026</td>\n",
       "      <td>0.148515</td>\n",
       "      <td>0.528053</td>\n",
       "      <td>149.646865</td>\n",
       "      <td>0.326733</td>\n",
       "      <td>1.039604</td>\n",
       "      <td>1.399340</td>\n",
       "      <td>0.729373</td>\n",
       "      <td>2.313531</td>\n",
       "      <td>0.544554</td>\n",
       "    </tr>\n",
       "    <tr>\n",
       "      <th>std</th>\n",
       "      <td>9.082101</td>\n",
       "      <td>0.466011</td>\n",
       "      <td>1.032052</td>\n",
       "      <td>17.538143</td>\n",
       "      <td>51.830751</td>\n",
       "      <td>0.356198</td>\n",
       "      <td>0.525860</td>\n",
       "      <td>22.905161</td>\n",
       "      <td>0.469794</td>\n",
       "      <td>1.161075</td>\n",
       "      <td>0.616226</td>\n",
       "      <td>1.022606</td>\n",
       "      <td>0.612277</td>\n",
       "      <td>0.498835</td>\n",
       "    </tr>\n",
       "    <tr>\n",
       "      <th>min</th>\n",
       "      <td>29.000000</td>\n",
       "      <td>0.000000</td>\n",
       "      <td>0.000000</td>\n",
       "      <td>94.000000</td>\n",
       "      <td>126.000000</td>\n",
       "      <td>0.000000</td>\n",
       "      <td>0.000000</td>\n",
       "      <td>71.000000</td>\n",
       "      <td>0.000000</td>\n",
       "      <td>0.000000</td>\n",
       "      <td>0.000000</td>\n",
       "      <td>0.000000</td>\n",
       "      <td>0.000000</td>\n",
       "      <td>0.000000</td>\n",
       "    </tr>\n",
       "    <tr>\n",
       "      <th>25%</th>\n",
       "      <td>47.500000</td>\n",
       "      <td>0.000000</td>\n",
       "      <td>0.000000</td>\n",
       "      <td>120.000000</td>\n",
       "      <td>211.000000</td>\n",
       "      <td>0.000000</td>\n",
       "      <td>0.000000</td>\n",
       "      <td>133.500000</td>\n",
       "      <td>0.000000</td>\n",
       "      <td>0.000000</td>\n",
       "      <td>1.000000</td>\n",
       "      <td>0.000000</td>\n",
       "      <td>2.000000</td>\n",
       "      <td>0.000000</td>\n",
       "    </tr>\n",
       "    <tr>\n",
       "      <th>50%</th>\n",
       "      <td>55.000000</td>\n",
       "      <td>1.000000</td>\n",
       "      <td>1.000000</td>\n",
       "      <td>130.000000</td>\n",
       "      <td>240.000000</td>\n",
       "      <td>0.000000</td>\n",
       "      <td>1.000000</td>\n",
       "      <td>153.000000</td>\n",
       "      <td>0.000000</td>\n",
       "      <td>0.800000</td>\n",
       "      <td>1.000000</td>\n",
       "      <td>0.000000</td>\n",
       "      <td>2.000000</td>\n",
       "      <td>1.000000</td>\n",
       "    </tr>\n",
       "    <tr>\n",
       "      <th>75%</th>\n",
       "      <td>61.000000</td>\n",
       "      <td>1.000000</td>\n",
       "      <td>2.000000</td>\n",
       "      <td>140.000000</td>\n",
       "      <td>274.500000</td>\n",
       "      <td>0.000000</td>\n",
       "      <td>1.000000</td>\n",
       "      <td>166.000000</td>\n",
       "      <td>1.000000</td>\n",
       "      <td>1.600000</td>\n",
       "      <td>2.000000</td>\n",
       "      <td>1.000000</td>\n",
       "      <td>3.000000</td>\n",
       "      <td>1.000000</td>\n",
       "    </tr>\n",
       "    <tr>\n",
       "      <th>max</th>\n",
       "      <td>77.000000</td>\n",
       "      <td>1.000000</td>\n",
       "      <td>3.000000</td>\n",
       "      <td>200.000000</td>\n",
       "      <td>564.000000</td>\n",
       "      <td>1.000000</td>\n",
       "      <td>2.000000</td>\n",
       "      <td>202.000000</td>\n",
       "      <td>1.000000</td>\n",
       "      <td>6.200000</td>\n",
       "      <td>2.000000</td>\n",
       "      <td>4.000000</td>\n",
       "      <td>3.000000</td>\n",
       "      <td>1.000000</td>\n",
       "    </tr>\n",
       "  </tbody>\n",
       "</table>\n",
       "</div>"
      ],
      "text/plain": [
       "              age         sex          cp      trtbps        chol         fbs  \\\n",
       "count  303.000000  303.000000  303.000000  303.000000  303.000000  303.000000   \n",
       "mean    54.366337    0.683168    0.966997  131.623762  246.264026    0.148515   \n",
       "std      9.082101    0.466011    1.032052   17.538143   51.830751    0.356198   \n",
       "min     29.000000    0.000000    0.000000   94.000000  126.000000    0.000000   \n",
       "25%     47.500000    0.000000    0.000000  120.000000  211.000000    0.000000   \n",
       "50%     55.000000    1.000000    1.000000  130.000000  240.000000    0.000000   \n",
       "75%     61.000000    1.000000    2.000000  140.000000  274.500000    0.000000   \n",
       "max     77.000000    1.000000    3.000000  200.000000  564.000000    1.000000   \n",
       "\n",
       "          restecg    thalachh        exng     oldpeak         slp         caa  \\\n",
       "count  303.000000  303.000000  303.000000  303.000000  303.000000  303.000000   \n",
       "mean     0.528053  149.646865    0.326733    1.039604    1.399340    0.729373   \n",
       "std      0.525860   22.905161    0.469794    1.161075    0.616226    1.022606   \n",
       "min      0.000000   71.000000    0.000000    0.000000    0.000000    0.000000   \n",
       "25%      0.000000  133.500000    0.000000    0.000000    1.000000    0.000000   \n",
       "50%      1.000000  153.000000    0.000000    0.800000    1.000000    0.000000   \n",
       "75%      1.000000  166.000000    1.000000    1.600000    2.000000    1.000000   \n",
       "max      2.000000  202.000000    1.000000    6.200000    2.000000    4.000000   \n",
       "\n",
       "            thall      output  \n",
       "count  303.000000  303.000000  \n",
       "mean     2.313531    0.544554  \n",
       "std      0.612277    0.498835  \n",
       "min      0.000000    0.000000  \n",
       "25%      2.000000    0.000000  \n",
       "50%      2.000000    1.000000  \n",
       "75%      3.000000    1.000000  \n",
       "max      3.000000    1.000000  "
      ]
     },
     "execution_count": 3,
     "metadata": {},
     "output_type": "execute_result"
    }
   ],
   "source": [
    "heart.describe()"
   ]
  },
  {
   "cell_type": "code",
   "execution_count": 4,
   "id": "fleet-measurement",
   "metadata": {
    "execution": {
     "iopub.execute_input": "2021-04-02T21:08:27.422016Z",
     "iopub.status.busy": "2021-04-02T21:08:27.421328Z",
     "iopub.status.idle": "2021-04-02T21:08:27.436526Z",
     "shell.execute_reply": "2021-04-02T21:08:27.437046Z"
    },
    "papermill": {
     "duration": 0.033617,
     "end_time": "2021-04-02T21:08:27.437216",
     "exception": false,
     "start_time": "2021-04-02T21:08:27.403599",
     "status": "completed"
    },
    "tags": []
   },
   "outputs": [
    {
     "data": {
      "text/html": [
       "<div>\n",
       "<style scoped>\n",
       "    .dataframe tbody tr th:only-of-type {\n",
       "        vertical-align: middle;\n",
       "    }\n",
       "\n",
       "    .dataframe tbody tr th {\n",
       "        vertical-align: top;\n",
       "    }\n",
       "\n",
       "    .dataframe thead th {\n",
       "        text-align: right;\n",
       "    }\n",
       "</style>\n",
       "<table border=\"1\" class=\"dataframe\">\n",
       "  <thead>\n",
       "    <tr style=\"text-align: right;\">\n",
       "      <th></th>\n",
       "      <th>age</th>\n",
       "      <th>sex</th>\n",
       "      <th>cp</th>\n",
       "      <th>trtbps</th>\n",
       "      <th>chol</th>\n",
       "      <th>fbs</th>\n",
       "      <th>restecg</th>\n",
       "      <th>thalachh</th>\n",
       "      <th>exng</th>\n",
       "      <th>oldpeak</th>\n",
       "      <th>slp</th>\n",
       "      <th>caa</th>\n",
       "      <th>thall</th>\n",
       "      <th>output</th>\n",
       "    </tr>\n",
       "  </thead>\n",
       "  <tbody>\n",
       "    <tr>\n",
       "      <th>0</th>\n",
       "      <td>63</td>\n",
       "      <td>1</td>\n",
       "      <td>3</td>\n",
       "      <td>145</td>\n",
       "      <td>233</td>\n",
       "      <td>1</td>\n",
       "      <td>0</td>\n",
       "      <td>150</td>\n",
       "      <td>0</td>\n",
       "      <td>2.3</td>\n",
       "      <td>0</td>\n",
       "      <td>0</td>\n",
       "      <td>1</td>\n",
       "      <td>1</td>\n",
       "    </tr>\n",
       "    <tr>\n",
       "      <th>1</th>\n",
       "      <td>37</td>\n",
       "      <td>1</td>\n",
       "      <td>2</td>\n",
       "      <td>130</td>\n",
       "      <td>250</td>\n",
       "      <td>0</td>\n",
       "      <td>1</td>\n",
       "      <td>187</td>\n",
       "      <td>0</td>\n",
       "      <td>3.5</td>\n",
       "      <td>0</td>\n",
       "      <td>0</td>\n",
       "      <td>2</td>\n",
       "      <td>1</td>\n",
       "    </tr>\n",
       "    <tr>\n",
       "      <th>2</th>\n",
       "      <td>41</td>\n",
       "      <td>0</td>\n",
       "      <td>1</td>\n",
       "      <td>130</td>\n",
       "      <td>204</td>\n",
       "      <td>0</td>\n",
       "      <td>0</td>\n",
       "      <td>172</td>\n",
       "      <td>0</td>\n",
       "      <td>1.4</td>\n",
       "      <td>2</td>\n",
       "      <td>0</td>\n",
       "      <td>2</td>\n",
       "      <td>1</td>\n",
       "    </tr>\n",
       "    <tr>\n",
       "      <th>3</th>\n",
       "      <td>56</td>\n",
       "      <td>1</td>\n",
       "      <td>1</td>\n",
       "      <td>120</td>\n",
       "      <td>236</td>\n",
       "      <td>0</td>\n",
       "      <td>1</td>\n",
       "      <td>178</td>\n",
       "      <td>0</td>\n",
       "      <td>0.8</td>\n",
       "      <td>2</td>\n",
       "      <td>0</td>\n",
       "      <td>2</td>\n",
       "      <td>1</td>\n",
       "    </tr>\n",
       "    <tr>\n",
       "      <th>4</th>\n",
       "      <td>57</td>\n",
       "      <td>0</td>\n",
       "      <td>0</td>\n",
       "      <td>120</td>\n",
       "      <td>354</td>\n",
       "      <td>0</td>\n",
       "      <td>1</td>\n",
       "      <td>163</td>\n",
       "      <td>1</td>\n",
       "      <td>0.6</td>\n",
       "      <td>2</td>\n",
       "      <td>0</td>\n",
       "      <td>2</td>\n",
       "      <td>1</td>\n",
       "    </tr>\n",
       "  </tbody>\n",
       "</table>\n",
       "</div>"
      ],
      "text/plain": [
       "   age  sex  cp  trtbps  chol  fbs  restecg  thalachh  exng  oldpeak  slp  \\\n",
       "0   63    1   3     145   233    1        0       150     0      2.3    0   \n",
       "1   37    1   2     130   250    0        1       187     0      3.5    0   \n",
       "2   41    0   1     130   204    0        0       172     0      1.4    2   \n",
       "3   56    1   1     120   236    0        1       178     0      0.8    2   \n",
       "4   57    0   0     120   354    0        1       163     1      0.6    2   \n",
       "\n",
       "   caa  thall  output  \n",
       "0    0      1       1  \n",
       "1    0      2       1  \n",
       "2    0      2       1  \n",
       "3    0      2       1  \n",
       "4    0      2       1  "
      ]
     },
     "execution_count": 4,
     "metadata": {},
     "output_type": "execute_result"
    }
   ],
   "source": [
    "heart.head() #Viewing sample from datasheet"
   ]
  },
  {
   "cell_type": "code",
   "execution_count": 5,
   "id": "overhead-flexibility",
   "metadata": {
    "execution": {
     "iopub.execute_input": "2021-04-02T21:08:27.473846Z",
     "iopub.status.busy": "2021-04-02T21:08:27.472814Z",
     "iopub.status.idle": "2021-04-02T21:08:27.477601Z",
     "shell.execute_reply": "2021-04-02T21:08:27.478109Z"
    },
    "papermill": {
     "duration": 0.026685,
     "end_time": "2021-04-02T21:08:27.478302",
     "exception": false,
     "start_time": "2021-04-02T21:08:27.451617",
     "status": "completed"
    },
    "tags": []
   },
   "outputs": [
    {
     "data": {
      "text/plain": [
       "age           int64\n",
       "sex           int64\n",
       "cp            int64\n",
       "trtbps        int64\n",
       "chol          int64\n",
       "fbs           int64\n",
       "restecg       int64\n",
       "thalachh      int64\n",
       "exng          int64\n",
       "oldpeak     float64\n",
       "slp           int64\n",
       "caa           int64\n",
       "thall         int64\n",
       "output        int64\n",
       "dtype: object"
      ]
     },
     "execution_count": 5,
     "metadata": {},
     "output_type": "execute_result"
    }
   ],
   "source": [
    "heart.dtypes #Checking datatypes"
   ]
  },
  {
   "cell_type": "code",
   "execution_count": 6,
   "id": "black-scroll",
   "metadata": {
    "execution": {
     "iopub.execute_input": "2021-04-02T21:08:27.514574Z",
     "iopub.status.busy": "2021-04-02T21:08:27.513827Z",
     "iopub.status.idle": "2021-04-02T21:08:27.516885Z",
     "shell.execute_reply": "2021-04-02T21:08:27.517595Z"
    },
    "papermill": {
     "duration": 0.024798,
     "end_time": "2021-04-02T21:08:27.517874",
     "exception": false,
     "start_time": "2021-04-02T21:08:27.493076",
     "status": "completed"
    },
    "tags": []
   },
   "outputs": [],
   "source": [
    "X = heart.drop(\"output\",axis=1) #Splitting input X, and output y\n",
    "y = heart[\"output\"]"
   ]
  },
  {
   "cell_type": "code",
   "execution_count": 7,
   "id": "wired-liberty",
   "metadata": {
    "execution": {
     "iopub.execute_input": "2021-04-02T21:08:27.555376Z",
     "iopub.status.busy": "2021-04-02T21:08:27.554368Z",
     "iopub.status.idle": "2021-04-02T21:08:27.565307Z",
     "shell.execute_reply": "2021-04-02T21:08:27.564570Z"
    },
    "papermill": {
     "duration": 0.028571,
     "end_time": "2021-04-02T21:08:27.565467",
     "exception": false,
     "start_time": "2021-04-02T21:08:27.536896",
     "status": "completed"
    },
    "tags": []
   },
   "outputs": [
    {
     "data": {
      "text/plain": [
       "1    165\n",
       "0    138\n",
       "Name: output, dtype: int64"
      ]
     },
     "execution_count": 7,
     "metadata": {},
     "output_type": "execute_result"
    }
   ],
   "source": [
    "y.value_counts() #Checking no of 1's and 0's in output"
   ]
  },
  {
   "cell_type": "code",
   "execution_count": 8,
   "id": "accessible-grade",
   "metadata": {
    "execution": {
     "iopub.execute_input": "2021-04-02T21:08:27.599317Z",
     "iopub.status.busy": "2021-04-02T21:08:27.598629Z",
     "iopub.status.idle": "2021-04-02T21:08:28.963933Z",
     "shell.execute_reply": "2021-04-02T21:08:28.963336Z"
    },
    "papermill": {
     "duration": 1.382596,
     "end_time": "2021-04-02T21:08:28.964102",
     "exception": false,
     "start_time": "2021-04-02T21:08:27.581506",
     "status": "completed"
    },
    "tags": []
   },
   "outputs": [],
   "source": [
    "from sklearn.model_selection import train_test_split #Splitting data into Train and Test\n",
    "X_train, X_test, y_train, y_test = train_test_split(X,y,test_size=0.2, random_state=42)"
   ]
  },
  {
   "cell_type": "code",
   "execution_count": 9,
   "id": "potential-bubble",
   "metadata": {
    "execution": {
     "iopub.execute_input": "2021-04-02T21:08:28.998183Z",
     "iopub.status.busy": "2021-04-02T21:08:28.997420Z",
     "iopub.status.idle": "2021-04-02T21:08:29.478064Z",
     "shell.execute_reply": "2021-04-02T21:08:29.478552Z"
    },
    "papermill": {
     "duration": 0.500114,
     "end_time": "2021-04-02T21:08:29.478767",
     "exception": false,
     "start_time": "2021-04-02T21:08:28.978653",
     "status": "completed"
    },
    "tags": []
   },
   "outputs": [
    {
     "data": {
      "text/plain": [
       "RandomForestClassifier()"
      ]
     },
     "execution_count": 9,
     "metadata": {},
     "output_type": "execute_result"
    }
   ],
   "source": [
    "from sklearn.ensemble import RandomForestClassifier #Using Random Forest Classifier for fitting model\n",
    "model = RandomForestClassifier()\n",
    "model.fit(X_train,y_train)"
   ]
  },
  {
   "cell_type": "code",
   "execution_count": 10,
   "id": "disturbed-copyright",
   "metadata": {
    "execution": {
     "iopub.execute_input": "2021-04-02T21:08:29.535238Z",
     "iopub.status.busy": "2021-04-02T21:08:29.534554Z",
     "iopub.status.idle": "2021-04-02T21:08:29.539558Z",
     "shell.execute_reply": "2021-04-02T21:08:29.539044Z"
    },
    "papermill": {
     "duration": 0.045838,
     "end_time": "2021-04-02T21:08:29.539699",
     "exception": false,
     "start_time": "2021-04-02T21:08:29.493861",
     "status": "completed"
    },
    "tags": []
   },
   "outputs": [
    {
     "data": {
      "text/plain": [
       "0.8688524590163934"
      ]
     },
     "execution_count": 10,
     "metadata": {},
     "output_type": "execute_result"
    }
   ],
   "source": [
    "model.score(X_test,y_test) #Checking Prediction Score"
   ]
  },
  {
   "cell_type": "code",
   "execution_count": 11,
   "id": "professional-league",
   "metadata": {
    "execution": {
     "iopub.execute_input": "2021-04-02T21:08:29.585369Z",
     "iopub.status.busy": "2021-04-02T21:08:29.583982Z",
     "iopub.status.idle": "2021-04-02T21:08:29.595375Z",
     "shell.execute_reply": "2021-04-02T21:08:29.595892Z"
    },
    "papermill": {
     "duration": 0.040701,
     "end_time": "2021-04-02T21:08:29.596094",
     "exception": false,
     "start_time": "2021-04-02T21:08:29.555393",
     "status": "completed"
    },
    "tags": []
   },
   "outputs": [],
   "source": [
    "y_preds = model.predict(X_test) #Making Predictions"
   ]
  },
  {
   "cell_type": "code",
   "execution_count": 12,
   "id": "smart-suite",
   "metadata": {
    "execution": {
     "iopub.execute_input": "2021-04-02T21:08:29.634156Z",
     "iopub.status.busy": "2021-04-02T21:08:29.633130Z",
     "iopub.status.idle": "2021-04-02T21:08:29.643494Z",
     "shell.execute_reply": "2021-04-02T21:08:29.642805Z"
    },
    "papermill": {
     "duration": 0.031517,
     "end_time": "2021-04-02T21:08:29.643636",
     "exception": false,
     "start_time": "2021-04-02T21:08:29.612119",
     "status": "completed"
    },
    "tags": []
   },
   "outputs": [
    {
     "name": "stdout",
     "output_type": "stream",
     "text": [
      "              precision    recall  f1-score   support\n",
      "\n",
      "           0       0.89      0.83      0.86        29\n",
      "           1       0.85      0.91      0.88        32\n",
      "\n",
      "    accuracy                           0.87        61\n",
      "   macro avg       0.87      0.87      0.87        61\n",
      "weighted avg       0.87      0.87      0.87        61\n",
      "\n"
     ]
    }
   ],
   "source": [
    "from sklearn.metrics import classification_report, confusion_matrix, accuracy_score\n",
    "print(classification_report(y_test, y_preds))"
   ]
  },
  {
   "cell_type": "code",
   "execution_count": 13,
   "id": "adolescent-genius",
   "metadata": {
    "execution": {
     "iopub.execute_input": "2021-04-02T21:08:29.681602Z",
     "iopub.status.busy": "2021-04-02T21:08:29.680678Z",
     "iopub.status.idle": "2021-04-02T21:08:29.689880Z",
     "shell.execute_reply": "2021-04-02T21:08:29.689233Z"
    },
    "papermill": {
     "duration": 0.030284,
     "end_time": "2021-04-02T21:08:29.690020",
     "exception": false,
     "start_time": "2021-04-02T21:08:29.659736",
     "status": "completed"
    },
    "tags": []
   },
   "outputs": [
    {
     "data": {
      "text/plain": [
       "array([[24,  5],\n",
       "       [ 3, 29]], dtype=int64)"
      ]
     },
     "execution_count": 13,
     "metadata": {},
     "output_type": "execute_result"
    }
   ],
   "source": [
    "confusion_matrix(y_test,y_preds)"
   ]
  },
  {
   "cell_type": "code",
   "execution_count": 14,
   "id": "informal-duplicate",
   "metadata": {
    "execution": {
     "iopub.execute_input": "2021-04-02T21:08:29.730043Z",
     "iopub.status.busy": "2021-04-02T21:08:29.729369Z",
     "iopub.status.idle": "2021-04-02T21:08:29.733655Z",
     "shell.execute_reply": "2021-04-02T21:08:29.733017Z"
    },
    "papermill": {
     "duration": 0.027071,
     "end_time": "2021-04-02T21:08:29.733816",
     "exception": false,
     "start_time": "2021-04-02T21:08:29.706745",
     "status": "completed"
    },
    "tags": []
   },
   "outputs": [
    {
     "data": {
      "text/plain": [
       "0.8688524590163934"
      ]
     },
     "execution_count": 14,
     "metadata": {},
     "output_type": "execute_result"
    }
   ],
   "source": [
    "accuracy_score(y_test,y_preds)"
   ]
  }
 ],
 "metadata": {
  "kernelspec": {
   "display_name": "Python 3",
   "language": "python",
   "name": "python3"
  },
  "language_info": {
   "codemirror_mode": {
    "name": "ipython",
    "version": 3
   },
   "file_extension": ".py",
   "mimetype": "text/x-python",
   "name": "python",
   "nbconvert_exporter": "python",
   "pygments_lexer": "ipython3",
   "version": "3.9.5"
  },
  "papermill": {
   "default_parameters": {},
   "duration": 10.235432,
   "end_time": "2021-04-02T21:08:30.461439",
   "environment_variables": {},
   "exception": null,
   "input_path": "__notebook__.ipynb",
   "output_path": "__notebook__.ipynb",
   "parameters": {},
   "start_time": "2021-04-02T21:08:20.226007",
   "version": "2.3.2"
  }
 },
 "nbformat": 4,
 "nbformat_minor": 5
}
